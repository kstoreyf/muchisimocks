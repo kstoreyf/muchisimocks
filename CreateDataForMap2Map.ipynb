{
 "cells": [
  {
   "cell_type": "code",
   "execution_count": 1,
   "id": "6a251c9c",
   "metadata": {},
   "outputs": [],
   "source": [
    "import os\n",
    "import numpy as np\n",
    "import matplotlib.pyplot as plt\n",
    "import bacco\n",
    "\n",
    "npart = 512\n",
    "boxsize = 1000.\n",
    "\n",
    "bacco.configuration.update({'pk':{'boltzmann_solver': 'CLASS'}})\n",
    "bacco.configuration.update({'pknbody' : {'ngrid'  :  npart}})\n",
    "bacco.configuration.update({'scaling' : {'disp_ngrid' : npart}})"
   ]
  },
  {
   "cell_type": "markdown",
   "id": "e17109fc",
   "metadata": {},
   "source": [
    "# CREATE A SIMULATION FOR ZA"
   ]
  },
  {
   "cell_type": "code",
   "execution_count": 3,
   "id": "5449748c",
   "metadata": {},
   "outputs": [
    {
     "name": "stderr",
     "output_type": "stream",
     "text": [
      "2024-01-31 18:20:36,614 bacco.cosmo :    initialization took 0.000 secs\n",
      "2024-01-31 18:20:36,615 bacco.util : Initial conditions compatible with Gadget-3 Ngenic\n",
      "2024-01-31 18:20:36,616 bacco.sims : Initialising simulation Default\n",
      "2024-01-31 18:20:36,617 bacco.sims : ...done in 0.00106 s\n"
     ]
    },
    {
     "name": "stdout",
     "output_type": "stream",
     "text": [
      "-----------------------------------------------\n",
      "Cosmology \"Default\", de_model \"LCDM\" \n",
      "- Paramerers: Omega_cdm = 0.2685, Omega_b = 0.049, Omega_de = 0.6825, \n",
      "Hubble=0.6711, Sigma_8=0.834, A_s=None, ns=0.9624, neutrino_mass=0.0, \n",
      "Omega_r=0.0, Omega_k=0.0, tau=0.0952, w0=-1, wa=0\n",
      "- Power Spectrum: CLASS,   Expansion Factor: 1.0,   ReNormalizeInputSpectrum: True\n",
      "-----------------------------------------------\n"
     ]
    },
    {
     "name": "stderr",
     "output_type": "stream",
     "text": [
      "2024-01-31 18:20:36,993 bacco.cosmo :    computed CLASS power spectrum at z=0.00 in 0.301 secs\n",
      "2024-01-31 18:20:36,993 bacco.cosmo :    created Pk(z=0) tab from k 0.0006710999999999999 to 100000.0 h/Mpc\n",
      "2024-01-31 18:20:46,698 bacco.cosmo :    computed CLASS power spectrum at z=0.00 in 0.286 secs\n",
      "2024-01-31 18:20:46,746 bacco.cosmo :    created Pk(z=0) tab from k 0.0006710999999999999 to 100000.0 h/Mpc\n",
      "2024-01-31 18:20:53,247 bacco.scaler : Adding displacement field with a vel-factor=52.941596\n"
     ]
    }
   ],
   "source": [
    "Omega0 = 0.3175\n",
    "OmegaLambda = 0.6825\n",
    "OmegaBaryon = 0.049\n",
    "HubbleParam = 0.6711\n",
    "sigma8 = 0.834\n",
    "ns = 0.9624\n",
    "expfactor = 1.\n",
    "\n",
    "pars_arr = np.array([Omega0, OmegaBaryon, HubbleParam, ns, sigma8])\n",
    "\n",
    "pars = {'omega_cdm':Omega0-OmegaBaryon,'omega_de':OmegaLambda, 'omega_baryon':OmegaBaryon, 'hubble':HubbleParam, \n",
    "        'neutrino_mass':0.0, 'sigma8':sigma8, 'ns':ns, 'expfactor':expfactor}\n",
    "cosmo = bacco.Cosmology(**pars) #bacco.Cosmology(**bacco.cosmo_parameters.Planck13)  \n",
    "print(cosmo)\n",
    "\n",
    "sim, disp_field = bacco.utils.create_lpt_simulation(cosmo, boxsize, Nmesh=npart, Seed=1915,\n",
    "                                                    FixedInitialAmplitude=False,InitialPhase=0, \n",
    "                                                    expfactor=1, LPT_order=1, order_by_order=None,\n",
    "                                                    phase_type=1, ngenic_phases=True, return_disp=True, \n",
    "                                                    sphere_mode=0)"
   ]
  },
  {
   "cell_type": "markdown",
   "id": "decb64b5",
   "metadata": {},
   "source": [
    "# SAVE DATA"
   ]
  },
  {
   "cell_type": "code",
   "execution_count": 4,
   "id": "872d7bf3",
   "metadata": {},
   "outputs": [
    {
     "name": "stderr",
     "output_type": "stream",
     "text": [
      "2024-01-31 18:22:07,480 bacco.sims : Generating linear field: Di=1.0\n",
      "2024-01-31 18:22:07,786 bacco.cosmo :    computed CLASS power spectrum at z=0.00 in 0.304 secs\n",
      "2024-01-31 18:22:07,827 bacco.cosmo :    created Pk(z=0) tab from k 0.0006710999999999999 to 100000.0 h/Mpc\n"
     ]
    }
   ],
   "source": [
    "np.save('ZA_disp.npy', disp_field,allow_pickle=True)\n",
    "np.save('lin_field.npy', sim.linear_field[0],allow_pickle=True)\n",
    "np.savetxt('cosmo_pars.txt', pars_arr.T)"
   ]
  },
  {
   "cell_type": "markdown",
   "id": "65caf849",
   "metadata": {},
   "source": [
    "# Now, run map2map with"
   ]
  },
  {
   "cell_type": "markdown",
   "id": "23410b1e",
   "metadata": {},
   "source": [
    "python m2m.py test --test-in-patterns \"/lscratch/mpelle/muchisimocks/ZA_disp.npy\" --test-tgt-patterns \"/lscratch/mpelle/muchisimocks/ZA_disp.npy\" --in-norms \"cosmology.dis\" --tgt-norms \"cosmology.dis\" --crop 128 --crop-step 128 --pad 48 --model d2d.StyledVNet --batches 1 --loader-workers 7 --load-state \"map2map/weights/d2d_weights.pt\" --callback-at \"/scratch/mpelle/CodesPostdocDIPC/map2map_emu/\" --test-style-pattern \"/lscratch/mpelle/muchisimocks/cosmo_pars.txt\""
   ]
  },
  {
   "cell_type": "code",
   "execution_count": null,
   "id": "34f10992",
   "metadata": {},
   "outputs": [],
   "source": []
  }
 ],
 "metadata": {
  "kernelspec": {
   "display_name": "Python 3 (ipykernel)",
   "language": "python",
   "name": "python3"
  },
  "language_info": {
   "codemirror_mode": {
    "name": "ipython",
    "version": 3
   },
   "file_extension": ".py",
   "mimetype": "text/x-python",
   "name": "python",
   "nbconvert_exporter": "python",
   "pygments_lexer": "ipython3",
   "version": "3.9.7"
  }
 },
 "nbformat": 4,
 "nbformat_minor": 5
}
