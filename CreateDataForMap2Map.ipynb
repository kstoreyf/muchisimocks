{
 "cells": [
  {
   "cell_type": "code",
   "execution_count": 1,
   "id": "e1825b2d",
   "metadata": {},
   "outputs": [],
   "source": [
    "import os\n",
    "import numpy as np\n",
    "import matplotlib.pyplot as plt\n",
    "import bacco\n",
    "\n",
    "npart = 512\n",
    "boxsize = 1000.\n",
    "\n",
    "bacco.configuration.update({'pk':{'boltzmann_solver': 'CLASS'}})\n",
    "bacco.configuration.update({'pknbody' : {'ngrid'  :  npart}})\n",
    "bacco.configuration.update({'scaling' : {'disp_ngrid' : npart}})"
   ]
  },
  {
   "cell_type": "markdown",
   "id": "897ec09d",
   "metadata": {},
   "source": [
    "# CREATE A SIMULATION FOR ZA"
   ]
  },
  {
   "cell_type": "code",
   "execution_count": 2,
   "id": "85c3165e",
   "metadata": {},
   "outputs": [
    {
     "name": "stderr",
     "output_type": "stream",
     "text": [
      "2024-01-31 16:50:42,884 bacco.cosmo :    initialization took 0.000 secs\n",
      "2024-01-31 16:50:42,888 bacco.util : Setting ngenic_phases=False overruns provided value of phase_type. This will generate a Gadget-3 compatible phase field without Ngenic\n",
      "2024-01-31 16:50:42,889 bacco.sims : Initialising simulation Default\n",
      "2024-01-31 16:50:42,890 bacco.sims : ...done in 0.000886 s\n"
     ]
    },
    {
     "name": "stdout",
     "output_type": "stream",
     "text": [
      "-----------------------------------------------\n",
      "Cosmology \"Default\", de_model \"LCDM\" \n",
      "- Paramerers: Omega_cdm = 0.2685, Omega_b = 0.049, Omega_de = 0.6825, \n",
      "Hubble=0.6711, Sigma_8=0.834, A_s=None, ns=0.9624, neutrino_mass=0.0, \n",
      "Omega_r=0.0, Omega_k=0.0, tau=0.0952, w0=-1, wa=0\n",
      "- Power Spectrum: CLASS,   Expansion Factor: 1.0,   ReNormalizeInputSpectrum: True\n",
      "-----------------------------------------------\n"
     ]
    },
    {
     "name": "stderr",
     "output_type": "stream",
     "text": [
      "2024-01-31 16:50:43,297 bacco.cosmo :    computed CLASS power spectrum at z=0.00 in 0.312 secs\n",
      "2024-01-31 16:50:43,297 bacco.cosmo :    created Pk(z=0) tab from k 0.0006710999999999999 to 100000.0 h/Mpc\n",
      "2024-01-31 16:50:50,669 bacco.cosmo :    computed CLASS power spectrum at z=0.00 in 0.284 secs\n",
      "2024-01-31 16:50:50,718 bacco.cosmo :    created Pk(z=0) tab from k 0.0006710999999999999 to 100000.0 h/Mpc\n",
      "2024-01-31 16:50:55,755 bacco.scaler : Adding displacement field with a vel-factor=52.941596\n"
     ]
    }
   ],
   "source": [
    "Omega0 = 0.3175\n",
    "OmegaLambda = 0.6825\n",
    "OmegaBaryon = 0.049\n",
    "HubbleParam = 0.6711\n",
    "sigma8 = 0.834\n",
    "ns = 0.9624\n",
    "expfactor = 1.\n",
    "\n",
    "pars = {'omega_cdm':Omega0-OmegaBaryon,'omega_de':OmegaLambda, 'omega_baryon':OmegaBaryon, 'hubble':HubbleParam, \n",
    "        'neutrino_mass':0.0, 'sigma8':sigma8, 'ns':ns, 'expfactor':expfactor}\n",
    "cosmo = bacco.Cosmology(**pars) #bacco.Cosmology(**bacco.cosmo_parameters.Planck13)  \n",
    "print(cosmo)\n",
    "\n",
    "sim, disp_field = bacco.utils.create_lpt_simulation(cosmo, boxsize, \n",
    "                                                         Nmesh=npart, Seed=1915, \n",
    "                                        FixedInitialAmplitude=False, \n",
    "                                        InitialPhase=0, expfactor=1, LPT_order=1, order_by_order=None, \n",
    "                                        ngenic_phases=False, return_disp=True, sphere_mode=0)"
   ]
  },
  {
   "cell_type": "markdown",
   "id": "ac02e1de",
   "metadata": {},
   "source": [
    "# SAVE DATA"
   ]
  },
  {
   "cell_type": "code",
   "execution_count": 5,
   "id": "ebb41f8e",
   "metadata": {},
   "outputs": [],
   "source": [
    "np.save('ZA_disp.npy', disp_field,allow_pickle=True)\n",
    "np.save('lin_field.npy', sim.linear_field[0],allow_pickle=True)\n",
    "np.save('cosmo_pars.npy', pars, allow_pickle=True)"
   ]
  },
  {
   "cell_type": "code",
   "execution_count": null,
   "id": "98701af3",
   "metadata": {},
   "outputs": [],
   "source": []
  }
 ],
 "metadata": {
  "kernelspec": {
   "display_name": "Python 3 (ipykernel)",
   "language": "python",
   "name": "python3"
  },
  "language_info": {
   "codemirror_mode": {
    "name": "ipython",
    "version": 3
   },
   "file_extension": ".py",
   "mimetype": "text/x-python",
   "name": "python",
   "nbconvert_exporter": "python",
   "pygments_lexer": "ipython3",
   "version": "3.9.7"
  }
 },
 "nbformat": 4,
 "nbformat_minor": 5
}
