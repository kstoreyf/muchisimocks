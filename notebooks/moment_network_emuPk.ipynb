{
 "cells": [
  {
   "cell_type": "code",
   "execution_count": null,
   "id": "0434ad51",
   "metadata": {},
   "outputs": [],
   "source": [
    "import chainconsumer\n",
    "import gc\n",
    "import numpy as np\n",
    "import matplotlib as mpl\n",
    "from matplotlib import pyplot as plt\n",
    "import os\n",
    "\n",
    "import sys\n",
    "sys.path.append('/dipc/kstoreyf/muchisimocks/scripts')\n",
    "#import sbi_tools\n",
    "import plot_utils\n",
    "#import scripts\n",
    "# from scripts import sbi_tools\n",
    "#from scripts import plot_utils\n",
    "\n",
    "from momentnetworks import demo\n",
    "\n",
    "%load_ext autoreload\n",
    "%autoreload 2\n",
    "\n",
    "%matplotlib inline\n",
    "mpl.pyplot.style.use('default')\n",
    "mpl.pyplot.close('all')\n",
    "\n",
    "font, rcnew = plot_utils.matplotlib_default_config()\n",
    "mpl.rc('font', **font)\n",
    "mpl.pyplot.rcParams.update(rcnew)\n",
    "mpl.pyplot.style.use('tableau-colorblind10')\n",
    "%config InlineBackend.figure_format = 'retina'\n",
    "\n",
    "#N_threads = sbi_tools.set_N_threads(6)"
   ]
  },
  {
   "cell_type": "markdown",
   "id": "de1d7912",
   "metadata": {},
   "source": [
    "### Load baccoemu P(k) data"
   ]
  },
  {
   "cell_type": "code",
   "execution_count": null,
   "id": "b738e593",
   "metadata": {},
   "outputs": [],
   "source": [
    "tag_emuPk = '_2param'\n",
    "\n",
    "fn_emuPk = f'../data/emuPks/emuPks{tag_emuPk}.npy'\n",
    "fn_emuPk_params = f'../data/emuPks/emuPks_params{tag_emuPk}.txt'\n",
    "fn_emuk = f'../data/emuPks/emuPks_k{tag_emuPk}.txt'\n",
    "\n",
    "Pk = np.load(fn_emuPk)\n",
    "theta = np.genfromtxt(fn_emuPk_params, delimiter=',', names=True)\n",
    "param_names = theta.dtype.names\n",
    "# from tuples to 2d array\n",
    "theta = np.array([list(tup) for tup in theta])\n",
    "kk = np.genfromtxt(fn_emuk)"
   ]
  },
  {
   "cell_type": "code",
   "execution_count": null,
   "id": "8a2cf3d4",
   "metadata": {},
   "outputs": [],
   "source": [
    "mask = np.full(len(kk), True)"
   ]
  },
  {
   "cell_type": "code",
   "execution_count": null,
   "id": "50c4abae",
   "metadata": {},
   "outputs": [],
   "source": [
    "print(Pk.shape, theta.shape)"
   ]
  },
  {
   "cell_type": "code",
   "execution_count": null,
   "id": "bf3cffa2",
   "metadata": {},
   "outputs": [],
   "source": [
    "# if wan't to run on a subset, edit n_samples here (max=1000 right now)\n",
    "n_samples = 1000 \n",
    "Pk = Pk[:n_samples]\n",
    "theta = theta[:n_samples]"
   ]
  },
  {
   "cell_type": "code",
   "execution_count": null,
   "id": "74e20895",
   "metadata": {},
   "outputs": [],
   "source": [
    "n_tot = theta.shape[0]\n",
    "n_params = theta.shape[1]\n",
    "n_dim = Pk.shape[1]\n",
    "print(n_tot, n_params, n_dim)"
   ]
  },
  {
   "cell_type": "markdown",
   "id": "e5c9fe6a",
   "metadata": {},
   "source": [
    "Plot P(k) data:"
   ]
  },
  {
   "cell_type": "code",
   "execution_count": null,
   "id": "52692bf2",
   "metadata": {},
   "outputs": [],
   "source": [
    "fig, ax = mpl.pyplot.subplots(figsize=(8, 6))\n",
    "for iLH in range(n_tot):\n",
    "    ax.loglog(kk[mask], Pk[iLH][mask])\n",
    "\n",
    "ax.set_xlabel(r'$k \\,\\, [h \\,\\, {\\rm Mpc}^{-1}]$', fontsize=23)\n",
    "ax.set_ylabel(r'$P(k) \\,\\, [h^{-3} \\,\\, {\\rm Mpc}^3]$', fontsize=23)\n",
    "\n",
    "mpl.pyplot.tight_layout()\n",
    "mpl.pyplot.show()"
   ]
  },
  {
   "cell_type": "code",
   "execution_count": null,
   "id": "76a6629f",
   "metadata": {},
   "outputs": [],
   "source": [
    "#n_biasmodels = len(biases_vec)\n",
    "n_biasmodels = 0\n",
    "n_cosmos = n_params\n",
    "print(n_biasmodels, n_cosmos)"
   ]
  },
  {
   "cell_type": "markdown",
   "id": "53f41673",
   "metadata": {},
   "source": [
    "Split into train-val-test"
   ]
  },
  {
   "cell_type": "code",
   "execution_count": null,
   "id": "73fa276b",
   "metadata": {},
   "outputs": [],
   "source": [
    "p_train, p_test = 0.8, 0.1\n",
    "p_val = 1-p_train-p_test\n",
    "train_split = int(theta.shape[0]*p_train)\n",
    "test_split = int(theta.shape[0]*(1-p_test))\n",
    "#train_val_split = int(n_biasmodels*round(theta.shape[0]*0.99/n_biasmodels))\n",
    "\n",
    "theta_train = theta[:train_split]\n",
    "theta_val = theta[train_split:test_split]\n",
    "theta_test = theta[test_split:]\n",
    "print(theta_train.shape, theta_val.shape, theta_test.shape)\n",
    "\n",
    "Pk_train = Pk[:train_split]\n",
    "Pk_val = Pk[train_split:test_split]\n",
    "Pk_test = Pk[test_split:]\n",
    "\n",
    "mask = np.all(Pk_train>0, axis=0)\n",
    "Pk_train = Pk_train[:,mask]\n",
    "Pk_val = Pk_val[:,mask]\n",
    "Pk_test = Pk_test[:,mask]\n",
    "k = kk[mask]"
   ]
  },
  {
   "cell_type": "code",
   "execution_count": null,
   "id": "41615173",
   "metadata": {},
   "outputs": [],
   "source": [
    "fig, ax = mpl.pyplot.subplots(1,1, figsize=(7,5))\n",
    "fontsize = 24\n",
    "fontsize1 = 18\n",
    "\n",
    "alpha = 1\n",
    "\n",
    "tmp_Pk_plot = Pk_train\n",
    "tmp_Pk_plot = tmp_Pk_plot[np.random.choice(tmp_Pk_plot.shape[0], tmp_Pk_plot.shape[0], replace=False)].T\n",
    "ax.plot(np.log10(k), np.log10(tmp_Pk_plot), c='royalblue', alpha=alpha, lw=0.5, label='training set')\n",
    "\n",
    "tmp_Pk_plot = Pk_test\n",
    "tmp_Pk_plot = tmp_Pk_plot[np.random.choice(tmp_Pk_plot.shape[0], tmp_Pk_plot.shape[0], replace=False)].T\n",
    "ax.plot(np.log10(k), np.log10(tmp_Pk_plot), c='k', alpha=alpha, lw=0.5, label='test set')\n",
    "    \n",
    "ax.set_xlabel(r'$k \\,\\, [h \\,\\, {\\rm Mpc}^{-1}]$', fontsize=23)\n",
    "ax.set_ylabel(r'$P(k) \\,\\, [h^{-3} \\,\\, {\\rm Mpc}^3]$', fontsize=23)\n",
    "\n",
    "mpl.pyplot.tight_layout()\n",
    "mpl.pyplot.show()"
   ]
  },
  {
   "cell_type": "code",
   "execution_count": null,
   "id": "f55695ab",
   "metadata": {},
   "outputs": [],
   "source": [
    "dict_bounds = {}\n",
    "for pp, param_name in enumerate(param_names):\n",
    "    dict_bounds[param_name] = [np.min(theta[:,pp]), np.max(theta[:,pp])]"
   ]
  },
  {
   "cell_type": "code",
   "execution_count": null,
   "id": "b493f9a2",
   "metadata": {},
   "outputs": [],
   "source": [
    "class Scaler:\n",
    "\n",
    "    def __init__(self):\n",
    "          pass\n",
    "        \n",
    "    def fit(self, x_train):\n",
    "        self.x_train_min = np.min(x_train)\n",
    "        self.x_train_max = np.max(x_train)\n",
    "           \n",
    "    def scale(self, x):\n",
    "        log_x = np.log10(x)\n",
    "        log_x_norm = (log_x - np.log10(self.x_train_min)) / (np.log10(self.x_train_max) - np.log10(self.x_train_min))\n",
    "        return log_x_norm\n",
    "    \n",
    "    def unscale(self, x_scaled):\n",
    "        x = x_scaled * (np.log10(self.x_train_max) - np.log10(self.x_train_min)) + np.log10(self.x_train_min)\n",
    "        return 10**x  "
   ]
  },
  {
   "cell_type": "code",
   "execution_count": null,
   "id": "cc3a5fb9",
   "metadata": {},
   "outputs": [],
   "source": [
    "scaler = Scaler()\n",
    "scaler.fit(Pk_train)\n",
    "Pk_train_scaled = scaler.scale(Pk_train)\n",
    "Pk_val_scaled = scaler.scale(Pk_val)\n",
    "Pk_test_scaled = scaler.scale(Pk_test)"
   ]
  },
  {
   "cell_type": "code",
   "execution_count": null,
   "id": "6b0ad849",
   "metadata": {},
   "outputs": [],
   "source": [
    "print(np.min(Pk_train), np.max(Pk_train))\n",
    "print(np.min(Pk_train_scaled), np.max(Pk_train_scaled))\n",
    "\n",
    "print(np.min(Pk_test), np.max(Pk_test))\n",
    "print(np.min(Pk_test_scaled), np.max(Pk_test_scaled))"
   ]
  },
  {
   "cell_type": "code",
   "execution_count": null,
   "id": "d3623283",
   "metadata": {},
   "outputs": [],
   "source": [
    "print(Pk_train.shape)\n",
    "print(theta_train.shape)\n",
    "print(n_params)"
   ]
  },
  {
   "cell_type": "markdown",
   "id": "dfea6d75",
   "metadata": {},
   "source": [
    "### Set up and run Moment Network model\n",
    "\n",
    "Following demos at https://github.com/NiallJeffrey/MomentNetworks/tree/master"
   ]
  },
  {
   "cell_type": "code",
   "execution_count": null,
   "id": "bdbc50c9",
   "metadata": {},
   "outputs": [],
   "source": [
    "model_instance = demo.simple_leaky(n_dim, n_params, learning_rate=1e-4) \n",
    "regression = model_instance.model() "
   ]
  },
  {
   "cell_type": "code",
   "execution_count": null,
   "id": "45c770aa",
   "metadata": {},
   "outputs": [],
   "source": [
    "print(theta_train.shape, Pk_train.shape)\n",
    "print(theta_val.shape, Pk_val.shape)"
   ]
  },
  {
   "cell_type": "markdown",
   "id": "4fc5d5ca",
   "metadata": {},
   "source": [
    "Train initial model (basic MLP), as usual, on labeled data"
   ]
  },
  {
   "cell_type": "code",
   "execution_count": null,
   "id": "ef95bf40",
   "metadata": {},
   "outputs": [],
   "source": [
    "history = regression.fit(Pk_train_scaled, theta_train,\n",
    "                         epochs=200, batch_size=32, shuffle=True,\n",
    "                         validation_data=(Pk_val_scaled, theta_val))"
   ]
  },
  {
   "cell_type": "code",
   "execution_count": null,
   "id": "4c2fed44",
   "metadata": {},
   "outputs": [],
   "source": [
    "#predicted_mean = regression.predict(np.atleast_2d(Pk_train_scaled)) # maybe should be train & val??"
   ]
  },
  {
   "cell_type": "markdown",
   "id": "47a74c3c",
   "metadata": {},
   "source": [
    "Get means and residuals"
   ]
  },
  {
   "cell_type": "code",
   "execution_count": null,
   "id": "6377e2eb",
   "metadata": {},
   "outputs": [],
   "source": [
    "training_var_unknown_mean = (theta_train-regression.predict(np.atleast_2d(Pk_train_scaled)))**2.\n",
    "training_var_unknown_mean = np.hstack([training_var_unknown_mean,\n",
    "                                      np.atleast_2d((theta_train[:,0]-regression.predict(np.atleast_2d(Pk_train_scaled))[:,0])*\n",
    "                                      (theta_train[:,1]-regression.predict(np.atleast_2d(Pk_train_scaled))[:,1])).T])\n",
    "print(training_var_unknown_mean.shape)\n",
    "\n",
    "training_var_unknown_mean_val = (theta_val-regression.predict(np.atleast_2d(Pk_val_scaled)))**2.\n",
    "training_var_unknown_mean_val = np.hstack([training_var_unknown_mean_val,\n",
    "                                      np.atleast_2d((theta_val[:,0]-regression.predict(np.atleast_2d(Pk_val_scaled))[:,0])*\n",
    "                                      (theta_val[:,1]-regression.predict(np.atleast_2d(Pk_val_scaled))[:,1])).T])"
   ]
  },
  {
   "cell_type": "markdown",
   "id": "361ccea3",
   "metadata": {},
   "source": [
    "Set up and train model on the residuals"
   ]
  },
  {
   "cell_type": "code",
   "execution_count": null,
   "id": "53ab15ed",
   "metadata": {},
   "outputs": [],
   "source": [
    "model_instance = demo.simple_leaky(n_dim, 3, learning_rate=1e-3)\n",
    "regression_var_unknown_mean = model_instance.model()"
   ]
  },
  {
   "cell_type": "code",
   "execution_count": null,
   "id": "aa9a24ff",
   "metadata": {},
   "outputs": [],
   "source": [
    "history = regression_var_unknown_mean.fit(Pk_train_scaled,\n",
    "                                          training_var_unknown_mean,\n",
    "                                          epochs=200, batch_size=32, shuffle=True,\n",
    "                                          validation_data = (Pk_val_scaled,\n",
    "                                                             training_var_unknown_mean_val))"
   ]
  },
  {
   "cell_type": "markdown",
   "id": "24de3605",
   "metadata": {},
   "source": [
    "### Test on a model pulled directly from the training set (NOT held-out data) "
   ]
  },
  {
   "cell_type": "code",
   "execution_count": null,
   "id": "a0ca4831",
   "metadata": {},
   "outputs": [],
   "source": [
    "\n",
    "#idx_train_check = rng.choice(np.arange(len(theta_train)))\n",
    "idx_train_check = 17\n",
    "\n",
    "print(idx_train_check)\n",
    "theta_train_check = np.array([theta_train[idx_train_check]])\n",
    "print(theta_train_check)\n",
    "Pk_train_scaled_check = np.array([Pk_train_scaled[idx_train_check]])\n",
    "\n",
    "predicted_mean_obs = regression.predict(np.atleast_2d(Pk_train_scaled_check))\n",
    "predicted_var_obs = (regression_var_unknown_mean.predict(np.atleast_2d(Pk_train_scaled_check))[0])\n",
    "\n",
    "print(predicted_var_obs)\n",
    "print(predicted_var_obs.shape)\n",
    "moment_network_param_cov = np.empty((n_params, n_params))\n",
    "moment_network_param_cov[0,0] = predicted_var_obs[0]\n",
    "moment_network_param_cov[1,1] = predicted_var_obs[1]\n",
    "moment_network_param_cov[0,1] = predicted_var_obs[2]\n",
    "moment_network_param_cov[1,0] = predicted_var_obs[2]"
   ]
  },
  {
   "cell_type": "code",
   "execution_count": null,
   "id": "9a403cc5",
   "metadata": {},
   "outputs": [],
   "source": [
    "moment_network_samples = np.array(np.random.multivariate_normal(predicted_mean_obs[0],moment_network_param_cov,int(1e6)),dtype=np.float32)\n",
    "gc.collect()"
   ]
  },
  {
   "cell_type": "code",
   "execution_count": null,
   "id": "11e984a9",
   "metadata": {},
   "outputs": [],
   "source": [
    "param_label_dict = {'omega_cold': r'$\\Omega_\\mathrm{m}$',\n",
    "                'sigma8_cold': r'$\\sigma_{8}$',\n",
    "                'hubble': r'$h$',\n",
    "                'ns': r'$n_\\mathrm{s}$',\n",
    "                'omega_baryon': r'$\\Omega_\\mathrm{b}$',}\n",
    "param_labels = [param_label_dict[param_name] for param_name in param_names]\n",
    "extents = [dict_bounds[param_name] for param_name in param_names]"
   ]
  },
  {
   "cell_type": "code",
   "execution_count": null,
   "id": "b37fdba6",
   "metadata": {},
   "outputs": [],
   "source": [
    "c = chainconsumer.ChainConsumer()\n",
    "\n",
    "c.add_chain(moment_network_samples,\n",
    "            parameters=param_labels,\n",
    "            name = '2D Moment Network result', color_params='C1',\n",
    "            )\n",
    "\n",
    "c.configure(kde=[1.,None],sigmas = [1,2],\n",
    "            contour_label_font_size = 11,\n",
    "            label_font_size = 16, shade = False) \n",
    "\n",
    "fig = c.plotter.plot(figsize = (5,4), \n",
    "                     extents=extents,\n",
    "                     #extents=[[0, 0.8], [-0.6, 1.8]],\n",
    "                     truth=theta_train_check[0]\n",
    "                     )"
   ]
  },
  {
   "cell_type": "markdown",
   "id": "0262fedd",
   "metadata": {},
   "source": [
    "### Test on a model from the test set (held-out data)"
   ]
  },
  {
   "cell_type": "code",
   "execution_count": null,
   "id": "5d36dc80",
   "metadata": {},
   "outputs": [],
   "source": [
    "idx_test = 0\n",
    "predicted_mean_obs_test = regression.predict(np.atleast_2d(Pk_test_scaled[idx_test]))\n",
    "predicted_var_obs_test = (regression_var_unknown_mean.predict(np.atleast_2d(Pk_test_scaled[idx_test]))[0])\n",
    "\n",
    "moment_network_param_cov_test = np.empty((n_params, n_params))\n",
    "moment_network_param_cov_test[0,0] = predicted_var_obs_test[0]\n",
    "moment_network_param_cov_test[1,1] = predicted_var_obs_test[1]\n",
    "moment_network_param_cov_test[0,1] = predicted_var_obs_test[2]\n",
    "moment_network_param_cov_test[1,0] = predicted_var_obs_test[2]"
   ]
  },
  {
   "cell_type": "code",
   "execution_count": null,
   "id": "a435ee2d",
   "metadata": {},
   "outputs": [],
   "source": [
    "moment_network_samples_test = np.array(np.random.multivariate_normal(predicted_mean_obs_test[0],\n",
    "                                  moment_network_param_cov_test,int(1e6)),dtype=np.float32)\n",
    "gc.collect()"
   ]
  },
  {
   "cell_type": "code",
   "execution_count": null,
   "id": "709ed0c0",
   "metadata": {},
   "outputs": [],
   "source": [
    "c = chainconsumer.ChainConsumer()\n",
    "\n",
    "c.add_chain(moment_network_samples_test,\n",
    "            parameters=param_labels,\n",
    "            name = '2D Moment Network result', color_params='C1',\n",
    "            )\n",
    "\n",
    "c.configure(kde=[1.,None],sigmas = [1,2],\n",
    "            contour_label_font_size = 11,\n",
    "            label_font_size = 16, shade = False) \n",
    "\n",
    "fig = c.plotter.plot(figsize = (5,4), \n",
    "                     extents=extents,\n",
    "                     #extents=[[0, 0.8], [-0.6, 1.8]],\n",
    "                     truth=theta_test[idx_test]\n",
    "                     )"
   ]
  },
  {
   "cell_type": "code",
   "execution_count": null,
   "id": "b7e68ff9",
   "metadata": {},
   "outputs": [],
   "source": []
  }
 ],
 "metadata": {
  "kernelspec": {
   "display_name": "bemuenv",
   "language": "python",
   "name": "python3"
  },
  "language_info": {
   "codemirror_mode": {
    "name": "ipython",
    "version": 3
   },
   "file_extension": ".py",
   "mimetype": "text/x-python",
   "name": "python",
   "nbconvert_exporter": "python",
   "pygments_lexer": "ipython3",
   "version": "3.7.16"
  }
 },
 "nbformat": 4,
 "nbformat_minor": 5
}
