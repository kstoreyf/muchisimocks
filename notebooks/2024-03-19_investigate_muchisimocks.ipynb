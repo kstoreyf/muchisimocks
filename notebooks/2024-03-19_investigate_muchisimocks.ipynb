{
 "cells": [
  {
   "cell_type": "code",
   "execution_count": 1,
   "metadata": {},
   "outputs": [
    {
     "name": "stderr",
     "output_type": "stream",
     "text": [
      "2024-03-25 12:09:41.739067: I tensorflow/core/platform/cpu_feature_guard.cc:182] This TensorFlow binary is optimized to use available CPU instructions in performance-critical operations.\n",
      "To enable the following instructions: SSE4.1 SSE4.2 AVX AVX2 AVX512F FMA, in other operations, rebuild TensorFlow with the appropriate compiler flags.\n"
     ]
    }
   ],
   "source": [
    "import numpy as np\n",
    "import matplotlib as mpl\n",
    "from matplotlib import pyplot as plt\n",
    "\n",
    "import bacco\n",
    "import baccoemu\n",
    "\n",
    "import sys\n",
    "sys.path.append('/dipc/kstoreyf/muchisimocks/scripts')\n",
    "import utils\n",
    "\n",
    "%load_ext autoreload\n",
    "%autoreload 2"
   ]
  },
  {
   "cell_type": "code",
   "execution_count": 2,
   "metadata": {},
   "outputs": [],
   "source": [
    "idx_LH = 2"
   ]
  },
  {
   "cell_type": "markdown",
   "metadata": {},
   "source": [
    "### Load from muchisimocks"
   ]
  },
  {
   "cell_type": "code",
   "execution_count": 3,
   "metadata": {},
   "outputs": [
    {
     "name": "stdout",
     "output_type": "stream",
     "text": [
      "['omega_cold', 'sigma_8', 'h']\n",
      "[0.3457742  0.82906755 0.71170615]\n"
     ]
    }
   ],
   "source": [
    "param_names_all = ['omega_cold', 'sigma_8', 'h', 'omega_baryon', 'n_s', 'seed']\n",
    "param_names = ['omega_cold', 'sigma_8', 'h']\n",
    "param_names_fixed = [name for name in param_names_all if name not in param_names]\n",
    "idxs_param_names = [param_names_all.index(name) for name in param_names]\n",
    "\n",
    "tag_pk = '_b0000'\n",
    "dir_pks = f'../data/pks_cosmolib/pks{tag_pk}'\n",
    "\n",
    "bias_params = np.loadtxt(f'{dir_pks}/bias_params.txt')\n",
    "\n",
    "dir_mocks = '../data/cosmolib'\n",
    "fn_fields = f'{dir_mocks}/LH{idx_LH}/Eulerian_fields_lr_{idx_LH}.npy'\n",
    "fn_params = f'{dir_mocks}/LH{idx_LH}/cosmo_{idx_LH}.txt'\n",
    "fn_pk = f'{dir_pks}/pk_{idx_LH}.npy'\n",
    "\n",
    "param_dict_fixed = {}\n",
    "param_vals = np.loadtxt(fn_params)\n",
    "if idx_LH==0:\n",
    "    for name in param_names_fixed:\n",
    "        param_dict_fixed[name] = param_vals[param_names_all.index(name)]\n",
    "theta = param_vals[idxs_param_names]\n",
    "\n",
    "pk_obj = np.load(fn_pk, allow_pickle=True).item()\n",
    "gaussian_error_pk = pk_obj['pk_gaussian_error']\n",
    "kk = pk_obj['k'] # all ks should be same so just grab one\n",
    "\n",
    "print(param_names)\n",
    "print(theta)"
   ]
  },
  {
   "cell_type": "markdown",
   "metadata": {},
   "source": [
    "### Emulators"
   ]
  },
  {
   "cell_type": "code",
   "execution_count": 4,
   "metadata": {},
   "outputs": [],
   "source": [
    "param_names_2_emu_param_names = {'sigma_8': 'sigma8_cold',\n",
    "                                 'omega_cold': 'omega_cold',\n",
    "                                 'h': 'hubble',\n",
    "                                 'n_s': 'ns'}\n",
    "emu_param_names = [param_names_2_emu_param_names[param_name] for param_name in param_names]"
   ]
  },
  {
   "cell_type": "code",
   "execution_count": 5,
   "metadata": {},
   "outputs": [
    {
     "name": "stdout",
     "output_type": "stream",
     "text": [
      "Setting up emulator cosmology\n"
     ]
    }
   ],
   "source": [
    "cosmo_params_base = utils.setup_cosmo_emu(cosmo='quijote')"
   ]
  },
  {
   "cell_type": "code",
   "execution_count": 6,
   "metadata": {},
   "outputs": [],
   "source": [
    "cosmo_params = cosmo_params_base.copy()\n",
    "for pp in range(len(param_names)):\n",
    "    cosmo_params[emu_param_names[pp]] = theta[pp]"
   ]
  },
  {
   "cell_type": "markdown",
   "metadata": {},
   "source": [
    "lbias emu"
   ]
  },
  {
   "cell_type": "code",
   "execution_count": 7,
   "metadata": {},
   "outputs": [
    {
     "name": "stdout",
     "output_type": "stream",
     "text": [
      "Loading l-bias lpt emulator...\n"
     ]
    },
    {
     "name": "stderr",
     "output_type": "stream",
     "text": [
      "/dipc/kstoreyf/.conda/envs/mlenv/lib/python3.11/site-packages/sklearn/base.py:376: InconsistentVersionWarning: Trying to unpickle estimator PCA from version 0.24.2 when using version 1.4.0. This might lead to breaking code or invalid results. Use at your own risk. For more info please refer to:\n",
      "https://scikit-learn.org/stable/model_persistence.html#security-maintainability-limitations\n",
      "  warnings.warn(\n",
      "/dipc/kstoreyf/.conda/envs/mlenv/lib/python3.11/site-packages/sklearn/base.py:376: InconsistentVersionWarning: Trying to unpickle estimator StandardScaler from version 0.24.2 when using version 1.4.0. This might lead to breaking code or invalid results. Use at your own risk. For more info please refer to:\n",
      "https://scikit-learn.org/stable/model_persistence.html#security-maintainability-limitations\n",
      "  warnings.warn(\n",
      "2024-03-25 12:12:23.760052: I tensorflow/core/common_runtime/process_util.cc:146] Creating new thread pool with default inter op setting: 2. Tune using inter_op_parallelism_threads for best performance.\n",
      "/dipc/kstoreyf/.conda/envs/mlenv/lib/python3.11/site-packages/sklearn/base.py:376: InconsistentVersionWarning: Trying to unpickle estimator PCA from version 0.24.2 when using version 1.4.0. This might lead to breaking code or invalid results. Use at your own risk. For more info please refer to:\n",
      "https://scikit-learn.org/stable/model_persistence.html#security-maintainability-limitations\n",
      "  warnings.warn(\n",
      "/dipc/kstoreyf/.conda/envs/mlenv/lib/python3.11/site-packages/sklearn/base.py:376: InconsistentVersionWarning: Trying to unpickle estimator StandardScaler from version 0.24.2 when using version 1.4.0. This might lead to breaking code or invalid results. Use at your own risk. For more info please refer to:\n",
      "https://scikit-learn.org/stable/model_persistence.html#security-maintainability-limitations\n",
      "  warnings.warn(\n",
      "/dipc/kstoreyf/.conda/envs/mlenv/lib/python3.11/site-packages/sklearn/base.py:376: InconsistentVersionWarning: Trying to unpickle estimator PCA from version 0.24.2 when using version 1.4.0. This might lead to breaking code or invalid results. Use at your own risk. For more info please refer to:\n",
      "https://scikit-learn.org/stable/model_persistence.html#security-maintainability-limitations\n",
      "  warnings.warn(\n",
      "/dipc/kstoreyf/.conda/envs/mlenv/lib/python3.11/site-packages/sklearn/base.py:376: InconsistentVersionWarning: Trying to unpickle estimator StandardScaler from version 0.24.2 when using version 1.4.0. This might lead to breaking code or invalid results. Use at your own risk. For more info please refer to:\n",
      "https://scikit-learn.org/stable/model_persistence.html#security-maintainability-limitations\n",
      "  warnings.warn(\n",
      "/dipc/kstoreyf/.conda/envs/mlenv/lib/python3.11/site-packages/sklearn/base.py:376: InconsistentVersionWarning: Trying to unpickle estimator PCA from version 0.24.2 when using version 1.4.0. This might lead to breaking code or invalid results. Use at your own risk. For more info please refer to:\n",
      "https://scikit-learn.org/stable/model_persistence.html#security-maintainability-limitations\n",
      "  warnings.warn(\n",
      "/dipc/kstoreyf/.conda/envs/mlenv/lib/python3.11/site-packages/sklearn/base.py:376: InconsistentVersionWarning: Trying to unpickle estimator StandardScaler from version 0.24.2 when using version 1.4.0. This might lead to breaking code or invalid results. Use at your own risk. For more info please refer to:\n",
      "https://scikit-learn.org/stable/model_persistence.html#security-maintainability-limitations\n",
      "  warnings.warn(\n",
      "/dipc/kstoreyf/.conda/envs/mlenv/lib/python3.11/site-packages/sklearn/base.py:376: InconsistentVersionWarning: Trying to unpickle estimator PCA from version 0.24.2 when using version 1.4.0. This might lead to breaking code or invalid results. Use at your own risk. For more info please refer to:\n",
      "https://scikit-learn.org/stable/model_persistence.html#security-maintainability-limitations\n",
      "  warnings.warn(\n",
      "/dipc/kstoreyf/.conda/envs/mlenv/lib/python3.11/site-packages/sklearn/base.py:376: InconsistentVersionWarning: Trying to unpickle estimator StandardScaler from version 0.24.2 when using version 1.4.0. This might lead to breaking code or invalid results. Use at your own risk. For more info please refer to:\n",
      "https://scikit-learn.org/stable/model_persistence.html#security-maintainability-limitations\n",
      "  warnings.warn(\n",
      "/dipc/kstoreyf/.conda/envs/mlenv/lib/python3.11/site-packages/sklearn/base.py:376: InconsistentVersionWarning: Trying to unpickle estimator PCA from version 0.24.2 when using version 1.4.0. This might lead to breaking code or invalid results. Use at your own risk. For more info please refer to:\n",
      "https://scikit-learn.org/stable/model_persistence.html#security-maintainability-limitations\n",
      "  warnings.warn(\n",
      "/dipc/kstoreyf/.conda/envs/mlenv/lib/python3.11/site-packages/sklearn/base.py:376: InconsistentVersionWarning: Trying to unpickle estimator StandardScaler from version 0.24.2 when using version 1.4.0. This might lead to breaking code or invalid results. Use at your own risk. For more info please refer to:\n",
      "https://scikit-learn.org/stable/model_persistence.html#security-maintainability-limitations\n",
      "  warnings.warn(\n",
      "/dipc/kstoreyf/.conda/envs/mlenv/lib/python3.11/site-packages/sklearn/base.py:376: InconsistentVersionWarning: Trying to unpickle estimator PCA from version 0.24.2 when using version 1.4.0. This might lead to breaking code or invalid results. Use at your own risk. For more info please refer to:\n",
      "https://scikit-learn.org/stable/model_persistence.html#security-maintainability-limitations\n",
      "  warnings.warn(\n",
      "/dipc/kstoreyf/.conda/envs/mlenv/lib/python3.11/site-packages/sklearn/base.py:376: InconsistentVersionWarning: Trying to unpickle estimator StandardScaler from version 0.24.2 when using version 1.4.0. This might lead to breaking code or invalid results. Use at your own risk. For more info please refer to:\n",
      "https://scikit-learn.org/stable/model_persistence.html#security-maintainability-limitations\n",
      "  warnings.warn(\n",
      "/dipc/kstoreyf/.conda/envs/mlenv/lib/python3.11/site-packages/sklearn/base.py:376: InconsistentVersionWarning: Trying to unpickle estimator PCA from version 0.24.2 when using version 1.4.0. This might lead to breaking code or invalid results. Use at your own risk. For more info please refer to:\n",
      "https://scikit-learn.org/stable/model_persistence.html#security-maintainability-limitations\n",
      "  warnings.warn(\n",
      "/dipc/kstoreyf/.conda/envs/mlenv/lib/python3.11/site-packages/sklearn/base.py:376: InconsistentVersionWarning: Trying to unpickle estimator StandardScaler from version 0.24.2 when using version 1.4.0. This might lead to breaking code or invalid results. Use at your own risk. For more info please refer to:\n",
      "https://scikit-learn.org/stable/model_persistence.html#security-maintainability-limitations\n",
      "  warnings.warn(\n",
      "/dipc/kstoreyf/.conda/envs/mlenv/lib/python3.11/site-packages/sklearn/base.py:376: InconsistentVersionWarning: Trying to unpickle estimator PCA from version 0.24.2 when using version 1.4.0. This might lead to breaking code or invalid results. Use at your own risk. For more info please refer to:\n",
      "https://scikit-learn.org/stable/model_persistence.html#security-maintainability-limitations\n",
      "  warnings.warn(\n",
      "/dipc/kstoreyf/.conda/envs/mlenv/lib/python3.11/site-packages/sklearn/base.py:376: InconsistentVersionWarning: Trying to unpickle estimator StandardScaler from version 0.24.2 when using version 1.4.0. This might lead to breaking code or invalid results. Use at your own risk. For more info please refer to:\n",
      "https://scikit-learn.org/stable/model_persistence.html#security-maintainability-limitations\n",
      "  warnings.warn(\n",
      "/dipc/kstoreyf/.conda/envs/mlenv/lib/python3.11/site-packages/sklearn/base.py:376: InconsistentVersionWarning: Trying to unpickle estimator PCA from version 0.24.2 when using version 1.4.0. This might lead to breaking code or invalid results. Use at your own risk. For more info please refer to:\n",
      "https://scikit-learn.org/stable/model_persistence.html#security-maintainability-limitations\n",
      "  warnings.warn(\n",
      "/dipc/kstoreyf/.conda/envs/mlenv/lib/python3.11/site-packages/sklearn/base.py:376: InconsistentVersionWarning: Trying to unpickle estimator StandardScaler from version 0.24.2 when using version 1.4.0. This might lead to breaking code or invalid results. Use at your own risk. For more info please refer to:\n",
      "https://scikit-learn.org/stable/model_persistence.html#security-maintainability-limitations\n",
      "  warnings.warn(\n",
      "/dipc/kstoreyf/.conda/envs/mlenv/lib/python3.11/site-packages/sklearn/base.py:376: InconsistentVersionWarning: Trying to unpickle estimator PCA from version 0.24.2 when using version 1.4.0. This might lead to breaking code or invalid results. Use at your own risk. For more info please refer to:\n",
      "https://scikit-learn.org/stable/model_persistence.html#security-maintainability-limitations\n",
      "  warnings.warn(\n",
      "/dipc/kstoreyf/.conda/envs/mlenv/lib/python3.11/site-packages/sklearn/base.py:376: InconsistentVersionWarning: Trying to unpickle estimator StandardScaler from version 0.24.2 when using version 1.4.0. This might lead to breaking code or invalid results. Use at your own risk. For more info please refer to:\n",
      "https://scikit-learn.org/stable/model_persistence.html#security-maintainability-limitations\n",
      "  warnings.warn(\n",
      "/dipc/kstoreyf/.conda/envs/mlenv/lib/python3.11/site-packages/sklearn/base.py:376: InconsistentVersionWarning: Trying to unpickle estimator PCA from version 0.24.2 when using version 1.4.0. This might lead to breaking code or invalid results. Use at your own risk. For more info please refer to:\n",
      "https://scikit-learn.org/stable/model_persistence.html#security-maintainability-limitations\n",
      "  warnings.warn(\n",
      "/dipc/kstoreyf/.conda/envs/mlenv/lib/python3.11/site-packages/sklearn/base.py:376: InconsistentVersionWarning: Trying to unpickle estimator StandardScaler from version 0.24.2 when using version 1.4.0. This might lead to breaking code or invalid results. Use at your own risk. For more info please refer to:\n",
      "https://scikit-learn.org/stable/model_persistence.html#security-maintainability-limitations\n",
      "  warnings.warn(\n",
      "/dipc/kstoreyf/.conda/envs/mlenv/lib/python3.11/site-packages/sklearn/base.py:376: InconsistentVersionWarning: Trying to unpickle estimator PCA from version 0.24.2 when using version 1.4.0. This might lead to breaking code or invalid results. Use at your own risk. For more info please refer to:\n",
      "https://scikit-learn.org/stable/model_persistence.html#security-maintainability-limitations\n",
      "  warnings.warn(\n",
      "/dipc/kstoreyf/.conda/envs/mlenv/lib/python3.11/site-packages/sklearn/base.py:376: InconsistentVersionWarning: Trying to unpickle estimator StandardScaler from version 0.24.2 when using version 1.4.0. This might lead to breaking code or invalid results. Use at your own risk. For more info please refer to:\n",
      "https://scikit-learn.org/stable/model_persistence.html#security-maintainability-limitations\n",
      "  warnings.warn(\n",
      "/dipc/kstoreyf/.conda/envs/mlenv/lib/python3.11/site-packages/sklearn/base.py:376: InconsistentVersionWarning: Trying to unpickle estimator PCA from version 0.24.2 when using version 1.4.0. This might lead to breaking code or invalid results. Use at your own risk. For more info please refer to:\n",
      "https://scikit-learn.org/stable/model_persistence.html#security-maintainability-limitations\n",
      "  warnings.warn(\n",
      "/dipc/kstoreyf/.conda/envs/mlenv/lib/python3.11/site-packages/sklearn/base.py:376: InconsistentVersionWarning: Trying to unpickle estimator StandardScaler from version 0.24.2 when using version 1.4.0. This might lead to breaking code or invalid results. Use at your own risk. For more info please refer to:\n",
      "https://scikit-learn.org/stable/model_persistence.html#security-maintainability-limitations\n",
      "  warnings.warn(\n",
      "/dipc/kstoreyf/.conda/envs/mlenv/lib/python3.11/site-packages/sklearn/base.py:376: InconsistentVersionWarning: Trying to unpickle estimator PCA from version 0.24.2 when using version 1.4.0. This might lead to breaking code or invalid results. Use at your own risk. For more info please refer to:\n",
      "https://scikit-learn.org/stable/model_persistence.html#security-maintainability-limitations\n",
      "  warnings.warn(\n",
      "/dipc/kstoreyf/.conda/envs/mlenv/lib/python3.11/site-packages/sklearn/base.py:376: InconsistentVersionWarning: Trying to unpickle estimator StandardScaler from version 0.24.2 when using version 1.4.0. This might lead to breaking code or invalid results. Use at your own risk. For more info please refer to:\n",
      "https://scikit-learn.org/stable/model_persistence.html#security-maintainability-limitations\n",
      "  warnings.warn(\n"
     ]
    },
    {
     "name": "stdout",
     "output_type": "stream",
     "text": [
      "L-bias lpt emulator loaded in memory.\n",
      "Loading smeared bao emulator...\n"
     ]
    },
    {
     "name": "stderr",
     "output_type": "stream",
     "text": [
      "/dipc/kstoreyf/.conda/envs/mlenv/lib/python3.11/site-packages/sklearn/base.py:376: InconsistentVersionWarning: Trying to unpickle estimator PCA from version 1.0 when using version 1.4.0. This might lead to breaking code or invalid results. Use at your own risk. For more info please refer to:\n",
      "https://scikit-learn.org/stable/model_persistence.html#security-maintainability-limitations\n",
      "  warnings.warn(\n",
      "/dipc/kstoreyf/.conda/envs/mlenv/lib/python3.11/site-packages/sklearn/base.py:376: InconsistentVersionWarning: Trying to unpickle estimator StandardScaler from version 1.0 when using version 1.4.0. This might lead to breaking code or invalid results. Use at your own risk. For more info please refer to:\n",
      "https://scikit-learn.org/stable/model_persistence.html#security-maintainability-limitations\n",
      "  warnings.warn(\n"
     ]
    },
    {
     "name": "stdout",
     "output_type": "stream",
     "text": [
      "Smeared bao emulator loaded in memory.\n",
      "Loading non-linear l-bias emulator...\n"
     ]
    },
    {
     "name": "stderr",
     "output_type": "stream",
     "text": [
      "/dipc/kstoreyf/.conda/envs/mlenv/lib/python3.11/site-packages/sklearn/base.py:376: InconsistentVersionWarning: Trying to unpickle estimator StandardScaler from version 1.1.1 when using version 1.4.0. This might lead to breaking code or invalid results. Use at your own risk. For more info please refer to:\n",
      "https://scikit-learn.org/stable/model_persistence.html#security-maintainability-limitations\n",
      "  warnings.warn(\n",
      "/dipc/kstoreyf/.conda/envs/mlenv/lib/python3.11/site-packages/sklearn/base.py:376: InconsistentVersionWarning: Trying to unpickle estimator PCA from version 1.1.1 when using version 1.4.0. This might lead to breaking code or invalid results. Use at your own risk. For more info please refer to:\n",
      "https://scikit-learn.org/stable/model_persistence.html#security-maintainability-limitations\n",
      "  warnings.warn(\n"
     ]
    },
    {
     "name": "stdout",
     "output_type": "stream",
     "text": [
      "Nonlinear l-bias emulator loaded in memory.\n",
      "HIIII\n"
     ]
    },
    {
     "name": "stderr",
     "output_type": "stream",
     "text": [
      "/dipc/kstoreyf/.conda/envs/mlenv/lib/python3.11/site-packages/sklearn/base.py:376: InconsistentVersionWarning: Trying to unpickle estimator StandardScaler from version 1.0.2 when using version 1.4.0. This might lead to breaking code or invalid results. Use at your own risk. For more info please refer to:\n",
      "https://scikit-learn.org/stable/model_persistence.html#security-maintainability-limitations\n",
      "  warnings.warn(\n"
     ]
    }
   ],
   "source": [
    "#emu = baccoemu.Lbias_expansion(verbose=False)\n",
    "fn_emu = '/dipc_storage/cosmosims/data_share/lbias_emulator/lbias_emulator2.0.0'\n",
    "emu_lbias = baccoemu.Lbias_expansion(verbose=False, \n",
    "                               nonlinear_emu_path=fn_emu,\n",
    "                               nonlinear_emu_details='details.pickle',\n",
    "                               nonlinear_emu_field_name='NN_n',\n",
    "                               nonlinear_emu_read_rotation=False)\n"
   ]
  },
  {
   "cell_type": "code",
   "execution_count": 8,
   "metadata": {},
   "outputs": [],
   "source": [
    "k, pk_lbias, _ = emu_lbias.get_galaxy_real_pk(bias=bias_params, k=kk, \n",
    "                                                    **cosmo_params)"
   ]
  },
  {
   "cell_type": "markdown",
   "metadata": {},
   "source": [
    "lbias emu public"
   ]
  },
  {
   "cell_type": "code",
   "execution_count": 9,
   "metadata": {},
   "outputs": [
    {
     "name": "stdout",
     "output_type": "stream",
     "text": [
      "Loading l-bias lpt emulator...\n"
     ]
    },
    {
     "name": "stderr",
     "output_type": "stream",
     "text": [
      "/dipc/kstoreyf/.conda/envs/mlenv/lib/python3.11/site-packages/sklearn/base.py:376: InconsistentVersionWarning: Trying to unpickle estimator PCA from version 0.24.2 when using version 1.4.0. This might lead to breaking code or invalid results. Use at your own risk. For more info please refer to:\n",
      "https://scikit-learn.org/stable/model_persistence.html#security-maintainability-limitations\n",
      "  warnings.warn(\n",
      "/dipc/kstoreyf/.conda/envs/mlenv/lib/python3.11/site-packages/sklearn/base.py:376: InconsistentVersionWarning: Trying to unpickle estimator StandardScaler from version 0.24.2 when using version 1.4.0. This might lead to breaking code or invalid results. Use at your own risk. For more info please refer to:\n",
      "https://scikit-learn.org/stable/model_persistence.html#security-maintainability-limitations\n",
      "  warnings.warn(\n",
      "/dipc/kstoreyf/.conda/envs/mlenv/lib/python3.11/site-packages/sklearn/base.py:376: InconsistentVersionWarning: Trying to unpickle estimator PCA from version 0.24.2 when using version 1.4.0. This might lead to breaking code or invalid results. Use at your own risk. For more info please refer to:\n",
      "https://scikit-learn.org/stable/model_persistence.html#security-maintainability-limitations\n",
      "  warnings.warn(\n",
      "/dipc/kstoreyf/.conda/envs/mlenv/lib/python3.11/site-packages/sklearn/base.py:376: InconsistentVersionWarning: Trying to unpickle estimator StandardScaler from version 0.24.2 when using version 1.4.0. This might lead to breaking code or invalid results. Use at your own risk. For more info please refer to:\n",
      "https://scikit-learn.org/stable/model_persistence.html#security-maintainability-limitations\n",
      "  warnings.warn(\n",
      "/dipc/kstoreyf/.conda/envs/mlenv/lib/python3.11/site-packages/sklearn/base.py:376: InconsistentVersionWarning: Trying to unpickle estimator PCA from version 0.24.2 when using version 1.4.0. This might lead to breaking code or invalid results. Use at your own risk. For more info please refer to:\n",
      "https://scikit-learn.org/stable/model_persistence.html#security-maintainability-limitations\n",
      "  warnings.warn(\n",
      "/dipc/kstoreyf/.conda/envs/mlenv/lib/python3.11/site-packages/sklearn/base.py:376: InconsistentVersionWarning: Trying to unpickle estimator StandardScaler from version 0.24.2 when using version 1.4.0. This might lead to breaking code or invalid results. Use at your own risk. For more info please refer to:\n",
      "https://scikit-learn.org/stable/model_persistence.html#security-maintainability-limitations\n",
      "  warnings.warn(\n",
      "/dipc/kstoreyf/.conda/envs/mlenv/lib/python3.11/site-packages/sklearn/base.py:376: InconsistentVersionWarning: Trying to unpickle estimator PCA from version 0.24.2 when using version 1.4.0. This might lead to breaking code or invalid results. Use at your own risk. For more info please refer to:\n",
      "https://scikit-learn.org/stable/model_persistence.html#security-maintainability-limitations\n",
      "  warnings.warn(\n",
      "/dipc/kstoreyf/.conda/envs/mlenv/lib/python3.11/site-packages/sklearn/base.py:376: InconsistentVersionWarning: Trying to unpickle estimator StandardScaler from version 0.24.2 when using version 1.4.0. This might lead to breaking code or invalid results. Use at your own risk. For more info please refer to:\n",
      "https://scikit-learn.org/stable/model_persistence.html#security-maintainability-limitations\n",
      "  warnings.warn(\n",
      "/dipc/kstoreyf/.conda/envs/mlenv/lib/python3.11/site-packages/sklearn/base.py:376: InconsistentVersionWarning: Trying to unpickle estimator PCA from version 0.24.2 when using version 1.4.0. This might lead to breaking code or invalid results. Use at your own risk. For more info please refer to:\n",
      "https://scikit-learn.org/stable/model_persistence.html#security-maintainability-limitations\n",
      "  warnings.warn(\n",
      "/dipc/kstoreyf/.conda/envs/mlenv/lib/python3.11/site-packages/sklearn/base.py:376: InconsistentVersionWarning: Trying to unpickle estimator StandardScaler from version 0.24.2 when using version 1.4.0. This might lead to breaking code or invalid results. Use at your own risk. For more info please refer to:\n",
      "https://scikit-learn.org/stable/model_persistence.html#security-maintainability-limitations\n",
      "  warnings.warn(\n",
      "/dipc/kstoreyf/.conda/envs/mlenv/lib/python3.11/site-packages/sklearn/base.py:376: InconsistentVersionWarning: Trying to unpickle estimator PCA from version 0.24.2 when using version 1.4.0. This might lead to breaking code or invalid results. Use at your own risk. For more info please refer to:\n",
      "https://scikit-learn.org/stable/model_persistence.html#security-maintainability-limitations\n",
      "  warnings.warn(\n",
      "/dipc/kstoreyf/.conda/envs/mlenv/lib/python3.11/site-packages/sklearn/base.py:376: InconsistentVersionWarning: Trying to unpickle estimator StandardScaler from version 0.24.2 when using version 1.4.0. This might lead to breaking code or invalid results. Use at your own risk. For more info please refer to:\n",
      "https://scikit-learn.org/stable/model_persistence.html#security-maintainability-limitations\n",
      "  warnings.warn(\n",
      "/dipc/kstoreyf/.conda/envs/mlenv/lib/python3.11/site-packages/sklearn/base.py:376: InconsistentVersionWarning: Trying to unpickle estimator PCA from version 0.24.2 when using version 1.4.0. This might lead to breaking code or invalid results. Use at your own risk. For more info please refer to:\n",
      "https://scikit-learn.org/stable/model_persistence.html#security-maintainability-limitations\n",
      "  warnings.warn(\n",
      "/dipc/kstoreyf/.conda/envs/mlenv/lib/python3.11/site-packages/sklearn/base.py:376: InconsistentVersionWarning: Trying to unpickle estimator StandardScaler from version 0.24.2 when using version 1.4.0. This might lead to breaking code or invalid results. Use at your own risk. For more info please refer to:\n",
      "https://scikit-learn.org/stable/model_persistence.html#security-maintainability-limitations\n",
      "  warnings.warn(\n",
      "/dipc/kstoreyf/.conda/envs/mlenv/lib/python3.11/site-packages/sklearn/base.py:376: InconsistentVersionWarning: Trying to unpickle estimator PCA from version 0.24.2 when using version 1.4.0. This might lead to breaking code or invalid results. Use at your own risk. For more info please refer to:\n",
      "https://scikit-learn.org/stable/model_persistence.html#security-maintainability-limitations\n",
      "  warnings.warn(\n",
      "/dipc/kstoreyf/.conda/envs/mlenv/lib/python3.11/site-packages/sklearn/base.py:376: InconsistentVersionWarning: Trying to unpickle estimator StandardScaler from version 0.24.2 when using version 1.4.0. This might lead to breaking code or invalid results. Use at your own risk. For more info please refer to:\n",
      "https://scikit-learn.org/stable/model_persistence.html#security-maintainability-limitations\n",
      "  warnings.warn(\n",
      "/dipc/kstoreyf/.conda/envs/mlenv/lib/python3.11/site-packages/sklearn/base.py:376: InconsistentVersionWarning: Trying to unpickle estimator PCA from version 0.24.2 when using version 1.4.0. This might lead to breaking code or invalid results. Use at your own risk. For more info please refer to:\n",
      "https://scikit-learn.org/stable/model_persistence.html#security-maintainability-limitations\n",
      "  warnings.warn(\n",
      "/dipc/kstoreyf/.conda/envs/mlenv/lib/python3.11/site-packages/sklearn/base.py:376: InconsistentVersionWarning: Trying to unpickle estimator StandardScaler from version 0.24.2 when using version 1.4.0. This might lead to breaking code or invalid results. Use at your own risk. For more info please refer to:\n",
      "https://scikit-learn.org/stable/model_persistence.html#security-maintainability-limitations\n",
      "  warnings.warn(\n",
      "/dipc/kstoreyf/.conda/envs/mlenv/lib/python3.11/site-packages/sklearn/base.py:376: InconsistentVersionWarning: Trying to unpickle estimator PCA from version 0.24.2 when using version 1.4.0. This might lead to breaking code or invalid results. Use at your own risk. For more info please refer to:\n",
      "https://scikit-learn.org/stable/model_persistence.html#security-maintainability-limitations\n",
      "  warnings.warn(\n",
      "/dipc/kstoreyf/.conda/envs/mlenv/lib/python3.11/site-packages/sklearn/base.py:376: InconsistentVersionWarning: Trying to unpickle estimator StandardScaler from version 0.24.2 when using version 1.4.0. This might lead to breaking code or invalid results. Use at your own risk. For more info please refer to:\n",
      "https://scikit-learn.org/stable/model_persistence.html#security-maintainability-limitations\n",
      "  warnings.warn(\n",
      "/dipc/kstoreyf/.conda/envs/mlenv/lib/python3.11/site-packages/sklearn/base.py:376: InconsistentVersionWarning: Trying to unpickle estimator PCA from version 0.24.2 when using version 1.4.0. This might lead to breaking code or invalid results. Use at your own risk. For more info please refer to:\n",
      "https://scikit-learn.org/stable/model_persistence.html#security-maintainability-limitations\n",
      "  warnings.warn(\n",
      "/dipc/kstoreyf/.conda/envs/mlenv/lib/python3.11/site-packages/sklearn/base.py:376: InconsistentVersionWarning: Trying to unpickle estimator StandardScaler from version 0.24.2 when using version 1.4.0. This might lead to breaking code or invalid results. Use at your own risk. For more info please refer to:\n",
      "https://scikit-learn.org/stable/model_persistence.html#security-maintainability-limitations\n",
      "  warnings.warn(\n",
      "/dipc/kstoreyf/.conda/envs/mlenv/lib/python3.11/site-packages/sklearn/base.py:376: InconsistentVersionWarning: Trying to unpickle estimator PCA from version 0.24.2 when using version 1.4.0. This might lead to breaking code or invalid results. Use at your own risk. For more info please refer to:\n",
      "https://scikit-learn.org/stable/model_persistence.html#security-maintainability-limitations\n",
      "  warnings.warn(\n",
      "/dipc/kstoreyf/.conda/envs/mlenv/lib/python3.11/site-packages/sklearn/base.py:376: InconsistentVersionWarning: Trying to unpickle estimator StandardScaler from version 0.24.2 when using version 1.4.0. This might lead to breaking code or invalid results. Use at your own risk. For more info please refer to:\n",
      "https://scikit-learn.org/stable/model_persistence.html#security-maintainability-limitations\n",
      "  warnings.warn(\n",
      "/dipc/kstoreyf/.conda/envs/mlenv/lib/python3.11/site-packages/sklearn/base.py:376: InconsistentVersionWarning: Trying to unpickle estimator PCA from version 0.24.2 when using version 1.4.0. This might lead to breaking code or invalid results. Use at your own risk. For more info please refer to:\n",
      "https://scikit-learn.org/stable/model_persistence.html#security-maintainability-limitations\n",
      "  warnings.warn(\n",
      "/dipc/kstoreyf/.conda/envs/mlenv/lib/python3.11/site-packages/sklearn/base.py:376: InconsistentVersionWarning: Trying to unpickle estimator StandardScaler from version 0.24.2 when using version 1.4.0. This might lead to breaking code or invalid results. Use at your own risk. For more info please refer to:\n",
      "https://scikit-learn.org/stable/model_persistence.html#security-maintainability-limitations\n",
      "  warnings.warn(\n",
      "/dipc/kstoreyf/.conda/envs/mlenv/lib/python3.11/site-packages/sklearn/base.py:376: InconsistentVersionWarning: Trying to unpickle estimator PCA from version 0.24.2 when using version 1.4.0. This might lead to breaking code or invalid results. Use at your own risk. For more info please refer to:\n",
      "https://scikit-learn.org/stable/model_persistence.html#security-maintainability-limitations\n",
      "  warnings.warn(\n",
      "/dipc/kstoreyf/.conda/envs/mlenv/lib/python3.11/site-packages/sklearn/base.py:376: InconsistentVersionWarning: Trying to unpickle estimator StandardScaler from version 0.24.2 when using version 1.4.0. This might lead to breaking code or invalid results. Use at your own risk. For more info please refer to:\n",
      "https://scikit-learn.org/stable/model_persistence.html#security-maintainability-limitations\n",
      "  warnings.warn(\n",
      "/dipc/kstoreyf/.conda/envs/mlenv/lib/python3.11/site-packages/sklearn/base.py:376: InconsistentVersionWarning: Trying to unpickle estimator PCA from version 0.24.2 when using version 1.4.0. This might lead to breaking code or invalid results. Use at your own risk. For more info please refer to:\n",
      "https://scikit-learn.org/stable/model_persistence.html#security-maintainability-limitations\n",
      "  warnings.warn(\n",
      "/dipc/kstoreyf/.conda/envs/mlenv/lib/python3.11/site-packages/sklearn/base.py:376: InconsistentVersionWarning: Trying to unpickle estimator StandardScaler from version 0.24.2 when using version 1.4.0. This might lead to breaking code or invalid results. Use at your own risk. For more info please refer to:\n",
      "https://scikit-learn.org/stable/model_persistence.html#security-maintainability-limitations\n",
      "  warnings.warn(\n"
     ]
    },
    {
     "name": "stdout",
     "output_type": "stream",
     "text": [
      "L-bias lpt emulator loaded in memory.\n",
      "Loading smeared bao emulator...\n",
      "Smeared bao emulator loaded in memory.\n",
      "Loading non-linear l-bias emulator...\n"
     ]
    },
    {
     "name": "stderr",
     "output_type": "stream",
     "text": [
      "/dipc/kstoreyf/.conda/envs/mlenv/lib/python3.11/site-packages/sklearn/base.py:376: InconsistentVersionWarning: Trying to unpickle estimator PCA from version 1.0 when using version 1.4.0. This might lead to breaking code or invalid results. Use at your own risk. For more info please refer to:\n",
      "https://scikit-learn.org/stable/model_persistence.html#security-maintainability-limitations\n",
      "  warnings.warn(\n",
      "/dipc/kstoreyf/.conda/envs/mlenv/lib/python3.11/site-packages/sklearn/base.py:376: InconsistentVersionWarning: Trying to unpickle estimator StandardScaler from version 1.0 when using version 1.4.0. This might lead to breaking code or invalid results. Use at your own risk. For more info please refer to:\n",
      "https://scikit-learn.org/stable/model_persistence.html#security-maintainability-limitations\n",
      "  warnings.warn(\n",
      "/dipc/kstoreyf/.conda/envs/mlenv/lib/python3.11/site-packages/sklearn/base.py:376: InconsistentVersionWarning: Trying to unpickle estimator StandardScaler from version 0.23.2 when using version 1.4.0. This might lead to breaking code or invalid results. Use at your own risk. For more info please refer to:\n",
      "https://scikit-learn.org/stable/model_persistence.html#security-maintainability-limitations\n",
      "  warnings.warn(\n",
      "/dipc/kstoreyf/.conda/envs/mlenv/lib/python3.11/site-packages/sklearn/base.py:376: InconsistentVersionWarning: Trying to unpickle estimator PCA from version 0.23.2 when using version 1.4.0. This might lead to breaking code or invalid results. Use at your own risk. For more info please refer to:\n",
      "https://scikit-learn.org/stable/model_persistence.html#security-maintainability-limitations\n",
      "  warnings.warn(\n"
     ]
    },
    {
     "name": "stdout",
     "output_type": "stream",
     "text": [
      "Nonlinear l-bias emulator loaded in memory.\n",
      "HIIII\n"
     ]
    },
    {
     "name": "stderr",
     "output_type": "stream",
     "text": [
      "/dipc/kstoreyf/.conda/envs/mlenv/lib/python3.11/site-packages/sklearn/base.py:376: InconsistentVersionWarning: Trying to unpickle estimator StandardScaler from version 1.0.2 when using version 1.4.0. This might lead to breaking code or invalid results. Use at your own risk. For more info please refer to:\n",
      "https://scikit-learn.org/stable/model_persistence.html#security-maintainability-limitations\n",
      "  warnings.warn(\n"
     ]
    }
   ],
   "source": [
    "emu_lbias_public = baccoemu.Lbias_expansion(verbose=False)\n"
   ]
  },
  {
   "cell_type": "code",
   "execution_count": 10,
   "metadata": {},
   "outputs": [],
   "source": [
    "k, pk_lbias_public, _ = emu_lbias_public.get_galaxy_real_pk(bias=bias_params, k=kk, \n",
    "                                                            **cosmo_params)"
   ]
  },
  {
   "cell_type": "markdown",
   "metadata": {},
   "source": [
    "matter pk emu"
   ]
  },
  {
   "cell_type": "code",
   "execution_count": 11,
   "metadata": {},
   "outputs": [
    {
     "name": "stdout",
     "output_type": "stream",
     "text": [
      "HIIII\n"
     ]
    },
    {
     "name": "stderr",
     "output_type": "stream",
     "text": [
      "/dipc/kstoreyf/.conda/envs/mlenv/lib/python3.11/site-packages/sklearn/base.py:376: InconsistentVersionWarning: Trying to unpickle estimator PCA from version 1.0 when using version 1.4.0. This might lead to breaking code or invalid results. Use at your own risk. For more info please refer to:\n",
      "https://scikit-learn.org/stable/model_persistence.html#security-maintainability-limitations\n",
      "  warnings.warn(\n",
      "/dipc/kstoreyf/.conda/envs/mlenv/lib/python3.11/site-packages/sklearn/base.py:376: InconsistentVersionWarning: Trying to unpickle estimator StandardScaler from version 1.0 when using version 1.4.0. This might lead to breaking code or invalid results. Use at your own risk. For more info please refer to:\n",
      "https://scikit-learn.org/stable/model_persistence.html#security-maintainability-limitations\n",
      "  warnings.warn(\n",
      "/dipc/kstoreyf/.conda/envs/mlenv/lib/python3.11/site-packages/sklearn/base.py:376: InconsistentVersionWarning: Trying to unpickle estimator PCA from version 1.0 when using version 1.4.0. This might lead to breaking code or invalid results. Use at your own risk. For more info please refer to:\n",
      "https://scikit-learn.org/stable/model_persistence.html#security-maintainability-limitations\n",
      "  warnings.warn(\n",
      "/dipc/kstoreyf/.conda/envs/mlenv/lib/python3.11/site-packages/sklearn/base.py:376: InconsistentVersionWarning: Trying to unpickle estimator StandardScaler from version 1.0 when using version 1.4.0. This might lead to breaking code or invalid results. Use at your own risk. For more info please refer to:\n",
      "https://scikit-learn.org/stable/model_persistence.html#security-maintainability-limitations\n",
      "  warnings.warn(\n",
      "/dipc/kstoreyf/.conda/envs/mlenv/lib/python3.11/site-packages/sklearn/base.py:376: InconsistentVersionWarning: Trying to unpickle estimator StandardScaler from version 1.0.2 when using version 1.4.0. This might lead to breaking code or invalid results. Use at your own risk. For more info please refer to:\n",
      "https://scikit-learn.org/stable/model_persistence.html#security-maintainability-limitations\n",
      "  warnings.warn(\n",
      "/dipc/kstoreyf/.conda/envs/mlenv/lib/python3.11/site-packages/sklearn/base.py:376: InconsistentVersionWarning: Trying to unpickle estimator StandardScaler from version 0.22.1 when using version 1.4.0. This might lead to breaking code or invalid results. Use at your own risk. For more info please refer to:\n",
      "https://scikit-learn.org/stable/model_persistence.html#security-maintainability-limitations\n",
      "  warnings.warn(\n",
      "/dipc/kstoreyf/.conda/envs/mlenv/lib/python3.11/site-packages/sklearn/base.py:376: InconsistentVersionWarning: Trying to unpickle estimator PCA from version 0.22.1 when using version 1.4.0. This might lead to breaking code or invalid results. Use at your own risk. For more info please refer to:\n",
      "https://scikit-learn.org/stable/model_persistence.html#security-maintainability-limitations\n",
      "  warnings.warn(\n",
      "/dipc/kstoreyf/.conda/envs/mlenv/lib/python3.11/site-packages/sklearn/base.py:376: InconsistentVersionWarning: Trying to unpickle estimator StandardScaler from version 0.23.2 when using version 1.4.0. This might lead to breaking code or invalid results. Use at your own risk. For more info please refer to:\n",
      "https://scikit-learn.org/stable/model_persistence.html#security-maintainability-limitations\n",
      "  warnings.warn(\n",
      "/dipc/kstoreyf/.conda/envs/mlenv/lib/python3.11/site-packages/sklearn/base.py:376: InconsistentVersionWarning: Trying to unpickle estimator PCA from version 0.23.2 when using version 1.4.0. This might lead to breaking code or invalid results. Use at your own risk. For more info please refer to:\n",
      "https://scikit-learn.org/stable/model_persistence.html#security-maintainability-limitations\n",
      "  warnings.warn(\n"
     ]
    }
   ],
   "source": [
    "emulator = baccoemu.Matter_powerspectrum(verbose=False)"
   ]
  },
  {
   "cell_type": "code",
   "execution_count": 12,
   "metadata": {},
   "outputs": [],
   "source": [
    "k, pk_lin_cold = emulator.get_linear_pk(k=kk, cold=True, **cosmo_params)\n",
    "k, pk_lin_total = emulator.get_linear_pk(k=kk, cold=False, **cosmo_params)"
   ]
  },
  {
   "cell_type": "markdown",
   "metadata": {},
   "source": [
    "### Original input and sim"
   ]
  },
  {
   "cell_type": "code",
   "execution_count": 13,
   "metadata": {},
   "outputs": [
    {
     "name": "stderr",
     "output_type": "stream",
     "text": [
      "2024-03-25 12:13:20,345 bacco.cosmo :    initialization took 0.000 secs\n"
     ]
    },
    {
     "name": "stdout",
     "output_type": "stream",
     "text": [
      "-----------------------------------------------\n",
      "Cosmology \"Default\", de_model \"LCDM\" \n",
      "- Paramerers: Omega_cdm = 0.2967742021853691, Omega_b = 0.049, Omega_de = 0.6542257978146309, \n",
      "Hubble=0.7117061481828559, Sigma_8=0.8290675539429132, A_s=None, ns=0.9624, neutrino_mass=0.0, \n",
      "Omega_r=0.0, Omega_k=0.0, tau=0.0952, w0=-1, wa=0\n",
      "- Power Spectrum: CLASS,   Expansion Factor: 1.0,   ReNormalizeInputSpectrum: True\n",
      "-----------------------------------------------\n"
     ]
    }
   ],
   "source": [
    "npart = 512\n",
    "boxsize = 1000.\n",
    "\n",
    "bacco.configuration.update({'pk':{'boltzmann_solver': 'CLASS'}})\n",
    "bacco.configuration.update({'pknbody' : {'ngrid'  :  npart}})\n",
    "bacco.configuration.update({'scaling' : {'disp_ngrid' : npart}})\n",
    "\n",
    "# CHOOSE COSMOLOGY\n",
    "#cind = 0\n",
    "inpath = '/dipc/kstoreyf/muchisimocks/data/cosmolib/'\n",
    "cospars = np.loadtxt(inpath+'LH'+str(idx_LH)+'/cosmo_'+str(idx_LH)+'.txt')\n",
    "\n",
    "# CHOOSE COSMOLOGY\n",
    "Omega0 = cospars[0] #0.3175\n",
    "sigma8 = cospars[1] #0.834\n",
    "HubbleParam = cospars[2] #0.6711\n",
    "OmegaBaryon = cospars[3] #0.049\n",
    "ns = cospars[4] #0.9624\n",
    "Seed= int(cospars[5]) #1915\n",
    "expfactor = 1.0\n",
    "\n",
    "pars_arr = np.array([Omega0, OmegaBaryon, HubbleParam, ns, sigma8])\n",
    "\n",
    "## Start cosmology class\n",
    "\n",
    "pars = {'omega_cdm':Omega0-OmegaBaryon, 'omega_baryon':OmegaBaryon, 'hubble':HubbleParam, \n",
    "        'neutrino_mass':0.0, 'sigma8':sigma8, 'ns':ns, 'expfactor':expfactor}\n",
    "cosmo = bacco.Cosmology(**pars) #bacco.Cosmology(**bacco.cosmo_parameters.Planck13)  \n",
    "print(cosmo)"
   ]
  },
  {
   "cell_type": "code",
   "execution_count": 14,
   "metadata": {},
   "outputs": [
    {
     "name": "stderr",
     "output_type": "stream",
     "text": [
      "2024-03-25 12:13:22,256 bacco.cosmo :    computed CLASS power spectrum at z=0.00 in 0.578 secs\n",
      "2024-03-25 12:13:22,264 bacco.cosmo :    created Pk(z=0) tab from k 0.0007117061481828558 to 100000.0 h/Mpc\n"
     ]
    }
   ],
   "source": [
    "k_input = cosmo._tabPowerSpectrum_z0['x']\n",
    "pk_input = cosmo._tabPowerSpectrum_z0['y']"
   ]
  },
  {
   "cell_type": "markdown",
   "metadata": {},
   "source": [
    "Rerun lin field"
   ]
  },
  {
   "cell_type": "code",
   "execution_count": 18,
   "metadata": {},
   "outputs": [
    {
     "name": "stderr",
     "output_type": "stream",
     "text": [
      "2024-03-25 12:40:07,526 bacco.util : Initial conditions compatible with Gadget-3 Ngenic\n",
      "2024-03-25 12:40:07,533 bacco.sims : Initialising simulation Default\n",
      "2024-03-25 12:40:07,534 bacco.sims : ...done in 0.00133 s\n",
      "2024-03-25 12:40:08,463 bacco.cosmo :    computed CLASS power spectrum at z=0.00 in 0.260 secs\n",
      "2024-03-25 12:40:08,463 bacco.cosmo :    created Pk(z=0) tab from k 0.0007117061481828558 to 100000.0 h/Mpc\n"
     ]
    },
    {
     "name": "stdout",
     "output_type": "stream",
     "text": [
      "bacco.lss_scaler : 292 P(k) values; Di = (1.000000, 1.000000, 1.000000, 1.000000); nthreads =48; seed =2 \n",
      "bacco.lss_scaler: start computing linear field...\n",
      "bacco.lss_scaler: seed =2 ngrid=512 pkfixed=0 phase=0.000000, phase_type=1; precision=single \n"
     ]
    },
    {
     "name": "stderr",
     "output_type": "stream",
     "text": [
      "2024-03-25 12:40:22,025 bacco.scaler : Adding displacement field with a vel-factor=55.546386\n"
     ]
    },
    {
     "name": "stdout",
     "output_type": "stream",
     "text": [
      "bacco.lss_scaler:  Adding LSS displacement: vel_factor=55.546386 mesh_dtype=4, use_vel=1, use_bias=0\n",
      "bacco.lss_scaler:  Adding LSS displacement: looping over particles\n"
     ]
    }
   ],
   "source": [
    "# CREATE A ZA SIMULATION\n",
    "\n",
    "sim, disp_field = bacco.utils.create_lpt_simulation(cosmo, boxsize, Nmesh=npart, Seed=Seed,\n",
    "                                                    FixedInitialAmplitude=False,InitialPhase=0, \n",
    "                                                    expfactor=1, LPT_order=1, order_by_order=None,\n",
    "                                                    phase_type=1, ngenic_phases=True, return_disp=True, \n",
    "                                                    sphere_mode=0)"
   ]
  },
  {
   "cell_type": "code",
   "execution_count": 19,
   "metadata": {},
   "outputs": [
    {
     "name": "stderr",
     "output_type": "stream",
     "text": [
      "2024-03-25 12:40:24,943 bacco.sims : Generating linear field: Di=1.0\n"
     ]
    },
    {
     "name": "stdout",
     "output_type": "stream",
     "text": [
      "bacco.lss_scaler : 292 P(k) values; Di = (1.000000, 1.000000, 1.000000, 1.000000); nthreads =48; seed =2 \n",
      "bacco.lss_scaler: start computing linear field...\n",
      "bacco.lss_scaler: seed =2 ngrid=512 pkfixed=0 phase=0.000000, phase_type=0; precision=single \n",
      "(512, 512, 512)\n"
     ]
    }
   ],
   "source": [
    "norm=npart**3.\n",
    "dens_lin = sim.linear_field[0]*norm\n",
    "print(dens_lin.shape)"
   ]
  },
  {
   "cell_type": "code",
   "execution_count": 20,
   "metadata": {},
   "outputs": [
    {
     "name": "stderr",
     "output_type": "stream",
     "text": [
      "2024-03-25 12:40:34,359 bacco.scaler : Adding displacement field with a vel-factor=0.000000\n"
     ]
    },
    {
     "name": "stdout",
     "output_type": "stream",
     "text": [
      "bacco.lss_scaler:  Adding LSS displacement: vel_factor=0.000000 mesh_dtype=4, use_vel=0, use_bias=0\n",
      "bacco.lss_scaler:  Adding LSS displacement: looping over particles\n"
     ]
    }
   ],
   "source": [
    "## Create regular grid and displace particles\n",
    "grid = bacco.visualization.uniform_grid(npix=npart, L=boxsize, ndim=3, bounds=False)\n",
    "\n",
    "pred_pos = bacco.scaler.add_displacement(None,\n",
    "                                    dens_lin, #pred_disp,\n",
    "                                    box=boxsize,\n",
    "                                    pos=grid.reshape(-1,3),\n",
    "                                    vel=None,\n",
    "                                    vel_factor=0,\n",
    "                                    verbose=True)[0]"
   ]
  },
  {
   "cell_type": "code",
   "execution_count": 21,
   "metadata": {},
   "outputs": [
    {
     "name": "stderr",
     "output_type": "stream",
     "text": [
      "2024-03-25 12:40:35,831 bacco.BiasModel : Initialising Bias Model class ...\n"
     ]
    }
   ],
   "source": [
    "damping_scale = 0.7 #k_nyq\n",
    "interlacing = False\n",
    "\n",
    "bmodel = bacco.BiasModel(sim=sim, linear_delta=dens_lin, ngrid=npart, ngrid1=None, \n",
    "                            sdm=False, mode=\"dm\",\n",
    "                            npart_for_fake_sim=npart, damping_scale=damping_scale, \n",
    "                            bias_model='expansion', deposit_method=\"cic\", \n",
    "                            use_displacement_of_nn=False, interlacing=interlacing, \n",
    "                            )"
   ]
  },
  {
   "cell_type": "code",
   "execution_count": 22,
   "metadata": {},
   "outputs": [
    {
     "name": "stderr",
     "output_type": "stream",
     "text": [
      "2024-03-25 12:40:38,916 bacco.BiasModel : Computing delta_to_tidal_field with 48 threads...\n",
      "2024-03-25 12:40:38,917 bacco.BiasModel : fttw plan\n",
      "2024-03-25 12:40:38,918 bacco.BiasModel : Computing linear field ...\n",
      "2024-03-25 12:40:38,919 bacco.BiasModel : Memory used: 11.256160256 Gigabytes\n",
      "2024-03-25 12:40:38,921 bacco.BiasModel : fttw freqs\n",
      "2024-03-25 12:40:38,921 bacco.BiasModel : tidk freqs\n",
      "2024-03-25 12:40:45,064 bacco.BiasModel : ifft\n"
     ]
    },
    {
     "ename": "RuntimeError",
     "evalue": "The data has an uncaught error that led to the planner returning NULL. This is a bug.",
     "output_type": "error",
     "traceback": [
      "\u001b[0;31m---------------------------------------------------------------------------\u001b[0m",
      "\u001b[0;31mRuntimeError\u001b[0m                              Traceback (most recent call last)",
      "Cell \u001b[0;32mIn[22], line 2\u001b[0m\n\u001b[1;32m      1\u001b[0m \u001b[38;5;66;03m## Compute lagrangian fields\u001b[39;00m\n\u001b[0;32m----> 2\u001b[0m bias_fields \u001b[38;5;241m=\u001b[39m bmodel\u001b[38;5;241m.\u001b[39mbias_terms_lag()\n\u001b[1;32m      4\u001b[0m \u001b[38;5;66;03m## Compute eulerian fields\u001b[39;00m\n\u001b[1;32m      5\u001b[0m bias_terms_eul_pred\u001b[38;5;241m=\u001b[39m[]\n",
      "File \u001b[0;32m/scratch/kstoreyf/baccogit/bacco/bias_model.py:465\u001b[0m, in \u001b[0;36mBiasModel.bias_terms_lag\u001b[0;34m(self, bias_terms_lagrangian, third_order_terms, second_order_non_local_terms, d2_renorm_order, s2_renorm_order)\u001b[0m\n\u001b[1;32m    462\u001b[0m \u001b[38;5;28;01melse\u001b[39;00m:\n\u001b[1;32m    463\u001b[0m     traceless \u001b[38;5;241m=\u001b[39m \u001b[38;5;28;01mFalse\u001b[39;00m\n\u001b[0;32m--> 465\u001b[0m tidal_field \u001b[38;5;241m=\u001b[39m \u001b[38;5;28mself\u001b[39m\u001b[38;5;241m.\u001b[39mdelta_to_tidal_field(traceless\u001b[38;5;241m=\u001b[39mtraceless)\n\u001b[1;32m    466\u001b[0m laplacian \u001b[38;5;241m=\u001b[39m \u001b[38;5;28mself\u001b[39m\u001b[38;5;241m.\u001b[39mcomp_laplacian()\n\u001b[1;32m    468\u001b[0m \u001b[38;5;28;01mif\u001b[39;00m bias_terms_lagrangian \u001b[38;5;129;01mis\u001b[39;00m \u001b[38;5;28;01mNone\u001b[39;00m:\n",
      "File \u001b[0;32m/scratch/kstoreyf/baccogit/bacco/bias_model.py:217\u001b[0m, in \u001b[0;36mBiasModel.delta_to_tidal_field\u001b[0;34m(self, traceless, nthreads)\u001b[0m\n\u001b[1;32m    215\u001b[0m logger\u001b[38;5;241m.\u001b[39minfo(\u001b[38;5;124m\"\u001b[39m\u001b[38;5;124mifft\u001b[39m\u001b[38;5;124m\"\u001b[39m)\n\u001b[1;32m    216\u001b[0m \u001b[38;5;66;03m#print(tidk)\u001b[39;00m\n\u001b[0;32m--> 217\u001b[0m tid \u001b[38;5;241m=\u001b[39m pyfftw\u001b[38;5;241m.\u001b[39mbuilders\u001b[38;5;241m.\u001b[39mirfftn(tidk, axes\u001b[38;5;241m=\u001b[39m(\u001b[38;5;241m0\u001b[39m,\u001b[38;5;241m1\u001b[39m,\u001b[38;5;241m2\u001b[39m), threads\u001b[38;5;241m=\u001b[39mnthreads)\n\u001b[1;32m    218\u001b[0m \u001b[38;5;28;01mif\u001b[39;00m traceless:\n\u001b[1;32m    219\u001b[0m     tid \u001b[38;5;241m=\u001b[39m tid()\n",
      "File \u001b[0;32m~/.conda/envs/mlenv/lib/python3.11/site-packages/pyfftw/builders/builders.py:554\u001b[0m, in \u001b[0;36mirfftn\u001b[0;34m(a, s, axes, planner_effort, threads, auto_align_input, auto_contiguous, avoid_copy, norm)\u001b[0m\n\u001b[1;32m    551\u001b[0m planner_effort \u001b[38;5;241m=\u001b[39m _default_effort(planner_effort)\n\u001b[1;32m    552\u001b[0m threads \u001b[38;5;241m=\u001b[39m _default_threads(threads)\n\u001b[0;32m--> 554\u001b[0m \u001b[38;5;28;01mreturn\u001b[39;00m _Xfftn(a, s, axes, overwrite_input, planner_effort,\n\u001b[1;32m    555\u001b[0m         threads, auto_align_input, auto_contiguous,\n\u001b[1;32m    556\u001b[0m         avoid_copy, inverse, real, \u001b[38;5;241m*\u001b[39m\u001b[38;5;241m*\u001b[39m_norm_args(norm))\n",
      "File \u001b[0;32m~/.conda/envs/mlenv/lib/python3.11/site-packages/pyfftw/builders/_utils.py:285\u001b[0m, in \u001b[0;36m_Xfftn\u001b[0;34m(a, s, axes, overwrite_input, planner_effort, threads, auto_align_input, auto_contiguous, avoid_copy, inverse, real, normalise_idft, ortho, real_direction_flag)\u001b[0m\n\u001b[1;32m    278\u001b[0m         \u001b[38;5;28;01mraise\u001b[39;00m \u001b[38;5;167;01mValueError\u001b[39;00m(\u001b[38;5;124m'\u001b[39m\u001b[38;5;124mCannot avoid copy: \u001b[39m\u001b[38;5;124m'\u001b[39m\n\u001b[1;32m    279\u001b[0m                 \u001b[38;5;124m'\u001b[39m\u001b[38;5;124mThe input array is not aligned and \u001b[39m\u001b[38;5;124m'\u001b[39m\n\u001b[1;32m    280\u001b[0m                 \u001b[38;5;124m'\u001b[39m\u001b[38;5;124mauto_align is set. (from avoid_copy flag)\u001b[39m\u001b[38;5;124m'\u001b[39m)\n\u001b[1;32m    282\u001b[0m     input_array \u001b[38;5;241m=\u001b[39m pyfftw\u001b[38;5;241m.\u001b[39mbyte_align(input_array)\n\u001b[0;32m--> 285\u001b[0m FFTW_object \u001b[38;5;241m=\u001b[39m pyfftw\u001b[38;5;241m.\u001b[39mFFTW(input_array, output_array, axes, direction,\n\u001b[1;32m    286\u001b[0m         flags, threads, normalise_idft\u001b[38;5;241m=\u001b[39mnormalise_idft, ortho\u001b[38;5;241m=\u001b[39mortho)\n\u001b[1;32m    288\u001b[0m \u001b[38;5;28;01mif\u001b[39;00m \u001b[38;5;129;01mnot\u001b[39;00m avoid_copy:\n\u001b[1;32m    289\u001b[0m     \u001b[38;5;66;03m# Copy the data back into the (likely) destroyed array\u001b[39;00m\n\u001b[1;32m    290\u001b[0m     FFTW_object\u001b[38;5;241m.\u001b[39minput_array[:] \u001b[38;5;241m=\u001b[39m a_copy\n",
      "File \u001b[0;32mpyfftw/pyfftw.pyx:1426\u001b[0m, in \u001b[0;36mpyfftw.pyfftw.FFTW.__cinit__\u001b[0;34m()\u001b[0m\n",
      "\u001b[0;31mRuntimeError\u001b[0m: The data has an uncaught error that led to the planner returning NULL. This is a bug."
     ]
    }
   ],
   "source": [
    "## Compute lagrangian fields\n",
    "bias_fields = bmodel.bias_terms_lag()\n",
    "\n",
    "## Compute eulerian fields\n",
    "bias_terms_eul_pred=[]\n",
    "for ii in range(0,len(bias_fields)):\n",
    "    bias_terms_pred = bacco.statistics.compute_mesh(ngrid=npart, box=boxsize, pos=pred_pos, \n",
    "                                mass = (bias_fields[ii]).flatten(), deposit_method='cic', \n",
    "                                interlacing=interlacing)\n",
    "    bias_terms_eul_pred.append(bias_terms_pred)\n",
    "bias_terms_eul_pred = np.array(bias_terms_eul_pred)"
   ]
  },
  {
   "cell_type": "markdown",
   "metadata": {},
   "source": [
    "#### Compute p(k)"
   ]
  },
  {
   "cell_type": "code",
   "execution_count": 7,
   "metadata": {},
   "outputs": [],
   "source": [
    "box_size = 1000.0\n",
    "\n",
    "k_min = 10**-3\n",
    "k_max = 10**3\n",
    "n_bins = 100\n",
    "log_binning = True\n",
    "k = np.logspace(np.log10(k_min),np.log10(k_max),n_bins)\n",
    "\n",
    "args_power = {'ngrid':512,\n",
    "            'box':box_size,\n",
    "            'cosmology':cosmo,\n",
    "            'interlacing':False,\n",
    "            'kmin':k_min,\n",
    "            'kmax':k_max,\n",
    "            'nbins':n_bins,\n",
    "            'correct_grid':True,\n",
    "            'log_binning':log_binning,\n",
    "            'deposit_method':'cic',\n",
    "            'compute_correlation':False,\n",
    "            'zspace':False,\n",
    "            'compute_power2d':False}\n",
    "\n",
    "bacco.configuration.update({'number_of_threads': 8})\n"
   ]
  },
  {
   "cell_type": "code",
   "execution_count": 8,
   "metadata": {},
   "outputs": [
    {
     "name": "stderr",
     "output_type": "stream",
     "text": [
      "2024-03-24 22:44:55,480 bacco.statistics : Computing the power spectrum with ngrid=512 and interlacing=False\n",
      "2024-03-24 22:44:55,487 bacco.cosmo :    computed halofit at z=0.00 for 'Default' in 0.004 secs\n"
     ]
    },
    {
     "name": "stdout",
     "output_type": "stream",
     "text": [
      "bacco.power : boxsize 1000.000000; ngrid 512; nthreads 8; interlacing 0; deposit_method 1; log_binning 1; type 1; precision=single; correct_grid=1 (log=1); correct_sn=0\n",
      "bacco.power : normalise_grid1=1 normalise_grid2=1 deconvolve_grid1=0 deconvolve_grid2=0\n",
      "bacco.power : total mass 3.78656e-19 (grid1) 3.78656e-19 (grid2)\n",
      "bacco.power : Doing FFTW\n",
      "bacco.power: FFT took 0.230240 sec\n",
      "bacco.power : Counting modes\n",
      "bacco.power : done counting modes in 1.003339 sec\n",
      "bacco.power : Starting Fourier loop \n",
      "bacco.power : done Fourier loop in 0.000338 secs\n",
      "bacco.power : Deallocating arrays\n"
     ]
    },
    {
     "name": "stderr",
     "output_type": "stream",
     "text": [
      "2024-03-24 22:45:02,363 bacco.statistics :  ...done in 6.88 s\n"
     ]
    }
   ],
   "source": [
    "tracer_field = bias_terms_eul_pred\n",
    "\n",
    "# NOTE assumes tracer field is already normalized!\n",
    "pk_lin = bacco.statistics.compute_crossspectrum_twogrids(\n",
    "                    grid1=tracer_field,\n",
    "                    grid2=tracer_field,\n",
    "                    normalise_grid1=True,\n",
    "                    normalise_grid2=True,\n",
    "                    deconvolve_grid1=False,\n",
    "                    deconvolve_grid2=False,\n",
    "                    **args_power)"
   ]
  },
  {
   "cell_type": "markdown",
   "metadata": {},
   "source": [
    "### Plot all"
   ]
  },
  {
   "cell_type": "code",
   "execution_count": 17,
   "metadata": {},
   "outputs": [
    {
     "name": "stderr",
     "output_type": "stream",
     "text": [
      "/tmp/ipykernel_234216/2540045270.py:26: RuntimeWarning: divide by zero encountered in divide\n",
      "  ax1.plot(k, (pk_lbias-pk_m2m)/denom, ls=':', alpha=0.5, color=color_pk_lbias)\n",
      "/tmp/ipykernel_234216/2540045270.py:27: RuntimeWarning: divide by zero encountered in divide\n",
      "  ax1.plot(k, (pk_lbias_public-pk_m2m)/denom, ls='-.', alpha=0.5, color=color_pk_lbias_public)\n"
     ]
    },
    {
     "data": {
      "image/png": "[encoded data removed]",
      "text/plain": [
       "<Figure size 600x600 with 2 Axes>"
      ]
     },
     "metadata": {},
     "output_type": "display_data"
    }
   ],
   "source": [
    "nrows, ncols = 2, 1\n",
    "fig, axarr = plt.subplots(nrows, ncols, figsize=(6,6), sharex=True, height_ratios=[2,1])\n",
    "plt.subplots_adjust(hspace=0)\n",
    "ax, ax1 = axarr\n",
    "\n",
    "color_pk, color_pk_cold, color_pk_tot = 'black', 'blue', 'purple', \n",
    "color_pk_lbias, color_pk_lbias_public = 'magenta', 'salmon'\n",
    "color_inlin = 'green'\n",
    "\n",
    "n_plot = 1\n",
    "\n",
    "pk_m2m = pk_obj['pk']\n",
    "ax.loglog(kk, pk_m2m, label=r'$P_\\text{map2map}(k)$', color=color_pk)\n",
    "ax.loglog(k_input, pk_input, label=r'$P_\\text{input,lin}(k)$', color=color_inlin, lw=4)\n",
    "ax.loglog(k, pk_lin_cold, label=r'$P_\\text{emu,lin,cold}(k)$', color=color_pk_cold)\n",
    "ax.loglog(k, pk_lin_total, label=r'$P_\\text{emu,lin,tot}(k)$', ls='--', color=color_pk_tot)\n",
    "ax.loglog(k, pk_lbias, label=r'$P_\\text{emu,lbias}(k)$', ls=':', color=color_pk_lbias)\n",
    "ax.loglog(k, pk_lbias_public, label=r'$P_\\text{emu,lbiaspub}(k)$', ls='-.', color=color_pk_lbias_public)\n",
    "\n",
    "#ax.loglog(kk, Pk_lin[idx_LH], label=r'$P_\\text{lin}(k)$')\n",
    "#ax.loglog(kk, Pk_nl[idx_LH], label=r'$P_\\text{nl}(k)$')\n",
    "\n",
    "denom = gaussian_error_pk\n",
    "#ax1.plot(k, (pk_lin_cold-pk_m2m)/denom, ls='-', alpha=0.5, color=color_pk_cold)\n",
    "#ax1.plot(k, (pk_lin_total-pk_m2m)/denom, ls='--', alpha=0.5, color=color_pk_tot)\n",
    "ax1.plot(k, (pk_lbias-pk_m2m)/denom, ls=':', alpha=0.5, color=color_pk_lbias)\n",
    "ax1.plot(k, (pk_lbias_public-pk_m2m)/denom, ls='-.', alpha=0.5, color=color_pk_lbias_public)\n",
    "\n",
    "ax1.axhline(0, color='grey')\n",
    "\n",
    "ax.set_xlabel(r'$k \\,\\, [h \\,\\, {\\rm Mpc}^{-1}]$', fontsize=23)\n",
    "ax.set_ylabel(r'$P(k) \\,\\, [h^{-3} \\,\\, {\\rm Mpc}^3]$', fontsize=23)\n",
    "ax1.set_ylabel(r'$(P(k)-P_\\text{map2map}(k))/\\sigma_\\text{G}$')\n",
    "ax.set_xlim(1e-2, 0.4)\n",
    "ax.set_ylim(3e2, 5e4)\n",
    "\n",
    "ax1.set_ylim(-10, 10)\n",
    "\n",
    "ax.legend(fontsize=12)\n",
    "\n",
    "mpl.pyplot.tight_layout()\n",
    "mpl.pyplot.show()"
   ]
  },
  {
   "cell_type": "markdown",
   "metadata": {},
   "source": [
    "### Check cosmo param agreement"
   ]
  },
  {
   "cell_type": "markdown",
   "metadata": {},
   "source": [
    "Emu:"
   ]
  },
  {
   "cell_type": "code",
   "execution_count": null,
   "metadata": {},
   "outputs": [
    {
     "data": {
      "text/plain": [
       "{'omega_cold': 0.3457742021853691,\n",
       " 'sigma8_cold': 0.8290675539429132,\n",
       " 'omega_baryon': 0.049,\n",
       " 'ns': 0.9624,\n",
       " 'hubble': 0.7117061481828559,\n",
       " 'neutrino_mass': 0.0,\n",
       " 'w0': -1.0,\n",
       " 'wa': 0.0,\n",
       " 'expfactor': 1.0}"
      ]
     },
     "metadata": {},
     "output_type": "display_data"
    }
   ],
   "source": [
    "cosmo_params"
   ]
  },
  {
   "cell_type": "markdown",
   "metadata": {},
   "source": [
    "Bacco / map2map:"
   ]
  },
  {
   "cell_type": "code",
   "execution_count": null,
   "metadata": {},
   "outputs": [
    {
     "data": {
      "text/plain": [
       "{'hubble': 0.7117061481828559,\n",
       " 'sigma8': 0.8290675539429132,\n",
       " 'A_s': None,\n",
       " 'omega_baryon': 0.049,\n",
       " 'omega_cdm': 0.2967742021853691,\n",
       " 'w0': -1,\n",
       " 'wa': 0,\n",
       " 'ns': 0.9624,\n",
       " 'tau': 0.0952,\n",
       " 'approx_nu': False,\n",
       " 'num_massive_neutrinos': 0,\n",
       " 'neutrino_mass': 0.0,\n",
       " 'Neffective': 3.046,\n",
       " 'DeltaNeff': 3.046,\n",
       " 'GammaNu': 0.71611,\n",
       " 'omega_neutrino': 0.0,\n",
       " 'omega_matter': 0.3457742021853691,\n",
       " 'omega_cold': 0.3457742021853691,\n",
       " 'photon_temperature': 2.7255,\n",
       " 'omega_photons': 0.0,\n",
       " 'omega_rad': 0.0,\n",
       " 'omega_de': 0.6542257978146309,\n",
       " 'omega_k': 0.0,\n",
       " 'omega_tot': 1.0}"
      ]
     },
     "metadata": {},
     "output_type": "display_data"
    }
   ],
   "source": [
    "cosmo.pars"
   ]
  },
  {
   "cell_type": "markdown",
   "metadata": {},
   "source": [
    "### Linear sim"
   ]
  },
  {
   "cell_type": "code",
   "execution_count": null,
   "metadata": {},
   "outputs": [
    {
     "data": {
      "image/png": "[encoded data removed]",
      "text/plain": [
       "<Figure size 600x450 with 1 Axes>"
      ]
     },
     "metadata": {},
     "output_type": "display_data"
    }
   ],
   "source": [
    "fig, ax = mpl.pyplot.subplots(figsize=(6, 4.5))\n",
    "\n",
    "ax.loglog(k_input, pk_input, label=r'$P(k)$')\n",
    "#ax.loglog(k, pk_lin['pk'], label=r'$P(k)$')\n",
    "\n",
    "ax.set_xlabel(r'$k \\,\\, [h \\,\\, {\\rm Mpc}^{-1}]$', fontsize=23)\n",
    "ax.set_ylabel(r'$P(k) \\,\\, [h^{-3} \\,\\, {\\rm Mpc}^3]$', fontsize=23)\n",
    "\n",
    "# ax.set_xlim(1e-2, 0.4)\n",
    "# ax.set_ylim(1e3, 5e5)\n",
    "\n",
    "plt.legend()\n",
    "\n",
    "mpl.pyplot.tight_layout()\n",
    "mpl.pyplot.show()"
   ]
  },
  {
   "cell_type": "code",
   "execution_count": null,
   "metadata": {},
   "outputs": [],
   "source": []
  }
 ],
 "metadata": {
  "kernelspec": {
   "display_name": "mlenv",
   "language": "python",
   "name": "python3"
  },
  "language_info": {
   "codemirror_mode": {
    "name": "ipython",
    "version": 3
   },
   "file_extension": ".py",
   "mimetype": "text/x-python",
   "name": "python",
   "nbconvert_exporter": "python",
   "pygments_lexer": "ipython3",
   "version": "3.11.5"
  }
 },
 "nbformat": 4,
 "nbformat_minor": 2
}
