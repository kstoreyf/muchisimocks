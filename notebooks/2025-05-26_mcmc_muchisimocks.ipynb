{
 "cells": [
  {
   "cell_type": "code",
   "execution_count": 5,
   "id": "36e4973d",
   "metadata": {},
   "outputs": [
    {
     "name": "stdout",
     "output_type": "stream",
     "text": [
      "The autoreload extension is already loaded. To reload it, use:\n",
      "  %reload_ext autoreload\n"
     ]
    }
   ],
   "source": [
    "import numpy as np\n",
    "import matplotlib as mpl\n",
    "from matplotlib import pyplot as plt\n",
    "import os\n",
    "import pandas as pd\n",
    "import pickle\n",
    "import yaml\n",
    "\n",
    "import bacco\n",
    "import baccoemu\n",
    "\n",
    "import sys\n",
    "sys.path.append('/dipc/kstoreyf/muchisimocks/scripts')\n",
    "import data_loader\n",
    "import plotter\n",
    "import plot_utils\n",
    "import utils\n",
    "import generate_params_lh as gplh\n",
    "\n",
    "%load_ext autoreload\n",
    "%autoreload 2"
   ]
  },
  {
   "cell_type": "code",
   "execution_count": 2,
   "id": "b04bc63d",
   "metadata": {},
   "outputs": [],
   "source": [
    "%matplotlib inline\n",
    "mpl.pyplot.style.use('default')\n",
    "mpl.pyplot.close('all')\n",
    "\n",
    "font, rcnew = plot_utils.matplotlib_default_config()\n",
    "mpl.rc('font', **font)\n",
    "mpl.pyplot.rcParams.update(rcnew)\n",
    "mpl.pyplot.style.use('tableau-colorblind10')\n",
    "%config InlineBackend.figure_format = 'retina'\n",
    "\n",
    "mpl.rcParams['xtick.labelsize'] = 12\n",
    "mpl.rcParams['ytick.labelsize'] = 12"
   ]
  },
  {
   "cell_type": "code",
   "execution_count": null,
   "id": "1645ee85",
   "metadata": {},
   "outputs": [],
   "source": [
    "tag_params = '_quijote_p0_n1000'\n",
    "tag_biasparams = '_b1000_p0_n1'\n",
    "n_rlzs_per_cosmo = 1\n",
    "\n",
    "# Parameters to vary\n",
    "n_cosmo_params_vary = 5  # Number of cosmological parameters to vary\n",
    "n_bias_params_vary = 0  # Number of bias parameters to vary\n",
    "cosmo_param_names_vary = utils.cosmo_param_names_ordered[:n_cosmo_params_vary]\n",
    "bias_param_names_vary = utils.biasparam_names_ordered[:n_bias_params_vary]"
   ]
  },
  {
   "cell_type": "code",
   "execution_count": 6,
   "id": "94aa81e2",
   "metadata": {},
   "outputs": [],
   "source": [
    "config = '../configs/configs_runlike/config_muchisimocks_pk_quijote_p0_n1000_b1000_p0_n1_mean_pvary5_bvary0.yaml'\n",
    "with open(config, \"r\") as file:\n",
    "    config = yaml.safe_load(file)"
   ]
  },
  {
   "cell_type": "code",
   "execution_count": 7,
   "id": "a96d4d84",
   "metadata": {},
   "outputs": [],
   "source": [
    "mcmc_framework = config.get('mcmc_framework', 'dynesty')\n",
    "idxs_obs = config.get('idxs_obs', [0])\n",
    "evaluate_mean = config.get('evaluate_mean', False)\n",
    "data_mode = config['data_mode']\n",
    "statistics = config['statistics']\n",
    "tag_params = config['tag_params']\n",
    "tag_biasparams = config['tag_biasparams']\n",
    "tag_data = config.get('tag_data', None)\n",
    "tag_inf = config['tag_inf']\n",
    "cosmo_param_names_vary = config.get('cosmo_param_names_vary', [])\n",
    "bias_param_names_vary = config.get('bias_param_names_vary', [])\n",
    "kwargs_data = config.get('kwargs_data', {})"
   ]
  },
  {
   "cell_type": "code",
   "execution_count": 18,
   "id": "81fb0e61",
   "metadata": {},
   "outputs": [],
   "source": [
    "data_mode = 'muchisimocks'\n",
    "# tag_params = '_p5_n10000'\n",
    "# tag_biasparams = '_biaszen_p4_n10000'\n",
    "n_train = 10000\n",
    "statistics = ['pk']\n",
    "tag_stats = \"_\".join(statistics)\n",
    "\n",
    "# muchisimocks_pk_p5_n10000_biaszen_p4_n10000_ntrain10000\n",
    "tags_inf = [\n",
    "             #f'_{data_mode}{tag_stats}{tag_params}{tag_biasparams}_ntrain{n_train}' for tag_stats in tag_stats_arr\n",
    "             tag_inf,\n",
    "            ]\n",
    "inf_methods = ['dynesty']*len(tags_inf)\n",
    "labels_extra = [\n",
    "            '',\n",
    "                ]"
   ]
  },
  {
   "cell_type": "code",
   "execution_count": 19,
   "id": "ad6cbbcd",
   "metadata": {},
   "outputs": [
    {
     "name": "stdout",
     "output_type": "stream",
     "text": [
      "(5,)\n"
     ]
    }
   ],
   "source": [
    "# load fixed-cosmo test set\n",
    "tag_params_test = '_quijote_p0_n1000'\n",
    "tag_biasparams_test = '_b1000_p0_n1'\n",
    "tag_datagen_test = ''\n",
    "theta_test_fixed = data_loader.load_theta_test(tag_params_test, tag_biasparams_test, \n",
    "                                cosmo_param_names_vary=cosmo_param_names_vary, bias_param_names_vary=bias_param_names_vary)\n",
    "param_names_vary = cosmo_param_names_vary + bias_param_names_vary\n",
    "print(theta_test_fixed.shape)\n",
    "\n",
    "# get bounds\n",
    "_, dict_bounds_cosmo, _ = gplh.define_LH_cosmo(tag_params)\n",
    "_, dict_bounds_bias, _ = gplh.define_LH_bias(tag_biasparams)\n",
    "extents = {**dict_bounds_cosmo, **dict_bounds_bias}"
   ]
  },
  {
   "cell_type": "code",
   "execution_count": 20,
   "id": "fe86e585",
   "metadata": {},
   "outputs": [],
   "source": [
    "colors = ['purple']"
   ]
  },
  {
   "cell_type": "code",
   "execution_count": 21,
   "id": "d7067af0",
   "metadata": {},
   "outputs": [
    {
     "name": "stdout",
     "output_type": "stream",
     "text": [
      "[0.3175 0.834  0.6711 0.9624 0.049 ]\n"
     ]
    },
    {
     "ename": "FileNotFoundError",
     "evalue": "[Errno 2] No such file or directory: '../results/results_dynesty/samplers_muchisimocks_pk_quijote_p0_n1000_b1000_p0_n1_mean_pvary5_bvary0/sampler_results_idx0.npy'",
     "output_type": "error",
     "traceback": [
      "\u001b[0;31m---------------------------------------------------------------------------\u001b[0m",
      "\u001b[0;31mFileNotFoundError\u001b[0m                         Traceback (most recent call last)",
      "Cell \u001b[0;32mIn[21], line 11\u001b[0m\n\u001b[1;32m      9\u001b[0m param_names_show \u001b[38;5;241m=\u001b[39m config[\u001b[38;5;124m'\u001b[39m\u001b[38;5;124mcosmo_param_names_vary\u001b[39m\u001b[38;5;124m'\u001b[39m]\n\u001b[1;32m     10\u001b[0m theta_test_fixed_show \u001b[38;5;241m=\u001b[39m theta_test_fixed[[i \u001b[38;5;28;01mfor\u001b[39;00m i, name \u001b[38;5;129;01min\u001b[39;00m \u001b[38;5;28menumerate\u001b[39m(param_names_vary) \u001b[38;5;28;01mif\u001b[39;00m name \u001b[38;5;129;01min\u001b[39;00m param_names_show]]\n\u001b[0;32m---> 11\u001b[0m \u001b[43mplotter\u001b[49m\u001b[38;5;241;43m.\u001b[39;49m\u001b[43mplot_contours_inf\u001b[49m\u001b[43m(\u001b[49m\u001b[43mparam_names_show\u001b[49m\u001b[43m,\u001b[49m\u001b[43m \u001b[49m\u001b[43midx_obs\u001b[49m\u001b[43m,\u001b[49m\u001b[43m \u001b[49m\u001b[43mtheta_test_fixed_show\u001b[49m\u001b[43m,\u001b[49m\u001b[43m \u001b[49m\n\u001b[1;32m     12\u001b[0m \u001b[43m                        \u001b[49m\u001b[43minf_methods\u001b[49m\u001b[43m,\u001b[49m\u001b[43m \u001b[49m\u001b[43mtags_inf\u001b[49m\u001b[43m,\u001b[49m\u001b[43m \u001b[49m\u001b[43mtags_test\u001b[49m\u001b[38;5;241;43m=\u001b[39;49m\u001b[43mtags_test\u001b[49m\u001b[43m,\u001b[49m\n\u001b[1;32m     13\u001b[0m \u001b[43m                        \u001b[49m\u001b[43mcolors\u001b[49m\u001b[38;5;241;43m=\u001b[39;49m\u001b[43mcolors\u001b[49m\u001b[43m,\u001b[49m\u001b[43m \u001b[49m\u001b[43mlabels_extra\u001b[49m\u001b[38;5;241;43m=\u001b[39;49m\u001b[43mlabels_extra\u001b[49m\u001b[43m,\u001b[49m\n\u001b[1;32m     14\u001b[0m \u001b[43m                        \u001b[49m\u001b[43mtitle\u001b[49m\u001b[38;5;241;43m=\u001b[39;49m\u001b[43mtitle\u001b[49m\u001b[43m,\u001b[49m\u001b[43m \u001b[49m\u001b[43mextents\u001b[49m\u001b[38;5;241;43m=\u001b[39;49m\u001b[43mextents\u001b[49m\u001b[43m)\u001b[49m\n",
      "File \u001b[0;32m/dipc/kstoreyf/muchisimocks/scripts/plotter.py:276\u001b[0m, in \u001b[0;36mplot_contours_inf\u001b[0;34m(param_names, idx_obs, theta_obs_true, inf_methods, tags_inf, tags_test, colors, labels, labels_extra, figsize, extents, title)\u001b[0m\n\u001b[1;32m    274\u001b[0m \u001b[38;5;28;01melse\u001b[39;00m:\n\u001b[1;32m    275\u001b[0m     tag_test \u001b[38;5;241m=\u001b[39m tags_test[i]\n\u001b[0;32m--> 276\u001b[0m samples, param_names_samples \u001b[38;5;241m=\u001b[39m \u001b[43mutils\u001b[49m\u001b[38;5;241;43m.\u001b[39;49m\u001b[43mget_samples\u001b[49m\u001b[43m(\u001b[49m\u001b[43midx_obs\u001b[49m\u001b[43m,\u001b[49m\u001b[43m \u001b[49m\u001b[43minf_method\u001b[49m\u001b[43m,\u001b[49m\u001b[43m \u001b[49m\u001b[43mtags_inf\u001b[49m\u001b[43m[\u001b[49m\u001b[43mi\u001b[49m\u001b[43m]\u001b[49m\u001b[43m,\u001b[49m\u001b[43m \u001b[49m\u001b[43mtag_test\u001b[49m\u001b[38;5;241;43m=\u001b[39;49m\u001b[43mtag_test\u001b[49m\u001b[43m)\u001b[49m\n\u001b[1;32m    277\u001b[0m i_pn \u001b[38;5;241m=\u001b[39m [\u001b[38;5;28mlist\u001b[39m(param_names_samples)\u001b[38;5;241m.\u001b[39mindex(pn) \u001b[38;5;28;01mfor\u001b[39;00m pn \u001b[38;5;129;01min\u001b[39;00m param_names]\n\u001b[1;32m    278\u001b[0m samples_arr\u001b[38;5;241m.\u001b[39mappend(samples[:,i_pn])\n",
      "File \u001b[0;32m/dipc/kstoreyf/muchisimocks/scripts/utils.py:161\u001b[0m, in \u001b[0;36mget_samples\u001b[0;34m(idx_obs, inf_method, tag_inf, tag_test, tag_obs)\u001b[0m\n\u001b[1;32m    159\u001b[0m     \u001b[38;5;28;01mreturn\u001b[39;00m get_samples_emcee(idx_obs, tag_inf, tag_obs\u001b[38;5;241m=\u001b[39mtag_obs)\n\u001b[1;32m    160\u001b[0m \u001b[38;5;28;01melif\u001b[39;00m inf_method \u001b[38;5;241m==\u001b[39m \u001b[38;5;124m'\u001b[39m\u001b[38;5;124mdynesty\u001b[39m\u001b[38;5;124m'\u001b[39m:\n\u001b[0;32m--> 161\u001b[0m     \u001b[38;5;28;01mreturn\u001b[39;00m \u001b[43mget_samples_dynesty\u001b[49m\u001b[43m(\u001b[49m\u001b[43midx_obs\u001b[49m\u001b[43m,\u001b[49m\u001b[43m \u001b[49m\u001b[43mtag_inf\u001b[49m\u001b[43m,\u001b[49m\u001b[43m \u001b[49m\u001b[43mtag_obs\u001b[49m\u001b[38;5;241;43m=\u001b[39;49m\u001b[43mtag_obs\u001b[49m\u001b[43m)\u001b[49m\n\u001b[1;32m    162\u001b[0m \u001b[38;5;28;01melse\u001b[39;00m:\n\u001b[1;32m    163\u001b[0m     \u001b[38;5;28;01mraise\u001b[39;00m \u001b[38;5;167;01mValueError\u001b[39;00m(\u001b[38;5;124mf\u001b[39m\u001b[38;5;124m'\u001b[39m\u001b[38;5;124mMethod \u001b[39m\u001b[38;5;132;01m{\u001b[39;00minf_method\u001b[38;5;132;01m}\u001b[39;00m\u001b[38;5;124m not recognized!\u001b[39m\u001b[38;5;124m'\u001b[39m)\n",
      "File \u001b[0;32m/dipc/kstoreyf/muchisimocks/scripts/utils.py:258\u001b[0m, in \u001b[0;36mget_samples_dynesty\u001b[0;34m(idx_obs, tag_inf, tag_obs)\u001b[0m\n\u001b[1;32m    256\u001b[0m     tag_obs \u001b[38;5;241m=\u001b[39m \u001b[38;5;124mf\u001b[39m\u001b[38;5;124m'\u001b[39m\u001b[38;5;124m_idx\u001b[39m\u001b[38;5;132;01m{\u001b[39;00midx_obs\u001b[38;5;132;01m}\u001b[39;00m\u001b[38;5;124m'\u001b[39m\n\u001b[1;32m    257\u001b[0m fn_dynesty \u001b[38;5;241m=\u001b[39m \u001b[38;5;124mf\u001b[39m\u001b[38;5;124m'\u001b[39m\u001b[38;5;132;01m{\u001b[39;00mdir_dynesty\u001b[38;5;132;01m}\u001b[39;00m\u001b[38;5;124m/sampler_results\u001b[39m\u001b[38;5;132;01m{\u001b[39;00mtag_obs\u001b[38;5;132;01m}\u001b[39;00m\u001b[38;5;124m.npy\u001b[39m\u001b[38;5;124m'\u001b[39m\n\u001b[0;32m--> 258\u001b[0m results_dynesty \u001b[38;5;241m=\u001b[39m \u001b[43mnp\u001b[49m\u001b[38;5;241;43m.\u001b[39;49m\u001b[43mload\u001b[49m\u001b[43m(\u001b[49m\u001b[43mfn_dynesty\u001b[49m\u001b[43m,\u001b[49m\u001b[43m \u001b[49m\u001b[43mallow_pickle\u001b[49m\u001b[38;5;241;43m=\u001b[39;49m\u001b[38;5;28;43;01mTrue\u001b[39;49;00m\u001b[43m)\u001b[49m\u001b[38;5;241m.\u001b[39mitem()\n\u001b[1;32m    260\u001b[0m \u001b[38;5;66;03m# doesn't work upon reload for some reason\u001b[39;00m\n\u001b[1;32m    261\u001b[0m \u001b[38;5;66;03m#samples_dynesty = results_dynesty.samples_equal()\u001b[39;00m\n\u001b[1;32m    263\u001b[0m \u001b[38;5;28;01mfrom\u001b[39;00m \u001b[38;5;21;01mdynesty\u001b[39;00m\u001b[38;5;21;01m.\u001b[39;00m\u001b[38;5;21;01mutils\u001b[39;00m \u001b[38;5;28;01mimport\u001b[39;00m resample_equal\n",
      "File \u001b[0;32m~/.conda/envs/benv/lib/python3.11/site-packages/numpy/lib/npyio.py:427\u001b[0m, in \u001b[0;36mload\u001b[0;34m(file, mmap_mode, allow_pickle, fix_imports, encoding, max_header_size)\u001b[0m\n\u001b[1;32m    425\u001b[0m     own_fid \u001b[38;5;241m=\u001b[39m \u001b[38;5;28;01mFalse\u001b[39;00m\n\u001b[1;32m    426\u001b[0m \u001b[38;5;28;01melse\u001b[39;00m:\n\u001b[0;32m--> 427\u001b[0m     fid \u001b[38;5;241m=\u001b[39m stack\u001b[38;5;241m.\u001b[39menter_context(\u001b[38;5;28;43mopen\u001b[39;49m\u001b[43m(\u001b[49m\u001b[43mos_fspath\u001b[49m\u001b[43m(\u001b[49m\u001b[43mfile\u001b[49m\u001b[43m)\u001b[49m\u001b[43m,\u001b[49m\u001b[43m \u001b[49m\u001b[38;5;124;43m\"\u001b[39;49m\u001b[38;5;124;43mrb\u001b[39;49m\u001b[38;5;124;43m\"\u001b[39;49m\u001b[43m)\u001b[49m)\n\u001b[1;32m    428\u001b[0m     own_fid \u001b[38;5;241m=\u001b[39m \u001b[38;5;28;01mTrue\u001b[39;00m\n\u001b[1;32m    430\u001b[0m \u001b[38;5;66;03m# Code to distinguish from NumPy binary files and pickles.\u001b[39;00m\n",
      "\u001b[0;31mFileNotFoundError\u001b[0m: [Errno 2] No such file or directory: '../results/results_dynesty/samplers_muchisimocks_pk_quijote_p0_n1000_b1000_p0_n1_mean_pvary5_bvary0/sampler_results_idx0.npy'"
     ]
    }
   ],
   "source": [
    "print(theta_test_fixed)\n",
    "idx_obs = 0\n",
    "title = 'recovery test: mean of 1000 fixed cosmo mocks'\n",
    "tags_test = [tag_inf]\n",
    "\n",
    "\n",
    "#tags_test = [f'{tag_data_test_fixed}_mean']*len(tags_inf)\n",
    "# doing utils.biasparam_names_ordered here instead of bias_param_names_vary in case some param sets don't vary all the bias params but we want to show them on the same plot\n",
    "param_names_show = config['cosmo_param_names_vary']\n",
    "theta_test_fixed_show = theta_test_fixed[[i for i, name in enumerate(param_names_vary) if name in param_names_show]]\n",
    "plotter.plot_contours_inf(param_names_show, idx_obs, theta_test_fixed_show, \n",
    "                        inf_methods, tags_inf, tags_test=tags_test,\n",
    "                        colors=colors, labels_extra=labels_extra,\n",
    "                        title=title, extents=extents)"
   ]
  },
  {
   "cell_type": "code",
   "execution_count": null,
   "id": "1f6e06fe",
   "metadata": {},
   "outputs": [],
   "source": []
  }
 ],
 "metadata": {
  "kernelspec": {
   "display_name": "benv",
   "language": "python",
   "name": "python3"
  },
  "language_info": {
   "codemirror_mode": {
    "name": "ipython",
    "version": 3
   },
   "file_extension": ".py",
   "mimetype": "text/x-python",
   "name": "python",
   "nbconvert_exporter": "python",
   "pygments_lexer": "ipython3",
   "version": "3.11.9"
  }
 },
 "nbformat": 4,
 "nbformat_minor": 5
}
