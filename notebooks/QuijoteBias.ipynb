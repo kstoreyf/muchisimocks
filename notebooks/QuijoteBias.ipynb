{
 "cells": [
  {
   "cell_type": "code",
   "execution_count": 1,
   "id": "da4c256a-5f7b-43e5-9e5e-e6a240156d07",
   "metadata": {},
   "outputs": [],
   "source": [
    "import bacco\n",
    "import numpy as np\n",
    "import matplotlib.pyplot as plt\n",
    "import pickle5 as pickle\n",
    "bacco.plotting.set_defaults(useTex=False)"
   ]
  },
  {
   "cell_type": "code",
   "execution_count": 165,
   "id": "781df237-dbcb-4a50-9cf7-46a702f7f795",
   "metadata": {},
   "outputs": [
    {
     "data": {
      "text/plain": [
       "0"
      ]
     },
     "execution_count": 165,
     "metadata": {},
     "output_type": "execute_result"
    }
   ],
   "source": []
  },
  {
   "cell_type": "markdown",
   "id": "8e8e63ad-b0e1-4380-906c-bcc1ca03b48a",
   "metadata": {
    "jp-MarkdownHeadingCollapsed": true,
    "tags": []
   },
   "source": [
    "# readgadget"
   ]
  },
  {
   "cell_type": "code",
   "execution_count": 2,
   "id": "558275f8-2921-45d7-a75d-5a7509ea3372",
   "metadata": {},
   "outputs": [],
   "source": [
    "# This library is designed to read Gadget format I, format II and hdf5 files\n",
    "import numpy as np\n",
    "import readsnap\n",
    "import sys,os,h5py,hdf5plugin\n",
    "\n",
    "# find snapshot name and format\n",
    "def fname_format(snapshot):\n",
    "    if os.path.exists(snapshot):\n",
    "        if snapshot[-4:]=='hdf5':  filename, fformat = snapshot, 'hdf5'\n",
    "        else:                      filename, fformat = snapshot, 'binary'\n",
    "    elif os.path.exists(snapshot+'.0'):\n",
    "        filename, fformat = snapshot+'.0', 'binary'\n",
    "    elif os.path.exists(snapshot+'.hdf5'):\n",
    "        filename, fformat = snapshot+'.hdf5', 'hdf5'\n",
    "    elif os.path.exists(snapshot+'.0.hdf5'):\n",
    "        filename, fformat = snapshot+'.0.hdf5', 'hdf5'\n",
    "    else:  raise Exception('File not found!')\n",
    "    return filename,fformat\n",
    "\n",
    "\n",
    "# This class reads the header of the gadget file\n",
    "class header:\n",
    "    def __init__(self, snapshot):\n",
    "\n",
    "        filename, fformat = fname_format(snapshot)\n",
    "\n",
    "        if fformat=='hdf5':\n",
    "            f             = h5py.File(filename, 'r')\n",
    "            \n",
    "            self.time     = f['Header'].attrs[u'Time']\n",
    "            self.redshift = f['Header'].attrs[u'Redshift']\n",
    "            self.npart    = (f['Header'].attrs[u'NumPart_ThisFile']).astype(np.int64)\n",
    "            self.nall     = (f['Header'].attrs[u'NumPart_Total']).astype(np.int64)\n",
    "            self.filenum  = int(f['Header'].attrs[u'NumFilesPerSnapshot'])\n",
    "            self.massarr  = f['Header'].attrs[u'MassTable']\n",
    "            self.boxsize  = f['Header'].attrs[u'BoxSize']\n",
    "\n",
    "            # check if it is a SWIFT snapshot\n",
    "            if '/Cosmology' in f.keys():\n",
    "                self.omega_m  = f['Cosmology'].attrs[u'Omega_m']\n",
    "                self.omega_l  = f['Cosmology'].attrs[u'Omega_lambda']\n",
    "                self.hubble   = f['Cosmology'].attrs[u'h']\n",
    "\n",
    "            # check if it is a Gadget-4 snapshot\n",
    "            elif '/Parameters' in f.keys():\n",
    "                self.omega_m  = f['Parameters'].attrs[u'Omega0']\n",
    "                self.omega_l  = f['Parameters'].attrs[u'OmegaLambda']\n",
    "                self.hubble   = f['Parameters'].attrs[u'HubbleParam']\n",
    "                #self.cooling  = f['Parameters'].attrs[u'Flag_Cooling']\n",
    "\n",
    "            # if it is a traditional Gadget-1/2/3 snapshot\n",
    "            else:\n",
    "                self.omega_m  = f['Header'].attrs[u'Omega0']\n",
    "                self.omega_l  = f['Header'].attrs[u'OmegaLambda']\n",
    "                self.hubble   = f['Header'].attrs[u'HubbleParam']\n",
    "                #self.cooling  = f['Header'].attrs[u'Flag_Cooling']\n",
    "\n",
    "            self.format   = 'hdf5'\n",
    "            f.close()\n",
    "\n",
    "        else:        \n",
    "            head = readsnap.snapshot_header(filename)\n",
    "            self.time     = head.time\n",
    "            self.redshift = head.redshift\n",
    "            self.boxsize  = head.boxsize\n",
    "            self.filenum  = head.filenum\n",
    "            self.omega_m  = head.omega_m\n",
    "            self.omega_l  = head.omega_l\n",
    "            self.hubble   = head.hubble\n",
    "            self.massarr  = head.massarr\n",
    "            self.npart    = head.npart\n",
    "            self.nall     = head.nall\n",
    "            self.cooling  = head.cooling\n",
    "            self.format   = head.format\n",
    "\n",
    "        # km/s/(Mpc/h)\n",
    "        self.Hubble = 100.0*np.sqrt(self.omega_m*(1.0+self.redshift)**3+self.omega_l)\n",
    "\n",
    "\n",
    "# This function reads a block of an individual file of a gadget snapshot\n",
    "def read_field(snapshot, block, ptype):\n",
    "\n",
    "    filename, fformat = fname_format(snapshot)\n",
    "    head              = header(filename)\n",
    "    Masses            = head.massarr*1e10 #Msun/h                  \n",
    "    Npart             = head.npart        #number of particles in the subfile\n",
    "    Nall              = head.nall         #total number of particles in the snapshot\n",
    "    \n",
    "    if fformat==\"binary\":\n",
    "        return readsnap.read_block(filename, block, parttype=ptype)\n",
    "    else:\n",
    "        prefix = 'PartType%d/'%ptype\n",
    "        f = h5py.File(filename, 'r')\n",
    "        if   block==\"POS \":  suffix = \"Coordinates\"\n",
    "        elif block==\"MASS\":  suffix = \"Masses\"\n",
    "        elif block==\"ID  \":  suffix = \"ParticleIDs\"\n",
    "        elif block==\"VEL \":  suffix = \"Velocities\"\n",
    "        else: raise Exception('block not implemented in readgadget!')\n",
    "\n",
    "        if '%s%s'%(prefix,suffix) not in f.keys():\n",
    "            if Masses[ptype] != 0.0:\n",
    "                array = np.ones(Npart[ptype], np.float32)*Masses[ptype]\n",
    "            else:\n",
    "                raise Exception('Problem reading the block %s'%block)\n",
    "        else:\n",
    "            array = f[prefix+suffix][:]\n",
    "        f.close()\n",
    "\n",
    "        if block==\"VEL \":  array *= np.sqrt(head.time)\n",
    "        if block==\"POS \" and array.dtype==np.float64:\n",
    "            array = array.astype(np.float32)\n",
    "\n",
    "        return array\n",
    "\n",
    "# This function reads a block from an entire gadget snapshot (all files)\n",
    "# it can read several particle types at the same time. \n",
    "# ptype has to be a list. E.g. ptype=[1], ptype=[1,2], ptype=[0,1,2,3,4,5]\n",
    "def read_block(snapshot, block, ptype, verbose=False):\n",
    "\n",
    "    # find the format of the file and read header\n",
    "    filename, fformat = fname_format(snapshot)\n",
    "    head    = header(filename)    \n",
    "    Nall    = head.nall\n",
    "    filenum = head.filenum\n",
    "\n",
    "    # find the total number of particles to read\n",
    "    Ntotal = 0\n",
    "    for i in ptype:\n",
    "        Ntotal += Nall[i]\n",
    "\n",
    "    # find the dtype of the block\n",
    "    if   block==\"POS \":  dtype=np.dtype((np.float32,3))\n",
    "    elif block==\"VEL \":  dtype=np.dtype((np.float32,3))\n",
    "    elif block==\"MASS\":  dtype=np.float32\n",
    "    elif block==\"ID  \":  dtype=read_field(filename, block, ptype[0]).dtype\n",
    "    else: raise Exception('block not implemented in readgadget!')\n",
    "\n",
    "    # define the array containing the data\n",
    "    array = np.zeros(Ntotal, dtype=dtype)\n",
    "\n",
    "\n",
    "    # do a loop over the different particle types\n",
    "    offset = 0\n",
    "    for pt in ptype:\n",
    "\n",
    "        # format I or format II Gadget files\n",
    "        if fformat==\"binary\":\n",
    "            array[offset:offset+Nall[pt]] = \\\n",
    "                readsnap.read_block(snapshot, block, pt, verbose=verbose)\n",
    "            offset += Nall[pt]\n",
    "\n",
    "        # single files (either binary or hdf5)\n",
    "        elif filenum==1:\n",
    "            array[offset:offset+Nall[pt]] = read_field(snapshot, block, pt)\n",
    "            offset += Nall[pt]\n",
    "\n",
    "        # multi-file hdf5 snapshot\n",
    "        else:\n",
    "\n",
    "            # do a loop over the different files\n",
    "            for i in range(filenum):\n",
    "                \n",
    "                # find the name of the file to read\n",
    "                filename = '%s.%d.hdf5'%(snapshot,i)\n",
    "\n",
    "                # read number of particles in the file and read the data\n",
    "                npart = header(filename).npart[pt]\n",
    "                array[offset:offset+npart] = read_field(filename, block, pt)\n",
    "                offset += npart   \n",
    "\n",
    "    if offset!=Ntotal:  raise Exception('not all particles read!!!!')\n",
    "            \n",
    "    return array"
   ]
  },
  {
   "cell_type": "markdown",
   "id": "a403bc4d-af41-4be9-ba34-e2039cdeebf3",
   "metadata": {},
   "source": [
    "# Loading Quijote"
   ]
  },
  {
   "cell_type": "code",
   "execution_count": 188,
   "id": "d5b23e80-5df8-44c4-bba3-24088648f73d",
   "metadata": {
    "tags": []
   },
   "outputs": [
    {
     "name": "stderr",
     "output_type": "stream",
     "text": [
      "2024-08-14 15:03:29,800 bacco.sims : Initialising simulation Default\n",
      "2024-08-14 15:03:29,800 bacco.sims : try /dipc/reangulo/tmp/663_HR/ICs/ics\n",
      "2024-08-14 15:03:29,803 bacco.sims : Loading /dipc/reangulo/tmp/663_HR/ICs/ics\n",
      "2024-08-14 15:03:29,806 bacco.cosmo :    initialization took 0.000 secs\n",
      "2024-08-14 15:03:30,468 bacco.sims : ...done in 0.00656 s\n",
      "Exception ignored in: <function Simulation.__del__ at 0x2b4183b74430>\n",
      "Traceback (most recent call last):\n",
      "  File \"/scratch/reangulo/work_edr/baccogit/bacco/simulation.py\", line 596, in __del__\n",
      "    self.cleanup()\n",
      "  File \"/scratch/reangulo/work_edr/baccogit/bacco/simulation.py\", line 10658, in cleanup\n",
      "    self.Cosmology.cleanup()\n",
      "AttributeError: 'Simulation' object has no attribute 'Cosmology'\n",
      "2024-08-14 15:03:31,012 bacco.sims : Initialising simulation Default\n",
      "2024-08-14 15:03:31,012 bacco.sims : try /dipc/reangulo/tmp/663_HR/snapdir_004/snap_004\n",
      "2024-08-14 15:03:31,015 bacco.sims : Loading /dipc/reangulo/tmp/663_HR/snapdir_004/snap_004\n",
      "2024-08-14 15:03:31,017 bacco.cosmo :    initialization took 0.000 secs\n",
      "2024-08-14 15:03:31,024 bacco.sims : ...done in 0.00556 s\n",
      "2024-08-14 15:03:31,030 bacco.sims : Read data for 136100136/1073741824 particles...\n"
     ]
    },
    {
     "name": "stdout",
     "output_type": "stream",
     "text": [
      "/dipc/reangulo/tmp/663_HR/snapdir_004/snap_004.0.hdf5\n"
     ]
    },
    {
     "name": "stderr",
     "output_type": "stream",
     "text": [
      "2024-08-14 15:03:38,963 bacco.sims : Read data for 136100136/1073741824 particles...\n",
      "2024-08-14 15:03:38,968 bacco.sims : Read data for 134427762/1073741824 particles...\n",
      "2024-08-14 15:03:46,521 bacco.sims : Read data for 134427762/1073741824 particles...\n",
      "2024-08-14 15:03:46,525 bacco.sims : Read data for 133741847/1073741824 particles...\n",
      "2024-08-14 15:03:53,968 bacco.sims : Read data for 133741847/1073741824 particles...\n",
      "2024-08-14 15:03:53,972 bacco.sims : Read data for 133629286/1073741824 particles...\n",
      "2024-08-14 15:04:01,279 bacco.sims : Read data for 133629286/1073741824 particles...\n",
      "2024-08-14 15:04:01,283 bacco.sims : Read data for 133519677/1073741824 particles...\n",
      "2024-08-14 15:04:08,567 bacco.sims : Read data for 133519677/1073741824 particles...\n",
      "2024-08-14 15:04:08,571 bacco.sims : Read data for 133635908/1073741824 particles...\n",
      "2024-08-14 15:04:16,148 bacco.sims : Read data for 133635908/1073741824 particles...\n",
      "2024-08-14 15:04:16,153 bacco.sims : Read data for 133958794/1073741824 particles...\n",
      "2024-08-14 15:04:23,545 bacco.sims : Read data for 133958794/1073741824 particles...\n",
      "2024-08-14 15:04:23,550 bacco.sims : Read data for 134728414/1073741824 particles...\n",
      "2024-08-14 15:04:31,065 bacco.sims : Read data for 134728414/1073741824 particles...\n",
      "2024-08-14 15:04:38,109 bacco.sims :  DM loading done in 67.1 sec\n",
      "2024-08-14 15:04:41,573 bacco.sims : Computing  P(k)\n",
      "2024-08-14 15:04:41,573 bacco.statistics : Computing the power spectrum with ngrid=256 and interlacing=True\n",
      "2024-08-14 15:04:42,354 bacco.cosmo :    computed CLASS power spectrum at z=0.00 in 0.780 secs\n",
      "2024-08-14 15:04:42,355 bacco.cosmo :    created Pk(z=0) tab from k 0.0007014999999999996 to 100000.0 h/Mpc\n",
      "2024-08-14 15:04:42,358 bacco.cosmo :    computed boundary conditions for reps using CLASS in 0.00143 secs\n",
      "2024-08-14 15:04:42,481 bacco.cosmo :    computed halofit at z=0.00 for 'Default' in 0.002 secs\n",
      "2024-08-14 15:04:42,482 bacco.statistics :  setting the grid 256 True\n",
      "2024-08-14 15:04:42,482 bacco.statistics : Computing cic mesh with ngrid=256 and interlacing=True\n",
      "2024-08-14 15:04:42,483 bacco.statistics : starting deposit 1\n",
      "2024-08-14 15:05:08,037 bacco.statistics :  mesh done in 25.6 s\n",
      "2024-08-14 15:05:08,040 bacco.statistics :  Starting the power spectrum calculation\n",
      "2024-08-14 15:05:08,322 bacco.statistics :  done compute.power\n",
      "2024-08-14 15:05:08,324 bacco.util : pk multipoles at k 0.010481130666019545 set to zero: it seems you have a lot of bins for this grid size\n",
      "2024-08-14 15:05:08,325 bacco.util : pk multipoles at k 0.01151395323963562 set to zero: it seems you have a lot of bins for this grid size\n",
      "/scratch/reangulo/work_edr/baccogit/bacco/statistics.py:1931: RankWarning: Polyfit may be poorly conditioned\n",
      "  multi, p2ds, moments=pkmulti(k, mu, p2d, nmodes=nmodes)\n",
      "/scratch/reangulo/work_edr/baccogit/bacco/statistics.py:1931: RankWarning: Polyfit may be poorly conditioned\n",
      "  multi, p2ds, moments=pkmulti(k, mu, p2d, nmodes=nmodes)\n",
      "/scratch/reangulo/work_edr/baccogit/bacco/statistics.py:1931: RankWarning: Polyfit may be poorly conditioned\n",
      "  multi, p2ds, moments=pkmulti(k, mu, p2d, nmodes=nmodes)\n",
      "2024-08-14 15:05:08,330 bacco.util : pk multipoles at k 0.016768328203371985 set to zero: it seems you have a lot of bins for this grid size\n",
      "/scratch/reangulo/work_edr/baccogit/bacco/statistics.py:1931: RankWarning: Polyfit may be poorly conditioned\n",
      "  multi, p2ds, moments=pkmulti(k, mu, p2d, nmodes=nmodes)\n",
      "2024-08-14 15:05:08,393 bacco.util : pk multipoles at k 1.0481130151536422 set to zero: it seems you have a lot of bins for this grid size\n",
      "2024-08-14 15:05:08,394 bacco.statistics :  power done in 26.8 s\n"
     ]
    }
   ],
   "source": [
    "qsim, ngrid = \"663\", 512\n",
    "\n",
    "qsim, ngrid = \"663_HR\", 1024\n",
    "\n",
    "sim_ICs = bacco.Simulation(basedir=\"/dipc/reangulo/tmp/{0}/ICs/\".format(qsim), \n",
    "                       dm_file=\"ics\", sim_format=\"gadget_hdf5\", phase=0.00, fixedPk=False, UnitLength_in_cm=3.085678e+21,\n",
    "                       ns=0.960700, sigma8=0.831100, seed=663, hubble=0.701500, omega_baryon=0.046250, tau=0.0952, timebegin=0.0078125)\n",
    "\n",
    "sim = bacco.Simulation(basedir=\"/dipc/reangulo/tmp/{0}/\".format(qsim), \n",
    "                       dm_file=\"snapdir_004/snap_004\", sim_format=\"gadget_hdf5\", phase=0.00, fixedPk=False, UnitLength_in_cm=3.085678e+21,\n",
    "                       ns=0.960700, sigma8=0.831100, seed=663, hubble=0.701500, omega_baryon=0.046250, tau=0.0952, timebegin=0.0078125)\n",
    "#sim.dm['pos'] = sim.dm['pos']/1000\n",
    "index_neigh = sim.dm['ids']-1\n",
    "pksim = sim.get_Power(kmin=0.01, kmax=1, nbins=50, log_binning=True, deposit_method='cic')\n"
   ]
  },
  {
   "cell_type": "code",
   "execution_count": 58,
   "id": "cc66ed83-11c4-43f3-b0ed-34c31e2fc6f9",
   "metadata": {},
   "outputs": [
    {
     "data": {
      "text/plain": [
       "4096"
      ]
     },
     "execution_count": 58,
     "metadata": {},
     "output_type": "execute_result"
    }
   ],
   "source": [
    "64**2"
   ]
  },
  {
   "cell_type": "code",
   "execution_count": 4,
   "id": "b37af566-cb66-4538-8c19-03a1445b1cdf",
   "metadata": {},
   "outputs": [],
   "source": [
    "q = bacco.visualization.uniform_grid(npix=ngrid, L=1000, ndim=3, bounds=False)\n",
    "disp = np.load(\"/cosmos_storage/home/mpelle/Yin_data/Quijote/LH0663/dis_0663.npy\")\n",
    "displ = np.zeros_like(q)\n",
    "displ[:,:,:,0] = disp[0]\n",
    "displ[:,:,:,1] = disp[1]\n",
    "displ[:,:,:,2] = disp[2]\n",
    "\n",
    "pp = (q + displ + 1000) % 1000\n",
    "pp = pp.reshape(512**3,3)\n"
   ]
  },
  {
   "cell_type": "markdown",
   "id": "cf5e92c1-94b5-40f2-a560-3857cda14865",
   "metadata": {},
   "source": [
    "## Validating the stored displacement fields"
   ]
  },
  {
   "cell_type": "code",
   "execution_count": 193,
   "id": "ca469e7d-1cd3-4621-a22b-40a1bea3e0ff",
   "metadata": {
    "tags": []
   },
   "outputs": [],
   "source": [
    "snapnum = 4\n",
    "ptype   = [1] \n",
    "BoxSize = 1000\n",
    "root    = \"/dipc/reangulo/tmp/\"\n",
    "ICs_snapshot = '%s/%s/ICs/ics'%(root,qsim)\n",
    "snapshot     = '%s/%s/snapdir_%03d/snap_%03d'%(root,qsim,snapnum,snapnum)\n",
    "\n",
    "# read the positions and IDs of the ICs\n",
    "pos_ICs = read_block(ICs_snapshot, \"POS \", ptype)/1e3 #Mpc/h\n",
    "IDs_ICs = read_block(ICs_snapshot, \"ID  \", ptype)-1   #IDs begin from 0\n",
    "\n",
    "# sort the ICs particles by IDs\n",
    "indexes = np.argsort(IDs_ICs)\n",
    "pos_ICs = pos_ICs[indexes]; \n",
    "#del IDs_ICs\n",
    "\n",
    "# read the positions and IDs of the z=0 snapshot\n",
    "pos = read_block(snapshot, \"POS \", ptype)/1e3 #Mpc/h\n",
    "IDs = read_block(snapshot, \"ID  \", ptype)-1   #Make IDs begin from 0\n",
    "\n",
    "\n",
    "#del IDs\n"
   ]
  },
  {
   "cell_type": "code",
   "execution_count": null,
   "id": "cfc10fef-3c7e-4c98-b323-2708152bbd63",
   "metadata": {},
   "outputs": [],
   "source": [
    "sim.header"
   ]
  },
  {
   "cell_type": "code",
   "execution_count": 200,
   "id": "d1e15f4a-4153-4ba9-a06a-f3e5619b2a6f",
   "metadata": {},
   "outputs": [
    {
     "ename": "Exception",
     "evalue": "positions not properly sorted",
     "output_type": "error",
     "traceback": [
      "\u001b[0;31m---------------------------------------------------------------------------\u001b[0m",
      "\u001b[0;31mException\u001b[0m                                 Traceback (most recent call last)",
      "Cell \u001b[0;32mIn [200], line 14\u001b[0m\n\u001b[1;32m     12\u001b[0m grid_index \u001b[38;5;241m=\u001b[39m grid_index[indexes2]\n\u001b[1;32m     13\u001b[0m diff \u001b[38;5;241m=\u001b[39m grid_index[\u001b[38;5;241m1\u001b[39m:] \u001b[38;5;241m-\u001b[39m grid_index[:\u001b[38;5;241m-\u001b[39m\u001b[38;5;241m1\u001b[39m]\n\u001b[0;32m---> 14\u001b[0m \u001b[38;5;28;01mif\u001b[39;00m np\u001b[38;5;241m.\u001b[39many(diff\u001b[38;5;241m!=\u001b[39m\u001b[38;5;241m1\u001b[39m):  \u001b[38;5;28;01mraise\u001b[39;00m \u001b[38;5;167;01mException\u001b[39;00m(\u001b[38;5;124m'\u001b[39m\u001b[38;5;124mpositions not properly sorted\u001b[39m\u001b[38;5;124m'\u001b[39m)\n\u001b[1;32m     16\u001b[0m \u001b[38;5;66;03m#Saving indexes \u001b[39;00m\n\u001b[1;32m     18\u001b[0m \u001b[38;5;28;01mwith\u001b[39;00m \u001b[38;5;28mopen\u001b[39m(\u001b[38;5;124m\"\u001b[39m\u001b[38;5;124mquijote_\u001b[39m\u001b[38;5;132;01m{0}\u001b[39;00m\u001b[38;5;124m_neighfile.pickle\u001b[39m\u001b[38;5;124m\"\u001b[39m\u001b[38;5;241m.\u001b[39mformat(qsim), \u001b[38;5;124m'\u001b[39m\u001b[38;5;124mwb\u001b[39m\u001b[38;5;124m'\u001b[39m) \u001b[38;5;28;01mas\u001b[39;00m f:\n",
      "\u001b[0;31mException\u001b[0m: positions not properly sorted"
     ]
    }
   ],
   "source": [
    "# find the grid coordinates of the particles\n",
    "grid_index = (np.round((pos_ICs/1e3/BoxSize)*ngrid, decimals=0)).astype(np.int32)\n",
    "grid_index[np.where(grid_index==ngrid)]=0\n",
    "pos_lag    = grid_index*BoxSize/ngrid #get the lagrangian coordinates\n",
    "grid_index = grid_index[:,0]*ngrid**2 + grid_index[:,1]*ngrid + grid_index[:,2]\n",
    "indexes2   = np.argsort(grid_index)\n",
    "# sort the particles by IDs\n",
    "indexes = np.argsort(IDs)\n",
    "lag_index = indexes[indexes2]\n",
    "\n",
    "# safety check\n",
    "grid_index = grid_index[indexes2]\n",
    "diff = grid_index[1:] - grid_index[:-1]\n",
    "if np.any(diff!=1):  raise Exception('positions not properly sorted')\n",
    "\n",
    "#Saving indexes \n",
    "\n",
    "with open(\"quijote_{0}_neighfile.pickle\".format(qsim), 'wb') as f:\n",
    "    pickle.dump(lag_index, f, protocol=-1)\n",
    "    \n",
    "# More checks\n",
    "pos     = pos[indexes];  \n",
    "pos_lag = pos_ICs[indexes2];  \n",
    "\n",
    "# compute displacement field\n",
    "qdisp = pos - pos_ICs;  \n",
    "\n",
    "# take into account periodic boundary conditions\n",
    "qdisp[np.where(qdisp>BoxSize/2.0)]  -= BoxSize\n",
    "qdisp[np.where(qdisp<-BoxSize/2.0)] += BoxSize\n",
    "qdisp = qdisp[indexes2]\n",
    "\n",
    "\n",
    "dx = sim.dm['pos'][lag_index]-pp\n",
    "dx[np.where(dx>BoxSize/2.0)]  -= BoxSize\n",
    "dx[np.where(dx<-BoxSize/2.0)] += BoxSize\n",
    "\n",
    "print(\"Maximum difference between Eulerian positions: {0} {0}\".format(np.min(dx), np.max(dx)))\n"
   ]
  },
  {
   "cell_type": "markdown",
   "id": "061ae494-97c9-47e5-a9f3-edc4a40a3ad3",
   "metadata": {
    "jp-MarkdownHeadingCollapsed": true,
    "tags": []
   },
   "source": [
    "## Need to figure out why this doesn't work"
   ]
  },
  {
   "cell_type": "code",
   "execution_count": 49,
   "id": "eb89588c-1b46-476a-ae80-275fc1a49cb1",
   "metadata": {},
   "outputs": [],
   "source": [
    "IDs_ICs = read_block(ICs_snapshot, \"ID  \", ptype)-1   #IDs begin from 0"
   ]
  },
  {
   "cell_type": "code",
   "execution_count": 68,
   "id": "22fec320-2fc1-4a96-83fd-b20ec9695293",
   "metadata": {},
   "outputs": [
    {
     "data": {
      "text/plain": [
       "(64, 64, 64, 3)"
      ]
     },
     "execution_count": 68,
     "metadata": {},
     "output_type": "execute_result"
    }
   ],
   "source": [
    "_qq.shape"
   ]
  },
  {
   "cell_type": "code",
   "execution_count": 103,
   "id": "0420fdbe-d19d-4c40-abb4-b4b2b40c748c",
   "metadata": {
    "collapsed": true,
    "jupyter": {
     "outputs_hidden": true
    },
    "tags": []
   },
   "outputs": [
    {
     "name": "stdout",
     "output_type": "stream",
     "text": [
      "(3, 262144)\n",
      "(3, 524288)\n",
      "(3, 786432)\n",
      "(3, 1048576)\n",
      "(3, 1310720)\n",
      "(3, 1572864)\n",
      "(3, 1835008)\n",
      "(3, 2097152)\n",
      "(3, 2359296)\n",
      "(3, 2621440)\n",
      "(3, 2883584)\n",
      "(3, 3145728)\n",
      "(3, 3407872)\n",
      "(3, 3670016)\n",
      "(3, 3932160)\n",
      "(3, 4194304)\n",
      "(3, 4456448)\n",
      "(3, 4718592)\n",
      "(3, 4980736)\n",
      "(3, 5242880)\n",
      "(3, 5505024)\n",
      "(3, 5767168)\n",
      "(3, 6029312)\n",
      "(3, 6291456)\n",
      "(3, 6553600)\n",
      "(3, 6815744)\n",
      "(3, 7077888)\n",
      "(3, 7340032)\n",
      "(3, 7602176)\n",
      "(3, 7864320)\n",
      "(3, 8126464)\n",
      "(3, 8388608)\n",
      "(3, 8650752)\n",
      "(3, 8912896)\n",
      "(3, 9175040)\n",
      "(3, 9437184)\n",
      "(3, 9699328)\n",
      "(3, 9961472)\n",
      "(3, 10223616)\n",
      "(3, 10485760)\n",
      "(3, 10747904)\n",
      "(3, 11010048)\n",
      "(3, 11272192)\n",
      "(3, 11534336)\n",
      "(3, 11796480)\n",
      "(3, 12058624)\n",
      "(3, 12320768)\n",
      "(3, 12582912)\n",
      "(3, 12845056)\n",
      "(3, 13107200)\n",
      "(3, 13369344)\n",
      "(3, 13631488)\n",
      "(3, 13893632)\n",
      "(3, 14155776)\n",
      "(3, 14417920)\n",
      "(3, 14680064)\n",
      "(3, 14942208)\n",
      "(3, 15204352)\n",
      "(3, 15466496)\n",
      "(3, 15728640)\n",
      "(3, 15990784)\n",
      "(3, 16252928)\n",
      "(3, 16515072)\n",
      "(3, 16777216)\n",
      "(3, 17039360)\n",
      "(3, 17301504)\n",
      "(3, 17563648)\n",
      "(3, 17825792)\n",
      "(3, 18087936)\n",
      "(3, 18350080)\n",
      "(3, 18612224)\n",
      "(3, 18874368)\n",
      "(3, 19136512)\n",
      "(3, 19398656)\n",
      "(3, 19660800)\n",
      "(3, 19922944)\n",
      "(3, 20185088)\n",
      "(3, 20447232)\n",
      "(3, 20709376)\n",
      "(3, 20971520)\n",
      "(3, 21233664)\n",
      "(3, 21495808)\n",
      "(3, 21757952)\n",
      "(3, 22020096)\n",
      "(3, 22282240)\n",
      "(3, 22544384)\n",
      "(3, 22806528)\n",
      "(3, 23068672)\n",
      "(3, 23330816)\n",
      "(3, 23592960)\n",
      "(3, 23855104)\n",
      "(3, 24117248)\n",
      "(3, 24379392)\n",
      "(3, 24641536)\n",
      "(3, 24903680)\n",
      "(3, 25165824)\n",
      "(3, 25427968)\n",
      "(3, 25690112)\n",
      "(3, 25952256)\n",
      "(3, 26214400)\n",
      "(3, 26476544)\n",
      "(3, 26738688)\n",
      "(3, 27000832)\n",
      "(3, 27262976)\n",
      "(3, 27525120)\n",
      "(3, 27787264)\n",
      "(3, 28049408)\n",
      "(3, 28311552)\n",
      "(3, 28573696)\n",
      "(3, 28835840)\n",
      "(3, 29097984)\n",
      "(3, 29360128)\n",
      "(3, 29622272)\n",
      "(3, 29884416)\n",
      "(3, 30146560)\n",
      "(3, 30408704)\n",
      "(3, 30670848)\n",
      "(3, 30932992)\n",
      "(3, 31195136)\n",
      "(3, 31457280)\n",
      "(3, 31719424)\n",
      "(3, 31981568)\n",
      "(3, 32243712)\n",
      "(3, 32505856)\n",
      "(3, 32768000)\n",
      "(3, 33030144)\n",
      "(3, 33292288)\n",
      "(3, 33554432)\n",
      "(3, 33816576)\n",
      "(3, 34078720)\n",
      "(3, 34340864)\n",
      "(3, 34603008)\n",
      "(3, 34865152)\n",
      "(3, 35127296)\n",
      "(3, 35389440)\n",
      "(3, 35651584)\n",
      "(3, 35913728)\n",
      "(3, 36175872)\n",
      "(3, 36438016)\n",
      "(3, 36700160)\n",
      "(3, 36962304)\n",
      "(3, 37224448)\n",
      "(3, 37486592)\n",
      "(3, 37748736)\n",
      "(3, 38010880)\n",
      "(3, 38273024)\n",
      "(3, 38535168)\n",
      "(3, 38797312)\n",
      "(3, 39059456)\n",
      "(3, 39321600)\n",
      "(3, 39583744)\n",
      "(3, 39845888)\n",
      "(3, 40108032)\n",
      "(3, 40370176)\n",
      "(3, 40632320)\n",
      "(3, 40894464)\n",
      "(3, 41156608)\n",
      "(3, 41418752)\n",
      "(3, 41680896)\n",
      "(3, 41943040)\n",
      "(3, 42205184)\n",
      "(3, 42467328)\n",
      "(3, 42729472)\n",
      "(3, 42991616)\n",
      "(3, 43253760)\n",
      "(3, 43515904)\n",
      "(3, 43778048)\n",
      "(3, 44040192)\n",
      "(3, 44302336)\n",
      "(3, 44564480)\n",
      "(3, 44826624)\n",
      "(3, 45088768)\n",
      "(3, 45350912)\n",
      "(3, 45613056)\n",
      "(3, 45875200)\n",
      "(3, 46137344)\n",
      "(3, 46399488)\n",
      "(3, 46661632)\n",
      "(3, 46923776)\n",
      "(3, 47185920)\n",
      "(3, 47448064)\n",
      "(3, 47710208)\n",
      "(3, 47972352)\n",
      "(3, 48234496)\n",
      "(3, 48496640)\n",
      "(3, 48758784)\n",
      "(3, 49020928)\n",
      "(3, 49283072)\n",
      "(3, 49545216)\n",
      "(3, 49807360)\n",
      "(3, 50069504)\n",
      "(3, 50331648)\n",
      "(3, 50593792)\n",
      "(3, 50855936)\n",
      "(3, 51118080)\n",
      "(3, 51380224)\n",
      "(3, 51642368)\n",
      "(3, 51904512)\n",
      "(3, 52166656)\n",
      "(3, 52428800)\n",
      "(3, 52690944)\n",
      "(3, 52953088)\n",
      "(3, 53215232)\n",
      "(3, 53477376)\n",
      "(3, 53739520)\n",
      "(3, 54001664)\n",
      "(3, 54263808)\n",
      "(3, 54525952)\n",
      "(3, 54788096)\n",
      "(3, 55050240)\n",
      "(3, 55312384)\n",
      "(3, 55574528)\n",
      "(3, 55836672)\n",
      "(3, 56098816)\n",
      "(3, 56360960)\n",
      "(3, 56623104)\n",
      "(3, 56885248)\n",
      "(3, 57147392)\n",
      "(3, 57409536)\n",
      "(3, 57671680)\n",
      "(3, 57933824)\n",
      "(3, 58195968)\n",
      "(3, 58458112)\n",
      "(3, 58720256)\n",
      "(3, 58982400)\n",
      "(3, 59244544)\n",
      "(3, 59506688)\n",
      "(3, 59768832)\n",
      "(3, 60030976)\n",
      "(3, 60293120)\n",
      "(3, 60555264)\n",
      "(3, 60817408)\n",
      "(3, 61079552)\n",
      "(3, 61341696)\n",
      "(3, 61603840)\n",
      "(3, 61865984)\n",
      "(3, 62128128)\n",
      "(3, 62390272)\n",
      "(3, 62652416)\n",
      "(3, 62914560)\n",
      "(3, 63176704)\n",
      "(3, 63438848)\n",
      "(3, 63700992)\n",
      "(3, 63963136)\n",
      "(3, 64225280)\n",
      "(3, 64487424)\n",
      "(3, 64749568)\n",
      "(3, 65011712)\n",
      "(3, 65273856)\n",
      "(3, 65536000)\n",
      "(3, 65798144)\n",
      "(3, 66060288)\n",
      "(3, 66322432)\n",
      "(3, 66584576)\n",
      "(3, 66846720)\n",
      "(3, 67108864)\n",
      "(3, 67371008)\n",
      "(3, 67633152)\n",
      "(3, 67895296)\n",
      "(3, 68157440)\n",
      "(3, 68419584)\n",
      "(3, 68681728)\n",
      "(3, 68943872)\n",
      "(3, 69206016)\n",
      "(3, 69468160)\n",
      "(3, 69730304)\n",
      "(3, 69992448)\n",
      "(3, 70254592)\n",
      "(3, 70516736)\n",
      "(3, 70778880)\n",
      "(3, 71041024)\n",
      "(3, 71303168)\n",
      "(3, 71565312)\n",
      "(3, 71827456)\n",
      "(3, 72089600)\n",
      "(3, 72351744)\n",
      "(3, 72613888)\n",
      "(3, 72876032)\n",
      "(3, 73138176)\n",
      "(3, 73400320)\n",
      "(3, 73662464)\n",
      "(3, 73924608)\n",
      "(3, 74186752)\n",
      "(3, 74448896)\n",
      "(3, 74711040)\n",
      "(3, 74973184)\n",
      "(3, 75235328)\n",
      "(3, 75497472)\n",
      "(3, 75759616)\n",
      "(3, 76021760)\n",
      "(3, 76283904)\n",
      "(3, 76546048)\n",
      "(3, 76808192)\n",
      "(3, 77070336)\n",
      "(3, 77332480)\n",
      "(3, 77594624)\n",
      "(3, 77856768)\n",
      "(3, 78118912)\n",
      "(3, 78381056)\n",
      "(3, 78643200)\n",
      "(3, 78905344)\n",
      "(3, 79167488)\n",
      "(3, 79429632)\n",
      "(3, 79691776)\n",
      "(3, 79953920)\n",
      "(3, 80216064)\n",
      "(3, 80478208)\n",
      "(3, 80740352)\n",
      "(3, 81002496)\n",
      "(3, 81264640)\n",
      "(3, 81526784)\n",
      "(3, 81788928)\n",
      "(3, 82051072)\n",
      "(3, 82313216)\n",
      "(3, 82575360)\n",
      "(3, 82837504)\n",
      "(3, 83099648)\n",
      "(3, 83361792)\n",
      "(3, 83623936)\n",
      "(3, 83886080)\n",
      "(3, 84148224)\n",
      "(3, 84410368)\n",
      "(3, 84672512)\n",
      "(3, 84934656)\n",
      "(3, 85196800)\n",
      "(3, 85458944)\n",
      "(3, 85721088)\n",
      "(3, 85983232)\n",
      "(3, 86245376)\n",
      "(3, 86507520)\n",
      "(3, 86769664)\n",
      "(3, 87031808)\n",
      "(3, 87293952)\n",
      "(3, 87556096)\n",
      "(3, 87818240)\n",
      "(3, 88080384)\n",
      "(3, 88342528)\n",
      "(3, 88604672)\n",
      "(3, 88866816)\n",
      "(3, 89128960)\n",
      "(3, 89391104)\n",
      "(3, 89653248)\n",
      "(3, 89915392)\n",
      "(3, 90177536)\n",
      "(3, 90439680)\n",
      "(3, 90701824)\n",
      "(3, 90963968)\n",
      "(3, 91226112)\n",
      "(3, 91488256)\n",
      "(3, 91750400)\n",
      "(3, 92012544)\n",
      "(3, 92274688)\n",
      "(3, 92536832)\n",
      "(3, 92798976)\n",
      "(3, 93061120)\n",
      "(3, 93323264)\n",
      "(3, 93585408)\n",
      "(3, 93847552)\n",
      "(3, 94109696)\n",
      "(3, 94371840)\n",
      "(3, 94633984)\n",
      "(3, 94896128)\n",
      "(3, 95158272)\n",
      "(3, 95420416)\n",
      "(3, 95682560)\n",
      "(3, 95944704)\n",
      "(3, 96206848)\n",
      "(3, 96468992)\n",
      "(3, 96731136)\n",
      "(3, 96993280)\n",
      "(3, 97255424)\n",
      "(3, 97517568)\n",
      "(3, 97779712)\n",
      "(3, 98041856)\n",
      "(3, 98304000)\n",
      "(3, 98566144)\n",
      "(3, 98828288)\n",
      "(3, 99090432)\n",
      "(3, 99352576)\n",
      "(3, 99614720)\n",
      "(3, 99876864)\n",
      "(3, 100139008)\n",
      "(3, 100401152)\n",
      "(3, 100663296)\n",
      "(3, 100925440)\n",
      "(3, 101187584)\n",
      "(3, 101449728)\n",
      "(3, 101711872)\n",
      "(3, 101974016)\n",
      "(3, 102236160)\n",
      "(3, 102498304)\n",
      "(3, 102760448)\n",
      "(3, 103022592)\n",
      "(3, 103284736)\n",
      "(3, 103546880)\n",
      "(3, 103809024)\n",
      "(3, 104071168)\n",
      "(3, 104333312)\n",
      "(3, 104595456)\n",
      "(3, 104857600)\n",
      "(3, 105119744)\n",
      "(3, 105381888)\n",
      "(3, 105644032)\n",
      "(3, 105906176)\n",
      "(3, 106168320)\n",
      "(3, 106430464)\n",
      "(3, 106692608)\n",
      "(3, 106954752)\n",
      "(3, 107216896)\n",
      "(3, 107479040)\n",
      "(3, 107741184)\n",
      "(3, 108003328)\n",
      "(3, 108265472)\n",
      "(3, 108527616)\n",
      "(3, 108789760)\n",
      "(3, 109051904)\n",
      "(3, 109314048)\n",
      "(3, 109576192)\n",
      "(3, 109838336)\n",
      "(3, 110100480)\n",
      "(3, 110362624)\n",
      "(3, 110624768)\n",
      "(3, 110886912)\n",
      "(3, 111149056)\n",
      "(3, 111411200)\n",
      "(3, 111673344)\n",
      "(3, 111935488)\n",
      "(3, 112197632)\n",
      "(3, 112459776)\n",
      "(3, 112721920)\n",
      "(3, 112984064)\n",
      "(3, 113246208)\n",
      "(3, 113508352)\n",
      "(3, 113770496)\n",
      "(3, 114032640)\n",
      "(3, 114294784)\n",
      "(3, 114556928)\n",
      "(3, 114819072)\n",
      "(3, 115081216)\n",
      "(3, 115343360)\n",
      "(3, 115605504)\n",
      "(3, 115867648)\n",
      "(3, 116129792)\n",
      "(3, 116391936)\n",
      "(3, 116654080)\n",
      "(3, 116916224)\n",
      "(3, 117178368)\n",
      "(3, 117440512)\n",
      "(3, 117702656)\n",
      "(3, 117964800)\n",
      "(3, 118226944)\n",
      "(3, 118489088)\n",
      "(3, 118751232)\n",
      "(3, 119013376)\n",
      "(3, 119275520)\n",
      "(3, 119537664)\n",
      "(3, 119799808)\n",
      "(3, 120061952)\n",
      "(3, 120324096)\n",
      "(3, 120586240)\n",
      "(3, 120848384)\n",
      "(3, 121110528)\n",
      "(3, 121372672)\n",
      "(3, 121634816)\n",
      "(3, 121896960)\n",
      "(3, 122159104)\n",
      "(3, 122421248)\n",
      "(3, 122683392)\n",
      "(3, 122945536)\n",
      "(3, 123207680)\n",
      "(3, 123469824)\n",
      "(3, 123731968)\n",
      "(3, 123994112)\n",
      "(3, 124256256)\n",
      "(3, 124518400)\n",
      "(3, 124780544)\n",
      "(3, 125042688)\n",
      "(3, 125304832)\n",
      "(3, 125566976)\n",
      "(3, 125829120)\n",
      "(3, 126091264)\n",
      "(3, 126353408)\n",
      "(3, 126615552)\n",
      "(3, 126877696)\n",
      "(3, 127139840)\n",
      "(3, 127401984)\n",
      "(3, 127664128)\n",
      "(3, 127926272)\n",
      "(3, 128188416)\n",
      "(3, 128450560)\n",
      "(3, 128712704)\n",
      "(3, 128974848)\n",
      "(3, 129236992)\n",
      "(3, 129499136)\n",
      "(3, 129761280)\n",
      "(3, 130023424)\n",
      "(3, 130285568)\n",
      "(3, 130547712)\n",
      "(3, 130809856)\n",
      "(3, 131072000)\n",
      "(3, 131334144)\n",
      "(3, 131596288)\n",
      "(3, 131858432)\n",
      "(3, 132120576)\n",
      "(3, 132382720)\n",
      "(3, 132644864)\n",
      "(3, 132907008)\n",
      "(3, 133169152)\n",
      "(3, 133431296)\n",
      "(3, 133693440)\n",
      "(3, 133955584)\n",
      "(3, 134217728)\n"
     ]
    }
   ],
   "source": [
    "_qq = bacco.visualization.uniform_grid(npix=64, L=125, ndim=3, bounds=False)\n",
    "subbox = 125.\n",
    "qx = _qq[...,0].flatten() \n",
    "qy = _qq[...,1].flatten() \n",
    "qz = _qq[...,2].flatten() \n",
    "_ids = np.arange(64**3)\n",
    "\n",
    "qq = []\n",
    "ii = 0\n",
    "glassfactor = 8\n",
    "for i in range(glassfactor):\n",
    "    for j in range(glassfactor):\n",
    "        for k in range(glassfactor):\n",
    "            _qqx = np.array([qx + i*subbox, qy + j*subbox, qz + k*subbox])\n",
    "            if ii == 0:\n",
    "                qq = _qqx\n",
    "                ids = _ids\n",
    "            else:\n",
    "                qq = np.hstack((qq,_qqx))\n",
    "                ids = np.hstack((ids,_ids+ii*64**3))\n",
    "            print(np.shape(qq))\n",
    "            ii+=1\n"
   ]
  },
  {
   "cell_type": "code",
   "execution_count": 141,
   "id": "0f98538d-f0f0-406d-b825-72fee20a257c",
   "metadata": {},
   "outputs": [],
   "source": [
    "# find the grid coordinates of the particles\n",
    "grid_index = (np.round((qq.T/BoxSize)*grid, decimals=0)).astype(np.int32)\n",
    "grid_index[np.where(grid_index==grid)]=0\n",
    "grid_index = grid_index[:,0]*grid**2 + grid_index[:,1]*grid + grid_index[:,2]\n",
    "indexes2   = np.argsort(grid_index)\n",
    "\n",
    "# sort the particles by IDs\n",
    "indexes = np.argsort(sim.dm['ids'])\n",
    "lag_index2 = indexes[indexes2]\n"
   ]
  },
  {
   "cell_type": "code",
   "execution_count": 153,
   "id": "6578fd54-4472-43ac-8107-205237efd1f5",
   "metadata": {},
   "outputs": [],
   "source": [
    "dx = qq[:,indexes2]-pos_lag.T\n",
    "dx[np.where(dx>BoxSize/2.0)]  -= BoxSize\n",
    "dx[np.where(dx<-BoxSize/2.0)] += BoxSize"
   ]
  },
  {
   "cell_type": "code",
   "execution_count": 161,
   "id": "16aab0c8-d5b0-4ef7-a7fd-616e9e1e057f",
   "metadata": {},
   "outputs": [
    {
     "data": {
      "text/plain": [
       "(array([1.5790000e+03, 9.2011000e+04, 2.0360500e+06, 1.6201001e+07,\n",
       "        4.5979010e+07, 4.8558392e+07, 1.8643403e+07, 2.5717000e+06,\n",
       "        1.3336200e+05, 1.2200000e+03]),\n",
       " array([-0.29376221, -0.23556519, -0.17736816, -0.11917114, -0.06097412,\n",
       "        -0.0027771 ,  0.05541992,  0.11361694,  0.17181396,  0.23001099,\n",
       "         0.28820801]),\n",
       " <BarContainer object of 10 artists>)"
      ]
     },
     "execution_count": 161,
     "metadata": {},
     "output_type": "execute_result"
    },
    {
     "data": {
      "image/png": "[encoded data removed]",
      "text/plain": [
       "<Figure size 600x800 with 1 Axes>"
      ]
     },
     "metadata": {},
     "output_type": "display_data"
    }
   ],
   "source": [
    "plt.hist(dx[2,:])"
   ]
  },
  {
   "cell_type": "code",
   "execution_count": 162,
   "id": "da6509c9-150b-4a38-a3c9-25179be73678",
   "metadata": {},
   "outputs": [
    {
     "data": {
      "text/plain": [
       "array([[  0.      ,   0.      ,   0.      , ..., 998.0469  , 998.0469  ,\n",
       "        998.0469  ],\n",
       "       [  0.      ,   0.      ,   0.      , ..., 998.0469  , 998.0469  ,\n",
       "        998.0469  ],\n",
       "       [  0.      ,   1.953125,   3.90625 , ..., 994.1406  , 996.09375 ,\n",
       "        998.0469  ]], dtype=float32)"
      ]
     },
     "execution_count": 162,
     "metadata": {},
     "output_type": "execute_result"
    }
   ],
   "source": [
    "qq"
   ]
  },
  {
   "cell_type": "code",
   "execution_count": 158,
   "id": "2c6862b0-8fda-4a06-9da6-ef035979eff3",
   "metadata": {},
   "outputs": [
    {
     "data": {
      "text/plain": [
       "(3, 134217728)"
      ]
     },
     "execution_count": 158,
     "metadata": {},
     "output_type": "execute_result"
    }
   ],
   "source": [
    "dx.shape"
   ]
  },
  {
   "cell_type": "code",
   "execution_count": 144,
   "id": "e3f55886-64d0-4bc6-ab38-b7615cfbfde0",
   "metadata": {},
   "outputs": [
    {
     "name": "stdout",
     "output_type": "stream",
     "text": [
      "0\n",
      "[1835474 1835475 1835476 1835477 1835478 1835479 1835480 1835481 1835482\n",
      " 1835483 1835484 1835485 1835486 1835487 1835488 1835489 1835490 1835491\n",
      " 1835492 1835493 1835494 1835495 1835496 1835497 1835498 1835499 1835500\n",
      " 1835501 1835502 1835503 1835504 1835505 1835506 1835507 1835508 1835509\n",
      " 1835510 1835511 1835512 1835513 1835514 1835515 1835516 1835517 1835518\n",
      " 1835519     512     513     514     515     516     517     518     519\n",
      "     520     521     522     523     524     525     526     527     528\n",
      "     529     530     531     532     533     534     535     536     537\n",
      "     538     539     540     541     542     543     544     545     546\n",
      "     547     548     549     550     551     552     553     554     555\n",
      "     556     557     558     559     560     561     562     563     564\n",
      "     565]\n",
      "[1835474 1835475 1835476 1835477 1835478 1835479 1835480 1835481 1835482\n",
      " 1835483 1835484 1835485 1835486 1835487 1835488 1835489 1835490 1835491\n",
      " 1835492 1835493 1835494 1835495 1835496 1835497 1835498 1835499 1835500\n",
      " 1835501 1835502 1835503 1835504 1835505 1835506 1835507 1835508 1835509\n",
      " 1835510 1835511 1835512 1835513 1835514 1835515 1835516 1835517 1835518\n",
      " 1835519     512     513     514     515     516     517     518     519\n",
      "     520     521     522     523     524     525     526     527     528\n",
      "     529     530     531     532     533     534     535     536     537\n",
      "     538     539     540     541     542     543     544     545     546\n",
      "     547     548     549     550     551     552     553     554     555\n",
      "     556     557     558     559     560     561     562     563     564\n",
      "     565]\n"
     ]
    }
   ],
   "source": [
    "print(np.max(np.abs(lag_index2-lag_index)))\n",
    "i0,i1=4050,4150\n",
    "print(lag_index[i0:i1])\n",
    "print(lag_index2[i0:i1])"
   ]
  },
  {
   "cell_type": "code",
   "execution_count": 129,
   "id": "54ab241a-7890-4d2c-8985-9a676157621a",
   "metadata": {},
   "outputs": [
    {
     "data": {
      "text/plain": [
       "array([-1, -1, -1, ..., -1, -1, -1])"
      ]
     },
     "execution_count": 129,
     "metadata": {},
     "output_type": "execute_result"
    }
   ],
   "source": [
    "IDs-sim.dm['ids']"
   ]
  },
  {
   "cell_type": "code",
   "execution_count": 133,
   "id": "e8cfa2a7-4558-48c8-bff9-04c453aa3e2b",
   "metadata": {},
   "outputs": [
    {
     "data": {
      "text/plain": [
       "array([400, 401, 402, 403, 404, 405, 406, 407, 408, 409])"
      ]
     },
     "execution_count": 133,
     "metadata": {},
     "output_type": "execute_result"
    }
   ],
   "source": []
  },
  {
   "cell_type": "code",
   "execution_count": 134,
   "id": "10dcb4b8-da03-46dc-9a29-fd963361aa31",
   "metadata": {},
   "outputs": [
    {
     "data": {
      "text/plain": [
       "array([1572880, 1572881, 1572882, 1572883, 1572884, 1572885, 1572886,\n",
       "       1572887, 1572888, 1572889])"
      ]
     },
     "execution_count": 134,
     "metadata": {},
     "output_type": "execute_result"
    }
   ],
   "source": [
    "lag_index[400:410]"
   ]
  },
  {
   "cell_type": "code",
   "execution_count": 118,
   "id": "b95d79b0-192e-441c-b66e-ad02df27249c",
   "metadata": {},
   "outputs": [
    {
     "name": "stdout",
     "output_type": "stream",
     "text": [
      "0\n"
     ]
    }
   ],
   "source": [
    "print(np.min(lag_index2-lag_index))"
   ]
  },
  {
   "cell_type": "code",
   "execution_count": 53,
   "id": "7fe12e88-50ce-4ff3-9cac-ce9f852eb71c",
   "metadata": {},
   "outputs": [
    {
     "name": "stdout",
     "output_type": "stream",
     "text": [
      "[  4050   4051   4052   4053   4054   4055   4056   4057   4058   4059\n",
      "   4060   4061   4062   4063   4064   4065   4066   4067   4068   4069\n",
      "   4070   4071   4072   4073   4074   4075   4076   4077   4078   4079\n",
      "   4080   4081   4082   4083   4084   4085   4086   4087   4088   4089\n",
      "   4090   4091   4092   4093   4094   4095 262144 262145 262146 262147\n",
      " 262148 262149 262150 262151 262152 262153 262154 262155 262156 262157\n",
      " 262158 262159 262160 262161 262162 262163 262164 262165 262166 262167\n",
      " 262168 262169 262170 262171 262172 262173 262174 262175 262176 262177\n",
      " 262178 262179 262180 262181 262182 262183 262184 262185 262186 262187\n",
      " 262188 262189 262190 262191 262192 262193 262194 262195 262196 262197]\n",
      "[4050 4051 4052 4053 4054 4055 4056 4057 4058 4059 4060 4061 4062 4063\n",
      " 4064 4065 4066 4067 4068 4069 4070 4071 4072 4073 4074 4075 4076 4077\n",
      " 4078 4079 4080 4081 4082 4083 4084 4085 4086 4087 4088 4089 4090 4091\n",
      " 4092 4093 4094 4095 4096 4097 4098 4099 4100 4101 4102 4103 4104 4105\n",
      " 4106 4107 4108 4109 4110 4111 4112 4113 4114 4115 4116 4117 4118 4119\n",
      " 4120 4121 4122 4123 4124 4125 4126 4127 4128 4129 4130 4131 4132 4133\n",
      " 4134 4135 4136 4137 4138 4139 4140 4141 4142 4143 4144 4145 4146 4147\n",
      " 4148 4149]\n"
     ]
    }
   ],
   "source": [
    "print(IDs_ICs[4050:4150])\n",
    "print(grid_index[4050:4150])"
   ]
  },
  {
   "cell_type": "code",
   "execution_count": 56,
   "id": "78cb5be2-d5a4-45d0-8a9b-8a1a65bf4e1b",
   "metadata": {},
   "outputs": [
    {
     "data": {
      "text/plain": [
       "[<matplotlib.lines.Line2D at 0x2b42f3ffc310>]"
      ]
     },
     "execution_count": 56,
     "metadata": {},
     "output_type": "execute_result"
    },
    {
     "data": {
      "image/png": "[encoded data removed]",
      "text/plain": [
       "<Figure size 600x800 with 1 Axes>"
      ]
     },
     "metadata": {},
     "output_type": "display_data"
    }
   ],
   "source": [
    "mask = pos_ICs[:,2] < 1\n",
    "plt.plot(pos_ICs[mask,0], pos_ICs[mask,1],',')"
   ]
  },
  {
   "cell_type": "code",
   "execution_count": null,
   "id": "a3ee996a-8027-4ab6-9f56-d2e5dc2142d7",
   "metadata": {},
   "outputs": [],
   "source": []
  },
  {
   "cell_type": "code",
   "execution_count": 51,
   "id": "1bb7d562-b9ea-4425-98fc-f38e18a8993b",
   "metadata": {},
   "outputs": [
    {
     "name": "stdout",
     "output_type": "stream",
     "text": [
      "number of equals: 4096 of 134217728\n"
     ]
    }
   ],
   "source": [
    "neq = np.where( (grid_index[:10000]-IDs_ICs[:10000]) == 0)[0]\n",
    "print(\"number of equals: {0} of {1}\".format(len(neq), 512**3))"
   ]
  },
  {
   "cell_type": "code",
   "execution_count": null,
   "id": "9c324486-8df8-454a-a328-bf90bda3209d",
   "metadata": {},
   "outputs": [],
   "source": []
  },
  {
   "cell_type": "code",
   "execution_count": null,
   "id": "2326f293-fca6-46bb-911b-40cd815e3208",
   "metadata": {},
   "outputs": [],
   "source": [
    "ngrid = 600\n",
    "ids = sim.dm['ids'] - 1\n",
    "qq = np.zeros(ids.shape + (3,), dtype=np.float32)\n",
    "\n",
    "qq[..., 0] = ids // ngrid**2\n",
    "qq[..., 1] = (ids // ngrid) % ngrid\n",
    "qq[..., 2] = ids % ngrid\n",
    "qq = qq * (sim.header['BoxSize']/ngrid)"
   ]
  },
  {
   "cell_type": "code",
   "execution_count": 70,
   "id": "5396f4d4-1b96-44be-99b8-34c441893199",
   "metadata": {},
   "outputs": [
    {
     "data": {
      "text/plain": [
       "array([[-3.0374146 ,  1.5611234 , -3.1153564 ],\n",
       "       [-3.194336  ,  1.5179172 , -5.0926514 ],\n",
       "       [-2.3466797 ,  1.0554459 , -7.0186768 ],\n",
       "       ...,\n",
       "       [ 0.03173828, -0.29437256, -3.7548218 ],\n",
       "       [-0.3324585 , -0.67767334, -6.192688  ],\n",
       "       [-0.65753174,  1.6317139 , -4.8081055 ]], dtype=float32)"
      ]
     },
     "execution_count": 70,
     "metadata": {},
     "output_type": "execute_result"
    }
   ],
   "source": [
    "qdisp"
   ]
  },
  {
   "cell_type": "code",
   "execution_count": 71,
   "id": "fe2c696e-1b9c-4f95-b903-f4d8e700c553",
   "metadata": {},
   "outputs": [
    {
     "data": {
      "text/plain": [
       "array([[[-3.0755615 , -3.2235107 , -2.3686523 , ..., -1.9675903 ,\n",
       "         -2.4111328 , -2.6365967 ],\n",
       "        [-2.9282227 , -3.2504883 , -3.1639404 , ..., -3.8048706 ,\n",
       "         -3.5530396 , -3.8181152 ],\n",
       "        [-4.1376343 , -4.182312  , -3.2202148 , ..., -5.6550903 ,\n",
       "         -5.579956  , -4.920471  ],\n",
       "        ...,\n",
       "        [-1.9995117 , -2.192627  , -1.8391113 , ..., -2.0495605 ,\n",
       "         -2.284668  , -2.1079102 ],\n",
       "        [-1.2908325 , -1.541626  , -1.944397  , ..., -2.0964355 ,\n",
       "         -2.157959  , -2.048767  ],\n",
       "        [-2.1992188 , -2.0715942 , -2.1852417 , ..., -1.961731  ,\n",
       "         -2.3862915 , -1.5228882 ]],\n",
       "\n",
       "       [[-4.6290283 , -4.572571  , -4.6013184 , ..., -3.824707  ,\n",
       "         -4.236328  , -3.3980713 ],\n",
       "        [-3.0847168 , -2.9988403 , -2.9579468 , ..., -4.1660156 ,\n",
       "         -3.6616821 , -3.3239136 ],\n",
       "        [-3.376587  , -2.9763184 , -3.4088745 , ..., -4.2197876 ,\n",
       "         -3.4332886 , -2.8952637 ],\n",
       "        ...,\n",
       "        [-3.9508057 , -3.9735718 , -3.8983765 , ..., -3.9855957 ,\n",
       "         -4.005249  , -3.982788  ],\n",
       "        [-3.4094849 , -3.4919434 , -4.1035767 , ..., -4.336487  ,\n",
       "         -3.8933105 , -3.9101562 ],\n",
       "        [-3.3725586 , -3.0324097 , -3.1120605 , ..., -3.8395386 ,\n",
       "         -3.8239746 , -3.2525635 ]],\n",
       "\n",
       "       [[-4.223755  , -4.375244  , -4.4799194 , ..., -6.345154  ,\n",
       "         -5.840149  , -3.7280464 ],\n",
       "        [-4.7836914 , -4.240906  , -4.2545776 , ..., -3.5375547 ,\n",
       "         -3.046308  , -3.0443053 ],\n",
       "        [-3.084581  , -4.3884277 , -4.8552856 , ..., -2.4814863 ,\n",
       "         -1.918878  , -1.4337366 ],\n",
       "        ...,\n",
       "        [-6.143982  , -5.941162  , -4.13031   , ..., -5.939148  ,\n",
       "         -5.854492  , -5.95813   ],\n",
       "        [-4.5393677 , -4.777649  , -4.0613403 , ..., -6.005554  ,\n",
       "         -5.8950806 , -5.9259033 ],\n",
       "        [-4.5794067 , -4.847107  , -4.725281  , ..., -5.9989624 ,\n",
       "         -5.573059  , -5.091614  ]],\n",
       "\n",
       "       ...,\n",
       "\n",
       "       [[-4.628113  , -4.136841  , -5.4680786 , ..., -5.350525  ,\n",
       "         -5.546997  , -5.212219  ],\n",
       "        [-5.0805054 , -5.002136  , -5.7977295 , ..., -4.545105  ,\n",
       "         -4.4055786 , -4.904419  ],\n",
       "        [-4.697571  , -5.1119385 , -6.700989  , ..., -4.657593  ,\n",
       "         -4.4507446 , -5.0976562 ],\n",
       "        ...,\n",
       "        [-8.258301  , -8.2092285 , -8.453308  , ..., -7.43573   ,\n",
       "         -8.036438  , -8.495361  ],\n",
       "        [-6.6898193 , -6.4505615 , -6.460205  , ..., -7.4209595 ,\n",
       "         -7.2941895 , -7.298279  ],\n",
       "        [-5.420227  , -5.1013184 , -5.7442017 , ..., -6.723816  ,\n",
       "         -6.6897583 , -6.4086304 ]],\n",
       "\n",
       "       [[-3.4729004 , -3.4648438 , -3.9351196 , ..., -3.4672241 ,\n",
       "         -3.592163  , -3.7052002 ],\n",
       "        [-5.4292603 , -5.418152  , -5.336792  , ..., -5.2266235 ,\n",
       "         -5.776062  , -7.0457153 ],\n",
       "        [-7.066345  , -7.116333  , -6.8674316 , ..., -5.835083  ,\n",
       "         -6.4484253 , -7.0421143 ],\n",
       "        ...,\n",
       "        [-4.9349365 , -6.0217896 , -6.590393  , ..., -4.137268  ,\n",
       "         -4.599121  , -4.2212524 ],\n",
       "        [-2.96167   , -3.961914  , -5.015259  , ..., -2.6202393 ,\n",
       "         -2.638855  , -2.8030396 ],\n",
       "        [-2.1780396 , -2.7178345 , -3.8759155 , ..., -2.3943481 ,\n",
       "         -2.5844116 , -2.6696167 ]],\n",
       "\n",
       "       [[-1.2984619 , -0.99713135, -3.3895264 , ..., -1.9019165 ,\n",
       "         -1.8309326 , -2.11438   ],\n",
       "        [-3.8167114 , -3.8118286 , -3.812378  , ..., -4.2782593 ,\n",
       "         -4.3778076 , -4.447571  ],\n",
       "        [-6.1640625 , -5.916992  , -5.722595  , ..., -4.656067  ,\n",
       "         -5.0634155 , -6.4330444 ],\n",
       "        ...,\n",
       "        [-1.5691528 , -2.8408813 , -4.8166504 , ..., -1.8140259 ,\n",
       "         -1.8383789 , -1.7098999 ],\n",
       "        [-0.2927246 , -1.3843994 , -3.704834  , ..., -0.2033081 ,\n",
       "          0.02661133,  0.5194092 ],\n",
       "        [-0.32543945, -0.49298096, -3.5421143 , ...,  0.04827881,\n",
       "         -0.32250977, -0.6516113 ]]], dtype=float32)"
      ]
     },
     "execution_count": 71,
     "metadata": {},
     "output_type": "execute_result"
    }
   ],
   "source": [
    "disp[0,...]"
   ]
  },
  {
   "cell_type": "code",
   "execution_count": null,
   "id": "d8ff64fd-7d4c-4421-b710-601900841bb4",
   "metadata": {},
   "outputs": [],
   "source": []
  },
  {
   "cell_type": "code",
   "execution_count": null,
   "id": "199fbb1c-8894-4f72-a9e7-221b59b95d6f",
   "metadata": {},
   "outputs": [],
   "source": []
  },
  {
   "cell_type": "code",
   "execution_count": null,
   "id": "beb4a9fd-3fe0-4504-9a27-3d4c3dedb5ac",
   "metadata": {},
   "outputs": [],
   "source": []
  },
  {
   "cell_type": "code",
   "execution_count": null,
   "id": "e431f0d6-47e6-4ed5-ba05-bd28e945e8b4",
   "metadata": {},
   "outputs": [],
   "source": []
  },
  {
   "cell_type": "code",
   "execution_count": null,
   "id": "27979a3d-97cc-4007-93da-d270d35e64c7",
   "metadata": {},
   "outputs": [],
   "source": []
  },
  {
   "cell_type": "code",
   "execution_count": null,
   "id": "926cf25a-54e3-4a29-acb1-d5ebed3e93e5",
   "metadata": {},
   "outputs": [],
   "source": []
  },
  {
   "cell_type": "code",
   "execution_count": null,
   "id": "00000650-5b42-412b-aeee-2aa911058497",
   "metadata": {},
   "outputs": [],
   "source": []
  },
  {
   "cell_type": "code",
   "execution_count": 230,
   "id": "48045a95-366c-4661-a11f-b3e17bb2b1a6",
   "metadata": {},
   "outputs": [],
   "source": []
  },
  {
   "cell_type": "code",
   "execution_count": null,
   "id": "85a50e92-ea63-46a2-9ad7-116cbf7069db",
   "metadata": {},
   "outputs": [],
   "source": []
  },
  {
   "cell_type": "code",
   "execution_count": 13,
   "id": "9f1fd5d8-56b8-45eb-b4eb-302d329d29f3",
   "metadata": {},
   "outputs": [],
   "source": []
  },
  {
   "cell_type": "code",
   "execution_count": null,
   "id": "c781e8f2-a74c-4c9f-bc43-f732dcc34d6a",
   "metadata": {},
   "outputs": [],
   "source": []
  },
  {
   "cell_type": "code",
   "execution_count": 259,
   "id": "745f1fc7-beb7-4b40-8b0e-ca3756b2eb78",
   "metadata": {},
   "outputs": [],
   "source": []
  },
  {
   "cell_type": "code",
   "execution_count": 14,
   "id": "f5c4cb51-9968-4f38-92f8-7b38084d8736",
   "metadata": {},
   "outputs": [],
   "source": []
  },
  {
   "cell_type": "code",
   "execution_count": 15,
   "id": "190fa990-5e1d-4484-bafa-b7d5f474bedf",
   "metadata": {},
   "outputs": [],
   "source": []
  },
  {
   "cell_type": "code",
   "execution_count": 315,
   "id": "c9643135-f412-4bb4-ba7e-06b19bc3ead2",
   "metadata": {},
   "outputs": [],
   "source": [
    "# compute displacement field\n",
    "zdisp = pos_ICs - pos_lag;  del pos_ICs\n",
    "\n",
    "# take into account periodic boundary conditions\n",
    "zdisp[np.where(zdisp>BoxSize/2.0)]  -= BoxSize\n",
    "zdisp[np.where(zdisp<-BoxSize/2.0)] += BoxSize\n",
    "zdisp = zdisp\n",
    "zdisp = zdisp[indexes2]\n"
   ]
  },
  {
   "cell_type": "code",
   "execution_count": 319,
   "id": "f4a58ad1-8607-407a-8969-6de2b2253869",
   "metadata": {},
   "outputs": [
    {
     "data": {
      "image/png": "[encoded data removed]",
      "text/plain": [
       "<Figure size 1000x400 with 3 Axes>"
      ]
     },
     "metadata": {},
     "output_type": "display_data"
    }
   ],
   "source": [
    "#plt.hist(dx, range=[-100,100],bins=30)\n",
    "fig, ax = plt.subplots(1,3, figsize=(10,4))\n",
    "for axis in range(3):\n",
    "    ax[axis].hist(zdisp[:,axis].flatten(),ls=':',range=[-0.2,0.2], bins=30)\n",
    "    #ax[axis].hist(disp[axis,...].flatten(),ls=':',range=[-20,20], bins=30)"
   ]
  },
  {
   "cell_type": "code",
   "execution_count": 310,
   "id": "7501db6d-6263-4415-a1a9-466730553f1f",
   "metadata": {},
   "outputs": [
    {
     "data": {
      "image/png": "[encoded data removed]",
      "text/plain": [
       "<Figure size 1000x400 with 3 Axes>"
      ]
     },
     "metadata": {},
     "output_type": "display_data"
    }
   ],
   "source": [
    "#plt.hist(dx, range=[-100,100],bins=30)\n",
    "fig, ax = plt.subplots(1,3, figsize=(10,4))\n",
    "for axis in range(3):\n",
    "    ax[axis].hist(qdisp[:,axis].flatten(),ls=':',range=[-20,20], bins=30)\n",
    "    #ax[axis].hist(disp[axis,...].flatten(),ls=':',range=[-20,20], bins=30)"
   ]
  },
  {
   "cell_type": "code",
   "execution_count": 307,
   "id": "071b4a46-515f-4f6e-84d6-e18043c5e607",
   "metadata": {},
   "outputs": [
    {
     "data": {
      "image/png": "[encoded data removed]",
      "text/plain": [
       "<Figure size 1000x400 with 3 Axes>"
      ]
     },
     "metadata": {},
     "output_type": "display_data"
    }
   ],
   "source": [
    "fig, ax = plt.subplots(1,3, figsize=(10,4))\n",
    "for axis in range(3):\n",
    "    ax[axis].hist(disp[axis,...].flatten(),ls=':',range=[-20,20], bins=30)"
   ]
  },
  {
   "cell_type": "code",
   "execution_count": 9,
   "id": "912f9b96-856c-41a6-900e-df9ee86d6b40",
   "metadata": {},
   "outputs": [
    {
     "name": "stdout",
     "output_type": "stream",
     "text": [
      "min 0\n",
      "max 0\n"
     ]
    }
   ],
   "source": [
    "print(\"min\", np.min(index_neigh-sim.dm['ids']+1))\n",
    "print(\"max\", np.max(index_neigh-sim.dm['ids']+1))"
   ]
  },
  {
   "cell_type": "code",
   "execution_count": 93,
   "id": "03b79265-ff41-47ee-89ba-762bac83e512",
   "metadata": {},
   "outputs": [
    {
     "data": {
      "text/plain": [
       "(array([13424096., 13412008., 13427713., 13424676., 13419931., 13424348.,\n",
       "        13415202., 13425804., 13421734., 13422216.]),\n",
       " array([-4.99999878e+02, -3.99999878e+02, -2.99999908e+02, -1.99999908e+02,\n",
       "        -9.99999237e+01,  6.10351562e-05,  1.00000046e+02,  2.00000031e+02,\n",
       "         3.00000031e+02,  4.00000000e+02,  5.00000000e+02]),\n",
       " <BarContainer object of 10 artists>)"
      ]
     },
     "execution_count": 93,
     "metadata": {},
     "output_type": "execute_result"
    },
    {
     "data": {
      "image/png": "[encoded data removed]",
      "text/plain": [
       "<Figure size 640x480 with 1 Axes>"
      ]
     },
     "metadata": {},
     "output_type": "display_data"
    }
   ],
   "source": [
    "dx = (sim.dm['pos'][:,0]-q[...,0].flatten()[index_neigh] + 2000) % 1000 \n",
    "dy = (sim.dm['pos'][:,1]-q[...,2].flatten() + 2000) % 1000 \n",
    "dz = (sim.dm['pos'][:,2]-q[...,2].flatten()[index_neigh] + 2000) % 1000 \n",
    "\n",
    "dx[dx > 500] -= 1000\n",
    "dy[dy > 500] -= 1000\n",
    "dz[dz > 500] -= 1000\n",
    "\n",
    "#plt.hist(dx)\n",
    "plt.hist(dy)\n",
    "#plt.hist(dz)"
   ]
  },
  {
   "cell_type": "code",
   "execution_count": null,
   "id": "c7e6d8b4-a317-4f4e-9883-d63a19c48b78",
   "metadata": {},
   "outputs": [],
   "source": []
  },
  {
   "cell_type": "markdown",
   "id": "8d663294-1343-44df-9a25-e5f39d5e0975",
   "metadata": {},
   "source": [
    "# Creating Bias model"
   ]
  },
  {
   "cell_type": "code",
   "execution_count": 221,
   "id": "f9a7c67b-6b1e-4707-9112-34d9e5ca1c9f",
   "metadata": {},
   "outputs": [],
   "source": [
    "#Loading if necessary\n",
    "with open(\"quijote_{0}_neighfile.pickle\".format(qsim), 'rb') as f:\n",
    "    lag_index = pickle.load(f)"
   ]
  },
  {
   "cell_type": "code",
   "execution_count": 222,
   "id": "be9617cd-077f-4d6d-aed2-c67d9ef4bded",
   "metadata": {},
   "outputs": [
    {
     "name": "stderr",
     "output_type": "stream",
     "text": [
      "2024-08-14 15:35:32,211 bacco.BiasModel : Initialising Bias Model class ...\n",
      "Exception ignored in: <function Simulation.__del__ at 0x2b4183b74430>\n",
      "Traceback (most recent call last):\n",
      "  File \"/scratch/reangulo/work_edr/baccogit/bacco/simulation.py\", line 596, in __del__\n",
      "    self.cleanup()\n",
      "  File \"/scratch/reangulo/work_edr/baccogit/bacco/simulation.py\", line 10659, in cleanup\n",
      "    clean_lazy(self, attributes)\n",
      "  File \"/scratch/reangulo/work_edr/baccogit/bacco/utils.py\", line 4119, in clean_lazy\n",
      "    delattr(obj, t)\n",
      "AttributeError: dm\n"
     ]
    }
   ],
   "source": [
    "bmodel = bacco.BiasModel(sim=sim, ngrid=ngrid, sdm=False, mode=\"dm\", mode_vel=\"combine\",\n",
    "                            npart_for_fake_sim=ngrid, damping_scale=0.75, bias_model='expansion', mean_num_dens=None,\n",
    "                            stochastic=False, deposit_method=\"cic\", use_RSD=False, use_displacement_of_nn=False, interlacing=False,\n",
    "                            indices=lag_index, indices_vel=None, sdmhids=None)\n",
    "                    #fields = bmodel.get_eul_field_terms()\n"
   ]
  },
  {
   "cell_type": "code",
   "execution_count": 223,
   "id": "68e524dd-f204-430a-8402-489ca4f6006b",
   "metadata": {
    "tags": []
   },
   "outputs": [
    {
     "name": "stderr",
     "output_type": "stream",
     "text": [
      "2024-08-14 15:35:44,781 bacco.BiasModel : Computing power spectra of bias terms ...\n",
      "2024-08-14 15:35:44,782 bacco.BiasModel : Memory used: 257.470828544 Gigabytes\n",
      "2024-08-14 15:35:44,782 bacco.BiasModel : Computing bias model power spectra...\n",
      "2024-08-14 15:35:44,782 bacco.BiasModel : 0.9999999999999998\n",
      "2024-08-14 15:35:45,724 bacco.cosmo :    computed CLASS power spectrum at z=0.00 in 0.768 secs\n",
      "2024-08-14 15:35:45,724 bacco.cosmo :    created Pk(z=0) tab from k 0.0007014999999999996 to 100000.0 h/Mpc\n",
      "2024-08-14 15:35:44,782 bacco.BiasModel : \n",
      "    -----------------------------------------------\n",
      "            Default cosmology\n",
      "            LCDM model \n",
      "            ------------------------------------\n",
      "            Ω cold dark matter = 0.27604999999999996\n",
      "            Ω baryon = 0.04625\n",
      "            Ω cold matter = 0.3223\n",
      "            Ω matter = 0.3223\n",
      "            Ω dark energy = 0.6777\n",
      "            Ω neutrino  = 0.0 \n",
      "            Ω radiation = 0.0\n",
      "            Ω curvature = 0.0\n",
      "            Ω total = 1.0\n",
      "            Σ neutrino mass = 0.0 eV\n",
      "            Hubble =  70.15 Km/s/Mpc\n",
      "            ns = 0.9607\n",
      "            As = 1.821891093442339e-09\n",
      "            σ8 (cold matter) = 0.8311\n",
      "            σ8 (matter) = 0.8310999870300293\n",
      "            σ12 (cold matter) = 0.801518976688385\n",
      "            σ12 (matter) = 0.801518976688385\n",
      "            S8 (matter) = 0.8614355708827673\n",
      "            w0 = -1.0\n",
      "            wa = 0.0\n",
      "            τ = 0.0952\n",
      "            ------------------------------------\n",
      "            redshift = 2.220446049250313e-16 \n",
      "            expansion factor = 0.9999999999999998\n",
      "            linear power spectrum = CLASS\n",
      "            non-linear power spectrum = halofit\n",
      "            ReNormalizeInputSpectrum = True\n",
      "            mass function = despali16\n",
      "            bias = tinker10\n",
      "    -----------------------------------------------\n",
      "    \n",
      "2024-08-14 15:35:46,076 bacco.BiasModel : Computing bias terms in lagrangian space and moving to Eulerian ...\n",
      "2024-08-14 15:35:46,076 bacco.BiasModel : Computing expansion bias terms in eulerian coords ...\n",
      "2024-08-14 15:35:46,076 bacco.BiasModel : Memory used: 257.470828544 Gigabytes\n",
      "2024-08-14 15:35:46,077 bacco.BiasModel : Computing delta_to_tidal_field with 8 threads...\n",
      "2024-08-14 15:35:46,077 bacco.BiasModel : fttw plan\n",
      "2024-08-14 15:35:46,077 bacco.BiasModel : Computing linear field ...\n",
      "2024-08-14 15:35:46,077 bacco.BiasModel : Memory used: 257.470828544 Gigabytes\n",
      "2024-08-14 15:35:46,078 bacco.cosmo : Warning! 2LPT growth factor with reps not yet implemented\n",
      "2024-08-14 15:35:46,083 bacco.cosmo : Warning! 2LPT growth factor with reps not yet implemented\n",
      "2024-08-14 15:35:46,089 bacco.cosmo : Warning! 3LPT growth factor (3a) with reps not yet implemented\n",
      "2024-08-14 15:35:46,089 bacco.cosmo :   Warning! 3LPT growth factor (3b) with reps not yet implemented\n",
      "2024-08-14 15:36:21,157 bacco.BiasModel : fttw freqs\n",
      "2024-08-14 15:36:21,158 bacco.BiasModel : tidk freqs\n",
      "2024-08-14 15:36:49,308 bacco.BiasModel : ifft\n",
      "2024-08-14 15:40:18,270 bacco.BiasModel : Computing laplacian ...\n",
      "2024-08-14 15:40:18,273 bacco.BiasModel : Memory used: 300.423278592 Gigabytes\n",
      "2024-08-14 15:40:25,736 bacco.BiasModel : Computing bias terms in lagrangian coords ...\n",
      "2024-08-14 15:40:25,737 bacco.BiasModel : Memory used: 304.717692928 Gigabytes\n",
      "2024-08-14 15:40:27,003 bacco.BiasModel : Computing delta squared ...\n",
      "2024-08-14 15:40:27,003 bacco.BiasModel : Memory used: 309.012647936 Gigabytes\n",
      "2024-08-14 15:40:31,951 bacco.BiasModel : Computing tidal component G2 with the given tidal field\n",
      "2024-08-14 15:40:31,952 bacco.BiasModel : Memory used: 313.307635712 Gigabytes\n",
      "2024-08-14 15:41:38,273 bacco.BiasModel : Transforming to eulerian coords ...\n",
      "2024-08-14 15:41:38,274 bacco.BiasModel : Memory used: 283.242852352 Gigabytes\n",
      "2024-08-14 15:41:55,470 bacco.BiasModel : mesh #0\n",
      "2024-08-14 15:41:55,472 bacco.statistics : Computing cic mesh with ngrid=1024 and interlacing=False\n",
      "2024-08-14 15:41:55,472 bacco.statistics : starting deposit 1\n",
      "2024-08-14 15:42:16,229 bacco.statistics :  mesh done in 20.8 s\n",
      "2024-08-14 15:42:16,230 bacco.BiasModel : mesh #1\n",
      "2024-08-14 15:42:16,231 bacco.statistics : Computing cic mesh with ngrid=1024 and interlacing=False\n",
      "2024-08-14 15:42:16,232 bacco.statistics : starting deposit 1\n",
      "2024-08-14 15:42:34,703 bacco.statistics :  mesh done in 18.5 s\n",
      "2024-08-14 15:42:34,706 bacco.BiasModel : mesh #2\n",
      "2024-08-14 15:42:34,707 bacco.statistics : Computing cic mesh with ngrid=1024 and interlacing=False\n",
      "2024-08-14 15:42:34,708 bacco.statistics : starting deposit 1\n",
      "2024-08-14 15:42:52,968 bacco.statistics :  mesh done in 18.3 s\n",
      "2024-08-14 15:42:52,972 bacco.BiasModel : mesh #3\n",
      "2024-08-14 15:42:52,972 bacco.statistics : Computing cic mesh with ngrid=1024 and interlacing=False\n",
      "2024-08-14 15:42:52,973 bacco.statistics : starting deposit 1\n",
      "2024-08-14 15:43:10,641 bacco.statistics :  mesh done in 17.7 s\n"
     ]
    },
    {
     "name": "stdout",
     "output_type": "stream",
     "text": [
      "reads 8; interlacing 0; deposit_method 1; log_binning 1; type 1; precision=single; correct_grid=0 (log=1); correct_sn=0\n",
      "bacco.power : normalise_grid1=0 normalise_grid2=0 deconvolve_grid1=1 deconvolve_grid2=1\n",
      "bacco.power : total mass 3.86083e-06 (grid1) -1.18369e-11 (grid2)\n",
      "bacco.power : Doing FFTW\n",
      "bacco.power: FFT took 0.788628 sec\n",
      "bacco.power : Counting modes\n",
      "bacco.power : done counting modes in 0.386325 sec\n",
      "bacco.power : Starting Fourier loop \n",
      "bacco.power : done Fourier loop in 0.000171 secs\n",
      "bacco.power : Deallocating arrays\n",
      "bacco.power : boxsize 1000.000000; ngrid 512; nthreads 8; interlacing 0; deposit_method 1; log_binning 1; type 1; precision=single; correct_grid=0 (log=1); correct_sn=0\n",
      "bacco.power : normalise_grid1=0 normalise_grid2=0 deconvolve_grid1=1 deconvolve_grid2=1\n",
      "bacco.power : total mass -1.78661e-07 (grid1) -1.78661e-07 (grid2)\n",
      "bacco.power : Doing FFTW\n",
      "bacco.power: FFT took 0.551473 sec\n",
      "bacco.power : Counting modes\n",
      "bacco.power : done counting modes in 0.389834 sec\n",
      "bacco.power : Starting Fourier loop \n",
      "bacco.power : done Fourier loop in 0.000176 secs\n",
      "bacco.power : Deallocating arrays\n",
      "bacco.power : boxsize 1000.000000; ngrid 512; nthreads 8; interlacing 0; deposit_method 1; log_binning 1; type 1; precision=single; correct_grid=0 (log=1); correct_sn=0\n",
      "bacco.power : normalise_grid1=0 normalise_grid2=0 deconvolve_grid1=1 deconvolve_grid2=1\n",
      "bacco.power : total mass -1.78661e-07 (grid1) -1.18369e-11 (grid2)\n",
      "bacco.power : Doing FFTW\n",
      "bacco.power: FFT took 0.795730 sec\n",
      "bacco.power : Counting modes\n",
      "bacco.power : done counting modes in 0.387628 sec\n",
      "bacco.power : Starting Fourier loop \n",
      "bacco.power : done Fourier loop in 0.000174 secs\n",
      "bacco.power : Deallocating arrays\n",
      "bacco.power : boxsize 1000.000000; ngrid 512; nthreads 8; interlacing 0; deposit_method 1; log_binning 1; type 1; precision=single; correct_grid=0 (log=1); correct_sn=0\n",
      "bacco.power : normalise_grid1=0 normalise_grid2=0 deconvolve_grid1=1 deconvolve_grid2=1\n",
      "bacco.power : total mass -1.18369e-11 (grid1) -1.18369e-11 (grid2)\n",
      "bacco.power : Doing FFTW\n",
      "bacco.power: FFT took 0.816321 sec\n",
      "bacco.power : Counting modes\n",
      "bacco.power : done counting modes in 0.393748 sec\n",
      "bacco.power : Starting Fourier loop \n",
      "bacco.power : done Fourier loop in 0.000174 secs\n",
      "bacco.power : Deallocating arrays\n",
      "bacco.cosmo :    begin reps RK computation\n",
      "bacco.cosmo :    end of RK computation. It took 0 s.\n",
      "bacco.mesh : boxsize=1000.000000 ngrid=256, nthreads=8, vel_factor=0.000000, interlacing=1, folds=1.000000, 2d=0\n",
      "bacco.mesh : allocating 128.0 Mb\n",
      "bacco.mesh : binning of 1073741824 particles (1 with mass)\n",
      "bacco.mesh : Using mass = 1.000000\n",
      "bacco.power : boxsize 1000.000000; ngrid 256; nthreads 8; interlacing 1; deposit_method 1; log_binning 1; type 0; precision=single; correct_grid=1 (log=1); correct_sn=0\n",
      "bacco.power : normalise_grid1=1 normalise_grid2=1 deconvolve_grid1=1 deconvolve_grid2=1\n",
      "bacco.power : total mass 1.07374e+09 (grid1) 1.07374e+09 (grid2)\n",
      "bacco.power : Doing FFTW\n",
      "bacco.power: FFT took 0.057427 sec\n",
      "bacco.power : Counting modes\n",
      "bacco.power : done counting modes in 0.181081 sec\n",
      "bacco.power : Starting Fourier loop \n",
      "bacco.power : done Fourier loop in 0.000388 secs\n",
      "bacco.power : Deallocating arrays\n",
      " bacco.lss_scaler : 488 P(k) values; Di = (1.000000, 1.000000, 1.000000, 1.000000); nthreads =8; seed =663 \n",
      "bacco.lss_scaler: start computing linear field...\n",
      "bacco.lss_scaler: seed =663 ngrid=1024 pkfixed=0 phase=0.000000, phase_type=0; precision=single \n",
      "bacco.lss: computing seed table\n",
      "bacco.mesh : boxsize=1000.000000 ngrid=1024, nthreads=8, vel_factor=0.000000, interlacing=0, folds=1.000000, 2d=0\n",
      "bacco.mesh : allocating 4096.0 Mb\n",
      "bacco.mesh : binning of 1073741824 particles (1073741824 with mass)\n",
      "bacco.mesh : boxsize=1000.000000 ngrid=1024, nthreads=8, vel_factor=0.000000, interlacing=0, folds=1.000000, 2d=0\n",
      "bacco.mesh : allocating 4096.0 Mb\n",
      "bacco.mesh : binning of 1073741824 particles (1073741824 with mass)\n",
      "bacco.mesh : boxsize=1000.000000 ngrid=1024, nthreads=8, vel_factor=0.000000, interlacing=0, folds=1.000000, 2d=0\n",
      "bacco.mesh : allocating 4096.0 Mb\n",
      "bacco.mesh : binning of 107374"
     ]
    },
    {
     "name": "stderr",
     "output_type": "stream",
     "text": [
      "2024-08-14 15:43:10,642 bacco.BiasModel : mesh #4\n",
      "2024-08-14 15:43:10,643 bacco.statistics : Computing cic mesh with ngrid=1024 and interlacing=False\n",
      "2024-08-14 15:43:10,644 bacco.statistics : starting deposit 1\n",
      "2024-08-14 15:43:27,992 bacco.statistics :  mesh done in 17.3 s\n",
      "2024-08-14 15:43:30,403 bacco.BiasModel : Finished computing bias terms in lagrangian space and moving to Eulerian.\n",
      "2024-08-14 15:43:30,404 bacco.BiasModel : Defining prod...\n",
      "2024-08-14 15:43:30,405 bacco.BiasModel : np.arange(bias_terms_eul.shape[0]) = [0 1 2 3 4]\n",
      "2024-08-14 15:43:33,695 bacco.statistics : Computing the power spectrum with ngrid=1024 and interlacing=False\n",
      "2024-08-14 15:43:52,583 bacco.statistics :  ...done in 18.9 s\n",
      "2024-08-14 15:43:56,409 bacco.statistics : Computing the power spectrum with ngrid=1024 and interlacing=False\n",
      "2024-08-14 15:44:17,615 bacco.statistics :  ...done in 21.2 s\n",
      "2024-08-14 15:44:21,776 bacco.statistics : Computing the power spectrum with ngrid=1024 and interlacing=False\n",
      "2024-08-14 15:44:44,205 bacco.statistics :  ...done in 22.4 s\n",
      "2024-08-14 15:44:47,935 bacco.statistics : Computing the power spectrum with ngrid=1024 and interlacing=False\n",
      "2024-08-14 15:45:08,712 bacco.statistics :  ...done in 20.8 s\n",
      "2024-08-14 15:45:12,806 bacco.statistics : Computing the power spectrum with ngrid=1024 and interlacing=False\n",
      "2024-08-14 15:45:35,221 bacco.statistics :  ...done in 22.4 s\n",
      "2024-08-14 15:45:39,196 bacco.statistics : Computing the power spectrum with ngrid=1024 and interlacing=False\n",
      "2024-08-14 15:45:59,923 bacco.statistics :  ...done in 20.7 s\n",
      "2024-08-14 15:46:04,237 bacco.statistics : Computing the power spectrum with ngrid=1024 and interlacing=False\n"
     ]
    },
    {
     "name": "stdout",
     "output_type": "stream",
     "text": [
      "1824 particles (1073741824 with mass)\n",
      "bacco.mesh : boxsize=1000.000000 ngrid=1024, nthreads=8, vel_factor=0.000000, interlacing=0, folds=1.000000, 2d=0\n",
      "bacco.mesh : allocating 4096.0 Mb\n",
      "bacco.mesh : binning of 1073741824 particles (1073741824 with mass)\n",
      "bacco.mesh : boxsize=1000.000000 ngrid=1024, nthreads=8, vel_factor=0.000000, interlacing=0, folds=1.000000, 2d=0\n",
      "bacco.mesh : allocating 4096.0 Mb\n",
      "bacco.mesh : binning of 1073741824 particles (1073741824 with mass)\n",
      "bacco.power : boxsize 1000.000000; ngrid 1024; nthreads 8; interlacing 0; deposit_method 1; log_binning 1; type 1; precision=single; correct_grid=0 (log=1); correct_sn=0\n",
      "bacco.power : normalise_grid1=0 normalise_grid2=0 deconvolve_grid1=1 deconvolve_grid2=1\n",
      "bacco.power : total mass 1 (grid1) 1 (grid2)\n",
      "bacco.power : Doing FFTW\n",
      "bacco.power: FFT took 4.404346 sec\n",
      "bacco.power : Counting modes\n",
      "bacco.power : done counting modes in 1.658874 sec\n",
      "bacco.power : Starting Fourier loop \n",
      "bacco.power : done Fourier loop in 0.000172 secs\n",
      "bacco.power : Deallocating arrays\n",
      "bacco.power : boxsize 1000.000000; ngrid 1024; nthreads 8; interlacing 0; deposit_method 1; log_binning 1; type 1; precision=single; correct_grid=0 (log=1); correct_sn=0\n",
      "bacco.power : normalise_grid1=0 normalise_grid2=0 deconvolve_grid1=1 deconvolve_grid2=1\n",
      "bacco.power : total mass 1 (grid1) -7.22357e-10 (grid2)\n",
      "bacco.power : Doing FFTW\n",
      "bacco.power: FFT took 5.014820 sec\n",
      "bacco.power : Counting modes\n",
      "bacco.power : done counting modes in 1.645039 sec\n",
      "bacco.power : Starting Fourier loop \n",
      "bacco.power : done Fourier loop in 0.000319 secs\n",
      "bacco.power : Deallocating arrays\n",
      "bacco.power : boxsize 1000.000000; ngrid 1024; nthreads 8; interlacing 0; deposit_method 1; log_binning 1; type 1; precision=single; correct_grid=0 (log=1); correct_sn=0\n",
      "bacco.power : normalise_grid1=0 normalise_grid2=0 deconvolve_grid1=1 deconvolve_grid2=1\n",
      "bacco.power : total mass 1 (grid1) -3.72167e-05 (grid2)\n",
      "bacco.power : Doing FFTW\n",
      "bacco.power: FFT took 6.224412 sec\n",
      "bacco.power : Counting modes\n",
      "bacco.power : done counting modes in 3.165839 sec\n",
      "bacco.power : Starting Fourier loop \n",
      "bacco.power : done Fourier loop in 0.000174 secs\n",
      "bacco.power : Deallocating arrays\n",
      "bacco.power : boxsize 1000.000000; ngrid 1024; nthreads 8; interlacing 0; deposit_method 1; log_binning 1; type 1; precision=single; correct_grid=0 (log=1); correct_sn=0\n",
      "bacco.power : normalise_grid1=0 normalise_grid2=0 deconvolve_grid1=1 deconvolve_grid2=1\n",
      "bacco.power : total mass 1 (grid1) -1.70256e-05 (grid2)\n",
      "bacco.power : Doing FFTW\n",
      "bacco.power: FFT took 4.581767 sec\n",
      "bacco.power : Counting modes\n",
      "bacco.power : done counting modes in 1.676121 sec\n",
      "bacco.power : Starting Fourier loop \n",
      "bacco.power : done Fourier loop in 0.000324 secs\n",
      "bacco.power : Deallocating arrays\n",
      "bacco.power : boxsize 1000.000000; ngrid 1024; nthreads 8; interlacing 0; deposit_method 1; log_binning 1; type 1; precision=single; correct_grid=0 (log=1); correct_sn=0\n",
      "bacco.power : normalise_grid1=0 normalise_grid2=0 deconvolve_grid1=1 deconvolve_grid2=1\n",
      "bacco.power : total mass 1 (grid1) 8.59238e-11 (grid2)\n",
      "bacco.power : Doing FFTW\n",
      "bacco.power: FFT took 6.063820 sec\n",
      "bacco.power : Counting modes\n",
      "bacco.power : done counting modes in 3.245577 sec\n",
      "bacco.power : Starting Fourier loop \n",
      "bacco.power : done Fourier loop in 0.000319 secs\n",
      "bacco.power : Deallocating arrays\n",
      "bacco.power : boxsize 1000.000000; ngrid 1024; nthreads 8; interlacing 0; deposit_method 1; log_binning 1; type 1; precision=single; correct_grid=0 (log=1); correct_sn=0\n",
      "bacco.power : normalise_grid1=0 normalise_grid2=0 deconvolve_grid1=1 deconvolve_grid2=1\n",
      "bacco.power : total mass -7.22357e-10 (grid1) -7.22357e-10 (grid2)\n",
      "bacco.power : Doing FFTW\n",
      "bacco.power: FFT took 4.538663 sec\n",
      "bacco.power : Counting modes\n",
      "bacco.power : done counting modes in 1.665458 sec\n",
      "bacco.power : Starting Fourier loop \n",
      "bacco.power : done Fourier loop in 0.000174 secs\n",
      "bacco.power : Deallocating arrays\n",
      "bacco.power : boxsize 1000.000000; ngrid 1024; nthreads 8; interlacing 0; deposit_method 1; log_binning 1; type 1; precision=single; correct_grid=0 (log=1); correct_sn=0\n",
      "bacco.power : norma"
     ]
    },
    {
     "name": "stderr",
     "output_type": "stream",
     "text": [
      "2024-08-14 15:46:25,718 bacco.statistics :  ...done in 21.5 s\n",
      "2024-08-14 15:46:29,985 bacco.statistics : Computing the power spectrum with ngrid=1024 and interlacing=False\n",
      "2024-08-14 15:46:49,713 bacco.statistics :  ...done in 19.7 s\n",
      "2024-08-14 15:46:53,424 bacco.statistics : Computing the power spectrum with ngrid=1024 and interlacing=False\n",
      "2024-08-14 15:47:14,132 bacco.statistics :  ...done in 20.7 s\n",
      "2024-08-14 15:47:17,886 bacco.statistics : Computing the power spectrum with ngrid=1024 and interlacing=False\n",
      "2024-08-14 15:47:40,904 bacco.statistics :  ...done in 23.0 s\n",
      "2024-08-14 15:47:44,623 bacco.statistics : Computing the power spectrum with ngrid=1024 and interlacing=False\n",
      "2024-08-14 15:48:05,408 bacco.statistics :  ...done in 20.8 s\n",
      "2024-08-14 15:48:09,534 bacco.statistics : Computing the power spectrum with ngrid=1024 and interlacing=False\n",
      "2024-08-14 15:48:32,546 bacco.statistics :  ...done in 23.0 s\n",
      "2024-08-14 15:48:36,269 bacco.statistics : Computing the power spectrum with ngrid=1024 and interlacing=False\n",
      "2024-08-14 15:48:55,194 bacco.statistics :  ...done in 18.9 s\n",
      "2024-08-14 15:48:59,279 bacco.statistics : Computing the power spectrum with ngrid=1024 and interlacing=False\n"
     ]
    },
    {
     "name": "stdout",
     "output_type": "stream",
     "text": [
      "lise_grid1=0 normalise_grid2=0 deconvolve_grid1=1 deconvolve_grid2=1\n",
      "bacco.power : total mass -7.22357e-10 (grid1) -3.72167e-05 (grid2)\n",
      "bacco.power : Doing FFTW\n",
      "bacco.power: FFT took 5.362602 sec\n",
      "bacco.power : Counting modes\n",
      "bacco.power : done counting modes in 1.636663 sec\n",
      "bacco.power : Starting Fourier loop \n",
      "bacco.power : done Fourier loop in 0.000181 secs\n",
      "bacco.power : Deallocating arrays\n",
      "bacco.power : boxsize 1000.000000; ngrid 1024; nthreads 8; interlacing 0; deposit_method 1; log_binning 1; type 1; precision=single; correct_grid=0 (log=1); correct_sn=0\n",
      "bacco.power : normalise_grid1=0 normalise_grid2=0 deconvolve_grid1=1 deconvolve_grid2=1\n",
      "bacco.power : total mass -7.22357e-10 (grid1) -1.70256e-05 (grid2)\n",
      "bacco.power : Doing FFTW\n",
      "bacco.power: FFT took 5.345059 sec\n",
      "bacco.power : Counting modes\n",
      "bacco.power : done counting modes in 1.638075 sec\n",
      "bacco.power : Starting Fourier loop \n",
      "bacco.power : done Fourier loop in 0.000171 secs\n",
      "bacco.power : Deallocating arrays\n",
      "bacco.power : boxsize 1000.000000; ngrid 1024; nthreads 8; interlacing 0; deposit_method 1; log_binning 1; type 1; precision=single; correct_grid=0 (log=1); correct_sn=0\n",
      "bacco.power : normalise_grid1=0 normalise_grid2=0 deconvolve_grid1=1 deconvolve_grid2=1\n",
      "bacco.power : total mass -7.22357e-10 (grid1) 8.59238e-11 (grid2)\n",
      "bacco.power : Doing FFTW\n",
      "bacco.power: FFT took 4.521507 sec\n",
      "bacco.power : Counting modes\n",
      "bacco.power : done counting modes in 1.655671 sec\n",
      "bacco.power : Starting Fourier loop \n",
      "bacco.power : done Fourier loop in 0.000173 secs\n",
      "bacco.power : Deallocating arrays\n",
      "bacco.power : boxsize 1000.000000; ngrid 1024; nthreads 8; interlacing 0; deposit_method 1; log_binning 1; type 1; precision=single; correct_grid=0 (log=1); correct_sn=0\n",
      "bacco.power : normalise_grid1=0 normalise_grid2=0 deconvolve_grid1=1 deconvolve_grid2=1\n",
      "bacco.power : total mass -3.72167e-05 (grid1) -3.72167e-05 (grid2)\n",
      "bacco.power : Doing FFTW\n",
      "bacco.power: FFT took 6.540004 sec\n",
      "bacco.power : Counting modes\n",
      "bacco.power : done counting modes in 3.440638 sec\n",
      "bacco.power : Starting Fourier loop \n",
      "bacco.power : done Fourier loop in 0.000182 secs\n",
      "bacco.power : Deallocating arrays\n",
      "bacco.power : boxsize 1000.000000; ngrid 1024; nthreads 8; interlacing 0; deposit_method 1; log_binning 1; type 1; precision=single; correct_grid=0 (log=1); correct_sn=0\n",
      "bacco.power : normalise_grid1=0 normalise_grid2=0 deconvolve_grid1=1 deconvolve_grid2=1\n",
      "bacco.power : total mass -3.72167e-05 (grid1) -1.70256e-05 (grid2)\n",
      "bacco.power : Doing FFTW\n",
      "bacco.power: FFT took 4.618137 sec\n",
      "bacco.power : Counting modes\n",
      "bacco.power : done counting modes in 1.657263 sec\n",
      "bacco.power : Starting Fourier loop \n",
      "bacco.power : done Fourier loop in 0.000174 secs\n",
      "bacco.power : Deallocating arrays\n",
      "bacco.power : boxsize 1000.000000; ngrid 1024; nthreads 8; interlacing 0; deposit_method 1; log_binning 1; type 1; precision=single; correct_grid=0 (log=1); correct_sn=0\n",
      "bacco.power : normalise_grid1=0 normalise_grid2=0 deconvolve_grid1=1 deconvolve_grid2=1\n",
      "bacco.power : total mass -3.72167e-05 (grid1) 8.59238e-11 (grid2)\n",
      "bacco.power : Doing FFTW\n",
      "bacco.power: FFT took 7.060272 sec\n",
      "bacco.power : Counting modes\n",
      "bacco.power : done counting modes in 1.673369 sec\n",
      "bacco.power : Starting Fourier loop \n",
      "bacco.power : done Fourier loop in 0.000329 secs\n",
      "bacco.power : Deallocating arrays\n",
      "bacco.power : boxsize 1000.000000; ngrid 1024; nthreads 8; interlacing 0; deposit_method 1; log_binning 1; type 1; precision=single; correct_grid=0 (log=1); correct_sn=0\n",
      "bacco.power : normalise_grid1=0 normalise_grid2=0 deconvolve_grid1=1 deconvolve_grid2=1\n",
      "bacco.power : total mass -1.70256e-05 (grid1) -1.70256e-05 (grid2)\n",
      "bacco.power : Doing FFTW\n",
      "bacco.power: FFT took 4.402611 sec\n",
      "bacco.power : Counting modes\n",
      "bacco.power : done counting modes in 1.645760 sec\n",
      "bacco.power : Starting Fourier loop \n",
      "bacco.power : done Fourier loop in 0.000173 secs\n",
      "bacco.power : Deallocating arrays\n",
      "bacco.power : boxsize 1000.000000; ngrid 1024; nthreads 8; interlacing 0; deposit_method 1; log_binning 1; type 1; precision=single; correct_grid=0 (log=1); correct_sn=0\n",
      "bacco.power : normalise_grid1"
     ]
    },
    {
     "name": "stderr",
     "output_type": "stream",
     "text": [
      "2024-08-14 15:49:20,192 bacco.statistics :  ...done in 20.9 s\n",
      "2024-08-14 15:49:23,487 bacco.statistics : Computing the power spectrum with ngrid=1024 and interlacing=False\n",
      "2024-08-14 15:49:42,094 bacco.statistics :  ...done in 18.6 s\n",
      "2024-08-14 15:49:42,570 bacco.BiasModel : Done computing power spectra terms.\n"
     ]
    }
   ],
   "source": [
    "pk = bmodel.compute_power_terms(kmin=0.01, kmax=1, nbins=50, log_binning=True, correct_grid=False)"
   ]
  },
  {
   "cell_type": "code",
   "execution_count": null,
   "id": "ee447b1c-aa26-4db1-875e-91b6badd49ac",
   "metadata": {},
   "outputs": [],
   "source": []
  },
  {
   "cell_type": "code",
   "execution_count": 224,
   "id": "26c448a7-3a3c-4326-8bb9-7473f3f006a4",
   "metadata": {
    "tags": []
   },
   "outputs": [
    {
     "name": "stderr",
     "output_type": "stream",
     "text": [
      "2024-08-14 15:49:43,390 bacco.statistics : Computing the power spectrum with ngrid=1024 and interlacing=False\n",
      "2024-08-14 15:50:14,484 bacco.util : pk multipoles at k 0.010481130666019545 set to zero: it seems you have a lot of bins for this grid size\n",
      "2024-08-14 15:50:14,486 bacco.util : pk multipoles at k 0.01151395323963562 set to zero: it seems you have a lot of bins for this grid size\n",
      "/scratch/reangulo/work_edr/baccogit/bacco/statistics.py:1259: RankWarning: Polyfit may be poorly conditioned\n",
      "  multi, p2ds, moments=pkmulti(k, mu, p2d, nmodes=nmodes)\n",
      "/scratch/reangulo/work_edr/baccogit/bacco/statistics.py:1259: RankWarning: Polyfit may be poorly conditioned\n",
      "  multi, p2ds, moments=pkmulti(k, mu, p2d, nmodes=nmodes)\n",
      "/scratch/reangulo/work_edr/baccogit/bacco/statistics.py:1259: RankWarning: Polyfit may be poorly conditioned\n",
      "  multi, p2ds, moments=pkmulti(k, mu, p2d, nmodes=nmodes)\n",
      "2024-08-14 15:50:14,492 bacco.util : pk multipoles at k 0.016768328203371985 set to zero: it seems you have a lot of bins for this grid size\n",
      "/scratch/reangulo/work_edr/baccogit/bacco/statistics.py:1259: RankWarning: Polyfit may be poorly conditioned\n",
      "  multi, p2ds, moments=pkmulti(k, mu, p2d, nmodes=nmodes)\n",
      "2024-08-14 15:50:14,557 bacco.util : pk multipoles at k 1.0481130151536422 set to zero: it seems you have a lot of bins for this grid size\n",
      "2024-08-14 15:50:14,557 bacco.statistics :  ...done in 31.2 s\n"
     ]
    }
   ],
   "source": [
    "lt_k = np.logspace(np.log10(np.pi / sim.header['BoxSize']), np.log10(2 * np.pi / sim.header['BoxSize'] * ngrid), num=100)\n",
    "\n",
    "pk_lt = {'k':lt_k, 'pk':sim.Cosmology.get_powerspec(lt_k), 'pk_nlin':sim.Cosmology.get_powerspec(lt_k), 'pk_lt_log': False}\n",
    "pk_delta = bacco.statistics.compute_crossspectrum_twogrids(grid1=bmodel.linear_field, pk_lt = pk_lt, box=sim.header['BoxSize'], cosmology=sim.Cosmology, \n",
    "                                                           grid2=bmodel.linear_field, interlacing=False, ngrid=ngrid,\n",
    "                                                           normalise_grid1=False,\n",
    "                                                           normalise_grid2=False,\n",
    "                                                           deconvolve_grid1=False,\n",
    "                                                           deconvolve_grid2=False, correct_grid=False,\n",
    "                                                          kmin=0.01, kmax=1, nbins=50, log_binning=True)"
   ]
  },
  {
   "cell_type": "code",
   "execution_count": 225,
   "id": "57c6adef-34fb-4e3c-9682-90b20fa3a3bf",
   "metadata": {},
   "outputs": [],
   "source": [
    "pk_pt, labels_pt = bacco.utils.compute_pt_15_basis_terms(sim.Cosmology, expfactor=1, wavemode=lt_k,  damping=0.75)"
   ]
  },
  {
   "cell_type": "markdown",
   "id": "98f8185b-492a-49bf-af80-669276d04081",
   "metadata": {},
   "source": [
    "# Results"
   ]
  },
  {
   "cell_type": "code",
   "execution_count": 226,
   "id": "ecdb530c-594b-454e-a48b-c4b830a0ee33",
   "metadata": {},
   "outputs": [
    {
     "name": "stderr",
     "output_type": "stream",
     "text": [
      "/tmp/ipykernel_61448/4090915416.py:8: RuntimeWarning: invalid value encountered in divide\n",
      "  ax[1].semilogx(pk[i]['k'], pk[i]['pk']/pk[0]['pk'], label=labels_pt[i], c=c[0].get_color())\n",
      "/tmp/ipykernel_61448/4090915416.py:12: RuntimeWarning: invalid value encountered in divide\n",
      "  ax[1].plot(pksim['k'], pksim['pk']/pk[0]['pk'], 'o', c=c[0].get_color())\n",
      "/tmp/ipykernel_61448/4090915416.py:17: RuntimeWarning: invalid value encountered in divide\n",
      "  ax[1].plot(pk_delta['k'], pk_delta['pk']/ngrid**6/pk[0]['pk'], ls=\"-.\", c=c[0].get_color())\n",
      "/tmp/ipykernel_61448/4090915416.py:24: RuntimeWarning: divide by zero encountered in divide\n",
      "  ax[1].plot(pk_delta['k'], 0.855273*pk_camb_i/pk[0]['pk'], ls=\"-.\", c=c[0].get_color())\n"
     ]
    },
    {
     "data": {
      "text/plain": [
       "(0.01, 1)"
      ]
     },
     "execution_count": 226,
     "metadata": {},
     "output_type": "execute_result"
    },
    {
     "data": {
      "image/png": "[encoded data removed]",
      "text/plain": [
       "<Figure size 1000x800 with 2 Axes>"
      ]
     },
     "metadata": {},
     "output_type": "display_data"
    }
   ],
   "source": [
    "fig, ax = plt.subplots(2,1, figsize=(10,8), sharex=True)\n",
    "ax[0].set_title(\"a = {0:.2}\".format(sim.header[\"Time\"]))\n",
    "\n",
    "for i in [0,1,5]:\n",
    "    c=ax[0].loglog(pk[i]['k'], pk[i]['pk'], label=labels_pt[i])\n",
    "    ax[0].loglog(lt_k, pk_pt[i],ls=':', color=c[0].get_color())\n",
    "\n",
    "    ax[1].semilogx(pk[i]['k'], pk[i]['pk']/pk[0]['pk'], label=labels_pt[i], c=c[0].get_color())\n",
    "    ax[1].plot(lt_k, pk_pt[i]/pk_pt[0],ls=':', color=c[0].get_color())\n",
    "\n",
    "c=ax[0].loglog(pksim['k'], pksim['pk'], 'o', label=\"Quijote\")\n",
    "ax[1].plot(pksim['k'], pksim['pk']/pk[0]['pk'], 'o', c=c[0].get_color())\n",
    "\n",
    "ax[0].loglog(pk[i]['k'], sim.Cosmology.get_powerspec(pk[i]['k']), ls=':', label=\"Pert/Linear Theory\")\n",
    "\n",
    "c=ax[0].loglog(pk_delta['k'], pk_delta['pk']/ngrid**6, label='$\\delta_L(x)$', ls=\"-.\")\n",
    "ax[1].plot(pk_delta['k'], pk_delta['pk']/ngrid**6/pk[0]['pk'], ls=\"-.\", c=c[0].get_color())\n",
    "\n",
    "kk, pk_camb = np.loadtxt(\"/dipc/reangulo/tmp/663/ICs/Pk_mm_z=0.000.txt\", unpack=True)\n",
    "pk_camb_i = np.exp(np.interp(np.log(pk_delta['k']), np.log(kk), np.log(pk_camb)))\n",
    "\n",
    "\n",
    "c=ax[0].plot(kk, 0.855273*pk_camb, label=\"CAMB\",ls=\"-.\")\n",
    "ax[1].plot(pk_delta['k'], 0.855273*pk_camb_i/pk[0]['pk'], ls=\"-.\", c=c[0].get_color())\n",
    "\n",
    "ax[1].set_xlabel(\"k [h/Mpc]\")\n",
    "ax[0].set_ylabel(\"P\")\n",
    "ax[1].set_ylabel(\"$\\Delta P/P_{11}$\")\n",
    "\n",
    "ax[0].legend()\n",
    "ax[1].set_ylim([0.9,1.1])\n",
    "ax[0].set_ylim([1e2,1e5])\n",
    "ax[0].set_xlim([1e-2,1])"
   ]
  },
  {
   "cell_type": "code",
   "execution_count": 172,
   "id": "1feebbe8-d914-4333-9fba-118b31ed25ff",
   "metadata": {},
   "outputs": [],
   "source": []
  }
 ],
 "metadata": {
  "kernelspec": {
   "display_name": "Python 3 (ipykernel)",
   "language": "python",
   "name": "python3"
  },
  "language_info": {
   "codemirror_mode": {
    "name": "ipython",
    "version": 3
   },
   "file_extension": ".py",
   "mimetype": "text/x-python",
   "name": "python",
   "nbconvert_exporter": "python",
   "pygments_lexer": "ipython3",
   "version": "3.9.15"
  }
 },
 "nbformat": 4,
 "nbformat_minor": 5
}
