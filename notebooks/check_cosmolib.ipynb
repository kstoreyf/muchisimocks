{
 "cells": [
  {
   "cell_type": "code",
   "execution_count": 98,
   "metadata": {},
   "outputs": [
    {
     "name": "stdout",
     "output_type": "stream",
     "text": [
      "The autoreload extension is already loaded. To reload it, use:\n",
      "  %reload_ext autoreload\n"
     ]
    }
   ],
   "source": [
    "import numpy as np\n",
    "import matplotlib as mpl\n",
    "from matplotlib import pyplot as plt\n",
    "from multiprocessing import Pool, cpu_count\n",
    "import os\n",
    "import time\n",
    "\n",
    "import bacco\n",
    "\n",
    "import sys\n",
    "sys.path.append('/dipc/kstoreyf/muchisimocks/scripts')\n",
    "#import sbi_tools\n",
    "import plot_utils\n",
    "#import scripts\n",
    "# from scripts import sbi_tools\n",
    "#from scripts import plot_utils\n",
    "#import generate_emuPks as genP\n",
    "\n",
    "%load_ext autoreload\n",
    "%autoreload 2"
   ]
  },
  {
   "cell_type": "code",
   "execution_count": 99,
   "metadata": {},
   "outputs": [],
   "source": [
    "dir_mocks = '../data/cosmolib/'"
   ]
  },
  {
   "cell_type": "code",
   "execution_count": 100,
   "metadata": {},
   "outputs": [],
   "source": [
    "idx_LH = 0"
   ]
  },
  {
   "cell_type": "code",
   "execution_count": 101,
   "metadata": {},
   "outputs": [
    {
     "name": "stdout",
     "output_type": "stream",
     "text": [
      "{'omega_cold': 0.2775274936564327, 'sigma_8': 0.7049140324569382, 'h': 0.7241123952301097, 'omega_baryon': 0.049, 'n_s': 0.9624, 'seed': 0.0}\n"
     ]
    }
   ],
   "source": [
    "param_names = ['omega_cold', 'sigma_8',  'h', 'omega_baryon', 'n_s', 'seed']\n",
    "param_vals = np.loadtxt(f'{dir_mocks}/LH{idx_LH}/cosmo_{idx_LH}.txt')\n",
    "param_dict = dict(zip(param_names, param_vals))\n",
    "print(param_dict)"
   ]
  },
  {
   "cell_type": "code",
   "execution_count": 102,
   "metadata": {},
   "outputs": [
    {
     "name": "stdout",
     "output_type": "stream",
     "text": [
      "(5, 128, 128, 128)\n",
      "-708.9023 3009.281\n",
      "-1313.885 4600.993\n",
      "-2288.3235 7788.8594\n",
      "-845.49646 1074.5205\n",
      "-158.66951 86.10809\n"
     ]
    }
   ],
   "source": [
    "bias_terms_eul = np.load(f'{dir_mocks}/LH{idx_LH}/Eulerian_fields_lr_{idx_LH}.npy')\n",
    "print(bias_terms_eul.shape)\n",
    "for i in range(bias_terms_eul.shape[0]):\n",
    "    print(np.min(bias_terms_eul[i]), np.max(bias_terms_eul[i]))"
   ]
  },
  {
   "cell_type": "code",
   "execution_count": 103,
   "metadata": {},
   "outputs": [],
   "source": [
    "n_grid = bias_terms_eul.shape[-1]"
   ]
  },
  {
   "cell_type": "code",
   "execution_count": 104,
   "metadata": {},
   "outputs": [],
   "source": [
    "norm=n_grid**3\n",
    "bias_terms_eul_norm = bias_terms_eul/norm"
   ]
  },
  {
   "cell_type": "code",
   "execution_count": 105,
   "metadata": {},
   "outputs": [],
   "source": [
    "bias_vector = [1., 0., 0., 0.]"
   ]
  },
  {
   "cell_type": "code",
   "execution_count": 106,
   "metadata": {},
   "outputs": [],
   "source": [
    "def sum_bias_fields(fields, bias_vector):\n",
    "    bias_vector_extended = np.concatenate(([1.0], bias_vector))\n",
    "    return np.sum(fields*bias_vector_extended)"
   ]
  },
  {
   "cell_type": "code",
   "execution_count": 107,
   "metadata": {},
   "outputs": [],
   "source": [
    "#bias_terms_eul_0_norm = bias_terms_eul[0]/512**3\n",
    "tracer_field_eul = bacco.utils.sum_bias_model_terms_py(zeroth=bias_terms_eul[0], \n",
    "                                            first=bias_terms_eul[1],\n",
    "                                            second=bias_terms_eul[2], \n",
    "                                            tidal=bias_terms_eul[3], \n",
    "                                            laplacian=bias_terms_eul[4], \n",
    "                                            b1=bias_vector[0], b2=bias_vector[1], b3=bias_vector[2], \n",
    "                                            b4=bias_vector[3], ngrid=128)\n",
    "\n",
    "tracer_field_eul_norm = tracer_field_eul/np.mean(tracer_field_eul)\n",
    "tracer_field_eul_norm128 = tracer_field_eul/128**3\n",
    "tracer_field_eul_norm512 = tracer_field_eul/512**3"
   ]
  },
  {
   "cell_type": "code",
   "execution_count": 108,
   "metadata": {},
   "outputs": [],
   "source": [
    "bias_vector_b1is0 = [0., 0., 0., 0.]\n",
    "tracer_field_eul_b1is0 = bacco.utils.sum_bias_model_terms_py(zeroth=bias_terms_eul[0], \n",
    "                                            first=bias_terms_eul[1],\n",
    "                                            second=bias_terms_eul[2], \n",
    "                                            tidal=bias_terms_eul[3], \n",
    "                                            laplacian=bias_terms_eul[4], \n",
    "                                            b1=bias_vector_b1is0[0], b2=bias_vector_b1is0[1], b3=bias_vector_b1is0[2], \n",
    "                                            b4=bias_vector_b1is0[3], ngrid=128)\n",
    "\n",
    "tracer_field_eul_b1is0_norm = tracer_field_eul_b1is0/np.mean(tracer_field_eul_b1is0)\n",
    "tracer_field_eul_b1is0_norm128 = tracer_field_eul_b1is0/128**3\n",
    "tracer_field_eul_b1is0_norm512 = tracer_field_eul_b1is0/512**3"
   ]
  },
  {
   "cell_type": "code",
   "execution_count": 109,
   "metadata": {},
   "outputs": [
    {
     "data": {
      "text/plain": [
       "(64.000015, 63.999996)"
      ]
     },
     "execution_count": 109,
     "metadata": {},
     "output_type": "execute_result"
    }
   ],
   "source": [
    "np.mean(tracer_field_eul), np.mean(tracer_field_eul_b1is0)"
   ]
  },
  {
   "cell_type": "code",
   "execution_count": 150,
   "metadata": {},
   "outputs": [
    {
     "name": "stdout",
     "output_type": "stream",
     "text": [
      "(128, 128, 128) -2022.7874 7610.2744\n",
      "(128, 128, 128) -31.606045 118.91051\n",
      "(128, 128, 128) -0.0009645401732996106 0.0036288616247475147\n",
      "(128, 128, 128) -1.507094e-05 5.6700963e-05\n"
     ]
    }
   ],
   "source": [
    "print(tracer_field_eul.shape, np.min(tracer_field_eul), np.max(tracer_field_eul))\n",
    "print(tracer_field_eul_norm.shape, np.min(tracer_field_eul_norm), np.max(tracer_field_eul_norm))\n",
    "print(tracer_field_eul_norm128.shape, np.min(tracer_field_eul_norm128), np.max(tracer_field_eul_norm128))\n",
    "print(tracer_field_eul_norm512.shape, np.min(tracer_field_eul_norm512), np.max(tracer_field_eul_norm512))"
   ]
  },
  {
   "cell_type": "code",
   "execution_count": 111,
   "metadata": {},
   "outputs": [
    {
     "name": "stdout",
     "output_type": "stream",
     "text": [
      "(128, 128) -944.54004 4016.366\n"
     ]
    },
    {
     "data": {
      "image/png": "[encoded data removed]",
      "text/plain": [
       "<Figure size 640x480 with 2 Axes>"
      ]
     },
     "metadata": {},
     "output_type": "display_data"
    }
   ],
   "source": [
    " # Set normalisation\n",
    "from matplotlib.colors import SymLogNorm\n",
    "norm = SymLogNorm(\n",
    "        linthresh=0.01, linscale=0.1, \n",
    "        #linthresh=0.001, linscale=0.001, \n",
    "        vmin=-0.2, vmax=0.2\n",
    "        )\n",
    "\n",
    "field_2d = tracer_field_eul[2,:,:]\n",
    "print(field_2d.shape, np.min(field_2d), np.max(field_2d))\n",
    "\n",
    "plt.imshow(field_2d, norm=norm, cmap='RdBu')\n",
    "plt.colorbar()\n",
    "plt.show()"
   ]
  },
  {
   "cell_type": "code",
   "execution_count": 112,
   "metadata": {},
   "outputs": [
    {
     "name": "stderr",
     "output_type": "stream",
     "text": [
      "2024-02-20 18:04:19,439 bacco.cosmo :    initialization took 0.000 secs\n"
     ]
    }
   ],
   "source": [
    "a_scale = 1\n",
    "cosmopars = dict(\n",
    "        omega_cdm=param_dict['omega_cold'],\n",
    "        omega_baryon=param_dict['omega_baryon'],\n",
    "        hubble=param_dict['h'],\n",
    "        ns=param_dict['n_s'],\n",
    "        sigma8=param_dict['sigma_8'],\n",
    "        tau=0.0561,\n",
    "        A_s=None,\n",
    "        neutrino_mass=0.,\n",
    "        w0=-1,\n",
    "        wa=0,\n",
    "    )\n",
    "\n",
    "cosmo = bacco.Cosmology(**cosmopars)\n",
    "cosmo.set_expfactor(a_scale)"
   ]
  },
  {
   "cell_type": "code",
   "execution_count": 113,
   "metadata": {},
   "outputs": [],
   "source": [
    "box_size = 1000\n",
    "\n",
    "k_min = 0.01\n",
    "k_max = 1\n",
    "n_bins = 30\n",
    "log_binning = True"
   ]
  },
  {
   "cell_type": "code",
   "execution_count": 114,
   "metadata": {},
   "outputs": [],
   "source": [
    "args_power = {'ngrid':n_grid,\n",
    "            'box':box_size,\n",
    "            'cosmology':cosmo,\n",
    "            'interlacing':False,\n",
    "            'kmin':k_min,\n",
    "            'kmax':k_max,\n",
    "            'nbins':n_bins,\n",
    "            'correct_grid':True,\n",
    "            'log_binning':log_binning,\n",
    "            'deposit_method':'cic',\n",
    "            'compute_correlation':False,\n",
    "            'zspace':False,\n",
    "            'compute_power2d':False}"
   ]
  },
  {
   "cell_type": "code",
   "execution_count": 115,
   "metadata": {},
   "outputs": [
    {
     "name": "stderr",
     "output_type": "stream",
     "text": [
      "2024-02-20 18:04:21,585 bacco.statistics : Computing the power spectrum with ngrid=128 and interlacing=False\n",
      "2024-02-20 18:04:21,711 bacco.cosmo :    computed CAMB power spectrum at z=0.00 in 0.124 secs\n",
      "2024-02-20 18:04:21,842 bacco.cosmo :    created Pk(z=0) tab from k 6.905005284352228e-05 to 100000.0 h/Mpc\n",
      "2024-02-20 18:04:21,937 bacco.cosmo :    computed halofit at z=0.00 for 'Default' in 0.002 secs\n"
     ]
    },
    {
     "name": "stdout",
     "output_type": "stream",
     "text": [
      "bacco.power : boxsize 1000.000000; ngrid 128; nthreads 48; interlacing 0; deposit_method 1; log_binning 1; type 1; precision=single; correct_grid=1 (log=1); correct_sn=0\n",
      "bacco.power : normalise_grid1=1 normalise_grid2=1 deconvolve_grid1=0 deconvolve_grid2=0\n",
      "bacco.power : total mass 1.34218e+08 (grid1) 1.34218e+08 (grid2)\n",
      "bacco.power : Doing FFTW\n",
      "bacco.power: FFT took 0.071541 sec\n",
      "bacco.power : Counting modes\n",
      "bacco.power : done counting modes in 0.380687 sec\n",
      "bacco.power : Starting Fourier loop \n",
      "bacco.power : done Fourier loop in 0.000152 secs\n",
      "bacco.power : Deallocating arrays\n"
     ]
    },
    {
     "name": "stderr",
     "output_type": "stream",
     "text": [
      "2024-02-20 18:04:22,572 bacco.statistics :  ...done in 0.986 s\n"
     ]
    }
   ],
   "source": [
    "pk = bacco.statistics.compute_crossspectrum_twogrids(\n",
    "                        grid1=tracer_field_eul,\n",
    "                        grid2=tracer_field_eul,\n",
    "                        normalise_grid1=True,\n",
    "                        normalise_grid2=True,\n",
    "                        deconvolve_grid1=False,\n",
    "                        deconvolve_grid2=False,\n",
    "                        **args_power)"
   ]
  },
  {
   "cell_type": "code",
   "execution_count": 116,
   "metadata": {},
   "outputs": [
    {
     "name": "stderr",
     "output_type": "stream",
     "text": [
      "2024-02-20 18:04:23,241 bacco.statistics : Computing the power spectrum with ngrid=128 and interlacing=False\n"
     ]
    },
    {
     "name": "stdout",
     "output_type": "stream",
     "text": [
      "bacco.power : boxsize 1000.000000; ngrid 128; nthreads 48; interlacing 0; deposit_method 1; log_binning 1; type 1; precision=single; correct_grid=1 (log=1); correct_sn=0\n",
      "bacco.power : normalise_grid1=1 normalise_grid2=1 deconvolve_grid1=0 deconvolve_grid2=0\n",
      "bacco.power : total mass 64 (grid1) 64 (grid2)\n",
      "bacco.power : Doing FFTW\n",
      "bacco.power: FFT took 0.088151 sec\n",
      "bacco.power : Counting modes\n"
     ]
    },
    {
     "name": "stderr",
     "output_type": "stream",
     "text": [
      "2024-02-20 18:04:23,875 bacco.statistics :  ...done in 0.634 s\n"
     ]
    },
    {
     "name": "stdout",
     "output_type": "stream",
     "text": [
      "bacco.power : done counting modes in 0.424412 sec\n",
      "bacco.power : Starting Fourier loop \n",
      "bacco.power : done Fourier loop in 0.000421 secs\n",
      "bacco.power : Deallocating arrays\n"
     ]
    }
   ],
   "source": [
    "pk_norm128 = bacco.statistics.compute_crossspectrum_twogrids(\n",
    "                        grid1=tracer_field_eul_norm128,\n",
    "                        grid2=tracer_field_eul_norm128,\n",
    "                        normalise_grid1=True,\n",
    "                        normalise_grid2=True,\n",
    "                        deconvolve_grid1=False,\n",
    "                        deconvolve_grid2=False,\n",
    "                        **args_power)"
   ]
  },
  {
   "cell_type": "code",
   "execution_count": 117,
   "metadata": {},
   "outputs": [
    {
     "name": "stderr",
     "output_type": "stream",
     "text": [
      "2024-02-20 18:04:24,631 bacco.statistics : Computing the power spectrum with ngrid=128 and interlacing=False\n"
     ]
    },
    {
     "name": "stdout",
     "output_type": "stream",
     "text": [
      "bacco.power : boxsize 1000.000000; ngrid 128; nthreads 48; interlacing 0; deposit_method 1; log_binning 1; type 1; precision=single; correct_grid=1 (log=1); correct_sn=0\n",
      "bacco.power : normalise_grid1=0 normalise_grid2=0 deconvolve_grid1=0 deconvolve_grid2=0\n",
      "bacco.power : total mass 64 (grid1) 64 (grid2)\n",
      "bacco.power : Doing FFTW\n",
      "bacco.power: FFT took 0.108012 sec\n",
      "bacco.power : Counting modes\n",
      "bacco.power : done counting modes in 0.384710 sec\n"
     ]
    },
    {
     "name": "stderr",
     "output_type": "stream",
     "text": [
      "2024-02-20 18:04:25,196 bacco.statistics :  ...done in 0.565 s\n"
     ]
    },
    {
     "name": "stdout",
     "output_type": "stream",
     "text": [
      "bacco.power : Starting Fourier loop \n",
      "bacco.power : done Fourier loop in 0.000411 secs\n",
      "bacco.power : Deallocating arrays\n"
     ]
    }
   ],
   "source": [
    "pk_norm128_normgridfalse = bacco.statistics.compute_crossspectrum_twogrids(\n",
    "                        grid1=tracer_field_eul_norm128,\n",
    "                        grid2=tracer_field_eul_norm128,\n",
    "                        normalise_grid1=False,\n",
    "                        normalise_grid2=False,\n",
    "                        deconvolve_grid1=False,\n",
    "                        deconvolve_grid2=False,\n",
    "                        **args_power)"
   ]
  },
  {
   "cell_type": "code",
   "execution_count": 152,
   "metadata": {},
   "outputs": [
    {
     "name": "stderr",
     "output_type": "stream",
     "text": [
      "2024-02-20 18:27:43,940 bacco.statistics : Computing the power spectrum with ngrid=128 and interlacing=False\n"
     ]
    },
    {
     "name": "stdout",
     "output_type": "stream",
     "text": [
      "bacco.power : boxsize 1000.000000; ngrid 128; nthreads 48; interlacing 0; deposit_method 1; log_binning 1; type 1; precision=single; correct_grid=1 (log=1); correct_sn=0\n",
      "bacco.power : normalise_grid1=0 normalise_grid2=0 deconvolve_grid1=0 deconvolve_grid2=0\n",
      "bacco.power : total mass 1 (grid1) 1 (grid2)\n",
      "bacco.power : Doing FFTW\n",
      "bacco.power: FFT took 0.044231 sec\n",
      "bacco.power : Counting modes\n"
     ]
    },
    {
     "name": "stderr",
     "output_type": "stream",
     "text": [
      "2024-02-20 18:27:44,310 bacco.statistics :  ...done in 0.37 s\n"
     ]
    },
    {
     "name": "stdout",
     "output_type": "stream",
     "text": [
      "bacco.power : done counting modes in 0.293732 sec\n",
      "bacco.power : Starting Fourier loop \n",
      "bacco.power : done Fourier loop in 0.000445 secs\n",
      "bacco.power : Deallocating arrays\n"
     ]
    }
   ],
   "source": [
    "pk_norm512_normgridfalse = bacco.statistics.compute_crossspectrum_twogrids(\n",
    "                        grid1=tracer_field_eul_norm512,\n",
    "                        grid2=tracer_field_eul_norm512,\n",
    "                        normalise_grid1=False,\n",
    "                        normalise_grid2=False,\n",
    "                        deconvolve_grid1=False,\n",
    "                        deconvolve_grid2=False,\n",
    "                        **args_power)"
   ]
  },
  {
   "cell_type": "code",
   "execution_count": 118,
   "metadata": {},
   "outputs": [
    {
     "name": "stderr",
     "output_type": "stream",
     "text": [
      "2024-02-20 18:04:25,742 bacco.statistics : Computing the power spectrum with ngrid=128 and interlacing=False\n"
     ]
    },
    {
     "name": "stdout",
     "output_type": "stream",
     "text": [
      "bacco.power : boxsize 1000.000000; ngrid 128; nthreads 48; interlacing 0; deposit_method 1; log_binning 1; type 1; precision=single; correct_grid=1 (log=1); correct_sn=0\n",
      "bacco.power : normalise_grid1=0 normalise_grid2=0 deconvolve_grid1=0 deconvolve_grid2=0\n",
      "bacco.power : total mass 1.34218e+08 (grid1) 1.34218e+08 (grid2)\n",
      "bacco.power : Doing FFTW\n",
      "bacco.power: FFT took 0.120269 sec\n",
      "bacco.power : Counting modes\n"
     ]
    },
    {
     "name": "stderr",
     "output_type": "stream",
     "text": [
      "2024-02-20 18:04:26,232 bacco.statistics :  ...done in 0.49 s\n"
     ]
    },
    {
     "name": "stdout",
     "output_type": "stream",
     "text": [
      "bacco.power : done counting modes in 0.337652 sec\n",
      "bacco.power : Starting Fourier loop \n",
      "bacco.power : done Fourier loop in 0.000420 secs\n",
      "bacco.power : Deallocating arrays\n",
      "[1.81014034e+21 2.10315865e+21 1.36909297e+21 1.56118311e+21\n",
      " 2.54282428e+21 1.48913904e+21 1.43826475e+21 1.13905793e+21\n",
      " 9.68676721e+20 7.42190954e+20 6.87571861e+20 6.55455799e+20\n",
      " 5.57835176e+20 4.31106464e+20 3.24359299e+20 2.79648899e+20\n",
      " 2.33277815e+20 1.81063950e+20 1.52338688e+20 1.20494560e+20\n",
      " 9.99804579e+19 8.15229495e+19 6.75455097e+19 5.55876065e+19\n",
      " 4.55632372e+19 3.66570112e+19 2.81421079e+19 0.00000000e+00\n",
      " 0.00000000e+00 0.00000000e+00]\n"
     ]
    }
   ],
   "source": [
    "pk_normgridfalse = bacco.statistics.compute_crossspectrum_twogrids(\n",
    "                        grid1=tracer_field_eul,\n",
    "                        grid2=tracer_field_eul,\n",
    "                        normalise_grid1=False,\n",
    "                        normalise_grid2=False,\n",
    "                        deconvolve_grid1=False,\n",
    "                        deconvolve_grid2=False,\n",
    "                        **args_power)\n",
    "print(pk_normgridfalse['pk'])"
   ]
  },
  {
   "cell_type": "code",
   "execution_count": 119,
   "metadata": {},
   "outputs": [
    {
     "name": "stderr",
     "output_type": "stream",
     "text": [
      "2024-02-20 18:04:26,867 bacco.statistics : Computing the power spectrum with ngrid=128 and interlacing=False\n"
     ]
    },
    {
     "name": "stdout",
     "output_type": "stream",
     "text": [
      "bacco.power : boxsize 1000.000000; ngrid 128; nthreads 48; interlacing 0; deposit_method 1; log_binning 1; type 1; precision=single; correct_grid=1 (log=1); correct_sn=0\n",
      "bacco.power : normalise_grid1=0 normalise_grid2=0 deconvolve_grid1=0 deconvolve_grid2=0\n",
      "bacco.power : total mass 1.34218e+08 (grid1) 1.34218e+08 (grid2)\n",
      "bacco.power : Doing FFTW\n",
      "bacco.power: FFT took 0.057274 sec\n",
      "bacco.power : Counting modes\n",
      "bacco.power : done counting modes in 0.320482 sec\n",
      "bacco.power : Starting Fourier loop \n",
      "bacco.power : done Fourier loop in 0.000410 secs\n",
      "bacco.power : Deallocating arrays\n"
     ]
    },
    {
     "name": "stderr",
     "output_type": "stream",
     "text": [
      "2024-02-20 18:04:27,280 bacco.statistics :  ...done in 0.413 s\n"
     ]
    },
    {
     "name": "stdout",
     "output_type": "stream",
     "text": [
      "[4.44778660e+20 5.18550257e+20 3.34496796e+20 3.82352297e+20\n",
      " 6.23298675e+20 3.62907591e+20 3.51986441e+20 2.76980170e+20\n",
      " 2.33775044e+20 1.78858275e+20 1.65104673e+20 1.56912863e+20\n",
      " 1.32299141e+20 1.00768980e+20 7.48158999e+19 6.36566598e+19\n",
      " 5.21948465e+19 3.94328914e+19 3.24308771e+19 2.48761620e+19\n",
      " 2.00343599e+19 1.57637394e+19 1.25883179e+19 9.94133327e+18\n",
      " 7.76302118e+18 5.97954745e+18 4.40196764e+18 0.00000000e+00\n",
      " 0.00000000e+00 0.00000000e+00]\n"
     ]
    }
   ],
   "source": [
    "pk_b1is0_normgridfalse = bacco.statistics.compute_crossspectrum_twogrids(\n",
    "                        grid1=tracer_field_eul_b1is0,\n",
    "                        grid2=tracer_field_eul_b1is0,\n",
    "                        normalise_grid1=False,\n",
    "                        normalise_grid2=False,\n",
    "                        deconvolve_grid1=False,\n",
    "                        deconvolve_grid2=False,\n",
    "                        **args_power)\n",
    "print(pk_b1is0_normgridfalse['pk'])"
   ]
  },
  {
   "cell_type": "code",
   "execution_count": 120,
   "metadata": {},
   "outputs": [
    {
     "name": "stderr",
     "output_type": "stream",
     "text": [
      "2024-02-20 18:04:27,977 bacco.statistics : Computing the power spectrum with ngrid=128 and interlacing=False\n"
     ]
    },
    {
     "name": "stdout",
     "output_type": "stream",
     "text": [
      "bacco.power : boxsize 1000.000000; ngrid 128; nthreads 48; interlacing 0; deposit_method 1; log_binning 1; type 1; precision=single; correct_grid=1 (log=1); correct_sn=0\n",
      "bacco.power : normalise_grid1=0 normalise_grid2=0 deconvolve_grid1=0 deconvolve_grid2=0\n"
     ]
    },
    {
     "name": "stderr",
     "output_type": "stream",
     "text": [
      "2024-02-20 18:04:28,390 bacco.statistics :  ...done in 0.413 s\n"
     ]
    },
    {
     "name": "stdout",
     "output_type": "stream",
     "text": [
      "bacco.power : total mass 1 (grid1) 1 (grid2)\n",
      "bacco.power : Doing FFTW\n",
      "bacco.power: FFT took 0.051247 sec\n",
      "bacco.power : Counting modes\n",
      "bacco.power : done counting modes in 0.307960 sec\n",
      "bacco.power : Starting Fourier loop \n",
      "bacco.power : done Fourier loop in 0.000189 secs\n",
      "bacco.power : Deallocating arrays\n"
     ]
    }
   ],
   "source": [
    "pk_norm512_normgridfalse = bacco.statistics.compute_crossspectrum_twogrids(\n",
    "                        grid1=tracer_field_eul_norm512,\n",
    "                        grid2=tracer_field_eul_norm512,\n",
    "                        normalise_grid1=False,\n",
    "                        normalise_grid2=False,\n",
    "                        deconvolve_grid1=False,\n",
    "                        deconvolve_grid2=False,\n",
    "                        **args_power)"
   ]
  },
  {
   "cell_type": "code",
   "execution_count": 121,
   "metadata": {},
   "outputs": [
    {
     "name": "stderr",
     "output_type": "stream",
     "text": [
      "2024-02-20 18:04:29,041 bacco.statistics : Computing the power spectrum with ngrid=128 and interlacing=False\n"
     ]
    },
    {
     "name": "stdout",
     "output_type": "stream",
     "text": [
      "bacco.power : boxsize 1000.000000; ngrid 128; nthreads 48; interlacing 0; deposit_method 1; log_binning 1; type 1; precision=single; correct_grid=1 (log=1); correct_sn=0\n",
      "bacco.power : normalise_grid1=0 normalise_grid2=0 deconvolve_grid1=0 deconvolve_grid2=0\n",
      "bacco.power : total mass 1 (grid1) 1 (grid2)\n",
      "bacco.power : Doing FFTW\n",
      "bacco.power: FFT took 0.025916 sec\n",
      "bacco.power : Counting modes\n"
     ]
    },
    {
     "name": "stderr",
     "output_type": "stream",
     "text": [
      "2024-02-20 18:04:29,447 bacco.statistics :  ...done in 0.405 s\n"
     ]
    },
    {
     "name": "stdout",
     "output_type": "stream",
     "text": [
      "bacco.power : done counting modes in 0.298966 sec\n",
      "bacco.power : Starting Fourier loop \n",
      "bacco.power : done Fourier loop in 0.000161 secs\n",
      "bacco.power : Deallocating arrays\n"
     ]
    }
   ],
   "source": [
    "pk_b1is0_norm512_normgridfalse = bacco.statistics.compute_crossspectrum_twogrids(\n",
    "                        grid1=tracer_field_eul_b1is0_norm512,\n",
    "                        grid2=tracer_field_eul_b1is0_norm512,\n",
    "                        normalise_grid1=False,\n",
    "                        normalise_grid2=False,\n",
    "                        deconvolve_grid1=False,\n",
    "                        deconvolve_grid2=False,\n",
    "                        **args_power)"
   ]
  },
  {
   "cell_type": "code",
   "execution_count": 122,
   "metadata": {},
   "outputs": [
    {
     "name": "stderr",
     "output_type": "stream",
     "text": [
      "2024-02-20 18:04:30,069 bacco.statistics : Computing the power spectrum with ngrid=128 and interlacing=False\n"
     ]
    },
    {
     "name": "stdout",
     "output_type": "stream",
     "text": [
      "bacco.power : boxsize 1000.000000; ngrid 128; nthreads 48; interlacing 0; deposit_method 1; log_binning 1; type 1; precision=single; correct_grid=1 (log=1); correct_sn=0\n",
      "bacco.power : normalise_grid1=1 normalise_grid2=1 deconvolve_grid1=0 deconvolve_grid2=0\n",
      "bacco.power : total mass 1.34218e+08 (grid1) 1.34218e+08 (grid2)\n",
      "bacco.power : Doing FFTW\n",
      "bacco.power: FFT took 0.046003 sec\n",
      "bacco.power : Counting modes\n"
     ]
    },
    {
     "name": "stderr",
     "output_type": "stream",
     "text": [
      "2024-02-20 18:04:30,484 bacco.statistics :  ...done in 0.415 s\n"
     ]
    },
    {
     "name": "stdout",
     "output_type": "stream",
     "text": [
      "bacco.power : done counting modes in 0.325895 sec\n",
      "bacco.power : Starting Fourier loop \n",
      "bacco.power : done Fourier loop in 0.000569 secs\n",
      "bacco.power : Deallocating arrays\n"
     ]
    }
   ],
   "source": [
    "pk_nonorm = bacco.statistics.compute_crossspectrum_twogrids(\n",
    "                        grid1=tracer_field_eul,\n",
    "                        grid2=tracer_field_eul,\n",
    "                        normalise_grid1=True,\n",
    "                        normalise_grid2=True,\n",
    "                        deconvolve_grid1=False,\n",
    "                        deconvolve_grid2=False,\n",
    "                        **args_power)"
   ]
  },
  {
   "cell_type": "code",
   "execution_count": 123,
   "metadata": {},
   "outputs": [
    {
     "name": "stderr",
     "output_type": "stream",
     "text": [
      "2024-02-20 18:04:31,112 bacco.statistics : Computing the power spectrum with ngrid=128 and interlacing=False\n"
     ]
    },
    {
     "name": "stdout",
     "output_type": "stream",
     "text": [
      "bacco.power : boxsize 1000.000000; ngrid 128; nthreads 48; interlacing 0; deposit_method 1; log_binning 1; type 1; precision=single; correct_grid=1 (log=1); correct_sn=0\n",
      "bacco.power : normalise_grid1=1 normalise_grid2=1 deconvolve_grid1=0 deconvolve_grid2=0\n",
      "bacco.power : total mass 1.34218e+08 (grid1) 1.34218e+08 (grid2)\n",
      "bacco.power : Doing FFTW\n",
      "bacco.power: FFT took 0.061706 sec\n",
      "bacco.power : Counting modes\n"
     ]
    },
    {
     "name": "stderr",
     "output_type": "stream",
     "text": [
      "2024-02-20 18:04:31,536 bacco.statistics :  ...done in 0.424 s\n"
     ]
    },
    {
     "name": "stdout",
     "output_type": "stream",
     "text": [
      "bacco.power : done counting modes in 0.327585 sec\n",
      "bacco.power : Starting Fourier loop \n",
      "bacco.power : done Fourier loop in 0.000170 secs\n",
      "bacco.power : Deallocating arrays\n"
     ]
    }
   ],
   "source": [
    "pk_b1is0 = bacco.statistics.compute_crossspectrum_twogrids(\n",
    "                        grid1=tracer_field_eul_b1is0,\n",
    "                        grid2=tracer_field_eul_b1is0,\n",
    "                        normalise_grid1=True,\n",
    "                        normalise_grid2=True,\n",
    "                        deconvolve_grid1=False,\n",
    "                        deconvolve_grid2=False,\n",
    "                        **args_power)"
   ]
  },
  {
   "cell_type": "code",
   "execution_count": 124,
   "metadata": {},
   "outputs": [
    {
     "name": "stderr",
     "output_type": "stream",
     "text": [
      "2024-02-20 18:04:32,213 bacco.statistics : Computing the power spectrum with ngrid=128 and interlacing=False\n"
     ]
    },
    {
     "name": "stdout",
     "output_type": "stream",
     "text": [
      "bacco.power : boxsize 1000.000000; ngrid 128; nthreads 48; interlacing 0; deposit_method 1; log_binning 1; type 1; precision=single; correct_grid=1 (log=1); correct_sn=0\n",
      "bacco.power : normalise_grid1=0 normalise_grid2=0 deconvolve_grid1=0 deconvolve_grid2=0\n",
      "bacco.power : total mass 1 (grid1) 1 (grid2)\n",
      "bacco.power : Doing FFTW\n",
      "bacco.power: FFT took 0.027105 sec\n",
      "bacco.power : Counting modes\n"
     ]
    },
    {
     "name": "stderr",
     "output_type": "stream",
     "text": [
      "2024-02-20 18:04:32,564 bacco.statistics :  ...done in 0.35 s\n"
     ]
    },
    {
     "name": "stdout",
     "output_type": "stream",
     "text": [
      "bacco.power : done counting modes in 0.292813 sec\n",
      "bacco.power : Starting Fourier loop \n",
      "bacco.power : done Fourier loop in 0.000152 secs\n",
      "bacco.power : Deallocating arrays\n"
     ]
    }
   ],
   "source": [
    "tracer_field_eul_norm512 = tracer_field_eul/512**3.\n",
    "pk_norm512 = bacco.statistics.compute_crossspectrum_twogrids(\n",
    "                        grid1=tracer_field_eul_norm512,\n",
    "                        grid2=tracer_field_eul_norm512,\n",
    "                        normalise_grid1=False,\n",
    "                        normalise_grid2=False,\n",
    "                        deconvolve_grid1=False,\n",
    "                        deconvolve_grid2=False,\n",
    "                        **args_power)"
   ]
  },
  {
   "cell_type": "code",
   "execution_count": 125,
   "metadata": {},
   "outputs": [],
   "source": [
    "lt_k = np.logspace(np.log10(np.pi / box_size), np.log10(2 * np.pi / box_size * n_grid), num=90)\n",
    "pk_lpt = bacco.utils.compute_pt_15_basis_terms(cosmo, expfactor=cosmo.expfactor, wavemode=lt_k)"
   ]
  },
  {
   "cell_type": "code",
   "execution_count": 126,
   "metadata": {},
   "outputs": [
    {
     "data": {
      "text/plain": [
       "(-708.9023, 3009.281)"
      ]
     },
     "execution_count": 126,
     "metadata": {},
     "output_type": "execute_result"
    }
   ],
   "source": [
    "np.min(bias_terms_eul[0]), np.max(bias_terms_eul[0])"
   ]
  },
  {
   "cell_type": "code",
   "execution_count": 127,
   "metadata": {},
   "outputs": [],
   "source": [
    "bias_terms_eul_norm512 = bias_terms_eul / 512**3\n",
    "#bias_terms_eul_norm[0] /= 512**(3)"
   ]
  },
  {
   "cell_type": "code",
   "execution_count": 128,
   "metadata": {},
   "outputs": [
    {
     "name": "stderr",
     "output_type": "stream",
     "text": [
      "2024-02-20 18:04:36,740 bacco.statistics : Computing the power spectrum with ngrid=128 and interlacing=False\n"
     ]
    },
    {
     "name": "stdout",
     "output_type": "stream",
     "text": [
      "bacco.power : boxsize 1000.000000; ngrid 128; nthreads 48; interlacing 0; deposit_method 1; log_binning 1; type 1; precision=single; correct_grid=1 (log=1); correct_sn=0\n",
      "bacco.power : normalise_grid1=1 normalise_grid2=1 deconvolve_grid1=0 deconvolve_grid2=0\n",
      "bacco.power : total mass 1 (grid1) 1 (grid2)\n",
      "bacco.power : Doing FFTW\n",
      "bacco.power: FFT took 0.054271 sec\n",
      "bacco.power : Counting modes\n"
     ]
    },
    {
     "name": "stderr",
     "output_type": "stream",
     "text": [
      "2024-02-20 18:04:37,161 bacco.statistics :  ...done in 0.421 s\n"
     ]
    },
    {
     "name": "stdout",
     "output_type": "stream",
     "text": [
      "bacco.power : done counting modes in 0.305693 sec\n",
      "bacco.power : Starting Fourier loop \n",
      "bacco.power : done Fourier loop in 0.000284 secs\n",
      "bacco.power : Deallocating arrays\n"
     ]
    }
   ],
   "source": [
    "pk_11_norm512 = bacco.statistics.compute_crossspectrum_twogrids(\n",
    "                        grid1=bias_terms_eul_norm512[0],\n",
    "                        grid2=bias_terms_eul_norm512[0],\n",
    "                        normalise_grid1=True,\n",
    "                        normalise_grid2=True,\n",
    "                        deconvolve_grid1=False,\n",
    "                        deconvolve_grid2=False,\n",
    "                        **args_power)"
   ]
  },
  {
   "cell_type": "code",
   "execution_count": 129,
   "metadata": {},
   "outputs": [
    {
     "name": "stderr",
     "output_type": "stream",
     "text": [
      "2024-02-20 18:04:37,752 bacco.statistics : Computing the power spectrum with ngrid=128 and interlacing=False\n"
     ]
    },
    {
     "name": "stdout",
     "output_type": "stream",
     "text": [
      "bacco.power : boxsize 1000.000000; ngrid 128; nthreads 48; interlacing 0; deposit_method 1; log_binning 1; type 1; precision=single; correct_grid=1 (log=1); correct_sn=0\n",
      "bacco.power : normalise_grid1=1 normalise_grid2=1 deconvolve_grid1=0 deconvolve_grid2=0\n",
      "bacco.power : total mass -9.83972e-11 (grid1) -9.83972e-11 (grid2)\n",
      "bacco.power : Doing FFTW\n",
      "bacco.power: FFT took 0.057519 sec\n",
      "bacco.power : Counting modes\n",
      "bacco.power : done counting modes in 0.292028 sec\n"
     ]
    },
    {
     "name": "stderr",
     "output_type": "stream",
     "text": [
      "2024-02-20 18:04:38,160 bacco.statistics :  ...done in 0.408 s\n"
     ]
    },
    {
     "name": "stdout",
     "output_type": "stream",
     "text": [
      "bacco.power : Starting Fourier loop \n",
      "bacco.power : done Fourier loop in 0.000622 secs\n",
      "bacco.power : Deallocating arrays\n"
     ]
    }
   ],
   "source": [
    "pk_dd_norm512 = bacco.statistics.compute_crossspectrum_twogrids(\n",
    "                        grid1=bias_terms_eul_norm512[1],\n",
    "                        grid2=bias_terms_eul_norm512[1],\n",
    "                        normalise_grid1=True,\n",
    "                        normalise_grid2=True,\n",
    "                        deconvolve_grid1=False,\n",
    "                        deconvolve_grid2=False,\n",
    "                        **args_power)"
   ]
  },
  {
   "cell_type": "code",
   "execution_count": 130,
   "metadata": {},
   "outputs": [
    {
     "name": "stderr",
     "output_type": "stream",
     "text": [
      "2024-02-20 18:04:38,800 bacco.statistics : Computing the power spectrum with ngrid=128 and interlacing=False\n"
     ]
    },
    {
     "name": "stdout",
     "output_type": "stream",
     "text": [
      "bacco.power : boxsize 1000.000000; ngrid 128; nthreads 48; interlacing 0; deposit_method 1; log_binning 1; type 1; precision=single; correct_grid=1 (log=1); correct_sn=0\n",
      "bacco.power : normalise_grid1=0 normalise_grid2=0 deconvolve_grid1=0 deconvolve_grid2=0\n",
      "bacco.power : total mass -0.0132066 (grid1) -0.0132066 (grid2)\n",
      "bacco.power : Doing FFTW\n",
      "bacco.power: FFT took 0.065410 sec\n",
      "bacco.power : Counting modes\n"
     ]
    },
    {
     "name": "stderr",
     "output_type": "stream",
     "text": [
      "2024-02-20 18:04:39,223 bacco.statistics :  ...done in 0.423 s\n"
     ]
    },
    {
     "name": "stdout",
     "output_type": "stream",
     "text": [
      "bacco.power : done counting modes in 0.330549 sec\n",
      "bacco.power : Starting Fourier loop \n",
      "bacco.power : done Fourier loop in 0.000149 secs\n",
      "bacco.power : Deallocating arrays\n"
     ]
    }
   ],
   "source": [
    "pk_dd_nonorm = bacco.statistics.compute_crossspectrum_twogrids(\n",
    "                        grid1=bias_terms_eul[1],\n",
    "                        grid2=bias_terms_eul[1],\n",
    "                        normalise_grid1=False,\n",
    "                        normalise_grid2=False,\n",
    "                        deconvolve_grid1=False,\n",
    "                        deconvolve_grid2=False,\n",
    "                        **args_power)"
   ]
  },
  {
   "cell_type": "code",
   "execution_count": 131,
   "metadata": {},
   "outputs": [
    {
     "name": "stderr",
     "output_type": "stream",
     "text": [
      "2024-02-20 18:04:39,924 bacco.statistics : Computing the power spectrum with ngrid=128 and interlacing=False\n"
     ]
    },
    {
     "name": "stdout",
     "output_type": "stream",
     "text": [
      "bacco.power : boxsize 1000.000000; ngrid 128; nthreads 48; interlacing 0; deposit_method 1; log_binning 1; type 1; precision=single; correct_grid=1 (log=1); correct_sn=0\n",
      "bacco.power : normalise_grid1=0 normalise_grid2=0 deconvolve_grid1=0 deconvolve_grid2=0\n",
      "bacco.power : total mass -6.29742e-09 (grid1) -6.29742e-09 (grid2)\n",
      "bacco.power : Doing FFTW\n",
      "bacco.power: FFT took 0.024276 sec\n",
      "bacco.power : Counting modes\n"
     ]
    },
    {
     "name": "stderr",
     "output_type": "stream",
     "text": [
      "2024-02-20 18:04:40,365 bacco.statistics :  ...done in 0.441 s\n"
     ]
    },
    {
     "name": "stdout",
     "output_type": "stream",
     "text": [
      "bacco.power : done counting modes in 0.331190 sec\n",
      "bacco.power : Starting Fourier loop \n",
      "bacco.power : done Fourier loop in 0.012845 secs\n",
      "bacco.power : Deallocating arrays\n"
     ]
    }
   ],
   "source": [
    "bias_terms_eul_norm128 = bias_terms_eul / 128**3\n",
    "pk_dd_norm128 = bacco.statistics.compute_crossspectrum_twogrids(\n",
    "                        grid1=bias_terms_eul_norm128[1],\n",
    "                        grid2=bias_terms_eul_norm128[1],\n",
    "                        normalise_grid1=False,\n",
    "                        normalise_grid2=False,\n",
    "                        deconvolve_grid1=False,\n",
    "                        deconvolve_grid2=False,\n",
    "                        **args_power)"
   ]
  },
  {
   "cell_type": "code",
   "execution_count": 154,
   "metadata": {},
   "outputs": [
    {
     "name": "stderr",
     "output_type": "stream",
     "text": [
      "2024-02-20 18:30:31,038 bacco.statistics : Computing the power spectrum with ngrid=128 and interlacing=False\n"
     ]
    },
    {
     "name": "stdout",
     "output_type": "stream",
     "text": [
      "bacco.power : boxsize 1000.000000; ngrid 128; nthreads 48; interlacing 0; deposit_method 1; log_binning 1; type 1; precision=single; correct_grid=1 (log=1); correct_sn=0\n",
      "bacco.power : normalise_grid1=0 normalise_grid2=0 deconvolve_grid1=0 deconvolve_grid2=0\n",
      "bacco.power : total mass 1 (grid1) 1 (grid2)\n",
      "bacco.power : Doing FFTW\n",
      "bacco.power: FFT took 0.021416 sec\n",
      "bacco.power : Counting modes\n"
     ]
    },
    {
     "name": "stderr",
     "output_type": "stream",
     "text": [
      "2024-02-20 18:30:31,454 bacco.statistics :  ...done in 0.416 s\n",
      "2024-02-20 18:30:31,458 bacco.statistics : Computing the power spectrum with ngrid=128 and interlacing=False\n"
     ]
    },
    {
     "name": "stdout",
     "output_type": "stream",
     "text": [
      "bacco.power : done counting modes in 0.328572 sec\n",
      "bacco.power : Starting Fourier loop \n",
      "bacco.power : done Fourier loop in 0.000410 secs\n",
      "bacco.power : Deallocating arrays\n",
      "bacco.power : boxsize 1000.000000; ngrid 128; nthreads 48; interlacing 0; deposit_method 1; log_binning 1; type 1; precision=single; correct_grid=1 (log=1); correct_sn=0\n",
      "bacco.power : normalise_grid1=0 normalise_grid2=0 deconvolve_grid1=0 deconvolve_grid2=0\n",
      "bacco.power : total mass 1 (grid1) -9.83972e-11 (grid2)\n",
      "bacco.power : Doing FFTW\n",
      "bacco.power: FFT took 0.043318 sec\n",
      "bacco.power : Counting modes\n"
     ]
    },
    {
     "name": "stderr",
     "output_type": "stream",
     "text": [
      "2024-02-20 18:30:31,879 bacco.statistics :  ...done in 0.422 s\n",
      "2024-02-20 18:30:31,880 bacco.statistics : Computing the power spectrum with ngrid=128 and interlacing=False\n"
     ]
    },
    {
     "name": "stdout",
     "output_type": "stream",
     "text": [
      "bacco.power : done counting modes in 0.329643 sec\n",
      "bacco.power : Starting Fourier loop \n",
      "bacco.power : done Fourier loop in 0.000426 secs\n",
      "bacco.power : Deallocating arrays\n",
      "bacco.power : boxsize 1000.000000; ngrid 128; nthreads 48; interlacing 0; deposit_method 1; log_binning 1; type 1; precision=single; correct_grid=1 (log=1); correct_sn=0\n",
      "bacco.power : normalise_grid1=0 normalise_grid2=0 deconvolve_grid1=0 deconvolve_grid2=0\n",
      "bacco.power : total mass 1 (grid1) -8.04241e-06 (grid2)\n",
      "bacco.power : Doing FFTW\n",
      "bacco.power: FFT took 0.035164 sec\n",
      "bacco.power : Counting modes\n"
     ]
    },
    {
     "name": "stderr",
     "output_type": "stream",
     "text": [
      "2024-02-20 18:30:32,263 bacco.statistics :  ...done in 0.383 s\n",
      "2024-02-20 18:30:32,273 bacco.statistics : Computing the power spectrum with ngrid=128 and interlacing=False\n"
     ]
    },
    {
     "name": "stdout",
     "output_type": "stream",
     "text": [
      "bacco.power : done counting modes in 0.289709 sec\n",
      "bacco.power : Starting Fourier loop \n",
      "bacco.power : done Fourier loop in 0.000207 secs\n",
      "bacco.power : Deallocating arrays\n",
      "bacco.power : boxsize 1000.000000; ngrid 128; nthreads 48; interlacing 0; deposit_method 1; log_binning 1; type 1; precision=single; correct_grid=1 (log=1); correct_sn=0\n",
      "bacco.power : normalise_grid1=0 normalise_grid2=0 deconvolve_grid1=0 deconvolve_grid2=0\n",
      "bacco.power : total mass 1 (grid1) 8.03671e-07 (grid2)\n",
      "bacco.power : Doing FFTW\n",
      "bacco.power: FFT took 0.040466 sec\n",
      "bacco.power : Counting modes\n"
     ]
    },
    {
     "name": "stderr",
     "output_type": "stream",
     "text": [
      "2024-02-20 18:30:32,684 bacco.statistics :  ...done in 0.411 s\n",
      "2024-02-20 18:30:32,685 bacco.statistics : Computing the power spectrum with ngrid=128 and interlacing=False\n"
     ]
    },
    {
     "name": "stdout",
     "output_type": "stream",
     "text": [
      "bacco.power : done counting modes in 0.305611 sec\n",
      "bacco.power : Starting Fourier loop \n",
      "bacco.power : done Fourier loop in 0.000614 secs\n",
      "bacco.power : Deallocating arrays\n",
      "bacco.power : boxsize 1000.000000; ngrid 128; nthreads 48; interlacing 0; deposit_method 1; log_binning 1; type 1; precision=single; correct_grid=1 (log=1); correct_sn=0\n",
      "bacco.power : normalise_grid1=0 normalise_grid2=0 deconvolve_grid1=0 deconvolve_grid2=0\n",
      "bacco.power : total mass 1 (grid1) 6.07881e-11 (grid2)\n",
      "bacco.power : Doing FFTW\n",
      "bacco.power: FFT took 0.041570 sec\n",
      "bacco.power : Counting modes\n",
      "bacco.power : done counting modes in 0.297549 sec\n",
      "bacco.power : Starting Fourier loop \n",
      "bacco.power : done Fourier loop in 0.000532 secs\n",
      "bacco.power : Deallocating arrays\n"
     ]
    },
    {
     "name": "stderr",
     "output_type": "stream",
     "text": [
      "2024-02-20 18:30:33,094 bacco.statistics :  ...done in 0.41 s\n",
      "2024-02-20 18:30:33,095 bacco.statistics : Computing the power spectrum with ngrid=128 and interlacing=False\n"
     ]
    },
    {
     "name": "stdout",
     "output_type": "stream",
     "text": [
      "bacco.power : boxsize 1000.000000; ngrid 128; nthreads 48; interlacing 0; deposit_method 1; log_binning 1; type 1; precision=single; correct_grid=1 (log=1); correct_sn=0\n",
      "bacco.power : normalise_grid1=0 normalise_grid2=0 deconvolve_grid1=0 deconvolve_grid2=0\n",
      "bacco.power : total mass -9.83972e-11 (grid1) -9.83972e-11 (grid2)\n",
      "bacco.power : Doing FFTW\n",
      "bacco.power: FFT took 0.010754 sec\n",
      "bacco.power : Counting modes\n",
      "bacco.power : done counting modes in 0.324026 sec\n",
      "bacco.power : Starting Fourier loop \n",
      "bacco.power : done Fourier loop in 0.000200 secs\n",
      "bacco.power : Deallocating arrays\n"
     ]
    },
    {
     "name": "stderr",
     "output_type": "stream",
     "text": [
      "2024-02-20 18:30:33,517 bacco.statistics :  ...done in 0.422 s\n",
      "2024-02-20 18:30:33,518 bacco.statistics : Computing the power spectrum with ngrid=128 and interlacing=False\n"
     ]
    },
    {
     "name": "stdout",
     "output_type": "stream",
     "text": [
      "bacco.power : boxsize 1000.000000; ngrid 128; nthreads 48; interlacing 0; deposit_method 1; log_binning 1; type 1; precision=single; correct_grid=1 (log=1); correct_sn=0\n",
      "bacco.power : normalise_grid1=0 normalise_grid2=0 deconvolve_grid1=0 deconvolve_grid2=0\n",
      "bacco.power : total mass -9.83972e-11 (grid1) -8.04241e-06 (grid2)\n",
      "bacco.power : Doing FFTW\n",
      "bacco.power: FFT took 0.045673 sec\n",
      "bacco.power : Counting modes\n"
     ]
    },
    {
     "name": "stderr",
     "output_type": "stream",
     "text": [
      "2024-02-20 18:30:33,965 bacco.statistics :  ...done in 0.447 s\n",
      "2024-02-20 18:30:33,966 bacco.statistics : Computing the power spectrum with ngrid=128 and interlacing=False\n"
     ]
    },
    {
     "name": "stdout",
     "output_type": "stream",
     "text": [
      "bacco.power : done counting modes in 0.303868 sec\n",
      "bacco.power : Starting Fourier loop \n",
      "bacco.power : done Fourier loop in 0.000328 secs\n",
      "bacco.power : Deallocating arrays\n",
      "bacco.power : boxsize 1000.000000; ngrid 128; nthreads 48; interlacing 0; deposit_method 1; log_binning 1; type 1; precision=single; correct_grid=1 (log=1); correct_sn=0\n",
      "bacco.power : normalise_grid1=0 normalise_grid2=0 deconvolve_grid1=0 deconvolve_grid2=0\n",
      "bacco.power : total mass -9.83972e-11 (grid1) 8.03671e-07 (grid2)\n",
      "bacco.power : Doing FFTW\n",
      "bacco.power: FFT took 0.059829 sec\n",
      "bacco.power : Counting modes\n"
     ]
    },
    {
     "name": "stderr",
     "output_type": "stream",
     "text": [
      "2024-02-20 18:30:34,393 bacco.statistics :  ...done in 0.427 s\n",
      "2024-02-20 18:30:34,394 bacco.statistics : Computing the power spectrum with ngrid=128 and interlacing=False\n"
     ]
    },
    {
     "name": "stdout",
     "output_type": "stream",
     "text": [
      "bacco.power : done counting modes in 0.294001 sec\n",
      "bacco.power : Starting Fourier loop \n",
      "bacco.power : done Fourier loop in 0.000237 secs\n",
      "bacco.power : Deallocating arrays\n",
      "bacco.power : boxsize 1000.000000; ngrid 128; nthreads 48; interlacing 0; deposit_method 1; log_binning 1; type 1; precision=single; correct_grid=1 (log=1); correct_sn=0\n",
      "bacco.power : normalise_grid1=0 normalise_grid2=0 deconvolve_grid1=0 deconvolve_grid2=0\n"
     ]
    },
    {
     "name": "stderr",
     "output_type": "stream",
     "text": [
      "2024-02-20 18:30:34,815 bacco.statistics :  ...done in 0.421 s\n",
      "2024-02-20 18:30:34,816 bacco.statistics : Computing the power spectrum with ngrid=128 and interlacing=False\n"
     ]
    },
    {
     "name": "stdout",
     "output_type": "stream",
     "text": [
      "bacco.power : total mass -9.83972e-11 (grid1) 6.07881e-11 (grid2)\n",
      "bacco.power : Doing FFTW\n",
      "bacco.power: FFT took 0.037333 sec\n",
      "bacco.power : Counting modes\n",
      "bacco.power : done counting modes in 0.300222 sec\n",
      "bacco.power : Starting Fourier loop \n",
      "bacco.power : done Fourier loop in 0.000621 secs\n",
      "bacco.power : Deallocating arrays\n",
      "bacco.power : boxsize 1000.000000; ngrid 128; nthreads 48; interlacing 0; deposit_method 1; log_binning 1; type 1; precision=single; correct_grid=1 (log=1); correct_sn=0\n",
      "bacco.power : normalise_grid1=0 normalise_grid2=0 deconvolve_grid1=0 deconvolve_grid2=0\n",
      "bacco.power : total mass -8.04241e-06 (grid1) -8.04241e-06 (grid2)\n",
      "bacco.power : Doing FFTW\n",
      "bacco.power: FFT took 0.046537 sec\n",
      "bacco.power : Counting modes\n"
     ]
    },
    {
     "name": "stderr",
     "output_type": "stream",
     "text": [
      "2024-02-20 18:30:35,253 bacco.statistics :  ...done in 0.437 s\n",
      "2024-02-20 18:30:35,254 bacco.statistics : Computing the power spectrum with ngrid=128 and interlacing=False\n"
     ]
    },
    {
     "name": "stdout",
     "output_type": "stream",
     "text": [
      "bacco.power : done counting modes in 0.314829 sec\n",
      "bacco.power : Starting Fourier loop \n",
      "bacco.power : done Fourier loop in 0.000149 secs\n",
      "bacco.power : Deallocating arrays\n",
      "bacco.power : boxsize 1000.000000; ngrid 128; nthreads 48; interlacing 0; deposit_method 1; log_binning 1; type 1; precision=single; correct_grid=1 (log=1); correct_sn=0\n",
      "bacco.power : normalise_grid1=0 normalise_grid2=0 deconvolve_grid1=0 deconvolve_grid2=0\n",
      "bacco.power : total mass -8.04241e-06 (grid1) 8.03671e-07 (grid2)\n",
      "bacco.power : Doing FFTW\n",
      "bacco.power: FFT took 0.009675 sec\n",
      "bacco.power : Counting modes\n"
     ]
    },
    {
     "name": "stderr",
     "output_type": "stream",
     "text": [
      "2024-02-20 18:30:35,648 bacco.statistics :  ...done in 0.394 s\n",
      "2024-02-20 18:30:35,649 bacco.statistics : Computing the power spectrum with ngrid=128 and interlacing=False\n"
     ]
    },
    {
     "name": "stdout",
     "output_type": "stream",
     "text": [
      "bacco.power : done counting modes in 0.293291 sec\n",
      "bacco.power : Starting Fourier loop \n",
      "bacco.power : done Fourier loop in 0.000222 secs\n",
      "bacco.power : Deallocating arrays\n",
      "bacco.power : boxsize 1000.000000; ngrid 128; nthreads 48; interlacing 0; deposit_method 1; log_binning 1; type 1; precision=single; correct_grid=0 (log=1); correct_sn=0\n",
      "bacco.power : normalise_grid1=0 normalise_grid2=0 deconvolve_grid1=0 deconvolve_grid2=0\n",
      "bacco.power : total mass -8.04241e-06 (grid1) 6.07881e-11 (grid2)\n",
      "bacco.power : Doing FFTW\n",
      "bacco.power: FFT took 0.047767 sec\n",
      "bacco.power : Counting modes\n"
     ]
    },
    {
     "name": "stderr",
     "output_type": "stream",
     "text": [
      "2024-02-20 18:30:36,052 bacco.statistics :  ...done in 0.403 s\n",
      "2024-02-20 18:30:36,053 bacco.statistics : Computing the power spectrum with ngrid=128 and interlacing=False\n"
     ]
    },
    {
     "name": "stdout",
     "output_type": "stream",
     "text": [
      "bacco.power : done counting modes in 0.313528 sec\n",
      "bacco.power : Starting Fourier loop \n",
      "bacco.power : done Fourier loop in 0.000593 secs\n",
      "bacco.power : Deallocating arrays\n",
      "bacco.power : boxsize 1000.000000; ngrid 128; nthreads 48; interlacing 0; deposit_method 1; log_binning 1; type 1; precision=single; correct_grid=1 (log=1); correct_sn=0\n",
      "bacco.power : normalise_grid1=0 normalise_grid2=0 deconvolve_grid1=0 deconvolve_grid2=0\n",
      "bacco.power : total mass 8.03671e-07 (grid1) 8.03671e-07 (grid2)\n",
      "bacco.power : Doing FFTW\n",
      "bacco.power: FFT took 0.047524 sec\n",
      "bacco.power : Counting modes\n",
      "bacco.power : done counting modes in 0.299169 sec\n",
      "bacco.power : Starting Fourier loop \n",
      "bacco.power : done Fourier loop in 0.000332 secs\n",
      "bacco.power : Deallocating arrays\n"
     ]
    },
    {
     "name": "stderr",
     "output_type": "stream",
     "text": [
      "2024-02-20 18:30:36,445 bacco.statistics :  ...done in 0.392 s\n",
      "2024-02-20 18:30:36,446 bacco.statistics : Computing the power spectrum with ngrid=128 and interlacing=False\n"
     ]
    },
    {
     "name": "stdout",
     "output_type": "stream",
     "text": [
      "bacco.power : boxsize 1000.000000; ngrid 128; nthreads 48; interlacing 0; deposit_method 1; log_binning 1; type 1; precision=single; correct_grid=1 (log=1); correct_sn=0\n",
      "bacco.power : normalise_grid1=0 normalise_grid2=0 deconvolve_grid1=0 deconvolve_grid2=0\n",
      "bacco.power : total mass 8.03671e-07 (grid1) 6.07881e-11 (grid2)\n",
      "bacco.power : Doing FFTW\n",
      "bacco.power: FFT took 0.053173 sec\n",
      "bacco.power : Counting modes\n"
     ]
    },
    {
     "name": "stderr",
     "output_type": "stream",
     "text": [
      "2024-02-20 18:30:36,879 bacco.statistics :  ...done in 0.433 s\n",
      "2024-02-20 18:30:36,880 bacco.statistics : Computing the power spectrum with ngrid=128 and interlacing=False\n"
     ]
    },
    {
     "name": "stdout",
     "output_type": "stream",
     "text": [
      "bacco.power : done counting modes in 0.340171 sec\n",
      "bacco.power : Starting Fourier loop \n",
      "bacco.power : done Fourier loop in 0.000441 secs\n",
      "bacco.power : Deallocating arrays\n",
      "bacco.power : boxsize 1000.000000; ngrid 128; nthreads 48; interlacing 0; deposit_method 1; log_binning 1; type 1; precision=single; correct_grid=1 (log=1); correct_sn=0\n",
      "bacco.power : normalise_grid1=0 normalise_grid2=0 deconvolve_grid1=0 deconvolve_grid2=0\n",
      "bacco.power : total mass 6.07881e-11 (grid1) 6.07881e-11 (grid2)\n",
      "bacco.power : Doing FFTW\n",
      "bacco.power: FFT took 0.046223 sec\n",
      "bacco.power : Counting modes\n"
     ]
    },
    {
     "name": "stderr",
     "output_type": "stream",
     "text": [
      "2024-02-20 18:30:37,341 bacco.statistics :  ...done in 0.462 s\n"
     ]
    },
    {
     "name": "stdout",
     "output_type": "stream",
     "text": [
      "bacco.power : done counting modes in 0.357699 sec\n",
      "bacco.power : Starting Fourier loop \n",
      "bacco.power : done Fourier loop in 0.000410 secs\n",
      "bacco.power : Deallocating arrays\n"
     ]
    }
   ],
   "source": [
    "\n",
    "#Compute a dummy variable with the 15 combinations of 5 distinct objects\n",
    "import itertools\n",
    "prod = np.array(list(itertools.combinations_with_replacement(np.arange(bias_terms_eul.shape[0]),r=2)))\n",
    "\n",
    "#Compute the P(k) of the 15 terms\n",
    "power_all_terms_pred = []\n",
    "for ii in range(0,len(prod)):\n",
    "    pk_lt = {'k':lt_k, 'pk':pk_lpt[0][ii], 'pk_nlin':pk_lpt[0][ii], 'pk_lt_log': True}\n",
    "    if ii in [2,3,4,7,8,11,13]:\n",
    "        pk_lt['pk_lt_log'] = False\n",
    "    args_power['correct_grid'] = False if ii == 11 else True\n",
    "\n",
    "    power_term_pred = bacco.statistics.compute_crossspectrum_twogrids(grid1=bias_terms_eul_norm512[prod[ii,0]],\n",
    "                                                    grid2=bias_terms_eul_norm512[prod[ii,1]],\n",
    "                                                    normalise_grid1=False,\n",
    "                                                    normalise_grid2=False,\n",
    "                                                    deconvolve_grid1=False,\n",
    "                                                    deconvolve_grid2=False,\n",
    "                                                    **args_power)\n",
    "    power_all_terms_pred.append(power_term_pred)\n"
   ]
  },
  {
   "cell_type": "code",
   "execution_count": 155,
   "metadata": {},
   "outputs": [],
   "source": [
    "bias_extended = np.concatenate([[1], bias_vector])\n",
    "\n",
    "prod = np.array(list(itertools.combinations_with_replacement(np.arange(5), r=2)))\n",
    "\n",
    "sum_terms_power = 0\n",
    "for ii in range(0,15):\n",
    "    fac = 2 if prod[ii,0]!=prod[ii,1] else 1\n",
    "    sum_terms_power += bias_extended[prod[ii,0]] * bias_extended[prod[ii,1]] * power_all_terms_pred[ii]['pk'] * fac"
   ]
  },
  {
   "cell_type": "code",
   "execution_count": 141,
   "metadata": {},
   "outputs": [
    {
     "name": "stderr",
     "output_type": "stream",
     "text": [
      "2024-02-20 18:09:09,135 bacco.statistics : Computing the power spectrum with ngrid=128 and interlacing=False\n"
     ]
    },
    {
     "name": "stdout",
     "output_type": "stream",
     "text": [
      "bacco.power : boxsize 1000.000000; ngrid 128; nthreads 48; interlacing 0; deposit_method 1; log_binning 1; type 1; precision=single; correct_grid=1 (log=1); correct_sn=0\n",
      "bacco.power : normalise_grid1=1 normalise_grid2=1 deconvolve_grid1=0 deconvolve_grid2=0\n",
      "bacco.power : total mass 1.34218e+08 (grid1) 1.34218e+08 (grid2)\n",
      "bacco.power : Doing FFTW\n",
      "bacco.power: FFT took 0.047050 sec\n",
      "bacco.power : Counting modes\n"
     ]
    },
    {
     "name": "stderr",
     "output_type": "stream",
     "text": [
      "2024-02-20 18:09:09,565 bacco.statistics :  ...done in 0.431 s\n",
      "2024-02-20 18:09:09,566 bacco.statistics : Computing the power spectrum with ngrid=128 and interlacing=False\n"
     ]
    },
    {
     "name": "stdout",
     "output_type": "stream",
     "text": [
      "bacco.power : done counting modes in 0.325900 sec\n",
      "bacco.power : Starting Fourier loop \n",
      "bacco.power : done Fourier loop in 0.012718 secs\n",
      "bacco.power : Deallocating arrays\n",
      "bacco.power : boxsize 1000.000000; ngrid 128; nthreads 48; interlacing 0; deposit_method 1; log_binning 1; type 1; precision=single; correct_grid=1 (log=1); correct_sn=0\n"
     ]
    },
    {
     "name": "stderr",
     "output_type": "stream",
     "text": [
      "2024-02-20 18:09:09,968 bacco.statistics :  ...done in 0.402 s\n",
      "2024-02-20 18:09:09,969 bacco.statistics : Computing the power spectrum with ngrid=128 and interlacing=False\n"
     ]
    },
    {
     "name": "stdout",
     "output_type": "stream",
     "text": [
      "bacco.power : normalise_grid1=1 normalise_grid2=1 deconvolve_grid1=0 deconvolve_grid2=0\n",
      "bacco.power : total mass 1.34218e+08 (grid1) -0.0132066 (grid2)\n",
      "bacco.power : Doing FFTW\n",
      "bacco.power: FFT took 0.047714 sec\n",
      "bacco.power : Counting modes\n",
      "bacco.power : done counting modes in 0.322366 sec\n",
      "bacco.power : Starting Fourier loop \n",
      "bacco.power : done Fourier loop in 0.000144 secs\n",
      "bacco.power : Deallocating arrays\n",
      "bacco.power : boxsize 1000.000000; ngrid 128; nthreads 48; interlacing 0; deposit_method 1; log_binning 1; type 1; precision=single; correct_grid=1 (log=1); correct_sn=0\n",
      "bacco.power : normalise_grid1=1 normalise_grid2=1 deconvolve_grid1=0 deconvolve_grid2=0\n",
      "bacco.power : total mass 1.34218e+08 (grid1) -1079.43 (grid2)\n",
      "bacco.power : Doing FFTW\n",
      "bacco.power: FFT took 0.055478 sec\n",
      "bacco.power : Counting modes\n"
     ]
    },
    {
     "name": "stderr",
     "output_type": "stream",
     "text": [
      "2024-02-20 18:09:10,386 bacco.statistics :  ...done in 0.417 s\n",
      "2024-02-20 18:09:10,387 bacco.statistics : Computing the power spectrum with ngrid=128 and interlacing=False\n"
     ]
    },
    {
     "name": "stdout",
     "output_type": "stream",
     "text": [
      "bacco.power : done counting modes in 0.321021 sec\n",
      "bacco.power : Starting Fourier loop \n",
      "bacco.power : done Fourier loop in 0.000451 secs\n",
      "bacco.power : Deallocating arrays\n",
      "bacco.power : boxsize 1000.000000; ngrid 128; nthreads 48; interlacing 0; deposit_method 1; log_binning 1; type 1; precision=single; correct_grid=1 (log=1); correct_sn=0\n",
      "bacco.power : normalise_grid1=1 normalise_grid2=1 deconvolve_grid1=0 deconvolve_grid2=0\n",
      "bacco.power : total mass 1.34218e+08 (grid1) 107.867 (grid2)\n",
      "bacco.power : Doing FFTW\n",
      "bacco.power: FFT took 0.046234 sec\n",
      "bacco.power : Counting modes\n",
      "bacco.power : done counting modes in 0.310088 sec\n",
      "bacco.power : Starting Fourier loop \n",
      "bacco.power : done Fourier loop in 0.000147 secs\n",
      "bacco.power : Deallocating arrays\n"
     ]
    },
    {
     "name": "stderr",
     "output_type": "stream",
     "text": [
      "2024-02-20 18:09:10,774 bacco.statistics :  ...done in 0.387 s\n",
      "2024-02-20 18:09:10,774 bacco.statistics : Computing the power spectrum with ngrid=128 and interlacing=False\n"
     ]
    },
    {
     "name": "stdout",
     "output_type": "stream",
     "text": [
      "bacco.power : boxsize 1000.000000; ngrid 128; nthreads 48; interlacing 0; deposit_method 1; log_binning 1; type 1; precision=single; correct_grid=1 (log=1); correct_sn=0\n",
      "bacco.power : normalise_grid1=1 normalise_grid2=1 deconvolve_grid1=0 deconvolve_grid2=0\n",
      "bacco.power : total mass 1.34218e+08 (grid1) 0.00815884 (grid2)\n",
      "bacco.power : Doing FFTW\n",
      "bacco.power: FFT took 0.047604 sec\n",
      "bacco.power : Counting modes\n"
     ]
    },
    {
     "name": "stderr",
     "output_type": "stream",
     "text": [
      "2024-02-20 18:09:11,195 bacco.statistics :  ...done in 0.42 s\n",
      "2024-02-20 18:09:11,196 bacco.statistics : Computing the power spectrum with ngrid=128 and interlacing=False\n"
     ]
    },
    {
     "name": "stdout",
     "output_type": "stream",
     "text": [
      "bacco.power : done counting modes in 0.327778 sec\n",
      "bacco.power : Starting Fourier loop \n",
      "bacco.power : done Fourier loop in 0.000413 secs\n",
      "bacco.power : Deallocating arrays\n",
      "bacco.power : boxsize 1000.000000; ngrid 128; nthreads 48; interlacing 0; deposit_method 1; log_binning 1; type 1; precision=single; correct_grid=1 (log=1); correct_sn=0\n",
      "bacco.power : normalise_grid1=1 normalise_grid2=1 deconvolve_grid1=0 deconvolve_grid2=0\n",
      "bacco.power : total mass -0.0132066 (grid1) -0.0132066 (grid2)\n",
      "bacco.power : Doing FFTW\n",
      "bacco.power: FFT took 0.062561 sec\n",
      "bacco.power : Counting modes\n"
     ]
    },
    {
     "name": "stderr",
     "output_type": "stream",
     "text": [
      "2024-02-20 18:09:11,606 bacco.statistics :  ...done in 0.409 s\n",
      "2024-02-20 18:09:11,607 bacco.statistics : Computing the power spectrum with ngrid=128 and interlacing=False\n"
     ]
    },
    {
     "name": "stdout",
     "output_type": "stream",
     "text": [
      "bacco.power : done counting modes in 0.316866 sec\n",
      "bacco.power : Starting Fourier loop \n",
      "bacco.power : done Fourier loop in 0.000142 secs\n",
      "bacco.power : Deallocating arrays\n",
      "bacco.power : boxsize 1000.000000; ngrid 128; nthreads 48; interlacing 0; deposit_method 1; log_binning 1; type 1; precision=single; correct_grid=1 (log=1); correct_sn=0\n",
      "bacco.power : normalise_grid1=1 normalise_grid2=1 deconvolve_grid1=0 deconvolve_grid2=0\n",
      "bacco.power : total mass -0.0132066 (grid1) -1079.43 (grid2)\n",
      "bacco.power : Doing FFTW\n",
      "bacco.power: FFT took 0.061229 sec\n",
      "bacco.power : Counting modes\n"
     ]
    },
    {
     "name": "stderr",
     "output_type": "stream",
     "text": [
      "2024-02-20 18:09:11,992 bacco.statistics :  ...done in 0.385 s\n",
      "2024-02-20 18:09:11,993 bacco.statistics : Computing the power spectrum with ngrid=128 and interlacing=False\n"
     ]
    },
    {
     "name": "stdout",
     "output_type": "stream",
     "text": [
      "bacco.power : done counting modes in 0.295802 sec\n",
      "bacco.power : Starting Fourier loop \n",
      "bacco.power : done Fourier loop in 0.000438 secs\n",
      "bacco.power : Deallocating arrays\n",
      "bacco.power : boxsize 1000.000000; ngrid 128; nthreads 48; interlacing 0; deposit_method 1; log_binning 1; type 1; precision=single; correct_grid=1 (log=1); correct_sn=0\n",
      "bacco.power : normalise_grid1=1 normalise_grid2=1 deconvolve_grid1=0 deconvolve_grid2=0\n",
      "bacco.power : total mass -0.0132066 (grid1) 107.867 (grid2)\n",
      "bacco.power : Doing FFTW\n",
      "bacco.power: FFT took 0.061267 sec\n",
      "bacco.power : Counting modes\n"
     ]
    },
    {
     "name": "stderr",
     "output_type": "stream",
     "text": [
      "2024-02-20 18:09:12,475 bacco.statistics :  ...done in 0.482 s\n",
      "2024-02-20 18:09:12,482 bacco.statistics : Computing the power spectrum with ngrid=128 and interlacing=False\n"
     ]
    },
    {
     "name": "stdout",
     "output_type": "stream",
     "text": [
      "bacco.power : done counting modes in 0.374509 sec\n",
      "bacco.power : Starting Fourier loop \n",
      "bacco.power : done Fourier loop in 0.000312 secs\n",
      "bacco.power : Deallocating arrays\n",
      "bacco.power : boxsize 1000.000000; ngrid 128; nthreads 48; interlacing 0; deposit_method 1; log_binning 1; type 1; precision=single; correct_grid=1 (log=1); correct_sn=0\n",
      "bacco.power : normalise_grid1=1 normalise_grid2=1 deconvolve_grid1=0 deconvolve_grid2=0\n",
      "bacco.power : total mass -0.0132066 (grid1) 0.00815884 (grid2)\n",
      "bacco.power : Doing FFTW\n",
      "bacco.power: FFT took 0.054046 sec\n",
      "bacco.power : Counting modes\n",
      "bacco.power : done counting modes in 0.322716 sec\n",
      "bacco.power : Starting Fourier loop \n",
      "bacco.power : done Fourier loop in 0.000306 secs\n",
      "bacco.power : Deallocating arrays\n"
     ]
    },
    {
     "name": "stderr",
     "output_type": "stream",
     "text": [
      "2024-02-20 18:09:12,918 bacco.statistics :  ...done in 0.435 s\n",
      "2024-02-20 18:09:12,919 bacco.statistics : Computing the power spectrum with ngrid=128 and interlacing=False\n"
     ]
    },
    {
     "name": "stdout",
     "output_type": "stream",
     "text": [
      "bacco.power : boxsize 1000.000000; ngrid 128; nthreads 48; interlacing 0; deposit_method 1; log_binning 1; type 1; precision=single; correct_grid=1 (log=1); correct_sn=0\n",
      "bacco.power : normalise_grid1=1 normalise_grid2=1 deconvolve_grid1=0 deconvolve_grid2=0\n",
      "bacco.power : total mass -1079.43 (grid1) -1079.43 (grid2)\n",
      "bacco.power : Doing FFTW\n",
      "bacco.power: FFT took 0.062646 sec\n",
      "bacco.power : Counting modes\n"
     ]
    },
    {
     "name": "stderr",
     "output_type": "stream",
     "text": [
      "2024-02-20 18:09:13,362 bacco.statistics :  ...done in 0.443 s\n",
      "2024-02-20 18:09:13,363 bacco.statistics : Computing the power spectrum with ngrid=128 and interlacing=False\n"
     ]
    },
    {
     "name": "stdout",
     "output_type": "stream",
     "text": [
      "bacco.power : done counting modes in 0.332282 sec\n",
      "bacco.power : Starting Fourier loop \n",
      "bacco.power : done Fourier loop in 0.000312 secs\n",
      "bacco.power : Deallocating arrays\n",
      "bacco.power : boxsize 1000.000000; ngrid 128; nthreads 48; interlacing 0; deposit_method 1; log_binning 1; type 1; precision=single; correct_grid=1 (log=1); correct_sn=0\n",
      "bacco.power : normalise_grid1=1 normalise_grid2=1 deconvolve_grid1=0 deconvolve_grid2=0\n",
      "bacco.power : total mass -1079.43 (grid1) 107.867 (grid2)\n",
      "bacco.power : Doing FFTW\n",
      "bacco.power: FFT took 0.077221 sec\n",
      "bacco.power : Counting modes\n"
     ]
    },
    {
     "name": "stderr",
     "output_type": "stream",
     "text": [
      "2024-02-20 18:09:13,796 bacco.statistics :  ...done in 0.433 s\n",
      "2024-02-20 18:09:13,797 bacco.statistics : Computing the power spectrum with ngrid=128 and interlacing=False\n"
     ]
    },
    {
     "name": "stdout",
     "output_type": "stream",
     "text": [
      "bacco.power : done counting modes in 0.305555 sec\n",
      "bacco.power : Starting Fourier loop \n",
      "bacco.power : done Fourier loop in 0.012226 secs\n",
      "bacco.power : Deallocating arrays\n",
      "bacco.power : boxsize 1000.000000; ngrid 128; nthreads 48; interlacing 0; deposit_method 1; log_binning 1; type 1; precision=single; correct_grid=0 (log=1); correct_sn=0\n",
      "bacco.power : normalise_grid1=1 normalise_grid2=1 deconvolve_grid1=0 deconvolve_grid2=0\n",
      "bacco.power : total mass -1079.43 (grid1) 0.00815884 (grid2)\n",
      "bacco.power : Doing FFTW\n",
      "bacco.power: FFT took 0.065450 sec\n",
      "bacco.power : Counting modes\n",
      "bacco.power : done counting modes in 0.333731 sec\n",
      "bacco.power : Starting Fourier loop "
     ]
    },
    {
     "name": "stderr",
     "output_type": "stream",
     "text": [
      "2024-02-20 18:09:14,232 bacco.statistics :  ...done in 0.435 s\n",
      "2024-02-20 18:09:14,232 bacco.statistics : Computing the power spectrum with ngrid=128 and interlacing=False\n"
     ]
    },
    {
     "name": "stdout",
     "output_type": "stream",
     "text": [
      "\n",
      "bacco.power : done Fourier loop in 0.000421 secs\n",
      "bacco.power : Deallocating arrays\n",
      "bacco.power : boxsize 1000.000000; ngrid 128; nthreads 48; interlacing 0; deposit_method 1; log_binning 1; type 1; precision=single; correct_grid=1 (log=1); correct_sn=0\n",
      "bacco.power : normalise_grid1=1 normalise_grid2=1 deconvolve_grid1=0 deconvolve_grid2=0\n",
      "bacco.power : total mass 107.867 (grid1) 107.867 (grid2)\n",
      "bacco.power : Doing FFTW\n",
      "bacco.power: FFT took 0.063597 sec\n",
      "bacco.power : Counting modes\n"
     ]
    },
    {
     "name": "stderr",
     "output_type": "stream",
     "text": [
      "2024-02-20 18:09:14,643 bacco.statistics :  ...done in 0.41 s\n",
      "2024-02-20 18:09:14,643 bacco.statistics : Computing the power spectrum with ngrid=128 and interlacing=False\n"
     ]
    },
    {
     "name": "stdout",
     "output_type": "stream",
     "text": [
      "bacco.power : done counting modes in 0.314887 sec\n",
      "bacco.power : Starting Fourier loop \n",
      "bacco.power : done Fourier loop in 0.000177 secs\n",
      "bacco.power : Deallocating arrays\n",
      "bacco.power : boxsize 1000.000000; ngrid 128; nthreads 48; interlacing 0; deposit_method 1; log_binning 1; type 1; precision=single; correct_grid=1 (log=1); correct_sn=0\n",
      "bacco.power : normalise_grid1=1 normalise_grid2=1 deconvolve_grid1=0 deconvolve_grid2=0\n",
      "bacco.power : total mass 107.867 (grid1) 0.00815884 (grid2)\n",
      "bacco.power : Doing FFTW\n",
      "bacco.power: FFT took 0.044361 sec\n",
      "bacco.power : Counting modes\n"
     ]
    },
    {
     "name": "stderr",
     "output_type": "stream",
     "text": [
      "2024-02-20 18:09:15,099 bacco.statistics :  ...done in 0.455 s\n",
      "2024-02-20 18:09:15,099 bacco.statistics : Computing the power spectrum with ngrid=128 and interlacing=False\n"
     ]
    },
    {
     "name": "stdout",
     "output_type": "stream",
     "text": [
      "bacco.power : done counting modes in 0.341621 sec\n",
      "bacco.power : Starting Fourier loop \n",
      "bacco.power : done Fourier loop in 0.000385 secs\n",
      "bacco.power : Deallocating arrays\n",
      "bacco.power : boxsize 1000.000000; ngrid 128; nthreads 48; interlacing 0; deposit_method 1; log_binning 1; type 1; precision=single; correct_grid=1 (log=1); correct_sn=0\n",
      "bacco.power : normalise_grid1=1 normalise_grid2=1 deconvolve_grid1=0 deconvolve_grid2=0\n",
      "bacco.power : total mass 0.00815884 (grid1) 0.00815884 (grid2)\n",
      "bacco.power : Doing FFTW\n",
      "bacco.power: FFT took 0.067257 sec\n",
      "bacco.power : Counting modes\n",
      "bacco.power : done counting modes in 0.320975 sec\n",
      "bacco.power : Starting Fourier loop \n",
      "bacco.power : done Fourier loop in 0.000435 secs\n",
      "bacco.power : Deallocating arrays\n"
     ]
    },
    {
     "name": "stderr",
     "output_type": "stream",
     "text": [
      "2024-02-20 18:09:15,512 bacco.statistics :  ...done in 0.413 s\n"
     ]
    }
   ],
   "source": [
    "\n",
    "#Compute a dummy variable with the 15 combinations of 5 distinct objects\n",
    "import itertools\n",
    "prod = np.array(list(itertools.combinations_with_replacement(np.arange(bias_terms_eul.shape[0]),r=2)))\n",
    "\n",
    "#Compute the P(k) of the 15 terms\n",
    "power_all_terms_pred_nonorm_normgrid = []\n",
    "for ii in range(0,len(prod)):\n",
    "    pk_lt = {'k':lt_k, 'pk':pk_lpt[0][ii], 'pk_nlin':pk_lpt[0][ii], 'pk_lt_log': True}\n",
    "    if ii in [2,3,4,7,8,11,13]:\n",
    "        pk_lt['pk_lt_log'] = False\n",
    "    args_power['correct_grid'] = False if ii == 11 else True\n",
    "\n",
    "    power_term_pred = bacco.statistics.compute_crossspectrum_twogrids(grid1=bias_terms_eul[prod[ii,0]],\n",
    "                                                    grid2=bias_terms_eul[prod[ii,1]],\n",
    "                                                    normalise_grid1=True,\n",
    "                                                    normalise_grid2=True,\n",
    "                                                    deconvolve_grid1=False,\n",
    "                                                    deconvolve_grid2=False,\n",
    "                                                    **args_power)\n",
    "    power_all_terms_pred_nonorm_normgrid.append(power_term_pred)\n"
   ]
  },
  {
   "cell_type": "code",
   "execution_count": 142,
   "metadata": {},
   "outputs": [],
   "source": [
    "bias_extended = np.concatenate([[1], bias_vector])\n",
    "\n",
    "prod = np.array(list(itertools.combinations_with_replacement(np.arange(5), r=2)))\n",
    "\n",
    "sum_terms_power_nonorm_normgrid = 0\n",
    "for ii in range(0,15):\n",
    "    fac = 2 if prod[ii,0]!=prod[ii,1] else 1\n",
    "    sum_terms_power_nonorm_normgrid += bias_extended[prod[ii,0]] * bias_extended[prod[ii,1]] * power_all_terms_pred_nonorm_normgrid[ii]['pk'] * fac"
   ]
  },
  {
   "cell_type": "code",
   "execution_count": 134,
   "metadata": {},
   "outputs": [],
   "source": [
    "bias_terms_eul_mixnorm = bias_terms_eul.copy()\n",
    "bias_terms_eul_mixnorm[0] /= 512^3"
   ]
  },
  {
   "cell_type": "code",
   "execution_count": 135,
   "metadata": {},
   "outputs": [
    {
     "name": "stderr",
     "output_type": "stream",
     "text": [
      "2024-02-20 18:04:50,295 bacco.statistics : Computing the power spectrum with ngrid=128 and interlacing=False\n"
     ]
    },
    {
     "name": "stdout",
     "output_type": "stream",
     "text": [
      "bacco.power : boxsize 1000.000000; ngrid 128; nthreads 48; interlacing 0; deposit_method 1; log_binning 1; type 1; precision=single; correct_grid=1 (log=1); correct_sn=0\n",
      "bacco.power : normalise_grid1=1 normalise_grid2=1 deconvolve_grid1=0 deconvolve_grid2=0\n",
      "bacco.power : total mass 1 (grid1) 1 (grid2)\n",
      "bacco.power : Doing FFTW\n",
      "bacco.power: FFT took 0.047597 sec\n",
      "bacco.power : Counting modes\n"
     ]
    },
    {
     "name": "stderr",
     "output_type": "stream",
     "text": [
      "2024-02-20 18:04:50,754 bacco.statistics :  ...done in 0.459 s\n",
      "2024-02-20 18:04:50,755 bacco.statistics : Computing the power spectrum with ngrid=128 and interlacing=False\n"
     ]
    },
    {
     "name": "stdout",
     "output_type": "stream",
     "text": [
      "bacco.power : done counting modes in 0.314684 sec\n",
      "bacco.power : Starting Fourier loop \n",
      "bacco.power : done Fourier loop in 0.000160 secs\n",
      "bacco.power : Deallocating arrays\n",
      "bacco.power : boxsize 1000.000000; ngrid 128; nthreads 48; interlacing 0; deposit_method 1; log_binning 1; type 1; precision=single; correct_grid=1 (log=1); correct_sn=0\n",
      "bacco.power : normalise_grid1=1 normalise_grid2=1 deconvolve_grid1=0 deconvolve_grid2=0\n",
      "bacco.power : total mass 1.34218e+08 (grid1) -0.0132066 (grid2)\n",
      "bacco.power : Doing FFTW\n",
      "bacco.power: FFT took 0.035399 sec\n",
      "bacco.power : Counting modes\n"
     ]
    },
    {
     "name": "stderr",
     "output_type": "stream",
     "text": [
      "2024-02-20 18:04:51,156 bacco.statistics :  ...done in 0.401 s\n",
      "2024-02-20 18:04:51,160 bacco.statistics : Computing the power spectrum with ngrid=128 and interlacing=False\n"
     ]
    },
    {
     "name": "stdout",
     "output_type": "stream",
     "text": [
      "bacco.power : done counting modes in 0.326586 sec\n",
      "bacco.power : Starting Fourier loop \n",
      "bacco.power : done Fourier loop in 0.000164 secs\n",
      "bacco.power : Deallocating arrays\n",
      "bacco.power : boxsize 1000.000000; ngrid 128; nthreads 48; interlacing 0; deposit_method 1; log_binning 1; type 1; precision=single; correct_grid=1 (log=1); correct_sn=0\n",
      "bacco.power : normalise_grid1=1 normalise_grid2=1 deconvolve_grid1=0 deconvolve_grid2=0\n",
      "bacco.power : total mass 1.34218e+08 (grid1) -1079.43 (grid2)\n",
      "bacco.power : Doing FFTW\n",
      "bacco.power: FFT took 0.053363 sec\n",
      "bacco.power : Counting modes\n"
     ]
    },
    {
     "name": "stderr",
     "output_type": "stream",
     "text": [
      "2024-02-20 18:04:51,545 bacco.statistics :  ...done in 0.385 s\n",
      "2024-02-20 18:04:51,545 bacco.statistics : Computing the power spectrum with ngrid=128 and interlacing=False\n"
     ]
    },
    {
     "name": "stdout",
     "output_type": "stream",
     "text": [
      "bacco.power : done counting modes in 0.304953 sec\n",
      "bacco.power : Starting Fourier loop \n",
      "bacco.power : done Fourier loop in 0.000148 secs\n",
      "bacco.power : Deallocating arrays\n",
      "bacco.power : boxsize 1000.000000; ngrid 128; nthreads 48; interlacing 0; deposit_method 1; log_binning 1; type 1; precision=single; correct_grid=1 (log=1); correct_sn=0\n",
      "bacco.power : normalise_grid1=1 normalise_grid2=1 deconvolve_grid1=0 deconvolve_grid2=0\n",
      "bacco.power : total mass 1.34218e+08 (grid1) 107.867 (grid2)\n",
      "bacco.power : Doing FFTW\n",
      "bacco.power: FFT took 0.055629 sec\n",
      "bacco.power : Counting modes\n"
     ]
    },
    {
     "name": "stderr",
     "output_type": "stream",
     "text": [
      "2024-02-20 18:04:51,932 bacco.statistics :  ...done in 0.386 s\n",
      "2024-02-20 18:04:51,940 bacco.statistics : Computing the power spectrum with ngrid=128 and interlacing=False\n"
     ]
    },
    {
     "name": "stdout",
     "output_type": "stream",
     "text": [
      "bacco.power : done counting modes in 0.280066 sec\n",
      "bacco.power : Starting Fourier loop \n",
      "bacco.power : done Fourier loop in 0.000465 secs\n",
      "bacco.power : Deallocating arrays\n",
      "bacco.power : boxsize 1000.000000; ngrid 128; nthreads 48; interlacing 0; deposit_method 1; log_binning 1; type 1; precision=single; correct_grid=1 (log=1); correct_sn=0\n",
      "bacco.power : normalise_grid1=1 normalise_grid2=1 deconvolve_grid1=0 deconvolve_grid2=0\n",
      "bacco.power : total mass 1.34218e+08 (grid1) 0.00815884 (grid2)\n",
      "bacco.power : Doing FFTW\n",
      "bacco.power: FFT took 0.084737 sec\n",
      "bacco.power : Counting modes\n"
     ]
    },
    {
     "name": "stderr",
     "output_type": "stream",
     "text": [
      "2024-02-20 18:04:52,392 bacco.statistics :  ...done in 0.452 s\n",
      "2024-02-20 18:04:52,392 bacco.statistics : Computing the power spectrum with ngrid=128 and interlacing=False\n"
     ]
    },
    {
     "name": "stdout",
     "output_type": "stream",
     "text": [
      "bacco.power : done counting modes in 0.326760 sec\n",
      "bacco.power : Starting Fourier loop \n",
      "bacco.power : done Fourier loop in 0.000157 secs\n",
      "bacco.power : Deallocating arrays\n",
      "bacco.power : boxsize 1000.000000; ngrid 128; nthreads 48; interlacing 0; deposit_method 1; log_binning 1; type 1; precision=single; correct_grid=1 (log=1); correct_sn=0\n",
      "bacco.power : normalise_grid1=1 normalise_grid2=1 deconvolve_grid1=0 deconvolve_grid2=0\n",
      "bacco.power : total mass -0.0132066 (grid1) -0.0132066 (grid2)\n",
      "bacco.power : Doing FFTW\n",
      "bacco.power: FFT took 0.035544 sec\n",
      "bacco.power : Counting modes\n"
     ]
    },
    {
     "name": "stderr",
     "output_type": "stream",
     "text": [
      "2024-02-20 18:04:52,839 bacco.statistics :  ...done in 0.447 s\n",
      "2024-02-20 18:04:52,839 bacco.statistics : Computing the power spectrum with ngrid=128 and interlacing=False\n"
     ]
    },
    {
     "name": "stdout",
     "output_type": "stream",
     "text": [
      "bacco.power : done counting modes in 0.329465 sec\n",
      "bacco.power : Starting Fourier loop \n",
      "bacco.power : done Fourier loop in 0.000150 secs\n",
      "bacco.power : Deallocating arrays\n",
      "bacco.power : boxsize 1000.000000; ngrid 128; nthreads 48; interlacing 0; deposit_method 1; log_binning 1; type 1; precision=single; correct_grid=1 (log=1); correct_sn=0\n",
      "bacco.power : normalise_grid1=1 normalise_grid2=1 deconvolve_grid1=0 deconvolve_grid2=0\n",
      "bacco.power : total mass -0.0132066 (grid1) -1079.43 (grid2)\n",
      "bacco.power : Doing FFTW\n",
      "bacco.power: FFT took 0.058784 sec\n",
      "bacco.power : Counting modes\n",
      "bacco.power : done counting modes in 0.330538 sec\n",
      "bacco.power : Starting Fourier loop \n",
      "bacco.power : done Fourier loop in 0.000534 secs\n",
      "bacco.power : Deallocating arrays\n"
     ]
    },
    {
     "name": "stderr",
     "output_type": "stream",
     "text": [
      "2024-02-20 18:04:53,273 bacco.statistics :  ...done in 0.434 s\n",
      "2024-02-20 18:04:53,280 bacco.statistics : Computing the power spectrum with ngrid=128 and interlacing=False\n"
     ]
    },
    {
     "name": "stdout",
     "output_type": "stream",
     "text": [
      "bacco.power : boxsize 1000.000000; ngrid 128; nthreads 48; interlacing 0; deposit_method 1; log_binning 1; type 1; precision=single; correct_grid=1 (log=1); correct_sn=0\n"
     ]
    },
    {
     "name": "stderr",
     "output_type": "stream",
     "text": [
      "2024-02-20 18:04:53,660 bacco.statistics :  ...done in 0.38 s\n",
      "2024-02-20 18:04:53,667 bacco.statistics : Computing the power spectrum with ngrid=128 and interlacing=False\n"
     ]
    },
    {
     "name": "stdout",
     "output_type": "stream",
     "text": [
      "bacco.power : normalise_grid1=1 normalise_grid2=1 deconvolve_grid1=0 deconvolve_grid2=0\n",
      "bacco.power : total mass -0.0132066 (grid1) 107.867 (grid2)\n",
      "bacco.power : Doing FFTW\n",
      "bacco.power: FFT took 0.054946 sec\n",
      "bacco.power : Counting modes\n",
      "bacco.power : done counting modes in 0.294688 sec\n",
      "bacco.power : Starting Fourier loop \n",
      "bacco.power : done Fourier loop in 0.000567 secs\n",
      "bacco.power : Deallocating arrays\n",
      "bacco.power : boxsize 1000.000000; ngrid 128; nthreads 48; interlacing 0; deposit_method 1; log_binning 1; type 1; precision=single; correct_grid=1 (log=1); correct_sn=0\n",
      "bacco.power : normalise_grid1=1 normalise_grid2=1 deconvolve_grid1=0 deconvolve_grid2=0\n",
      "bacco.power : total mass -0.0132066 (grid1) 0.00815884 (grid2)\n",
      "bacco.power : Doing FFTW\n",
      "bacco.power: FFT took 0.044208 sec\n",
      "bacco.power : Counting modes\n"
     ]
    },
    {
     "name": "stderr",
     "output_type": "stream",
     "text": [
      "2024-02-20 18:04:54,037 bacco.statistics :  ...done in 0.37 s\n",
      "2024-02-20 18:04:54,038 bacco.statistics : Computing the power spectrum with ngrid=128 and interlacing=False\n"
     ]
    },
    {
     "name": "stdout",
     "output_type": "stream",
     "text": [
      "bacco.power : done counting modes in 0.298621 sec\n",
      "bacco.power : Starting Fourier loop \n",
      "bacco.power : done Fourier loop in 0.000524 secs\n",
      "bacco.power : Deallocating arrays\n",
      "bacco.power : boxsize 1000.000000; ngrid 128; nthreads 48; interlacing 0; deposit_method 1; log_binning 1; type 1; precision=single; correct_grid=1 (log=1); correct_sn=0\n",
      "bacco.power : normalise_grid1=1 normalise_grid2=1 deconvolve_grid1=0 deconvolve_grid2=0\n",
      "bacco.power : total mass -1079.43 (grid1) -1079.43 (grid2)\n",
      "bacco.power : Doing FFTW\n",
      "bacco.power: FFT took 0.061328 sec\n",
      "bacco.power : Counting modes\n"
     ]
    },
    {
     "name": "stderr",
     "output_type": "stream",
     "text": [
      "2024-02-20 18:04:54,423 bacco.statistics :  ...done in 0.385 s\n",
      "2024-02-20 18:04:54,424 bacco.statistics : Computing the power spectrum with ngrid=128 and interlacing=False\n"
     ]
    },
    {
     "name": "stdout",
     "output_type": "stream",
     "text": [
      "bacco.power : done counting modes in 0.296722 sec\n",
      "bacco.power : Starting Fourier loop \n",
      "bacco.power : done Fourier loop in 0.000594 secs\n",
      "bacco.power : Deallocating arrays\n",
      "bacco.power : boxsize 1000.000000; ngrid 128; nthreads 48; interlacing 0; deposit_method 1; log_binning 1; type 1; precision=single; correct_grid=1 (log=1); correct_sn=0\n",
      "bacco.power : normalise_grid1=1 normalise_grid2=1 deconvolve_grid1=0 deconvolve_grid2=0\n",
      "bacco.power : total mass -1079.43 (grid1) 107.867 (grid2)\n",
      "bacco.power : Doing FFTW\n",
      "bacco.power: FFT took 0.038029 sec\n",
      "bacco.power : Counting modes\n"
     ]
    },
    {
     "name": "stderr",
     "output_type": "stream",
     "text": [
      "2024-02-20 18:04:54,828 bacco.statistics :  ...done in 0.404 s\n",
      "2024-02-20 18:04:54,829 bacco.statistics : Computing the power spectrum with ngrid=128 and interlacing=False\n"
     ]
    },
    {
     "name": "stdout",
     "output_type": "stream",
     "text": [
      "bacco.power : done counting modes in 0.330422 sec\n",
      "bacco.power : Starting Fourier loop \n",
      "bacco.power : done Fourier loop in 0.000164 secs\n",
      "bacco.power : Deallocating arrays\n",
      "bacco.power : boxsize 1000.000000; ngrid 128; nthreads 48; interlacing 0; deposit_method 1; log_binning 1; type 1; precision=single; correct_grid=0 (log=1); correct_sn=0\n",
      "bacco.power : normalise_grid1=1 normalise_grid2=1 deconvolve_grid1=0 deconvolve_grid2=0\n",
      "bacco.power : total mass -1079.43 (grid1) 0.00815884 (grid2)\n",
      "bacco.power : Doing FFTW\n",
      "bacco.power: FFT took 0.060529 sec\n",
      "bacco.power : Counting modes\n"
     ]
    },
    {
     "name": "stderr",
     "output_type": "stream",
     "text": [
      "2024-02-20 18:04:55,218 bacco.statistics :  ...done in 0.389 s\n",
      "2024-02-20 18:04:55,219 bacco.statistics : Computing the power spectrum with ngrid=128 and interlacing=False\n"
     ]
    },
    {
     "name": "stdout",
     "output_type": "stream",
     "text": [
      "bacco.power : done counting modes in 0.289262 sec\n",
      "bacco.power : Starting Fourier loop \n",
      "bacco.power : done Fourier loop in 0.000155 secs\n",
      "bacco.power : Deallocating arrays\n",
      "bacco.power : boxsize 1000.000000; ngrid 128; nthreads 48; interlacing 0; deposit_method 1; log_binning 1; type 1; precision=single; correct_grid=1 (log=1); correct_sn=0\n",
      "bacco.power : normalise_grid1=1 normalise_grid2=1 deconvolve_grid1=0 deconvolve_grid2=0\n",
      "bacco.power : total mass 107.867 (grid1) 107.867 (grid2)\n",
      "bacco.power : Doing FFTW\n",
      "bacco.power: FFT took 0.037392 sec\n",
      "bacco.power : Counting modes\n"
     ]
    },
    {
     "name": "stderr",
     "output_type": "stream",
     "text": [
      "2024-02-20 18:04:55,631 bacco.statistics :  ...done in 0.412 s\n",
      "2024-02-20 18:04:55,644 bacco.statistics : Computing the power spectrum with ngrid=128 and interlacing=False\n"
     ]
    },
    {
     "name": "stdout",
     "output_type": "stream",
     "text": [
      "bacco.power : done counting modes in 0.342741 sec\n",
      "bacco.power : Starting Fourier loop \n",
      "bacco.power : done Fourier loop in 0.000266 secs\n",
      "bacco.power : Deallocating arrays\n",
      "bacco.power : boxsize 1000.000000; ngrid 128; nthreads 48; interlacing 0; deposit_method 1; log_binning 1; type 1; precision=single; correct_grid=1 (log=1); correct_sn=0\n",
      "bacco.power : normalise_grid1=1 normalise_grid2=1 deconvolve_grid1=0 deconvolve_grid2=0\n",
      "bacco.power : total mass 107.867 (grid1) 0.00815884 (grid2)\n",
      "bacco.power : Doing FFTW\n",
      "bacco.power: FFT took 0.062127 sec\n",
      "bacco.power : Counting modes\n"
     ]
    },
    {
     "name": "stderr",
     "output_type": "stream",
     "text": [
      "2024-02-20 18:04:56,099 bacco.statistics :  ...done in 0.455 s\n",
      "2024-02-20 18:04:56,105 bacco.statistics : Computing the power spectrum with ngrid=128 and interlacing=False\n"
     ]
    },
    {
     "name": "stdout",
     "output_type": "stream",
     "text": [
      "bacco.power : done counting modes in 0.321692 sec\n",
      "bacco.power : Starting Fourier loop \n",
      "bacco.power : done Fourier loop in 0.000291 secs\n",
      "bacco.power : Deallocating arrays\n",
      "bacco.power : boxsize 1000.000000; ngrid 128; nthreads 48; interlacing 0; deposit_method 1; log_binning 1; type 1; precision=single; correct_grid=1 (log=1); correct_sn=0\n",
      "bacco.power : normalise_grid1=1 normalise_grid2=1 deconvolve_grid1=0 deconvolve_grid2=0\n",
      "bacco.power : total mass 0.00815884 (grid1) 0.00815884 (grid2)\n",
      "bacco.power : Doing FFTW\n",
      "bacco.power: FFT took 0.099614 sec\n",
      "bacco.power : Counting modes\n"
     ]
    },
    {
     "name": "stderr",
     "output_type": "stream",
     "text": [
      "2024-02-20 18:04:56,595 bacco.statistics :  ...done in 0.49 s\n"
     ]
    },
    {
     "name": "stdout",
     "output_type": "stream",
     "text": [
      "bacco.power : done counting modes in 0.334822 sec\n",
      "bacco.power : Starting Fourier loop \n",
      "bacco.power : done Fourier loop in 0.000412 secs\n",
      "bacco.power : Deallocating arrays\n"
     ]
    }
   ],
   "source": [
    "\n",
    "#Compute a dummy variable with the 15 combinations of 5 distinct objects\n",
    "import itertools\n",
    "prod = np.array(list(itertools.combinations_with_replacement(np.arange(bias_terms_eul.shape[0]),r=2)))\n",
    "\n",
    "#Compute the P(k) of the 15 terms\n",
    "power_all_terms_pred_mixnorm = []\n",
    "for ii in range(0,len(prod)):\n",
    "    pk_lt = {'k':lt_k, 'pk':pk_lpt[0][ii], 'pk_nlin':pk_lpt[0][ii], 'pk_lt_log': True}\n",
    "    if ii in [2,3,4,7,8,11,13]:\n",
    "        pk_lt['pk_lt_log'] = False\n",
    "    args_power['correct_grid'] = False if ii == 11 else True\n",
    "\n",
    "    if prod[ii][0]==0 and prod[ii][1]==0:\n",
    "        grid1 = bias_terms_eul_norm512[prod[ii,0]]\n",
    "        grid2 = bias_terms_eul_norm512[prod[ii,1]]\n",
    "    else:\n",
    "        grid1 = bias_terms_eul[prod[ii,0]]\n",
    "        grid2 = bias_terms_eul[prod[ii,1]]\n",
    "    power_term_pred_mixnorm = bacco.statistics.compute_crossspectrum_twogrids(grid1=grid1,\n",
    "                                                    grid2=grid2,\n",
    "                                                    normalise_grid1=True,\n",
    "                                                    normalise_grid2=True,\n",
    "                                                    deconvolve_grid1=False,\n",
    "                                                    deconvolve_grid2=False,\n",
    "                                                    **args_power)\n",
    "    power_all_terms_pred_mixnorm.append(power_term_pred_mixnorm)\n"
   ]
  },
  {
   "cell_type": "code",
   "execution_count": 136,
   "metadata": {},
   "outputs": [],
   "source": [
    "bias_extended = np.concatenate([[1], bias_vector])\n",
    "\n",
    "prod = np.array(list(itertools.combinations_with_replacement(np.arange(5), r=2)))\n",
    "\n",
    "sum_terms_power_mixnorm = 0\n",
    "for ii in range(0,15):\n",
    "    fac = 2 if prod[ii,0]!=prod[ii,1] else 1\n",
    "    sum_terms_power_mixnorm += bias_extended[prod[ii,0]] * bias_extended[prod[ii,1]] * power_all_terms_pred_mixnorm[ii]['pk'] * fac"
   ]
  },
  {
   "cell_type": "code",
   "execution_count": 159,
   "metadata": {},
   "outputs": [
    {
     "data": {
      "text/plain": [
       "Text(0, 0.5, '$P(k) \\\\,\\\\, [h^{-3} \\\\,\\\\, {\\\\rm Mpc}^3]$')"
      ]
     },
     "execution_count": 159,
     "metadata": {},
     "output_type": "execute_result"
    },
    {
     "data": {
      "image/png": "[encoded data removed]",
      "text/plain": [
       "<Figure size 700x500 with 1 Axes>"
      ]
     },
     "metadata": {},
     "output_type": "display_data"
    }
   ],
   "source": [
    "plt.figure(figsize=(7,5))\n",
    "ax = plt.gca()\n",
    "ax.loglog(pk['k'], pk['pk'], label='sum fields -> compute pk \\n(no norm, normalise_grid=True)', lw=2)\n",
    "ax.loglog(pk_norm128['k'], pk_norm128['pk'], label='sum fields -> compute pk \\n(norm with 128^3, normalise_grid=True)', ls='--', lw=2)\n",
    "#ax.loglog(pk_normgridfalse['k'], pk_normgridfalse['pk'], \n",
    "#           label='sum fields -> compute pk \\n(no norm, normalise_grid=False)', ls='-.', color='purple', lw=2)\n",
    "# ax.loglog(pk_norm128_normgridfalse['k'], pk_norm128_normgridfalse['pk'], \n",
    "#           label='sum fields -> compute pk \\n(norm with 128^3, normalise_grid=False)', ls=':', color='magenta', lw=2)\n",
    "ax.loglog(pk_norm512_normgridfalse['k'], pk_norm512_normgridfalse['pk'], \n",
    "          label='sum fields -> compute pk \\n(norm with 512^3, normalise_grid=False)', ls=':', color='green', lw=2)\n",
    "\n",
    "#ax.loglog(pk_norm128_normgridfalse['k'], pk_norm128_normgridfalse['pk'], label='combine fields -> compute pk \\n(norm with 128^2, normalise_grid=False)', lw=2)\n",
    "#ax.loglog(pk_norm512['k'], pk_norm512['pk'], label='combine fields -> compute pk \\n(norm with 512^3, normalise_grid=False)', ls='--', color='cyan', lw=2)\n",
    "ax.loglog(pk['k'], sum_terms_power, label='compute field Pks -> sum Pks \\n(norm with 512^3, normalise_grid=False)', ls='-.', lw='2', color='maroon')\n",
    "#ax.loglog(pk['k'], sum_terms_power_nonorm_normgrid, label='compute field Pks -> sum Pks \\n(no norm, normalise_grid=True)', ls='-.', lw='2')\n",
    "#ax.loglog(pk['k'], sum_terms_power_mixnorm, label='compute field Pks -> sum Pks \\n(11 norm with 512^3, others no norm, normalise_grid=True)', ls=':', lw='2')\n",
    "\n",
    "\n",
    "plt.legend()\n",
    "\n",
    "ax.set_xlabel(r'$k \\,\\, [h \\,\\, {\\rm Mpc}^{-1}]$', fontsize=23)\n",
    "ax.set_ylabel(r'$P(k) \\,\\, [h^{-3} \\,\\, {\\rm Mpc}^3]$', fontsize=23)"
   ]
  },
  {
   "cell_type": "code",
   "execution_count": 138,
   "metadata": {},
   "outputs": [
    {
     "data": {
      "text/plain": [
       "Text(0, 0.5, '$P(k) \\\\,\\\\, [h^{-3} \\\\,\\\\, {\\\\rm Mpc}^3]$')"
      ]
     },
     "execution_count": 138,
     "metadata": {},
     "output_type": "execute_result"
    },
    {
     "data": {
      "image/png": "[encoded data removed]",
      "text/plain": [
       "<Figure size 700x500 with 1 Axes>"
      ]
     },
     "metadata": {},
     "output_type": "display_data"
    }
   ],
   "source": [
    "plt.figure(figsize=(7,5))\n",
    "ax = plt.gca()\n",
    "ax.loglog(pk_norm512_normgridfalse['k'], pk_norm512_normgridfalse['pk'], label='b1=1', lw=2)\n",
    "ax.loglog(pk_b1is0_norm512_normgridfalse['k'], pk_b1is0_norm512_normgridfalse['pk'], label='b1=0', \n",
    "          ls='--', color='cyan', lw=2)\n",
    "\n",
    "plt.legend()\n",
    "\n",
    "ax.set_xlabel(r'$k \\,\\, [h \\,\\, {\\rm Mpc}^{-1}]$', fontsize=23)\n",
    "ax.set_ylabel(r'$P(k) \\,\\, [h^{-3} \\,\\, {\\rm Mpc}^3]$', fontsize=23)"
   ]
  },
  {
   "cell_type": "code",
   "execution_count": 139,
   "metadata": {},
   "outputs": [
    {
     "data": {
      "text/plain": [
       "Text(0, 0.5, '$P(k) \\\\,\\\\, [h^{-3} \\\\,\\\\, {\\\\rm Mpc}^3]$')"
      ]
     },
     "execution_count": 139,
     "metadata": {},
     "output_type": "execute_result"
    },
    {
     "data": {
      "image/png": "[encoded data removed]",
      "text/plain": [
       "<Figure size 700x500 with 1 Axes>"
      ]
     },
     "metadata": {},
     "output_type": "display_data"
    }
   ],
   "source": [
    "plt.figure(figsize=(7,5))\n",
    "ax = plt.gca()\n",
    "\n",
    "ax.loglog(pk_11_norm512['k'], pk_11_norm512['pk'], label='1-1 Pk \\n(norm with 512^3, normalise_grid=True)', ls='-', color='purple', lw=2)\n",
    "#ax.loglog(pk_dd_norm512['k'], pk_dd_norm512['pk'], label='delta-delta Pk \\n(norm with 512^3, normalise_grid=True)', ls='--', color='magenta', lw=2)\n",
    "ax.loglog(pk_dd_nonorm['k'], pk_dd_nonorm['pk'], label='delta-delta Pk \\n(no norm, normalise_grid=True)', ls=':', color='red', lw=2)\n",
    "\n",
    "\n",
    "plt.legend()\n",
    "\n",
    "ax.set_xlabel(r'$k \\,\\, [h \\,\\, {\\rm Mpc}^{-1}]$', fontsize=23)\n",
    "ax.set_ylabel(r'$P(k) \\,\\, [h^{-3} \\,\\, {\\rm Mpc}^3]$', fontsize=23)"
   ]
  },
  {
   "cell_type": "code",
   "execution_count": null,
   "metadata": {},
   "outputs": [],
   "source": []
  }
 ],
 "metadata": {
  "kernelspec": {
   "display_name": "baccoenv",
   "language": "python",
   "name": "baccoenv"
  },
  "language_info": {
   "codemirror_mode": {
    "name": "ipython",
    "version": 3
   },
   "file_extension": ".py",
   "mimetype": "text/x-python",
   "name": "python",
   "nbconvert_exporter": "python",
   "pygments_lexer": "ipython3",
   "version": "3.11.5"
  }
 },
 "nbformat": 4,
 "nbformat_minor": 2
}
