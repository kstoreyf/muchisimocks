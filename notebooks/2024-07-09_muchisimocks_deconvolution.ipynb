{
 "cells": [
  {
   "cell_type": "code",
   "execution_count": 1,
   "metadata": {},
   "outputs": [
    {
     "name": "stderr",
     "output_type": "stream",
     "text": [
      "2024-07-09 17:59:58.794392: I tensorflow/tsl/cuda/cudart_stub.cc:28] Could not find cuda drivers on your machine, GPU will not be used.\n",
      "2024-07-09 17:59:59.040726: I tensorflow/tsl/cuda/cudart_stub.cc:28] Could not find cuda drivers on your machine, GPU will not be used.\n",
      "2024-07-09 17:59:59.042003: I tensorflow/core/platform/cpu_feature_guard.cc:182] This TensorFlow binary is optimized to use available CPU instructions in performance-critical operations.\n",
      "To enable the following instructions: AVX2 AVX512F FMA, in other operations, rebuild TensorFlow with the appropriate compiler flags.\n",
      "2024-07-09 18:00:02.081594: W tensorflow/compiler/tf2tensorrt/utils/py_utils.cc:38] TF-TRT Warning: Could not find TensorRT\n",
      "2024-07-09 18:00:06.686023: W tensorflow/core/common_runtime/gpu/gpu_device.cc:1956] Cannot dlopen some GPU libraries. Please make sure the missing libraries mentioned above are installed properly if you would like to use GPU. Follow the guide at https://www.tensorflow.org/install/gpu for how to download and setup the required libraries for your platform.\n",
      "Skipping registering GPU devices...\n"
     ]
    }
   ],
   "source": [
    "import numpy as np\n",
    "import matplotlib as mpl\n",
    "from matplotlib import pyplot as plt\n",
    "import pyfftw\n",
    "\n",
    "import bacco\n",
    "import baccoemu\n",
    "\n",
    "import sys\n",
    "sys.path.append('/dipc/kstoreyf/muchisimocks/scripts')\n",
    "import utils\n",
    "import plotter\n",
    "\n",
    "%load_ext autoreload\n",
    "%autoreload 2"
   ]
  },
  {
   "cell_type": "markdown",
   "metadata": {},
   "source": [
    "### Set up bacco: cosmology and power spectrum parameters"
   ]
  },
  {
   "cell_type": "code",
   "execution_count": 2,
   "metadata": {},
   "outputs": [],
   "source": [
    "idx_LH = 0\n",
    "idx_LH_str = str(idx_LH)\n",
    "\n",
    "# order of saved cosmo param files\n",
    "param_names_all = ['omega_cold', 'sigma_8', 'h', 'omega_baryon', 'n_s', 'seed']\n",
    "param_names = ['omega_cold', 'sigma_8', 'h']\n",
    "    \n",
    "n_grid = 128\n",
    "n_grid_orig = 512\n",
    "box_size = 1000.0"
   ]
  },
  {
   "cell_type": "code",
   "execution_count": 3,
   "metadata": {},
   "outputs": [],
   "source": [
    "# Quijote LH test data\n",
    "\n",
    "# still had LH0 in map2map emu dir, preeeetty sure its LH0 cosmo params\n",
    "\n",
    "dir_mocks = f'/dipc/kstoreyf/muchisimocks/data/cosmolib_rerun'\n",
    "dir_params = f'/dipc/kstoreyf/muchisimocks/data/cosmolib'\n",
    "\n",
    "fn_sim = f'{dir_mocks}/LH{idx_LH}/pred_disp.npy'\n",
    "sim_disp = np.load(fn_sim)\n",
    "\n",
    "fn_dens = f'{dir_mocks}/LH{idx_LH}/lin_field.npy'\n",
    "dens_lin = np.load(fn_dens)"
   ]
  },
  {
   "cell_type": "code",
   "execution_count": 53,
   "metadata": {},
   "outputs": [
    {
     "name": "stderr",
     "output_type": "stream",
     "text": [
      "2024-07-09 18:24:45,639 bacco.cosmo :    initialization took 0.000 secs\n"
     ]
    },
    {
     "name": "stdout",
     "output_type": "stream",
     "text": [
      "{'omega_cold': 0.2775274936564327, 'sigma_8': 0.7049140324569382, 'h': 0.7241123952301097, 'omega_baryon': 0.049, 'n_s': 0.9624, 'seed': 0.0}\n"
     ]
    }
   ],
   "source": [
    "fn_params = f'{dir_params}/LH{idx_LH}/cosmo_{idx_LH}.txt'\n",
    "param_vals = np.loadtxt(fn_params)\n",
    "param_dict = dict(zip(param_names_all, param_vals))\n",
    "#del param_dict['seed']\n",
    "print(param_dict)\n",
    "cosmo = utils.get_cosmo(param_dict)\n"
   ]
  },
  {
   "cell_type": "code",
   "execution_count": 54,
   "metadata": {},
   "outputs": [
    {
     "name": "stdout",
     "output_type": "stream",
     "text": [
      "{'sigma8_cold': 0.7049140324569382, 'omega_cold': 0.2775274936564327, 'hubble': 0.7241123952301097, 'ns': 0.9624, 'omega_baryon': 0.049, 'expfactor': 1, 'neutrino_mass': 0.0, 'w0': -1.0, 'wa': 0.0}\n"
     ]
    }
   ],
   "source": [
    "cosmo_params_emu = utils.cosmo_bacco_to_cosmo_baccoemu(cosmo)\n",
    "print(cosmo_params_emu)"
   ]
  },
  {
   "cell_type": "code",
   "execution_count": 5,
   "metadata": {},
   "outputs": [],
   "source": [
    "k_min = 0.01\n",
    "k_max = 1.0\n",
    "n_bins = 30\n",
    "log_binning = True\n",
    "n_threads = 4\n",
    "\n",
    "deposit_method = 'cic'\n",
    "interlacing = False\n",
    "correct_grid = True\n",
    "deconvolve_grid = True\n",
    "normalise_grid = True\n",
    "\n",
    "# defaults from bacco.statistics.compute_power\n",
    "# unless passed or otherwise denoted\n",
    "args_power = {\n",
    "    \"ngrid\": n_grid,\n",
    "    \"box\": box_size,\n",
    "    #\"pos\": None,\n",
    "    \"vel\": None,\n",
    "    \"mass\": None,\n",
    "    \"interlacing\": interlacing, #default: None\n",
    "    \"unit_in_Mpc\": 1,\n",
    "    \"deposit_method\": deposit_method, # default: 'cic',\n",
    "    \"bs_method\": None,\n",
    "    \"bs_num_triangles\": 10000,\n",
    "    \"bs_k1\": 0.01,\n",
    "    \"bs_k2\": None,\n",
    "    \"bs_deltak\": None,\n",
    "    \"log_binning\": log_binning,\n",
    "    \"kmin\": k_min,\n",
    "    \"kmax\": k_max,\n",
    "    \"nbins\": n_bins,\n",
    "    \"correct_grid\": correct_grid, #default: True,\n",
    "    \"deconvolve_grid\": deconvolve_grid, #default: True,\n",
    "    \"normalise_grid\": normalise_grid, #default: True,\n",
    "    \"totalmass\": None,\n",
    "    \"correct_shotnoise\": False,\n",
    "    \"zspace\": False,\n",
    "    \"cosmology\": cosmo,\n",
    "    \"pmulti_interp\": \"polyfit\",\n",
    "    \"nthreads\": n_threads,\n",
    "    \"grid1\": None,\n",
    "    \"dilution\": None,\n",
    "    \"folds\": None,\n",
    "    \"compute_correlation\": False, #default: True\n",
    "    \"compute_power2d\": False, #default: True\n",
    "    \"jack_error\": False,\n",
    "    \"n_jack\": None\n",
    "}\n",
    "\n",
    "# defaults from bacco.statistics.compute_crossspectrum_twogrids\n",
    "# unless passed or otherwise denoted\n",
    "args_power_grid = {\n",
    "    # \"grid1\": None,\n",
    "    # \"grid2\": None,\n",
    "    \"normalise_grid1\": normalise_grid, #default: False\n",
    "    \"normalise_grid2\": normalise_grid, #default: False\n",
    "    \"deconvolve_grid1\": deconvolve_grid, #default: False\n",
    "    \"deconvolve_grid2\": deconvolve_grid, #default: False\n",
    "    \"ngrid\": n_grid,\n",
    "    \"box\": box_size,\n",
    "    \"mass1\": None,\n",
    "    \"mass2\": None,\n",
    "    \"interlacing\": interlacing, #default: True\n",
    "    \"deposit_method\": deposit_method, #default: \"tsc\",\n",
    "    \"log_binning\": log_binning,\n",
    "    \"pk_lt\": None,\n",
    "    \"kmin\": k_min,\n",
    "    \"kmax\": k_max,\n",
    "    \"nbins\": n_bins,\n",
    "    \"correct_grid\": correct_grid,\n",
    "    \"zspace\": False,\n",
    "    \"cosmology\": cosmo,\n",
    "    \"pmulti_interp\": \"polyfit\",\n",
    "    \"nthreads\": n_threads,\n",
    "    \"compute_correlation\": False, #default: True\n",
    "    \"compute_power2d\": False, #default: True\n",
    "    \"folds\": 1,\n",
    "    \"totalmass1\": None,\n",
    "    \"totalmass2\": None,\n",
    "    \"jack_error\": False,\n",
    "    \"n_jack\": None\n",
    "}\n",
    "\n",
    "pknbody_dict = {\n",
    "    'ngrid': n_grid,\n",
    "    'min_k': k_min,\n",
    "    'log_binning': log_binning,\n",
    "    'log_binning_kmax': k_max,\n",
    "    'log_binning_nbins': n_bins,\n",
    "    'interlacing': interlacing,\n",
    "    'depmethod': deposit_method,\n",
    "    'correct_grid': correct_grid,\n",
    "    'folds': 1 #default\n",
    "}\n",
    "bacco.configuration.update({'number_of_threads': n_threads})\n",
    "bacco.configuration.update({'pknbody': pknbody_dict})\n",
    "bacco.configuration.update({'pk' : {'maxk' : k_max}})\n",
    "bacco.configuration.update({'scaling' : {'disp_ngrid' : n_grid}})\n"
   ]
  },
  {
   "cell_type": "markdown",
   "metadata": {},
   "source": [
    "## Make fields"
   ]
  },
  {
   "cell_type": "code",
   "execution_count": 6,
   "metadata": {},
   "outputs": [],
   "source": [
    "\n",
    "cosmo_params = {\n",
    "    'neutrino_mass' :  0.0,\n",
    "    'w0'            : -1.0,\n",
    "    'wa'            :  0.0,\n",
    "    'expfactor'     :  1\n",
    "}"
   ]
  },
  {
   "cell_type": "code",
   "execution_count": 7,
   "metadata": {},
   "outputs": [
    {
     "name": "stdout",
     "output_type": "stream",
     "text": [
      "Generating grid\n"
     ]
    },
    {
     "name": "stderr",
     "output_type": "stream",
     "text": [
      "2024-07-09 18:00:24,737 bacco.scaler : Adding displacement field with a vel-factor=0.000000\n"
     ]
    },
    {
     "name": "stdout",
     "output_type": "stream",
     "text": [
      "Adding predicted displacements\n",
      "bacco.lss_scaler:  Adding LSS displacement: vel_factor=0.000000 mesh_dtype=4, use_vel=0, use_bias=0\n",
      "bacco.lss_scaler:  Adding LSS displacement: looping over particles\n"
     ]
    }
   ],
   "source": [
    "# copied from DataCreationPipeline.py\n",
    "\n",
    "## Create regular grid and displace particles\n",
    "print(\"Generating grid\")\n",
    "grid = bacco.visualization.uniform_grid(npix=n_grid_orig, L=box_size, ndim=3, bounds=False)\n",
    "\n",
    "print(\"Adding predicted displacements\")\n",
    "sim_pos = bacco.scaler.add_displacement(None,\n",
    "                                    sim_disp,\n",
    "                                    box=box_size,\n",
    "                                    pos=grid.reshape(-1,3),\n",
    "                                    vel=None,\n",
    "                                    vel_factor=0,\n",
    "                                    verbose=True)[0]"
   ]
  },
  {
   "cell_type": "code",
   "execution_count": null,
   "metadata": {},
   "outputs": [],
   "source": []
  },
  {
   "cell_type": "code",
   "execution_count": 8,
   "metadata": {},
   "outputs": [
    {
     "name": "stderr",
     "output_type": "stream",
     "text": [
      "2024-07-09 18:00:30,140 bacco.util : Initial conditions compatible with Gadget-3 Ngenic\n",
      "2024-07-09 18:00:30,142 bacco.sims : Initialising simulation Default\n",
      "2024-07-09 18:00:30,143 bacco.sims : ...done in 0.00113 s\n",
      "2024-07-09 18:00:30,848 bacco.cosmo :    computed CAMB power spectrum at z=0.00 in 0.442 secs\n",
      "2024-07-09 18:00:30,850 bacco.cosmo :    created Pk(z=0) tab from k 6.905005284352228e-05 to 100000.0 h/Mpc\n",
      "2024-07-09 18:00:39,020 bacco.cosmo :    computed CAMB power spectrum at z=0.00 in 0.415 secs\n",
      "2024-07-09 18:00:39,024 bacco.cosmo :    created Pk(z=0) tab from k 6.905005284352228e-05 to 100000.0 h/Mpc\n"
     ]
    },
    {
     "name": "stdout",
     "output_type": "stream",
     "text": [
      "bacco.lss_scaler : 292 P(k) values; Di = (1.000000, 1.000000, 1.000000, 1.000000); nthreads =4; seed =0 \n",
      "bacco.lss_scaler: start computing linear field...\n",
      "bacco.lss_scaler: seed =0 ngrid=512 pkfixed=0 phase=0.000000, phase_type=1; precision=single \n",
      "bacco.lss: computing seed table\n"
     ]
    },
    {
     "name": "stderr",
     "output_type": "stream",
     "text": [
      "2024-07-09 18:00:59,620 bacco.scaler : Adding displacement field with a vel-factor=49.066468\n"
     ]
    },
    {
     "name": "stdout",
     "output_type": "stream",
     "text": [
      "bacco.lss_scaler:  Adding LSS displacement: vel_factor=49.066468 mesh_dtype=4, use_vel=1, use_bias=0\n",
      "bacco.lss_scaler:  Adding LSS displacement: looping over particles\n"
     ]
    }
   ],
   "source": [
    "FixedInitialAmplitude = False\n",
    "seed = int(param_dict['seed'])\n",
    "sim, disp_field = bacco.utils.create_lpt_simulation(cosmo, box_size, Nmesh=n_grid_orig, Seed=seed,\n",
    "                                                    FixedInitialAmplitude=FixedInitialAmplitude,InitialPhase=0, \n",
    "                                                    expfactor=1, LPT_order=1, order_by_order=None,\n",
    "                                                    phase_type=1, ngenic_phases=True, return_disp=True, \n",
    "                                                    sphere_mode=0)"
   ]
  },
  {
   "cell_type": "code",
   "execution_count": 9,
   "metadata": {},
   "outputs": [
    {
     "name": "stderr",
     "output_type": "stream",
     "text": [
      "2024-07-09 18:01:06,883 bacco.BiasModel : Initialising Bias Model class ...\n"
     ]
    },
    {
     "name": "stdout",
     "output_type": "stream",
     "text": [
      "Setting up bias model\n"
     ]
    }
   ],
   "source": [
    "damping_scale = 0.7 #k_nyq\n",
    "interlacing = False\n",
    "\n",
    "print(\"Setting up bias model\")\n",
    "bmodel = bacco.BiasModel(sim=sim, linear_delta=dens_lin, ngrid=n_grid_orig, ngrid1=None, \n",
    "                            sdm=False, mode=\"dm\",\n",
    "                            npart_for_fake_sim=n_grid_orig, damping_scale=damping_scale, \n",
    "                            bias_model='expansion', deposit_method=\"cic\", \n",
    "                            use_displacement_of_nn=False, interlacing=interlacing, \n",
    "                            )\n"
   ]
  },
  {
   "cell_type": "code",
   "execution_count": 10,
   "metadata": {},
   "outputs": [
    {
     "name": "stderr",
     "output_type": "stream",
     "text": [
      "2024-07-09 18:01:09,984 bacco.BiasModel : Computing delta_to_tidal_field with 4 threads...\n",
      "2024-07-09 18:01:09,986 bacco.BiasModel : fttw plan\n",
      "2024-07-09 18:01:09,987 bacco.BiasModel : Computing linear field ...\n",
      "2024-07-09 18:01:09,989 bacco.BiasModel : Memory used: 11.851792384 Gigabytes\n",
      "2024-07-09 18:01:09,993 bacco.BiasModel : fttw freqs\n",
      "2024-07-09 18:01:09,994 bacco.BiasModel : tidk freqs\n",
      "2024-07-09 18:01:20,223 bacco.BiasModel : ifft\n",
      "2024-07-09 18:02:01,853 bacco.BiasModel : Computing laplacian ...\n",
      "2024-07-09 18:02:01,856 bacco.BiasModel : Memory used: 16.68544512 Gigabytes\n",
      "2024-07-09 18:02:04,002 bacco.BiasModel : Computing bias terms in lagrangian coords ...\n",
      "2024-07-09 18:02:04,004 bacco.BiasModel : Memory used: 17.222479872 Gigabytes\n",
      "2024-07-09 18:02:04,275 bacco.BiasModel : Computing delta squared ...\n",
      "2024-07-09 18:02:04,277 bacco.BiasModel : Memory used: 17.759207424 Gigabytes\n",
      "2024-07-09 18:02:05,107 bacco.BiasModel : Computing tidal component G2 with the given tidal field\n",
      "2024-07-09 18:02:05,108 bacco.BiasModel : Memory used: 18.296233984 Gigabytes\n"
     ]
    }
   ],
   "source": [
    "bias_fields = bmodel.bias_terms_lag()"
   ]
  },
  {
   "cell_type": "code",
   "execution_count": 68,
   "metadata": {},
   "outputs": [
    {
     "name": "stderr",
     "output_type": "stream",
     "text": [
      "2024-07-09 18:37:14,461 bacco.statistics : Computing cic mesh with ngrid=512 and interlacing=False\n",
      "2024-07-09 18:37:14,462 bacco.statistics : starting deposit 1\n",
      "2024-07-09 18:37:19,019 bacco.statistics :  mesh done in 4.56 s\n"
     ]
    },
    {
     "name": "stdout",
     "output_type": "stream",
     "text": [
      "bacco.mesh : boxsize=1000.000000 ngrid=512, nthreads=4, vel_factor=0.000000, interlacing=0, folds=1.000000, 2d=0\n",
      "bacco.mesh : allocating 512.0 Mb\n",
      "bacco.mesh : binning of 134217728 particles (134217728 with mass)\n"
     ]
    },
    {
     "name": "stderr",
     "output_type": "stream",
     "text": [
      "2024-07-09 18:37:19,994 bacco.statistics : Computing cic mesh with ngrid=512 and interlacing=False\n",
      "2024-07-09 18:37:19,995 bacco.statistics : starting deposit 1\n",
      "2024-07-09 18:37:24,564 bacco.statistics :  mesh done in 4.57 s\n"
     ]
    },
    {
     "name": "stdout",
     "output_type": "stream",
     "text": [
      "bacco.mesh : boxsize=1000.000000 ngrid=512, nthreads=4, vel_factor=0.000000, interlacing=0, folds=1.000000, 2d=0\n",
      "bacco.mesh : allocating 512.0 Mb\n",
      "bacco.mesh : binning of 134217728 particles (134217728 with mass)\n"
     ]
    },
    {
     "name": "stderr",
     "output_type": "stream",
     "text": [
      "2024-07-09 18:37:25,480 bacco.statistics : Computing cic mesh with ngrid=512 and interlacing=False\n",
      "2024-07-09 18:37:25,481 bacco.statistics : starting deposit 1\n",
      "2024-07-09 18:37:29,922 bacco.statistics :  mesh done in 4.44 s\n"
     ]
    },
    {
     "name": "stdout",
     "output_type": "stream",
     "text": [
      "bacco.mesh : boxsize=1000.000000 ngrid=512, nthreads=4, vel_factor=0.000000, interlacing=0, folds=1.000000, 2d=0\n",
      "bacco.mesh : allocating 512.0 Mb\n",
      "bacco.mesh : binning of 134217728 particles (134217728 with mass)\n"
     ]
    },
    {
     "name": "stderr",
     "output_type": "stream",
     "text": [
      "2024-07-09 18:37:30,849 bacco.statistics : Computing cic mesh with ngrid=512 and interlacing=False\n",
      "2024-07-09 18:37:30,850 bacco.statistics : starting deposit 1\n"
     ]
    },
    {
     "name": "stdout",
     "output_type": "stream",
     "text": [
      "bacco.mesh : boxsize=1000.000000 ngrid=512, nthreads=4, vel_factor=0.000000, interlacing=0, folds=1.000000, 2d=0\n",
      "bacco.mesh : allocating 512.0 Mb\n"
     ]
    },
    {
     "name": "stderr",
     "output_type": "stream",
     "text": [
      "2024-07-09 18:37:35,343 bacco.statistics :  mesh done in 4.49 s\n"
     ]
    },
    {
     "name": "stdout",
     "output_type": "stream",
     "text": [
      "bacco.mesh : binning of 134217728 particles (134217728 with mass)\n"
     ]
    },
    {
     "name": "stderr",
     "output_type": "stream",
     "text": [
      "2024-07-09 18:37:36,242 bacco.statistics : Computing cic mesh with ngrid=512 and interlacing=False\n",
      "2024-07-09 18:37:36,243 bacco.statistics : starting deposit 1\n",
      "2024-07-09 18:37:40,811 bacco.statistics :  mesh done in 4.57 s\n"
     ]
    },
    {
     "name": "stdout",
     "output_type": "stream",
     "text": [
      "bacco.mesh : boxsize=1000.000000 ngrid=512, nthreads=4, vel_factor=0.000000, interlacing=0, folds=1.000000, 2d=0\n",
      "bacco.mesh : allocating 512.0 Mb\n",
      "bacco.mesh : binning of 134217728 particles (134217728 with mass)\n",
      "[[[[ 4.65046972e-01  1.66364104e-01  1.99700043e-01 ...  1.25449204e+00\n",
      "     8.59896779e-01  1.31075525e+00]\n",
      "   [ 3.22540194e-01  5.26725501e-02  5.24317622e-01 ...  1.67249954e+00\n",
      "     1.35853982e+00  9.36198890e-01]\n",
      "   [ 5.61226249e-01  4.05593328e-02  4.09909159e-01 ...  9.52745140e-01\n",
      "     1.42837894e+00  6.87089860e-01]\n",
      "   ...\n",
      "   [ 1.31477690e+00  1.24927258e+00  1.31813717e+00 ...  3.87719005e-01\n",
      "     2.09364325e-01  3.19570065e-01]\n",
      "   [ 6.77930593e-01  7.62286782e-01  8.91062856e-01 ...  5.38908958e-01\n",
      "     2.96786159e-01  6.75770640e-01]\n",
      "   [ 8.56859267e-01  3.09524983e-01  5.48562884e-01 ...  7.34820604e-01\n",
      "     1.28242224e-01  7.67709672e-01]]\n",
      "\n",
      "  [[ 2.03325891e+00  3.04968864e-01  2.94715166e-01 ...  4.76340503e-01\n",
      "     1.41698837e-01  1.72101676e+00]\n",
      "   [ 6.70869052e-01  4.56610471e-02  3.62722844e-01 ...  3.48523945e-01\n",
      "     3.55145454e-01  2.34415388e+00]\n",
      "   [ 6.00337625e-01  4.40931171e-02  2.36310318e-01 ...  2.43055165e-01\n",
      "     1.89226532e+00  2.42473102e+00]\n",
      "   ...\n",
      "   [ 1.76917166e-01  1.54519415e+00  1.84084320e+00 ...  1.49993092e-01\n",
      "     5.44321872e-02  6.31792704e-04]\n",
      "   [ 6.49245918e-01  1.57650518e+00  1.06641066e+00 ...  5.35027444e-01\n",
      "     2.11484596e-01  7.37851501e-01]\n",
      "   [ 1.01802933e+00  8.52301955e-01  1.08580732e+00 ...  2.94485658e-01\n",
      "     4.52958755e-02  1.61750749e-01]]\n",
      "\n",
      "  [[ 6.08378828e-01  2.01741278e-01  2.07966283e-01 ...  2.14870095e-01\n",
      "     0.00000000e+00  7.47461468e-02]\n",
      "   [ 9.78789032e-01  1.70466244e-01  4.59505856e-01 ...  4.31004733e-01\n",
      "     3.67030986e-02  8.15339565e-01]\n",
      "   [ 6.96452737e-01  6.71474859e-02  2.98260123e-01 ...  3.46489012e-01\n",
      "     2.27776483e-01  2.24348831e+00]\n",
      "   ...\n",
      "   [ 1.59693491e-02  2.22818881e-01  4.42466944e-01 ...  9.35290009e-02\n",
      "     1.91168450e-02  0.00000000e+00]\n",
      "   [ 9.66123641e-02  2.62777507e-01  3.93774211e-01 ...  1.10634938e-01\n",
      "     1.02511970e-02  0.00000000e+00]\n",
      "   [ 2.84678161e-01  6.81423664e-01  1.72205910e-01 ...  8.39450359e-02\n",
      "     5.02542360e-03  4.09822358e-04]]\n",
      "\n",
      "  ...\n",
      "\n",
      "  [[ 4.01434064e-01  6.66638017e-01  4.94873166e-01 ...  4.76295424e+00\n",
      "     2.67714977e+00  1.23205829e+00]\n",
      "   [ 3.18901911e-02  7.86824226e-02  1.39987186e-01 ...  5.18356442e-01\n",
      "     6.03517294e-01  3.60168703e-02]\n",
      "   [ 2.78096855e-01  2.35102773e-01  6.92091405e-01 ...  3.91610003e+00\n",
      "     3.34378982e+00  5.34924746e-01]\n",
      "   ...\n",
      "   [ 4.11607586e-02  5.33552587e-01  6.40866935e-01 ...  3.43232012e+00\n",
      "     6.81481898e-01  2.31332690e-01]\n",
      "   [ 2.68248409e-01  1.21695602e+00  4.82390970e-01 ...  1.04679275e+00\n",
      "     3.39615583e-01  5.29263556e-01]\n",
      "   [ 2.22121969e-01  6.26967907e-01  1.94765195e-01 ...  2.41652989e+00\n",
      "     7.78973997e-01  1.46636391e+00]]\n",
      "\n",
      "  [[ 1.93538606e-01  3.01978499e-01  3.77140015e-01 ...  7.99368095e+00\n",
      "     2.61059475e+00  5.09585023e-01]\n",
      "   [ 2.59663165e-02  2.05159523e-02  1.09852366e-02 ...  9.09231901e-02\n",
      "     1.40866026e-01  5.96202398e-03]\n",
      "   [ 2.26437986e-01  1.83957934e-01  2.74153709e-01 ...  3.02945137e+00\n",
      "     1.69393516e+00  3.49438637e-01]\n",
      "   ...\n",
      "   [ 2.11204216e-01  6.30562127e-01  4.43759561e-01 ...  3.36559439e+00\n",
      "     1.67721462e+00  8.88020098e-01]\n",
      "   [ 4.38457608e-01  9.93320763e-01  4.44931835e-01 ...  2.18672657e+00\n",
      "     8.91506791e-01  1.10193074e+00]\n",
      "   [ 2.92412817e-01  5.85278094e-01  2.42020726e-01 ...  3.64590287e+00\n",
      "     1.18488932e+00  1.92179704e+00]]\n",
      "\n",
      "  [[ 2.15588629e-01  1.27502292e-01  2.05109835e-01 ...  8.65587139e+00\n",
      "     1.76123381e+00  8.68140697e-01]\n",
      "   [ 2.19594255e-01  1.13033876e-02  2.89915115e-01 ...  2.21962285e+00\n",
      "     5.59621930e-01  6.00402951e-02]\n",
      "   [ 3.51604581e-01  1.85079630e-02  4.80359316e-01 ...  9.42122340e-01\n",
      "     5.14080644e-01  1.96694180e-01]\n",
      "   ...\n",
      "   [ 1.07955563e+00  5.22893548e-01  4.41327393e-01 ...  4.70530212e-01\n",
      "     7.60155797e-01  1.46461546e+00]\n",
      "   [ 2.81711966e-01  4.48242038e-01  2.58941919e-01 ...  8.38597834e-01\n",
      "     7.20145941e-01  6.83961391e-01]\n",
      "   [ 4.08687145e-01  1.87909469e-01  3.04844975e-01 ...  1.56896245e+00\n",
      "     6.00269854e-01  1.52019787e+00]]]\n",
      "\n",
      "\n",
      " [[[-1.83926120e-01 -1.64714500e-01 -6.88815236e-01 ... -2.74149209e-01\n",
      "     2.54384577e-01 -5.28022408e-01]\n",
      "   [-8.19467306e-01 -2.09335178e-01 -2.10148120e+00 ... -1.61298013e+00\n",
      "     5.43888569e-01  1.04869716e-01]\n",
      "   [-1.23869228e+00 -1.57015145e-01 -1.62349546e+00 ...  1.23424158e-01\n",
      "    -2.54245043e-01 -3.26727539e-01]\n",
      "   ...\n",
      "   [-6.33694410e-01 -4.93665636e-02  3.31531107e-01 ... -1.12923682e+00\n",
      "    -7.07093835e-01 -3.35720181e-01]\n",
      "   [-9.98840690e-01 -9.15131927e-01 -7.84521341e-01 ... -6.05502129e-01\n",
      "    -9.11415040e-01 -1.79906607e+00]\n",
      "   [-4.94898289e-01 -2.85324037e-01 -1.51503873e+00 ... -7.54664838e-01\n",
      "    -2.12744087e-01 -7.49309719e-01]]\n",
      "\n",
      "  [[-1.11432517e+00 -1.49228364e-01 -7.87863433e-01 ... -1.96170211e+00\n",
      "    -1.85774684e-01 -9.46059704e-01]\n",
      "   [ 1.76371485e-01 -2.42686838e-01 -1.88660884e+00 ... -1.11771977e+00\n",
      "    -2.08847836e-01  5.52846313e-01]\n",
      "   [-7.93263972e-01 -1.99186534e-01 -1.08976483e+00 ... -5.59077084e-01\n",
      "     2.32660770e+00  9.50680375e-01]\n",
      "   ...\n",
      "   [-2.54841715e-01 -4.40506935e-02  1.43341267e+00 ... -3.05062532e-01\n",
      "    -7.33335093e-02 -9.78857977e-04]\n",
      "   [-9.55496311e-01  2.43630648e-01  4.22990650e-01 ... -1.60752559e+00\n",
      "    -1.05620170e+00 -4.22215462e+00]\n",
      "   [-7.41339207e-01  8.64599943e-02 -2.63457346e+00 ... -8.29761267e-01\n",
      "    -1.83518991e-01 -4.41164464e-01]]\n",
      "\n",
      "  [[-2.06843644e-01 -2.50660554e-02 -6.46540046e-01 ... -8.90025079e-01\n",
      "     0.00000000e+00  4.79723215e-02]\n",
      "   [ 5.85211098e-01 -3.94546211e-01 -2.60741925e+00 ... -8.24698806e-01\n",
      "    -9.54619870e-02  5.25661290e-01]\n",
      "   [-2.01475412e-01 -3.09953153e-01 -1.45450068e+00 ... -6.98264182e-01\n",
      "     3.54779884e-02  2.45179152e+00]\n",
      "   ...\n",
      "   [-2.15125773e-02  2.86107361e-02 -2.74906039e-01 ... -1.26837566e-01\n",
      "    -2.57550795e-02  0.00000000e+00]\n",
      "   [-1.49614647e-01 -3.02145451e-01 -1.27282691e+00 ... -3.05897325e-01\n",
      "    -3.15720476e-02  0.00000000e+00]\n",
      "   [ 4.92725521e-02 -7.63558388e-01 -5.32219768e-01 ... -1.91637069e-01\n",
      "    -1.54775009e-02 -1.79260547e-04]]\n",
      "\n",
      "  ...\n",
      "\n",
      "  [[-8.81210744e-01 -1.40709174e+00 -8.98056507e-01 ...  3.58027053e+00\n",
      "     1.00103211e+00 -1.38031769e+00]\n",
      "   [-1.88650221e-01 -2.45448560e-01 -2.94651568e-01 ...  1.00791425e-01\n",
      "     2.66522970e-02 -4.65269238e-02]\n",
      "   [-1.64511502e+00 -1.34314883e+00 -2.20510983e+00 ... -1.47535193e+00\n",
      "    -1.45606875e+00 -1.71869087e+00]\n",
      "   ...\n",
      "   [-6.76649436e-02 -1.09161103e+00 -4.29098785e-01 ...  3.11679959e-01\n",
      "     2.33398601e-02 -1.84814766e-01]\n",
      "   [-1.29747003e-01 -1.38392341e+00 -4.61615741e-01 ...  2.92907983e-01\n",
      "     6.51385784e-02 -2.64626354e-01]\n",
      "   [-5.16846068e-02 -6.81280792e-02 -2.34514564e-01 ... -9.36953187e-01\n",
      "    -3.59240562e-01  1.29990125e+00]]\n",
      "\n",
      "  [[-3.16252023e-01 -5.19418836e-01 -6.88072562e-01 ...  6.62870550e+00\n",
      "     1.45601237e+00 -5.65984309e-01]\n",
      "   [-1.53606832e-01 -1.20572813e-01 -3.70191820e-02 ...  2.86400653e-02\n",
      "    -1.71724763e-02 -2.78025214e-03]\n",
      "   [-1.33952081e+00 -1.06846595e+00 -9.23871458e-01 ...  4.86337483e-01\n",
      "    -1.10274374e+00 -1.38294005e+00]\n",
      "   ...\n",
      "   [-2.69444495e-01 -5.27264059e-01 -3.04320961e-01 ...  1.31451413e-01\n",
      "     1.84331328e-01 -4.00976628e-01]\n",
      "   [-3.15672874e-01 -1.81784198e-01 -1.08383648e-01 ... -5.25629759e-01\n",
      "     2.58992672e-01 -4.39537346e-01]\n",
      "   [-2.38601282e-01 -2.38618687e-01 -2.68924654e-01 ...  2.78996944e+00\n",
      "     9.34000671e-01  2.22537017e+00]]\n",
      "\n",
      "  [[-3.19143921e-01 -2.37166807e-01 -7.83188403e-01 ...  5.87765026e+00\n",
      "     3.65946442e-01 -1.30617809e+00]\n",
      "   [-8.37623000e-01 -4.31157760e-02 -1.17352080e+00 ...  7.76665509e-01\n",
      "     1.89731300e-01 -7.19496608e-02]\n",
      "   [-1.34116483e+00 -6.94265589e-02 -1.93487883e+00 ...  1.16776228e-01\n",
      "    -8.19841921e-01 -3.54598343e-01]\n",
      "   ...\n",
      "   [-4.85950410e-02 -2.49784738e-01 -2.54632741e-01 ... -1.13895392e+00\n",
      "    -7.30379224e-01 -8.98251593e-01]\n",
      "   [-4.75835174e-01 -1.19720685e+00 -4.14449126e-01 ... -7.10943103e-01\n",
      "    -6.04484260e-01 -8.38436365e-01]\n",
      "   [-3.10042858e-01 -4.55826163e-01 -1.16401553e+00 ... -7.56943107e-01\n",
      "     2.37343982e-02 -5.81125200e-01]]]\n",
      "\n",
      "\n",
      " [[[-1.83874941e+00 -3.82176638e-01  1.56358373e+00 ... -4.60263729e+00\n",
      "    -3.01595402e+00 -4.46112728e+00]\n",
      "   [ 1.12328243e+00  5.88802814e-01  6.00030947e+00 ... -4.25540209e+00\n",
      "    -4.25651407e+00 -3.60133839e+00]\n",
      "   [ 1.44887507e+00  4.29350644e-01  4.60469913e+00 ... -2.48276091e+00\n",
      "    -2.93454647e+00 -1.17348242e+00]\n",
      "   ...\n",
      "   [-4.48351812e+00 -3.95791101e+00 -4.13141012e+00 ...  1.50484347e+00\n",
      "     1.42138648e+00 -6.80167377e-01]\n",
      "   [-1.08467436e+00 -4.56336141e-01 -2.04177094e+00 ... -1.08391488e+00\n",
      "     1.62990022e+00  3.20735407e+00]\n",
      "   [-3.32162166e+00 -3.07956785e-01  2.11931896e+00 ... -1.36379707e+00\n",
      "    -1.73540235e-01 -1.86551785e+00]]\n",
      "\n",
      "  [[-6.53635645e+00 -8.10505211e-01  7.90775239e-01 ...  5.91883993e+00\n",
      "    -1.99726939e-01 -4.70420885e+00]\n",
      "   [-1.44786859e+00  1.10743105e+00  8.39332771e+00 ...  2.24146295e+00\n",
      "    -6.39343739e-01 -4.48314762e+00]\n",
      "   [-7.76817083e-01  7.16325760e-01  4.07358551e+00 ...  2.42697015e-01\n",
      "    -2.10332775e+00 -1.14299178e+00]\n",
      "   ...\n",
      "   [-4.36669350e-01 -3.77826691e+00 -4.79806137e+00 ...  1.29268020e-02\n",
      "    -1.52709007e-01 -1.40265888e-03]\n",
      "   [-1.40207601e+00 -4.35086584e+00 -2.91726542e+00 ...  2.42717099e+00\n",
      "     4.59384775e+00  2.07612934e+01]\n",
      "   [-2.37034225e+00 -1.86397505e+00  1.61505783e+00 ...  1.09585035e+00\n",
      "     6.07929707e-01  1.88524532e+00]]\n",
      "\n",
      "  [[-1.82104290e+00 -6.74200296e-01  1.05117607e+00 ...  2.69380069e+00\n",
      "     0.00000000e+00 -2.33709127e-01]\n",
      "   [-3.21691084e+00  1.25971031e+00  1.28068838e+01 ...  6.35832369e-01\n",
      "     8.71318579e-02 -1.77202988e+00]\n",
      "   [-8.15981269e-01  1.15292621e+00  5.89808226e+00 ...  1.33888602e-01\n",
      "    -2.99733341e-01  1.02153897e-01]\n",
      "   ...\n",
      "   [-4.21006382e-02 -9.14770961e-01 -1.16641164e+00 ... -2.60146528e-01\n",
      "    -5.36321364e-02  0.00000000e+00]\n",
      "   [-2.11733878e-01 -8.18152070e-01  2.39958429e+00 ...  3.82042348e-01\n",
      "     4.98705693e-02  0.00000000e+00]\n",
      "   [-6.21380866e-01 -1.79554820e+00  8.56365800e-01 ...  1.08485565e-01\n",
      "     2.44479496e-02 -1.81519880e-03]]\n",
      "\n",
      "  ...\n",
      "\n",
      "  [[ 1.23441711e-01 -4.81751114e-02 -6.56846285e-01 ...  1.96779370e+00\n",
      "    -3.79102635e+00 -3.62241483e+00]\n",
      "   [ 9.68632281e-01  6.87294364e-01  2.56410241e-02 ... -6.34211600e-01\n",
      "    -1.34881580e+00 -9.48280990e-02]\n",
      "   [ 8.44690990e+00  6.69874334e+00  4.32224655e+00 ... -1.27762985e+01\n",
      "    -9.71691418e+00  3.22728491e+00]\n",
      "   ...\n",
      "   [-7.89501071e-02  3.51728857e-01 -2.53339052e+00 ... -6.50157833e+00\n",
      "    -1.76401961e+00 -8.17649961e-01]\n",
      "   [-8.27712417e-01 -1.61221254e+00 -1.62228870e+00 ... -2.29503584e+00\n",
      "    -1.19553316e+00 -1.00455666e+00]\n",
      "   [-7.23151565e-01 -2.29161596e+00 -5.81571043e-01 ... -9.87930000e-02\n",
      "     1.02064586e+00 -7.40888238e-01]]\n",
      "\n",
      "  [[-3.77413243e-01 -4.99192774e-01 -4.87245500e-01 ...  9.45889854e+00\n",
      "    -1.73310864e+00 -1.20089936e+00]\n",
      "   [ 7.88700521e-01  6.15799546e-01  7.39931017e-02 ... -3.10684770e-01\n",
      "    -6.04198754e-01 -2.53637526e-02]\n",
      "   [ 6.87782431e+00  5.40406179e+00  1.84661329e+00 ... -1.16212149e+01\n",
      "    -2.42323184e+00  3.85852814e+00]\n",
      "   ...\n",
      "   [-6.15680039e-01 -2.26940870e+00 -1.82327008e+00 ... -4.59107590e+00\n",
      "    -4.99545050e+00 -3.18891096e+00]\n",
      "   [-1.43441224e+00 -3.92752457e+00 -1.97572231e+00 ... -4.89877939e+00\n",
      "    -3.50500965e+00 -2.91815400e+00]\n",
      "   [-8.55924308e-01 -2.06134892e+00 -6.64477289e-01 ...  4.98533785e-01\n",
      "    -7.02516019e-01 -1.45683360e+00]]\n",
      "\n",
      "  [[-5.23699701e-01 -5.31575680e-02  2.04279232e+00 ... -2.20923042e+01\n",
      "    -5.23861694e+00 -1.97370899e+00]\n",
      "   [ 2.18039060e+00  1.12233348e-01  3.41061616e+00 ... -5.70972061e+00\n",
      "    -1.28248608e+00 -1.89829752e-01]\n",
      "   [ 3.49114466e+00  1.78185314e-01  5.60338259e+00 ... -2.36901307e+00\n",
      "    -6.44199252e-01 -2.69571036e-01]\n",
      "   ...\n",
      "   [-4.40624428e+00 -2.23174286e+00 -1.82027018e+00 ...  1.25174546e+00\n",
      "    -1.65054357e+00 -5.37106705e+00]\n",
      "   [ 2.96970308e-01  1.54975712e+00 -5.33111095e-01 ... -8.76017570e-01\n",
      "    -1.66059613e+00 -3.09780717e-01]\n",
      "   [-1.12596095e+00  4.16830242e-01  3.03610492e+00 ... -7.99079537e-01\n",
      "    -2.15385437e+00 -5.13900661e+00]]]\n",
      "\n",
      "\n",
      " [[[ 4.74910438e-02 -1.16356790e-01 -3.48863304e-01 ...  3.40805173e-01\n",
      "     3.87519658e-01  5.36035717e-01]\n",
      "   [-3.48002076e-01  7.44307339e-02  7.79885292e-01 ...  1.49862206e+00\n",
      "     2.26906687e-02  1.26594737e-01]\n",
      "   [-3.15988272e-01  3.24320123e-02  3.87955844e-01 ...  1.52609423e-02\n",
      "    -6.40292168e-01 -4.98972446e-01]\n",
      "   ...\n",
      "   [ 2.97030282e+00 -2.60505259e-01 -1.98239529e+00 ...  2.31983781e-01\n",
      "     4.13650811e-01  8.41592491e-01]\n",
      "   [ 2.85774183e+00 -5.81487060e-01 -6.54447794e-01 ... -4.54993188e-01\n",
      "    -6.39204234e-02  9.17509198e-01]\n",
      "   [ 1.47908998e+00 -1.92665592e-01 -2.83553600e-01 ... -5.28257847e-01\n",
      "    -1.61932975e-01  1.42646208e-01]]\n",
      "\n",
      "  [[ 1.99714291e+00  2.75301874e-01  2.61769891e-01 ...  3.02242160e-01\n",
      "    -1.43171906e-01  3.85902822e-01]\n",
      "   [-2.50998139e-03 -3.69294770e-02 -2.06321895e-01 ...  1.94384754e-01\n",
      "    -2.62277752e-01 -8.70893300e-01]\n",
      "   [-5.73735535e-01 -1.33101689e-02 -1.96171142e-02 ...  8.29317123e-02\n",
      "    -1.82284534e+00 -2.45665169e+00]\n",
      "   ...\n",
      "   [ 8.07569921e-02  5.09347618e-01 -1.50406957e+00 ... -2.20498033e-02\n",
      "    -4.03443314e-02  4.38775308e-03]\n",
      "   [-2.33799726e-01  1.05914927e+00 -1.25737679e+00 ... -4.71050858e-01\n",
      "    -2.89840221e-01 -1.12643766e+00]\n",
      "   [ 6.04045570e-01  1.10479569e+00  9.81143892e-01 ... -2.12851167e-01\n",
      "    -5.25602102e-02 -1.43843368e-02]]\n",
      "\n",
      "  [[ 7.30128050e-01  2.75485486e-01  1.13467947e-01 ...  1.36554182e-01\n",
      "     0.00000000e+00  7.40381852e-02]\n",
      "   [ 7.44632006e-01  6.51842356e-02 -7.86440372e-01 ...  4.24517579e-02\n",
      "    -1.91803724e-02  3.49043906e-01]\n",
      "   [-4.53569531e-01 -5.06133996e-02 -2.94873416e-01 ...  8.75269175e-02\n",
      "    -5.57003468e-02 -1.21604741e+00]\n",
      "   ...\n",
      "   [-4.78413980e-03  1.24547727e-01 -1.96123660e-01 ... -5.12157232e-02\n",
      "    -1.41691221e-02  0.00000000e+00]\n",
      "   [-3.72540541e-02  3.71232927e-01 -3.12299073e-01 ... -5.81111386e-02\n",
      "    -9.67477914e-03  0.00000000e+00]\n",
      "   [ 2.62435585e-01  1.46541107e+00  7.92715698e-03 ...  9.68504697e-03\n",
      "    -4.74284729e-03  3.61037004e-04]]\n",
      "\n",
      "  ...\n",
      "\n",
      "  [[ 6.32003546e-01  1.54537690e+00  1.48617661e+00 ... -1.21150374e+00\n",
      "    -5.15229404e-01  1.59655064e-01]\n",
      "   [ 8.28485750e-03  2.33380064e-01  4.39992070e-01 ...  7.15408623e-01\n",
      "     2.37866834e-01 -4.80097905e-02]\n",
      "   [ 7.22476915e-02  2.24225223e-02 -1.13487172e+00 ...  6.65805244e+00\n",
      "     3.89029765e+00  6.20301187e-01]\n",
      "   ...\n",
      "   [-4.99861538e-02 -3.09981465e-01 -3.08843479e-02 ...  6.82332611e+00\n",
      "     1.28843951e+00  1.76378742e-01]\n",
      "   [-4.33136404e-01 -1.96749687e+00 -7.55056381e-01 ...  1.95508683e+00\n",
      "     6.43433571e-01 -2.52062678e-01]\n",
      "   [-4.82315779e-01 -1.28558266e+00 -2.94131815e-01 ...  1.20627522e-01\n",
      "    -1.12427793e-01 -1.73983860e+00]]\n",
      "\n",
      "  [[-5.35291433e-01 -3.94700825e-01  1.82140484e-01 ... -1.66606915e+00\n",
      "     2.12470531e-01 -7.07049370e-01]\n",
      "   [ 6.74587442e-03  4.68733767e-03 -1.98424067e-02 ...  8.76376927e-02\n",
      "     1.04008615e-01  5.60666015e-03]\n",
      "   [ 5.88270649e-02  3.17547321e-02 -4.95198190e-01 ...  1.18901217e+00\n",
      "     2.79941499e-01 -5.57071090e-01]\n",
      "   ...\n",
      "   [ 6.20099604e-02 -2.71351069e-01 -3.92392427e-01 ...  6.99242735e+00\n",
      "     3.41738629e+00  5.47939301e-01]\n",
      "   [-3.69310141e-01 -1.77142179e+00 -9.60739732e-01 ...  3.06989408e+00\n",
      "     1.70111537e+00  4.95612025e-02]\n",
      "   [-7.20966995e-01 -1.19029617e+00 -1.78104922e-01 ... -1.81123865e+00\n",
      "    -8.46381903e-01 -2.55994964e+00]]\n",
      "\n",
      "  [[-3.94178212e-01 -2.45115250e-01 -4.93792295e-01 ... -6.07619476e+00\n",
      "    -9.03295755e-01 -1.12965500e+00]\n",
      "   [-4.16429400e-01 -2.14352719e-02 -3.37901711e-01 ... -1.34197998e+00\n",
      "    -1.41782805e-01 -6.50502145e-02]\n",
      "   [-6.66768312e-01 -3.38333547e-02 -5.52608013e-01 ... -1.13974120e-02\n",
      "     2.44297415e-01 -1.37348980e-01]\n",
      "   ...\n",
      "   [ 5.79466105e-01 -3.82201880e-01 -5.11971295e-01 ...  6.06929600e-01\n",
      "     1.30431247e+00  1.13848114e+00]\n",
      "   [-4.40307021e-01 -1.01344419e+00 -1.22046582e-01 ... -6.41562700e-01\n",
      "     1.19072092e+00  5.39866090e-01]\n",
      "   [-4.42957968e-01 -4.22426283e-01 -7.33899951e-01 ... -8.48172665e-01\n",
      "    -4.00286198e-01 -2.05962563e+00]]]\n",
      "\n",
      "\n",
      " [[[-1.23544395e+00 -3.74700665e-01  4.88799155e-01 ...  7.62152135e-01\n",
      "    -1.90352917e+00 -7.55948365e-01]\n",
      "   [ 5.20864546e-01  5.78896739e-02  6.10635400e-01 ...  2.24433684e+00\n",
      "    -1.05414271e+00 -2.12118179e-02]\n",
      "   [-4.28432710e-02  4.43076678e-02  5.13916254e-01 ...  6.71833456e-01\n",
      "     4.73562628e-01 -9.68116343e-01]\n",
      "   ...\n",
      "   [ 2.83343643e-01  1.09264851e+00  6.50739372e-02 ...  6.69478655e-01\n",
      "     1.06385553e+00  4.74203706e-01]\n",
      "   [ 5.71731925e-01  2.03232908e+00 -6.20308638e-01 ... -1.63333386e-01\n",
      "     1.03272331e+00  1.99643254e+00]\n",
      "   [-1.45662248e+00 -2.21193731e-02  6.15372956e-01 ... -1.62288904e-01\n",
      "     1.19712502e-01  6.21519864e-01]]\n",
      "\n",
      "  [[ 1.23870206e+00 -1.47473812e-02  2.42501982e-02 ...  2.96472096e+00\n",
      "    -4.42604989e-01 -4.04813623e+00]\n",
      "   [-8.91869068e-01  2.34249473e-01  1.73205912e+00 ...  1.49317348e+00\n",
      "     2.82061756e-01 -1.22782850e+00]\n",
      "   [ 2.96088636e-01  7.62601867e-02  5.54608226e-01 ...  5.88049710e-01\n",
      "    -1.34103739e+00  1.29386652e+00]\n",
      "   ...\n",
      "   [-6.64681196e-04 -5.52122772e-01 -2.49390125e+00 ... -2.51407683e-01\n",
      "    -3.23880523e-01  1.91606247e-04]\n",
      "   [-2.37476039e+00 -3.06951928e+00 -1.80101979e+00 ... -4.47872698e-01\n",
      "     7.77913511e-01  4.00181246e+00]\n",
      "   [ 1.59885621e+00 -7.92335629e-01 -1.05130553e-01 ... -1.99931920e-01\n",
      "     6.44830689e-02  2.36165062e-01]]\n",
      "\n",
      "  [[-2.91811973e-01 -3.88924062e-01  2.96675831e-01 ...  1.34649765e+00\n",
      "     0.00000000e+00 -1.07012480e-01]\n",
      "   [-8.91691029e-01  1.58851758e-01  2.93961811e+00 ...  8.37905526e-01\n",
      "     1.62545234e-01 -5.61378837e-01]\n",
      "   [ 1.91348791e-03  1.24119490e-01  8.66756678e-01 ...  6.73728645e-01\n",
      "     2.29043588e-01 -9.67776000e-01]\n",
      "   ...\n",
      "   [-4.59505729e-02 -5.03062963e-01 -3.03765863e-01 ... -2.43720591e-01\n",
      "    -1.13748394e-01  0.00000000e+00]\n",
      "   [-3.42234582e-01  4.17229772e-01  6.94546849e-02 ... -5.08680642e-02\n",
      "    -9.23275109e-03  0.00000000e+00]\n",
      "   [-3.75315517e-01  1.75776410e+00  4.16922010e-02 ...  1.80524290e-02\n",
      "    -4.52615274e-03  2.32806298e-04]]\n",
      "\n",
      "  ...\n",
      "\n",
      "  [[ 3.95048767e-01  4.11303639e-01 -3.26348543e-01 ... -4.31474018e+00\n",
      "    -1.59480786e+00  8.62956583e-01]\n",
      "   [ 1.88241988e-01  1.27906740e-01 -1.50828436e-03 ... -6.68681264e-01\n",
      "    -3.07866275e-01  6.98978752e-02]\n",
      "   [ 1.64155507e+00  1.30603492e+00  8.55475307e-01 ...  4.97515202e-01\n",
      "    -9.86244440e-01  6.80215895e-01]\n",
      "   ...\n",
      "   [-4.67031822e-03  9.72402453e-01 -1.40792382e+00 ...  3.41858363e+00\n",
      "     4.95343685e-01 -3.60526964e-02]\n",
      "   [-3.41049433e-01 -2.39998668e-01 -1.10623896e+00 ...  7.64136195e-01\n",
      "     1.33332208e-01 -6.20110452e-01]\n",
      "   [-4.91138339e-01 -1.56613755e+00 -4.79195982e-01 ...  1.67080653e+00\n",
      "     5.85133851e-01 -3.95164371e+00]]\n",
      "\n",
      "  [[-3.80790204e-01 -4.93274420e-01 -4.60330963e-01 ... -2.45335269e+00\n",
      "    -1.00220490e+00  1.01270296e-01]\n",
      "   [ 1.53274432e-01  1.19743273e-01  1.68545116e-02 ...  1.12749144e-01\n",
      "     1.34950027e-01 -8.30688514e-04]\n",
      "   [ 1.33662212e+00  1.05196285e+00  4.20630634e-01 ... -1.55046880e+00\n",
      "     7.34119892e-01  1.21954584e+00]\n",
      "   ...\n",
      "   [ 2.85832465e-01 -7.38839686e-01 -2.78350115e-01 ...  3.58672142e+00\n",
      "    -1.85100663e+00 -7.08071172e-01]\n",
      "   [ 4.13149148e-02 -1.75927484e+00 -1.19755077e+00 ...  1.52366006e+00\n",
      "    -6.31682336e-01 -1.00744689e+00]\n",
      "   [-5.49760699e-01 -1.14467728e+00 -4.68396306e-01 ... -1.25315022e+00\n",
      "    -9.33439195e-01 -5.87485981e+00]]\n",
      "\n",
      "  [[-4.79286015e-01 -1.71980381e-01  6.48075104e-01 ... -6.04757786e+00\n",
      "    -5.80284894e-01  1.59331787e+00]\n",
      "   [ 3.35251600e-01  1.72567293e-02  5.58376729e-01 ... -5.90309739e-01\n",
      "    -6.81018353e-01 -1.27434563e-02]\n",
      "   [ 5.36790013e-01  2.66511142e-02  9.11870539e-01 ...  5.08096576e-01\n",
      "     1.22574973e+00 -1.97150841e-01]\n",
      "   ...\n",
      "   [ 9.16999578e-02 -6.10035300e-01 -2.27919459e-01 ...  2.19338924e-01\n",
      "    -1.25708520e+00  3.12954283e+00]\n",
      "   [ 7.94998467e-01  2.28302050e+00 -3.38555314e-02 ...  2.47423992e-01\n",
      "     2.72599399e-01  5.91322243e-01]\n",
      "   [-8.45680475e-01  3.19126606e-01  9.63203132e-01 ...  4.43077922e-01\n",
      "    -6.17118061e-01 -1.38941431e+00]]]]\n"
     ]
    }
   ],
   "source": [
    "bias_terms_eul_hr=[]\n",
    "for ii in range(0,len(bias_fields)):\n",
    "    bias_terms_hr = bacco.statistics.compute_mesh(ngrid=n_grid_orig, box=box_size, pos=sim_pos, \n",
    "                                mass = (bias_fields[ii]).flatten(), deposit_method='cic', \n",
    "                                interlacing=interlacing)\n",
    "    bias_terms_eul_hr.append(bias_terms_hr)\n",
    "bias_terms_eul_hr = np.array(np.squeeze(bias_terms_eul_hr))"
   ]
  },
  {
   "cell_type": "code",
   "execution_count": 69,
   "metadata": {},
   "outputs": [
    {
     "data": {
      "text/plain": [
       "(5, 512, 512, 512)"
      ]
     },
     "execution_count": 69,
     "metadata": {},
     "output_type": "execute_result"
    }
   ],
   "source": [
    "bias_terms_eul_hr.shape"
   ]
  },
  {
   "cell_type": "code",
   "execution_count": 16,
   "metadata": {},
   "outputs": [],
   "source": [
    "def downsample_field(bias_terms_eul_pred, box_size, ngrid_target):\n",
    "    ngrid = bias_terms_eul_pred.shape[-1]\n",
    "    k_nyq = np.pi/box_size*ngrid_target\n",
    "    kmesh = bacco.visualization.np_get_kmesh( (ngrid, ngrid, ngrid), box_size, real=True)\n",
    "    mask = (kmesh[:,:,:,0]<=k_nyq) & (kmesh[:,:,:,1]<=k_nyq) & (kmesh[:,:,:,2]<=k_nyq) & (kmesh[:,:,:,0]>-k_nyq) & (kmesh[:,:,:,1]>-k_nyq) & (kmesh[:,:,:,2]>-k_nyq)\n",
    "    bias_terms_eul_pred_kcut=[]\n",
    "    assert ngrid_target%2==0, \"ngrid_target must be even!\"\n",
    "    for fid in range(5):\n",
    "        field = bias_terms_eul_pred[fid][0]\n",
    "        deltak = pyfftw.builders.rfftn(field, auto_align_input=False, auto_contiguous=False, avoid_copy=True)\n",
    "        deltakcut = deltak()[mask]\n",
    "        deltakcut= deltakcut.reshape(ngrid_target, ngrid_target, int(ngrid_target/2)+1)\n",
    "        delta = pyfftw.builders.irfftn(deltakcut, axes=(0,1,2))()\n",
    "        bias_terms_eul_pred_kcut.append(delta)\n",
    "    bias_terms_eul_pred_kcut = np.array(bias_terms_eul_pred_kcut)\n",
    "    return bias_terms_eul_pred_kcut"
   ]
  },
  {
   "cell_type": "code",
   "execution_count": 17,
   "metadata": {},
   "outputs": [],
   "source": [
    "ngrid_target = 128\n",
    "bias_terms_eul = downsample_field(bias_terms_eul_hr, box_size, ngrid_target)"
   ]
  },
  {
   "cell_type": "code",
   "execution_count": 18,
   "metadata": {},
   "outputs": [],
   "source": [
    "def get_tracer_field(bias_fields_eul, bias_vector, n_grid_norm=512):\n",
    "\n",
    "    def _sum_bias_fields(fields, bias_vector):\n",
    "        bias_vector_extended = np.concatenate(([1.0], bias_vector))\n",
    "        return np.sum([fields[ii]*bias_vector_extended[ii] for ii in range(len(bias_vector))], axis=0)\n",
    "    \n",
    "    tracer_field_eul = _sum_bias_fields(bias_fields_eul, bias_vector)\n",
    "    tracer_field_eul_norm = tracer_field_eul/n_grid_norm**3\n",
    "    \n",
    "    return tracer_field_eul_norm"
   ]
  },
  {
   "cell_type": "code",
   "execution_count": 19,
   "metadata": {},
   "outputs": [
    {
     "name": "stdout",
     "output_type": "stream",
     "text": [
      "n_grid_orig = 512\n",
      "(512, 512, 512)\n"
     ]
    }
   ],
   "source": [
    "bias_vector = [0.,0.,0.,0.]\n",
    "if n_grid_orig is None:\n",
    "    n_grid_orig = bias_terms_eul_hr.shape[-1]\n",
    "print(f\"n_grid_orig = {n_grid_orig}\")\n",
    "tracer_field_hr = get_tracer_field(bias_terms_eul_hr, bias_vector, n_grid_norm=n_grid_orig)\n",
    "tracer_field_hr = np.squeeze(tracer_field_hr)\n",
    "print(tracer_field_hr.shape)"
   ]
  },
  {
   "cell_type": "code",
   "execution_count": 20,
   "metadata": {},
   "outputs": [
    {
     "name": "stdout",
     "output_type": "stream",
     "text": [
      "n_grid_orig = 512\n",
      "(128, 128, 128)\n"
     ]
    }
   ],
   "source": [
    "if n_grid_orig is None:\n",
    "    n_grid_orig = bias_terms_eul.shape[-1]\n",
    "print(f\"n_grid_orig = {n_grid_orig}\")\n",
    "tracer_field = get_tracer_field(bias_terms_eul, bias_vector, n_grid_norm=n_grid_orig)\n",
    "print(tracer_field.shape)"
   ]
  },
  {
   "cell_type": "markdown",
   "metadata": {},
   "source": [
    "## Compute p(k)'s"
   ]
  },
  {
   "cell_type": "code",
   "execution_count": 21,
   "metadata": {},
   "outputs": [
    {
     "name": "stderr",
     "output_type": "stream",
     "text": [
      "2024-07-09 18:04:44,493 bacco.statistics : Computing the power spectrum with ngrid=128 and interlacing=False\n",
      "2024-07-09 18:04:44,932 bacco.cosmo :    computed CAMB power spectrum at z=0.00 in 0.436 secs\n",
      "2024-07-09 18:04:44,936 bacco.cosmo :    created Pk(z=0) tab from k 6.905005284352228e-05 to 100000.0 h/Mpc\n",
      "2024-07-09 18:04:44,944 bacco.cosmo :    computed halofit at z=0.00 for 'Default' in 0.004 secs\n",
      "2024-07-09 18:04:45,068 bacco.statistics :  ...done in 0.575 s\n"
     ]
    },
    {
     "name": "stdout",
     "output_type": "stream",
     "text": [
      "bacco.power : boxsize 1000.000000; ngrid 128; nthreads 4; interlacing 0; deposit_method 1; log_binning 1; type 1; precision=single; correct_grid=1 (log=1); correct_sn=0\n",
      "bacco.power : normalise_grid1=1 normalise_grid2=1 deconvolve_grid1=1 deconvolve_grid2=1\n",
      "bacco.power : total mass 1 (grid1) 1 (grid2)\n",
      "bacco.power : Doing FFTW\n",
      "bacco.power: FFT took 0.006098 sec\n",
      "bacco.power : Counting modes\n",
      "bacco.power : done counting modes in 0.048767 sec\n",
      "bacco.power : Starting Fourier loop \n",
      "bacco.power : done Fourier loop in 0.000157 secs\n",
      "bacco.power : Deallocating arrays\n"
     ]
    }
   ],
   "source": [
    "\n",
    "pk_obj_mesh_fromdisp_tracer = bacco.statistics.compute_crossspectrum_twogrids(\n",
    "                    grid1=tracer_field,\n",
    "                    grid2=tracer_field,\n",
    "                    **args_power_grid)"
   ]
  },
  {
   "cell_type": "code",
   "execution_count": 22,
   "metadata": {},
   "outputs": [
    {
     "name": "stderr",
     "output_type": "stream",
     "text": [
      "2024-07-09 18:04:46,601 bacco.statistics : Computing the power spectrum with ngrid=512 and interlacing=False\n"
     ]
    },
    {
     "name": "stdout",
     "output_type": "stream",
     "text": [
      "bacco.power : boxsize 1000.000000; ngrid 512; nthreads 4; interlacing 0; deposit_method 1; log_binning 1; type 1; precision=single; correct_grid=1 (log=1); correct_sn=0\n",
      "bacco.power : normalise_grid1=1 normalise_grid2=1 deconvolve_grid1=1 deconvolve_grid2=1\n",
      "bacco.power : total mass 1 (grid1) 1 (grid2)\n",
      "bacco.power : Doing FFTW\n",
      "bacco.power: FFT took 1.008087 sec\n",
      "bacco.power : Counting modes\n",
      "bacco.power : done counting modes in 0.805050 sec\n",
      "bacco.power : Starting Fourier loop \n",
      "bacco.power : done Fourier loop in 0.000155 secs\n",
      "bacco.power : Deallocating arrays\n"
     ]
    },
    {
     "name": "stderr",
     "output_type": "stream",
     "text": [
      "2024-07-09 18:04:52,736 bacco.statistics :  ...done in 6.14 s\n"
     ]
    }
   ],
   "source": [
    "args_power_grid_hr = args_power_grid.copy()\n",
    "args_power_grid_hr['ngrid'] = 512\n",
    "\n",
    "pk_obj_mesh_fromdisp_tracer_hr = bacco.statistics.compute_crossspectrum_twogrids(\n",
    "                    grid1=tracer_field_hr,\n",
    "                    grid2=tracer_field_hr,\n",
    "                    **args_power_grid_hr)"
   ]
  },
  {
   "cell_type": "code",
   "execution_count": 23,
   "metadata": {},
   "outputs": [
    {
     "name": "stderr",
     "output_type": "stream",
     "text": [
      "2024-07-09 18:04:54,278 bacco.statistics : Computing the power spectrum with ngrid=128 and interlacing=False\n",
      "2024-07-09 18:04:54,378 bacco.statistics :  ...done in 0.1 s\n"
     ]
    },
    {
     "name": "stdout",
     "output_type": "stream",
     "text": [
      "bacco.power : boxsize 1000.000000; ngrid 128; nthreads 4; interlacing 0; deposit_method 1; log_binning 1; type 1; precision=single; correct_grid=1 (log=1); correct_sn=0\n",
      "bacco.power : normalise_grid1=1 normalise_grid2=1 deconvolve_grid1=0 deconvolve_grid2=0\n",
      "bacco.power : total mass 1 (grid1) 1 (grid2)\n",
      "bacco.power : Doing FFTW\n",
      "bacco.power: FFT took 0.009755 sec\n",
      "bacco.power : Counting modes\n",
      "bacco.power : done counting modes in 0.043344 sec\n",
      "bacco.power : Starting Fourier loop \n",
      "bacco.power : done Fourier loop in 0.000263 secs\n",
      "bacco.power : Deallocating arrays\n"
     ]
    }
   ],
   "source": [
    "args_power_grid_deconvolveFalse = args_power_grid.copy()\n",
    "args_power_grid_deconvolveFalse['deconvolve_grid1'] = False\n",
    "args_power_grid_deconvolveFalse['deconvolve_grid2'] = False\n",
    "\n",
    "pk_obj_mesh_fromdisp_tracer_deconvolveFalse = bacco.statistics.compute_crossspectrum_twogrids(\n",
    "                    grid1=tracer_field,\n",
    "                    grid2=tracer_field,\n",
    "                    **args_power_grid_deconvolveFalse)"
   ]
  },
  {
   "cell_type": "code",
   "execution_count": 24,
   "metadata": {},
   "outputs": [
    {
     "name": "stderr",
     "output_type": "stream",
     "text": [
      "2024-07-09 18:04:55,892 bacco.statistics : Computing the power spectrum with ngrid=512 and interlacing=False\n"
     ]
    },
    {
     "name": "stdout",
     "output_type": "stream",
     "text": [
      "bacco.power : boxsize 1000.000000; ngrid 512; nthreads 4; interlacing 0; deposit_method 1; log_binning 1; type 1; precision=single; correct_grid=1 (log=1); correct_sn=0\n",
      "bacco.power : normalise_grid1=1 normalise_grid2=1 deconvolve_grid1=0 deconvolve_grid2=0\n",
      "bacco.power : total mass 1 (grid1) 1 (grid2)\n",
      "bacco.power : Doing FFTW\n",
      "bacco.power: FFT took 0.987663 sec\n",
      "bacco.power : Counting modes\n",
      "bacco.power : done counting modes in 0.783755 sec\n",
      "bacco.power : Starting Fourier loop \n",
      "bacco.power : done Fourier loop in 0.000146 secs\n",
      "bacco.power : Deallocating arrays\n"
     ]
    },
    {
     "name": "stderr",
     "output_type": "stream",
     "text": [
      "2024-07-09 18:05:01,941 bacco.statistics :  ...done in 6.05 s\n"
     ]
    }
   ],
   "source": [
    "args_power_grid_hr_deconvolveFalse = args_power_grid_hr.copy()\n",
    "args_power_grid_hr_deconvolveFalse['deconvolve_grid1'] = False\n",
    "args_power_grid_hr_deconvolveFalse['deconvolve_grid2'] = False\n",
    "\n",
    "pk_obj_mesh_fromdisp_tracer_hr_deconvolveFalse = bacco.statistics.compute_crossspectrum_twogrids(\n",
    "                    grid1=tracer_field_hr,\n",
    "                    grid2=tracer_field_hr,\n",
    "                    **args_power_grid_hr_deconvolveFalse)"
   ]
  },
  {
   "cell_type": "markdown",
   "metadata": {},
   "source": [
    "## Emu p(k)"
   ]
  },
  {
   "cell_type": "code",
   "execution_count": 25,
   "metadata": {},
   "outputs": [],
   "source": [
    "# Careful, these are diff than quijote, so order of running this nb matters\n",
    "param_names_2_emu_param_names = {'sigma_8': 'sigma8_cold',\n",
    "                                 'omega_cold': 'omega_cold',\n",
    "                                 'h': 'hubble',\n",
    "                                 'n_s': 'ns',\n",
    "                                 'omega_baryon': 'omega_baryon'\n",
    "                                 }"
   ]
  },
  {
   "cell_type": "code",
   "execution_count": 26,
   "metadata": {},
   "outputs": [
    {
     "name": "stdout",
     "output_type": "stream",
     "text": [
      "Loading sigma8 emulator...\n",
      "HIIII\n",
      "Sigma8 emulator loaded in memory.\n",
      "Loading linear emulator...\n"
     ]
    },
    {
     "name": "stderr",
     "output_type": "stream",
     "text": [
      "/dipc/kstoreyf/.conda/envs/bacemuenv/lib/python3.11/site-packages/sklearn/base.py:348: InconsistentVersionWarning: Trying to unpickle estimator PCA from version 1.0 when using version 1.3.2. This might lead to breaking code or invalid results. Use at your own risk. For more info please refer to:\n",
      "https://scikit-learn.org/stable/model_persistence.html#security-maintainability-limitations\n",
      "  warnings.warn(\n",
      "/dipc/kstoreyf/.conda/envs/bacemuenv/lib/python3.11/site-packages/sklearn/base.py:348: InconsistentVersionWarning: Trying to unpickle estimator StandardScaler from version 1.0 when using version 1.3.2. This might lead to breaking code or invalid results. Use at your own risk. For more info please refer to:\n",
      "https://scikit-learn.org/stable/model_persistence.html#security-maintainability-limitations\n",
      "  warnings.warn(\n",
      "/dipc/kstoreyf/.conda/envs/bacemuenv/lib/python3.11/site-packages/sklearn/base.py:348: InconsistentVersionWarning: Trying to unpickle estimator PCA from version 1.0 when using version 1.3.2. This might lead to breaking code or invalid results. Use at your own risk. For more info please refer to:\n",
      "https://scikit-learn.org/stable/model_persistence.html#security-maintainability-limitations\n",
      "  warnings.warn(\n",
      "/dipc/kstoreyf/.conda/envs/bacemuenv/lib/python3.11/site-packages/sklearn/base.py:348: InconsistentVersionWarning: Trying to unpickle estimator StandardScaler from version 1.0 when using version 1.3.2. This might lead to breaking code or invalid results. Use at your own risk. For more info please refer to:\n",
      "https://scikit-learn.org/stable/model_persistence.html#security-maintainability-limitations\n",
      "  warnings.warn(\n"
     ]
    },
    {
     "name": "stdout",
     "output_type": "stream",
     "text": [
      "Linear emulator loaded in memory.\n",
      "Loading no-wiggles emulator...\n"
     ]
    },
    {
     "name": "stderr",
     "output_type": "stream",
     "text": [
      "/dipc/kstoreyf/.conda/envs/bacemuenv/lib/python3.11/site-packages/sklearn/base.py:348: InconsistentVersionWarning: Trying to unpickle estimator StandardScaler from version 1.0.2 when using version 1.3.2. This might lead to breaking code or invalid results. Use at your own risk. For more info please refer to:\n",
      "https://scikit-learn.org/stable/model_persistence.html#security-maintainability-limitations\n",
      "  warnings.warn(\n"
     ]
    },
    {
     "name": "stdout",
     "output_type": "stream",
     "text": [
      "No-wiggles emulator loaded in memory.\n",
      "Loading non-linear emulator...\n",
      "Nonlinear emulator loaded in memory.\n",
      "Loading Baryonic Emulator...\n",
      "Baryonic Emulator loaded in memory.\n"
     ]
    },
    {
     "name": "stderr",
     "output_type": "stream",
     "text": [
      "/dipc/kstoreyf/.conda/envs/bacemuenv/lib/python3.11/site-packages/sklearn/base.py:348: InconsistentVersionWarning: Trying to unpickle estimator StandardScaler from version 0.23.2 when using version 1.3.2. This might lead to breaking code or invalid results. Use at your own risk. For more info please refer to:\n",
      "https://scikit-learn.org/stable/model_persistence.html#security-maintainability-limitations\n",
      "  warnings.warn(\n",
      "/dipc/kstoreyf/.conda/envs/bacemuenv/lib/python3.11/site-packages/sklearn/base.py:348: InconsistentVersionWarning: Trying to unpickle estimator PCA from version 0.23.2 when using version 1.3.2. This might lead to breaking code or invalid results. Use at your own risk. For more info please refer to:\n",
      "https://scikit-learn.org/stable/model_persistence.html#security-maintainability-limitations\n",
      "  warnings.warn(\n"
     ]
    }
   ],
   "source": [
    "emu_mpk_ext, emu_bounds_mpk_ext, emu_param_names_mpk_ext = utils.load_emu(emu_name='mpk_extended')\n",
    "emu_bounds_dict_mpk_ext = dict(zip(emu_param_names_mpk_ext, emu_bounds_mpk_ext))"
   ]
  },
  {
   "cell_type": "code",
   "execution_count": 52,
   "metadata": {},
   "outputs": [],
   "source": [
    "kk = pk_obj_mesh_fromdisp_tracer_hr['k']\n",
    "_, pk_emu, = emu_mpk_ext.get_nonlinear_pk(k=kk, cold=True, **cosmo_params_emu)"
   ]
  },
  {
   "cell_type": "markdown",
   "metadata": {},
   "source": [
    "## Plot"
   ]
  },
  {
   "cell_type": "code",
   "execution_count": 55,
   "metadata": {},
   "outputs": [
    {
     "name": "stderr",
     "output_type": "stream",
     "text": [
      "/tmp/ipykernel_229281/2949311584.py:76: RuntimeWarning: divide by zero encountered in divide\n",
      "  ax1.plot(ks[i], (pk_emu-pks[i])/errs[i], ls=lss[i], color=colors[i], alpha=alpha, zorder=zorders[i])\n",
      "/tmp/ipykernel_229281/2949311584.py:77: RuntimeWarning: divide by zero encountered in divide\n",
      "  ax2.plot(ks[i], (pk_emu/pks[i]), ls=lss[i], color=colors[i], alpha=alpha, zorder=zorders[i])\n"
     ]
    },
    {
     "data": {
      "image/png": "[encoded data removed]",
      "text/plain": [
       "<Figure size 600x800 with 3 Axes>"
      ]
     },
     "metadata": {},
     "output_type": "display_data"
    }
   ],
   "source": [
    "nrows, ncols = 3, 1\n",
    "fig, axarr = plt.subplots(nrows, ncols, figsize=(6,8), sharex=True, height_ratios=[2,1,1])\n",
    "plt.subplots_adjust(hspace=0.01, wspace=0.01)\n",
    "ax, ax1, ax2 = axarr\n",
    "alpha = 0.8\n",
    "\n",
    "# labels = [r'$P_\\text{part}(k)$ (deconvolve_grid=False)', \n",
    "#           #r'$P_\\text{mesh}(k)$ (deconvolve_grid=False)', \n",
    "#           r'$P_\\text{part}(k)$ (deconvolve_grid=True)',\n",
    "#           r'$P_\\text{part}(k)$ (deconvolve_grid=True,'+'\\n interlacing=True)',\n",
    "#           r'$P_\\text{part}(k)$ (deconvolve_grid=True,'+'\\n correct_grid=False)',\n",
    "#           r'$P_\\text{mesh}(k)$ (deconvolve_grid=True)',\n",
    "#           r'$P_\\text{part}(k)$ (deconvolve_grid=True),'+'\\n from Quijote snapshot',\n",
    "#           ]\n",
    "labels = [ #r'$P_\\text{mesh}(k)$, from disp (HR, deconvolve_grid=False)',\n",
    "          #r'$P_\\text{mesh}(k)$, from disp (HR, deconvolve_grid=True)',\n",
    "          r'$P_\\text{mesh}(k)$, (LR, deconvolve_grid=False)',\n",
    "          r'$P_\\text{mesh}(k)$, (LR, deconvolve_grid=True)',\n",
    "          r'$P_\\text{mesh}(k)$, (HR, deconvolve_grid=False)',\n",
    "          r'$P_\\text{mesh}(k)$, (HR, deconvolve_grid=True)',\n",
    "        #   r'$P_\\text{mesh}(k)$ (LR, deconvolve_grid=False)',\n",
    "        #   r'$P_\\text{mesh}(k)$ (LR, deconvolve_grid=True)',\n",
    "        #   #r'$P_\\text{mesh}(k)$ (deconvolve_grid=True, correct_grid=True)',\n",
    "        #   r'$P_\\text{mesh}(k)$ (HR, deconvolve_grid=False)',\n",
    "        #   r'$P_\\text{mesh}(k)$ (HR, deconvolve_grid=True)'\n",
    "          ]\n",
    "colors = ['crimson', 'limegreen', 'cornflowerblue', 'brown', 'orange', 'darkblue', 'purple', 'grey']\n",
    "lss = ['-.', '-.', ':', ':', '--', '--', '-', '-']\n",
    "# pk_objs = [pk_obj_particles_nodeconv,\n",
    "#            pk_obj_particles,\n",
    "#            pk_obj_particles_interlacing,\n",
    "#            pk_obj_particles_nocorrectgrid,\n",
    "#            pk_obj_mesh, \n",
    "#            #pk_obj_particles_deconv_Mpcperh, \n",
    "#            #pk_obj_pos_mesh_deconv, \n",
    "#            pk_obj_snap,\n",
    "#            ]\n",
    "pk_objs = [#pk_obj_mesh_fromdisp_hr_deconvolveFalse,\n",
    "           #pk_obj_mesh_fromdisp_hr,\n",
    "           pk_obj_mesh_fromdisp_tracer_deconvolveFalse,\n",
    "           pk_obj_mesh_fromdisp_tracer,\n",
    "           pk_obj_mesh_fromdisp_tracer_hr_deconvolveFalse,\n",
    "           pk_obj_mesh_fromdisp_tracer_hr,\n",
    "        #    pk_obj_mesh_deconvolveFalse,\n",
    "        #    pk_obj_mesh,\n",
    "        #    #pk_obj_mesh_correctgridTrue,\n",
    "        #    pk_obj_mesh_hr_deconvolveFalse,\n",
    "        #    pk_obj_mesh_hr\n",
    "           ]\n",
    "zorders = list(range(len(pk_objs),0,-1))\n",
    "ks = [pk_obj['k'] for pk_obj in pk_objs]\n",
    "pks = [pk_obj['pk'] for pk_obj in pk_objs]\n",
    "errs = [pk_obj['pk_gaussian_error'] for pk_obj in pk_objs]\n",
    "\n",
    "# ks.append(k_quijote)\n",
    "# pks.append(pk_quijote)\n",
    "# errs.append(err_quijote)\n",
    "# #errs.append(bacco.statistics.approx_pk_gaussian_error(k_quijote, pk_quijote, box_size))\n",
    "# labels.append(r'$P(k)$, Quijote measured')\n",
    "# colors.append('grey')\n",
    "# lss.append('-')\n",
    "# zorders.append(0)\n",
    "\n",
    "plt.suptitle(f'Muchisimocks LH {idx_LH_str}', fontsize=16)\n",
    "\n",
    "ax.loglog(kk, pk_emu, label=r'$P(k)$, emulator', ls=':', color='magenta', lw=3)\n",
    "\n",
    "for i in range(len(pks)):\n",
    "    ax.loglog(ks[i], pks[i], ls=lss[i], label=labels[i], color=colors[i], alpha=alpha, zorder=zorders[i])\n",
    "    if len(pk_emu)!=len(pks[i]):\n",
    "        pk_interp = np.interp(kk, ks[i], pks[i])\n",
    "        err_interp = np.interp(kk, ks[i], errs[i])\n",
    "        ax1.plot(kk, (pk_emu-pk_interp)/err_interp, ls=lss[i], color=colors[i], alpha=alpha, zorder=zorders[i])\n",
    "        ax2.plot(kk, (pk_emu/pk_interp), ls=lss[i], color=colors[i], alpha=alpha, zorder=zorders[i])\n",
    "    else:\n",
    "        ax1.plot(ks[i], (pk_emu-pks[i])/errs[i], ls=lss[i], color=colors[i], alpha=alpha, zorder=zorders[i])\n",
    "        ax2.plot(ks[i], (pk_emu/pks[i]), ls=lss[i], color=colors[i], alpha=alpha, zorder=zorders[i])\n",
    "\n",
    "\n",
    "ax1.axhline(0.0, color='grey')\n",
    "ax2.axhline(1.0, color='grey')\n",
    "\n",
    "ax2.set_xlabel(r'$k \\,\\, [h \\,\\, {\\rm Mpc}^{-1}]$', fontsize=16)\n",
    "ax.set_ylabel(r'$P(k) \\,\\, [h^{-3} \\,\\, {\\rm Mpc}^3]$', fontsize=16)\n",
    "ax1.set_ylabel(r'$(P_\\text{emu}(k)-P(k))/\\sigma_\\text{G}$')\n",
    "ax2.set_ylabel(r'$P_\\text{emu}(k)/P(k)$')\n",
    "ax.set_xlim(1e-2, 1)\n",
    "ax.set_ylim(3e2, 5e4)\n",
    "\n",
    "ax1.set_ylim(-10, 10)\n",
    "ax2.set_ylim(0.9, 1.1)\n",
    "\n",
    "ax.legend(fontsize=8, loc='lower left')\n",
    "\n",
    "mpl.pyplot.tight_layout()\n",
    "mpl.pyplot.show()"
   ]
  },
  {
   "cell_type": "markdown",
   "metadata": {},
   "source": [
    "## Try field-level deconvolution"
   ]
  },
  {
   "cell_type": "code",
   "execution_count": 57,
   "metadata": {},
   "outputs": [],
   "source": [
    "import bacco.probabilistic_bias as pb"
   ]
  },
  {
   "cell_type": "code",
   "execution_count": 59,
   "metadata": {},
   "outputs": [],
   "source": [
    "tracer_field_hr_deconvolved = pb.convolve_linear_interpolation_kernel(tracer_field_hr, \n",
    "                                                                        npix=n_grid_orig, mode=\"deconvolve\")"
   ]
  },
  {
   "cell_type": "code",
   "execution_count": 60,
   "metadata": {},
   "outputs": [],
   "source": [
    "# may need to work with pred_pos field, deposited on mesh, before generating bias terms??\n",
    "tracer_field_deconvolved = pb.convolve_linear_interpolation_kernel(tracer_field, \n",
    "                                                                   npix=n_grid_orig, mode=\"deconvolve\")"
   ]
  },
  {
   "cell_type": "code",
   "execution_count": 73,
   "metadata": {},
   "outputs": [
    {
     "data": {
      "text/plain": [
       "(5, 512, 512, 512)"
      ]
     },
     "execution_count": 73,
     "metadata": {},
     "output_type": "execute_result"
    }
   ],
   "source": [
    "bias_terms_eul_hr_deconvolved = []\n",
    "for i, bias_term in enumerate(bias_terms_eul_hr):\n",
    "    bias_term_deconvolved = pb.convolve_linear_interpolation_kernel(bias_term/n_grid_orig**3, \n",
    "                                                                    npix=n_grid_orig, mode=\"deconvolve\")\n",
    "    bias_terms_eul_hr_deconvolved.append(bias_term_deconvolved)\n",
    "bias_terms_eul_hr_deconvolved = np.array(bias_terms_eul_hr_deconvolved)\n",
    "bias_terms_eul_hr_deconvolved.shape"
   ]
  },
  {
   "cell_type": "code",
   "execution_count": 79,
   "metadata": {},
   "outputs": [
    {
     "data": {
      "text/plain": [
       "(5, 512, 512, 512)"
      ]
     },
     "execution_count": 79,
     "metadata": {},
     "output_type": "execute_result"
    }
   ],
   "source": [
    "bias_terms_eul_hr_deconvolved_nonorm = []\n",
    "for i, bias_term in enumerate(bias_terms_eul_hr):\n",
    "    bias_term_deconvolved = pb.convolve_linear_interpolation_kernel(bias_term, \n",
    "                                                                    npix=n_grid_orig, mode=\"deconvolve\")\n",
    "    bias_terms_eul_hr_deconvolved_nonorm.append(bias_term_deconvolved)\n",
    "bias_terms_eul_hr_deconvolved_nonorm = np.array(bias_terms_eul_hr_deconvolved_nonorm)\n",
    "bias_terms_eul_hr_deconvolved_nonorm.shape"
   ]
  },
  {
   "cell_type": "code",
   "execution_count": 75,
   "metadata": {},
   "outputs": [],
   "source": [
    "bias_terms_hr_deconvolved_together = pb.convolve_linear_interpolation_kernel(bias_terms_eul_hr/n_grid_orig**3, \n",
    "                                                                             npix=n_grid_orig, mode=\"deconvolve\")"
   ]
  },
  {
   "cell_type": "code",
   "execution_count": 81,
   "metadata": {},
   "outputs": [],
   "source": [
    "tracer_field_hr_deconvolved_frombterms = get_tracer_field(bias_terms_eul_hr_deconvolved, bias_vector, n_grid_norm=n_grid_orig)"
   ]
  },
  {
   "cell_type": "code",
   "execution_count": 78,
   "metadata": {},
   "outputs": [],
   "source": [
    "tracer_field_hr_deconvolved_frombterms_nonorm = get_tracer_field(bias_terms_eul_hr_deconvolved, bias_vector, n_grid_norm=1)"
   ]
  },
  {
   "cell_type": "code",
   "execution_count": 80,
   "metadata": {},
   "outputs": [],
   "source": [
    "tracer_field_hr_deconvolved_frombterms_prenonorm = get_tracer_field(bias_terms_eul_hr_deconvolved_nonorm, bias_vector, \n",
    "                                                                    n_grid_norm=n_grid_orig)"
   ]
  },
  {
   "cell_type": "code",
   "execution_count": 65,
   "metadata": {},
   "outputs": [
    {
     "data": {
      "text/plain": [
       "array([3.46486995e-09, 1.23950916e-09, 1.48788126e-09, 1.38015320e-11,\n",
       "       2.39113618e-09, 1.61795077e-09, 3.09090509e-09, 3.62894470e-09,\n",
       "       2.99579517e-09, 2.34562259e-09])"
      ]
     },
     "execution_count": 65,
     "metadata": {},
     "output_type": "execute_result"
    }
   ],
   "source": [
    "tracer_field_hr[0,0,:10]"
   ]
  },
  {
   "cell_type": "code",
   "execution_count": 70,
   "metadata": {},
   "outputs": [
    {
     "data": {
      "text/plain": [
       "array([3.46486995e-09, 1.23950916e-09, 1.48788126e-09, 1.38015320e-11,\n",
       "       2.39113618e-09, 1.61795077e-09, 3.09090509e-09, 3.62894470e-09,\n",
       "       2.99579517e-09, 2.34562259e-09])"
      ]
     },
     "execution_count": 70,
     "metadata": {},
     "output_type": "execute_result"
    }
   ],
   "source": [
    "(bias_terms_eul_hr/n_grid_orig**3)[0][0,0,:10]"
   ]
  },
  {
   "cell_type": "code",
   "execution_count": 71,
   "metadata": {},
   "outputs": [
    {
     "data": {
      "text/plain": [
       "array([-3.47365651e-09,  1.52589864e-09,  1.02442630e-09,  8.18410235e-10,\n",
       "        3.46574899e-09,  2.00434106e-09,  1.11594186e-09,  4.91014416e-09,\n",
       "        2.06972181e-09,  2.57285297e-09])"
      ]
     },
     "execution_count": 71,
     "metadata": {},
     "output_type": "execute_result"
    }
   ],
   "source": [
    "tracer_field_hr_deconvolved[0,0,:10]"
   ]
  },
  {
   "cell_type": "code",
   "execution_count": 74,
   "metadata": {},
   "outputs": [
    {
     "data": {
      "text/plain": [
       "array([-3.47365651e-09,  1.52589864e-09,  1.02442630e-09,  8.18410235e-10,\n",
       "        3.46574899e-09,  2.00434106e-09,  1.11594186e-09,  4.91014416e-09,\n",
       "        2.06972181e-09,  2.57285297e-09])"
      ]
     },
     "execution_count": 74,
     "metadata": {},
     "output_type": "execute_result"
    }
   ],
   "source": [
    "bias_terms_eul_hr_deconvolved[0][0,0,:10]"
   ]
  },
  {
   "cell_type": "code",
   "execution_count": 77,
   "metadata": {},
   "outputs": [
    {
     "data": {
      "text/plain": [
       "array([-1.20158910e-09,  6.92107844e-10,  1.18017159e-09,  1.06765292e-09,\n",
       "        3.07683227e-09,  2.02506258e-09,  1.64133458e-09,  4.19740986e-09,\n",
       "        2.38126696e-09,  3.30352367e-09])"
      ]
     },
     "execution_count": 77,
     "metadata": {},
     "output_type": "execute_result"
    }
   ],
   "source": [
    "bias_terms_hr_deconvolved_together[0][0,0,:10]"
   ]
  },
  {
   "cell_type": "code",
   "execution_count": 82,
   "metadata": {},
   "outputs": [
    {
     "data": {
      "text/plain": [
       "array([-2.58807578e-17,  1.13688308e-17,  7.63257070e-18,  6.09763141e-18,\n",
       "        2.58218422e-17,  1.49335046e-17,  8.31441474e-18,  3.65834248e-17,\n",
       "        1.54206292e-17,  1.91692484e-17])"
      ]
     },
     "execution_count": 82,
     "metadata": {},
     "output_type": "execute_result"
    }
   ],
   "source": [
    "tracer_field_hr_deconvolved_frombterms[0,0,:10]"
   ]
  },
  {
   "cell_type": "code",
   "execution_count": 83,
   "metadata": {},
   "outputs": [
    {
     "data": {
      "text/plain": [
       "array([-3.47365651e-09,  1.52589864e-09,  1.02442630e-09,  8.18410235e-10,\n",
       "        3.46574899e-09,  2.00434106e-09,  1.11594186e-09,  4.91014416e-09,\n",
       "        2.06972181e-09,  2.57285297e-09])"
      ]
     },
     "execution_count": 83,
     "metadata": {},
     "output_type": "execute_result"
    }
   ],
   "source": [
    "tracer_field_hr_deconvolved_frombterms_nonorm[0,0,:10]"
   ]
  },
  {
   "cell_type": "code",
   "execution_count": 84,
   "metadata": {},
   "outputs": [
    {
     "data": {
      "text/plain": [
       "array([-3.47365651e-09,  1.52589864e-09,  1.02442630e-09,  8.18410235e-10,\n",
       "        3.46574899e-09,  2.00434106e-09,  1.11594186e-09,  4.91014416e-09,\n",
       "        2.06972181e-09,  2.57285297e-09])"
      ]
     },
     "execution_count": 84,
     "metadata": {},
     "output_type": "execute_result"
    }
   ],
   "source": [
    "tracer_field_hr_deconvolved_frombterms_prenonorm[0,0,:10]"
   ]
  },
  {
   "cell_type": "code",
   "execution_count": 85,
   "metadata": {},
   "outputs": [],
   "source": [
    "tracer_field_hr_deconvolved_frombterms_prenonorm_b1000 = get_tracer_field(bias_terms_eul_hr_deconvolved_nonorm, [1,0,0,0], \n",
    "                                                                    n_grid_norm=n_grid_orig)"
   ]
  },
  {
   "cell_type": "code",
   "execution_count": 86,
   "metadata": {},
   "outputs": [],
   "source": [
    "tracer_field_hr_b1000 = get_tracer_field(bias_terms_eul_hr, [1,0,0,0], n_grid_norm=n_grid_orig)\n"
   ]
  },
  {
   "cell_type": "code",
   "execution_count": 87,
   "metadata": {},
   "outputs": [],
   "source": [
    "# this doesn't work directly on bias terms, for some reason (maybe try passing one at a time?)\n",
    "tracer_field_hr_deconvolved_b1000 = pb.convolve_linear_interpolation_kernel(tracer_field_hr_b1000, \n",
    "                                                                        npix=n_grid_orig, mode=\"deconvolve\")"
   ]
  },
  {
   "cell_type": "code",
   "execution_count": 88,
   "metadata": {},
   "outputs": [
    {
     "data": {
      "text/plain": [
       "True"
      ]
     },
     "execution_count": 88,
     "metadata": {},
     "output_type": "execute_result"
    }
   ],
   "source": [
    "np.allclose(tracer_field_hr_deconvolved_frombterms_prenonorm_b1000, tracer_field_hr_deconvolved_b1000)"
   ]
  },
  {
   "cell_type": "code",
   "execution_count": null,
   "metadata": {},
   "outputs": [],
   "source": [
    "plotter.plot_overdensity_field(tracer_field_hr_deconvolved, title=r'Tracer field HR deconvolved (512^3)',\n",
    "                               #vmax=0.1\n",
    "                               )"
   ]
  },
  {
   "cell_type": "code",
   "execution_count": null,
   "metadata": {},
   "outputs": [],
   "source": [
    "plotter.plot_overdensity_field(tracer_field_hr_deconvolved-tracer_field_hr, \n",
    "                               title=r'delta tracer field HR & deconvolved (512^3)',\n",
    "                               #vmax=0.1\n",
    "                               )"
   ]
  },
  {
   "cell_type": "code",
   "execution_count": null,
   "metadata": {},
   "outputs": [],
   "source": [
    "pk_obj_mesh_fromdisp_tracer_hr_fielddeconvolved = bacco.statistics.compute_crossspectrum_twogrids(\n",
    "                    grid1=tracer_field_hr_deconvolved,\n",
    "                    grid2=tracer_field_hr_deconvolved,\n",
    "                    **args_power_grid_hr_deconvolveFalse)"
   ]
  },
  {
   "cell_type": "code",
   "execution_count": null,
   "metadata": {},
   "outputs": [],
   "source": [
    "pk_obj_mesh_fromdisp_tracer_hr_fielddeconvolved_frombterms = bacco.statistics.compute_crossspectrum_twogrids(\n",
    "                    grid1=tracer_field_hr_deconvolved_frombterms,\n",
    "                    grid2=tracer_field_hr_deconvolved_frombterms,\n",
    "                    **args_power_grid_hr_deconvolveFalse)"
   ]
  },
  {
   "cell_type": "code",
   "execution_count": null,
   "metadata": {},
   "outputs": [],
   "source": [
    "pk_obj_mesh_fromdisp_tracer_fielddeconvolved = bacco.statistics.compute_crossspectrum_twogrids(\n",
    "                    grid1=tracer_field_deconvolved,\n",
    "                    grid2=tracer_field_deconvolved,\n",
    "                    **args_power_grid_deconvolveFalse)"
   ]
  },
  {
   "cell_type": "code",
   "execution_count": null,
   "metadata": {},
   "outputs": [],
   "source": [
    "ngrid_target = 128\n",
    "bias_terms_eul_pred_fromhrdeconvolved = downsample_field(bias_terms_eul_hr_deconvolved, box_size, ngrid_target)"
   ]
  },
  {
   "cell_type": "code",
   "execution_count": null,
   "metadata": {},
   "outputs": [],
   "source": [
    "nrows, ncols = 3, 1\n",
    "fig, axarr = plt.subplots(nrows, ncols, figsize=(6,8), sharex=True, height_ratios=[2,1,1])\n",
    "plt.subplots_adjust(hspace=0.01, wspace=0.01)\n",
    "ax, ax1, ax2 = axarr\n",
    "alpha = 0.8\n",
    "\n",
    "# labels = [r'$P_\\text{part}(k)$ (deconvolve_grid=False)', \n",
    "#           #r'$P_\\text{mesh}(k)$ (deconvolve_grid=False)', \n",
    "#           r'$P_\\text{part}(k)$ (deconvolve_grid=True)',\n",
    "#           r'$P_\\text{part}(k)$ (deconvolve_grid=True,'+'\\n interlacing=True)',\n",
    "#           r'$P_\\text{part}(k)$ (deconvolve_grid=True,'+'\\n correct_grid=False)',\n",
    "#           r'$P_\\text{mesh}(k)$ (deconvolve_grid=True)',\n",
    "#           r'$P_\\text{part}(k)$ (deconvolve_grid=True),'+'\\n from Quijote snapshot',\n",
    "#           ]\n",
    "labels = [ #r'$P_\\text{mesh}(k)$, from disp (HR, deconvolve_grid=False)',\n",
    "          #r'$P_\\text{mesh}(k)$, from disp (HR, deconvolve_grid=True)',\n",
    "          r'$P_\\text{mesh}(k)$, (LR, deconvolve_grid=False)',\n",
    "          r'$P_\\text{mesh}(k)$, (LR, deconvolve_grid=True)',\n",
    "          r'$P_\\text{mesh}(k)$, (HR, deconvolve_grid=False)',\n",
    "          r'$P_\\text{mesh}(k)$, (HR, deconvolve_grid=True)',\n",
    "          r'$P_\\text{mesh}(k)$, (LR, field deconvolved)',\n",
    "          r'$P_\\text{mesh}(k)$, (HR, field deconvolved)',\n",
    "          r'$P_\\text{mesh}(k)$, (HR, field deconvolved from bterms)',\n",
    "        #   r'$P_\\text{mesh}(k)$ (LR, deconvolve_grid=False)',\n",
    "        #   r'$P_\\text{mesh}(k)$ (LR, deconvolve_grid=True)',\n",
    "        #   #r'$P_\\text{mesh}(k)$ (deconvolve_grid=True, correct_grid=True)',\n",
    "        #   r'$P_\\text{mesh}(k)$ (HR, deconvolve_grid=False)',\n",
    "        #   r'$P_\\text{mesh}(k)$ (HR, deconvolve_grid=True)'\n",
    "          ]\n",
    "colors = ['crimson', 'limegreen', 'cornflowerblue', 'brown', 'orange', 'darkblue', 'purple', 'grey']\n",
    "lss = ['-.', '-.', ':', ':', '--', '--', '-', '-']\n",
    "# pk_objs = [pk_obj_particles_nodeconv,\n",
    "#            pk_obj_particles,\n",
    "#            pk_obj_particles_interlacing,\n",
    "#            pk_obj_particles_nocorrectgrid,\n",
    "#            pk_obj_mesh, \n",
    "#            #pk_obj_particles_deconv_Mpcperh, \n",
    "#            #pk_obj_pos_mesh_deconv, \n",
    "#            pk_obj_snap,\n",
    "#            ]\n",
    "pk_objs = [#pk_obj_mesh_fromdisp_hr_deconvolveFalse,\n",
    "           #pk_obj_mesh_fromdisp_hr,\n",
    "           pk_obj_mesh_fromdisp_tracer_deconvolveFalse,\n",
    "           pk_obj_mesh_fromdisp_tracer,\n",
    "           pk_obj_mesh_fromdisp_tracer_hr_deconvolveFalse,\n",
    "           pk_obj_mesh_fromdisp_tracer_hr,\n",
    "           pk_obj_mesh_fromdisp_tracer_fielddeconvolved,\n",
    "           pk_obj_mesh_fromdisp_tracer_hr_fielddeconvolved,\n",
    "           pk_obj_mesh_fromdisp_tracer_hr_fielddeconvolved_frombterms,\n",
    "        #    pk_obj_mesh_deconvolveFalse,\n",
    "        #    pk_obj_mesh,\n",
    "        #    #pk_obj_mesh_correctgridTrue,\n",
    "        #    pk_obj_mesh_hr_deconvolveFalse,\n",
    "        #    pk_obj_mesh_hr\n",
    "           ]\n",
    "zorders = list(range(len(pk_objs),0,-1))\n",
    "ks = [pk_obj['k'] for pk_obj in pk_objs]\n",
    "pks = [pk_obj['pk'] for pk_obj in pk_objs]\n",
    "errs = [pk_obj['pk_gaussian_error'] for pk_obj in pk_objs]\n",
    "\n",
    "# ks.append(k_quijote)\n",
    "# pks.append(pk_quijote)\n",
    "# errs.append(err_quijote)\n",
    "# #errs.append(bacco.statistics.approx_pk_gaussian_error(k_quijote, pk_quijote, box_size))\n",
    "# labels.append(r'$P(k)$, Quijote measured')\n",
    "# colors.append('grey')\n",
    "# lss.append('-')\n",
    "# zorders.append(0)\n",
    "\n",
    "plt.suptitle(f'Muchisimocks LH {idx_LH_str}', fontsize=16)\n",
    "\n",
    "ax.loglog(kk, pk_emu, label=r'$P(k)$, emulator', ls=':', color='magenta', lw=3)\n",
    "\n",
    "for i in range(len(pks)):\n",
    "    ax.loglog(ks[i], pks[i], ls=lss[i], label=labels[i], color=colors[i], alpha=alpha, zorder=zorders[i])\n",
    "    if len(pk_emu)!=len(pks[i]):\n",
    "        pk_interp = np.interp(kk, ks[i], pks[i])\n",
    "        err_interp = np.interp(kk, ks[i], errs[i])\n",
    "        ax1.plot(kk, (pk_emu-pk_interp)/err_interp, ls=lss[i], color=colors[i], alpha=alpha, zorder=zorders[i])\n",
    "        ax2.plot(kk, (pk_emu/pk_interp), ls=lss[i], color=colors[i], alpha=alpha, zorder=zorders[i])\n",
    "    else:\n",
    "        ax1.plot(ks[i], (pk_emu-pks[i])/errs[i], ls=lss[i], color=colors[i], alpha=alpha, zorder=zorders[i])\n",
    "        ax2.plot(ks[i], (pk_emu/pks[i]), ls=lss[i], color=colors[i], alpha=alpha, zorder=zorders[i])\n",
    "\n",
    "\n",
    "ax1.axhline(0.0, color='grey')\n",
    "ax2.axhline(1.0, color='grey')\n",
    "\n",
    "ax2.set_xlabel(r'$k \\,\\, [h \\,\\, {\\rm Mpc}^{-1}]$', fontsize=16)\n",
    "ax.set_ylabel(r'$P(k) \\,\\, [h^{-3} \\,\\, {\\rm Mpc}^3]$', fontsize=16)\n",
    "ax1.set_ylabel(r'$(P_\\text{emu}(k)-P(k))/\\sigma_\\text{G}$')\n",
    "ax2.set_ylabel(r'$P_\\text{emu}(k)/P(k)$')\n",
    "ax.set_xlim(1e-2, 1)\n",
    "ax.set_ylim(3e2, 5e4)\n",
    "\n",
    "ax1.set_ylim(-10, 10)\n",
    "ax2.set_ylim(0.9, 1.1)\n",
    "\n",
    "ax.legend(fontsize=8, loc='lower left')\n",
    "\n",
    "mpl.pyplot.tight_layout()\n",
    "mpl.pyplot.show()"
   ]
  }
 ],
 "metadata": {
  "kernelspec": {
   "display_name": "bacemuenv",
   "language": "python",
   "name": "python3"
  },
  "language_info": {
   "codemirror_mode": {
    "name": "ipython",
    "version": 3
   },
   "file_extension": ".py",
   "mimetype": "text/x-python",
   "name": "python",
   "nbconvert_exporter": "python",
   "pygments_lexer": "ipython3",
   "version": "3.11.5"
  }
 },
 "nbformat": 4,
 "nbformat_minor": 2
}
