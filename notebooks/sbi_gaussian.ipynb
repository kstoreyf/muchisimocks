{
 "cells": [
  {
   "cell_type": "code",
   "execution_count": null,
   "id": "0434ad51",
   "metadata": {},
   "outputs": [],
   "source": [
    "import numpy as np\n",
    "import matplotlib as mpl\n",
    "from matplotlib import pyplot as plt\n",
    "import os\n",
    "\n",
    "import scripts\n",
    "from scripts import sbi_tools\n",
    "from scripts import plot_utils\n",
    "\n",
    "%load_ext autoreload\n",
    "%autoreload 2\n",
    "\n",
    "%matplotlib inline\n",
    "mpl.pyplot.style.use('default')\n",
    "mpl.pyplot.close('all')\n",
    "\n",
    "font, rcnew = plot_utils.matplotlib_default_config()\n",
    "mpl.rc('font', **font)\n",
    "mpl.pyplot.rcParams.update(rcnew)\n",
    "mpl.pyplot.style.use('tableau-colorblind10')\n",
    "%config InlineBackend.figure_format = 'retina'\n",
    "\n",
    "N_threads = sbi_tools.set_N_threads(6)"
   ]
  },
  {
   "cell_type": "code",
   "execution_count": null,
   "id": "33bb3e56",
   "metadata": {},
   "outputs": [],
   "source": [
    "rng = np.random.default_rng(seed=533)\n",
    "n_train = 1000\n",
    "n_dim = 10\n",
    "theta = np.expand_dims(rng.uniform(size=n_train), axis=1)\n",
    "print(theta.shape)\n",
    "Pk = rng.normal(loc=theta[0], size=(n_dim, n_train)).T\n",
    "print(Pk.shape)"
   ]
  },
  {
   "cell_type": "code",
   "execution_count": null,
   "id": "73fa276b",
   "metadata": {},
   "outputs": [],
   "source": [
    "train_val_split = int(theta.shape[0]*0.8)\n",
    "\n",
    "theta_train = theta[:train_val_split]\n",
    "theta_test = theta[train_val_split:]\n",
    "print(theta_train.shape, theta_test.shape)\n",
    "\n",
    "Pk_train = Pk[:train_val_split]\n",
    "Pk_test = Pk[train_val_split:]"
   ]
  },
  {
   "cell_type": "code",
   "execution_count": null,
   "id": "f55695ab",
   "metadata": {},
   "outputs": [],
   "source": [
    "dict_bounds = {\n",
    "    'mu'    :  [-5, 5],\n",
    "}"
   ]
  },
  {
   "cell_type": "code",
   "execution_count": null,
   "id": "b493f9a2",
   "metadata": {},
   "outputs": [],
   "source": [
    "# class Scaler:\n",
    "\n",
    "#     def __init__(self):\n",
    "#           pass\n",
    "        \n",
    "#     def fit(self, x_train):\n",
    "#         self.x_train_min = np.min(x_train)\n",
    "#         self.x_train_max = np.max(x_train)\n",
    "           \n",
    "#     def scale(self, x):\n",
    "#         log_x = np.log10(x)\n",
    "#         log_x_norm = (log_x - np.log10(self.x_train_min)) / (np.log10(self.x_train_max) - np.log10(self.x_train_min))\n",
    "#         return log_x_norm\n",
    "    \n",
    "#     def unscale(self, x_scaled):\n",
    "#         x = x_scaled * (np.log10(self.x_train_max) - np.log10(self.x_train_min)) + np.log10(self.x_train_min)\n",
    "#         return 10**x  "
   ]
  },
  {
   "cell_type": "code",
   "execution_count": null,
   "id": "cc3a5fb9",
   "metadata": {},
   "outputs": [],
   "source": [
    "# scaler = Scaler()\n",
    "# scaler.fit(Pk_train)\n",
    "# Pk_train_scaled = scaler.scale(Pk_train)\n",
    "# Pk_test_scaled = scaler.scale(Pk_test)\n",
    "Pk_train_scaled = Pk_train\n",
    "Pk_test_scaled =  Pk_test"
   ]
  },
  {
   "cell_type": "code",
   "execution_count": null,
   "id": "6b0ad849",
   "metadata": {},
   "outputs": [],
   "source": [
    "print(np.min(Pk_train), np.max(Pk_train))\n",
    "print(np.min(Pk_train_scaled), np.max(Pk_train_scaled))\n",
    "\n",
    "print(np.min(Pk_test), np.max(Pk_test))\n",
    "print(np.min(Pk_test_scaled), np.max(Pk_test_scaled))"
   ]
  },
  {
   "cell_type": "code",
   "execution_count": null,
   "id": "d3623283",
   "metadata": {},
   "outputs": [],
   "source": [
    "print(Pk_train.shape)\n",
    "print(theta_train.shape)"
   ]
  },
  {
   "cell_type": "code",
   "execution_count": null,
   "id": "6b9ae30d",
   "metadata": {},
   "outputs": [],
   "source": [
    "inference, posterior = sbi_tools.train_model(\n",
    "    theta_train,\n",
    "    Pk_train_scaled,\n",
    "    prior= sbi_tools.get_prior(dict_bounds),\n",
    "    training_batch_size=16,\n",
    "    validation_fraction=0.2\n",
    ")"
   ]
  },
  {
   "cell_type": "code",
   "execution_count": null,
   "id": "a0ca4831",
   "metadata": {},
   "outputs": [],
   "source": [
    "\n",
    "#idx_train_check = rng.choice(np.arange(len(theta_train)))\n",
    "idx_train_check = 42\n",
    "\n",
    "print(idx_train_check)\n",
    "theta_train_check = np.array([theta_train[idx_train_check]])\n",
    "print(theta_train_check)\n",
    "Pk_train_scaled_check = np.array([Pk_train_scaled[idx_train_check]])"
   ]
  },
  {
   "cell_type": "code",
   "execution_count": null,
   "id": "7d1f6f30",
   "metadata": {},
   "outputs": [],
   "source": [
    "# ------------------ posterior inference ------------------ #\n",
    "\n",
    "# norm_xx_test = scaler.transform(xx_test)\n",
    "\n",
    "inferred_theta_train_check = sbi_tools.sample_posteriors_theta_test(\n",
    "    posterior,\n",
    "    Pk_train_scaled_check,\n",
    "    dict_bounds,\n",
    "    N_samples=1000\n",
    ")\n",
    "\n",
    "# ------------------ rank stats ------------------ #\n",
    "\n",
    "ranks_train_check = sbi_tools.compute_ranks(theta_train_check, inferred_theta_train_check)"
   ]
  },
  {
   "cell_type": "code",
   "execution_count": null,
   "id": "6ab9b21f",
   "metadata": {},
   "outputs": [],
   "source": [
    "custom_titles = [\n",
    "    r'$\\mu$'\n",
    "]"
   ]
  },
  {
   "cell_type": "code",
   "execution_count": null,
   "id": "8a127d98",
   "metadata": {},
   "outputs": [],
   "source": [
    "N_examples = 1\n",
    "\n",
    "colors = plot_utils.get_N_colors(N_examples, mpl.colormaps['prism'])\n",
    "for ii_sample in range(N_examples):\n",
    "    fig, axs = plot_utils.corner_plot(\n",
    "        theta_train_check[ii_sample],\n",
    "        inferred_theta_train_check[ii_sample],\n",
    "        custom_titles,\n",
    "        dict_bounds,\n",
    "        color_infer=colors[ii_sample]\n",
    "    )\n",
    "    mpl.pyplot.show()\n",
    "    \n",
    "#fig.save(\"popopo.png\")"
   ]
  },
  {
   "cell_type": "code",
   "execution_count": null,
   "id": "eb7edd12",
   "metadata": {},
   "outputs": [],
   "source": [
    "# ------------------ posterior inference ------------------ #\n",
    "\n",
    "# norm_xx_test = scaler.transform(xx_test)\n",
    "\n",
    "inferred_theta_test = sbi_tools.sample_posteriors_theta_test(\n",
    "    posterior,\n",
    "    Pk_test_scaled,\n",
    "    dict_bounds,\n",
    "    N_samples=1000\n",
    ")\n",
    "\n",
    "# ------------------ rank stats ------------------ #\n",
    "\n",
    "ranks = sbi_tools.compute_ranks(theta_test, inferred_theta_test)"
   ]
  },
  {
   "cell_type": "code",
   "execution_count": null,
   "id": "34a21c9c",
   "metadata": {
    "scrolled": false
   },
   "outputs": [],
   "source": [
    "N_examples = 1\n",
    "\n",
    "colors = plot_utils.get_N_colors(N_examples, mpl.colormaps['prism'])\n",
    "for ii_sample in range(N_examples):\n",
    "    fig, axs = plot_utils.corner_plot(\n",
    "        theta_test[ii_sample],\n",
    "        inferred_theta_test[ii_sample],\n",
    "        custom_titles,\n",
    "        dict_bounds,\n",
    "        color_infer=colors[ii_sample]\n",
    "    )\n",
    "    mpl.pyplot.show()\n",
    "    \n",
    "#fig.save(\"popopo.png\")"
   ]
  },
  {
   "cell_type": "code",
   "execution_count": null,
   "id": "71820921",
   "metadata": {},
   "outputs": [],
   "source": [
    "fig, axs = plot_utils.plot_parameter_prediction_vs_truth(inferred_theta_test, theta_test, custom_titles)\n",
    "plt.tight_layout()\n",
    "plt.subplots_adjust(wspace=0.6)\n",
    "plt.show()"
   ]
  },
  {
   "cell_type": "code",
   "execution_count": null,
   "id": "a63b4a11",
   "metadata": {},
   "outputs": [],
   "source": [
    "fig, axs = plot_utils.plot_rank_statistcis(ranks, inferred_theta_test.shape[1], custom_titles)\n",
    "plt.tight_layout()\n",
    "plt.subplots_adjust(wspace=0.05)\n",
    "plt.show()"
   ]
  },
  {
   "cell_type": "code",
   "execution_count": null,
   "id": "88d30d9a",
   "metadata": {},
   "outputs": [],
   "source": []
  },
  {
   "cell_type": "code",
   "execution_count": null,
   "id": "c9bbecd7",
   "metadata": {},
   "outputs": [],
   "source": []
  }
 ],
 "metadata": {
  "kernelspec": {
   "display_name": "baccoenv",
   "language": "python",
   "name": "baccoenv"
  },
  "language_info": {
   "codemirror_mode": {
    "name": "ipython",
    "version": 3
   },
   "file_extension": ".py",
   "mimetype": "text/x-python",
   "name": "python",
   "nbconvert_exporter": "python",
   "pygments_lexer": "ipython3",
   "version": "3.11.5"
  }
 },
 "nbformat": 4,
 "nbformat_minor": 5
}
