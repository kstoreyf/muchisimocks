{
 "cells": [
  {
   "cell_type": "code",
   "execution_count": null,
   "id": "0434ad51",
   "metadata": {},
   "outputs": [],
   "source": [
    "import numpy as np\n",
    "import matplotlib as mpl\n",
    "from matplotlib import pyplot as plt\n",
    "import os\n",
    "\n",
    "import scripts\n",
    "from scripts import sbi_tools\n",
    "from scripts import plot_utils\n",
    "\n",
    "%load_ext autoreload\n",
    "%autoreload 2\n",
    "\n",
    "%matplotlib inline\n",
    "mpl.pyplot.style.use('default')\n",
    "mpl.pyplot.close('all')\n",
    "\n",
    "font, rcnew = plot_utils.matplotlib_default_config()\n",
    "mpl.rc('font', **font)\n",
    "mpl.pyplot.rcParams.update(rcnew)\n",
    "mpl.pyplot.style.use('tableau-colorblind10')\n",
    "%config InlineBackend.figure_format = 'retina'\n",
    "\n",
    "N_threads = sbi_tools.set_N_threads(6)"
   ]
  },
  {
   "cell_type": "code",
   "execution_count": null,
   "id": "b738e593",
   "metadata": {},
   "outputs": [],
   "source": [
    "tag_emuPk = '_5param'\n",
    "\n",
    "fn_emuPk = f'../data/emuPks/emuPks{tag_emuPk}.npy'\n",
    "fn_emuPk_params = f'../data/emuPks/emuPks_params{tag_emuPk}.txt'\n",
    "fn_emuk = f'../data/emuPks/emuPks_k{tag_emuPk}.txt'\n",
    "\n",
    "Pk = np.load(fn_emuPk)\n",
    "theta = np.genfromtxt(fn_emuPk_params, delimiter=',', names=True)\n",
    "param_names = theta.dtype.names\n",
    "# from tuples to 2d array\n",
    "theta = np.array([list(tup) for tup in theta])\n",
    "kk = np.genfromtxt(fn_emuk)"
   ]
  },
  {
   "cell_type": "code",
   "execution_count": null,
   "id": "8a2cf3d4",
   "metadata": {},
   "outputs": [],
   "source": [
    "mask = np.full(len(kk), True)"
   ]
  },
  {
   "cell_type": "code",
   "execution_count": null,
   "id": "50c4abae",
   "metadata": {},
   "outputs": [],
   "source": [
    "print(Pk.shape, theta.shape)"
   ]
  },
  {
   "cell_type": "code",
   "execution_count": null,
   "id": "bf3cffa2",
   "metadata": {},
   "outputs": [],
   "source": [
    "# TRY WITH SUBSET\n",
    "n_samples = 100\n",
    "Pk = Pk[:n_samples]\n",
    "theta = theta[:n_samples]"
   ]
  },
  {
   "cell_type": "code",
   "execution_count": null,
   "id": "74e20895",
   "metadata": {},
   "outputs": [],
   "source": [
    "n_tot = theta.shape[0]\n",
    "n_params = theta.shape[1]"
   ]
  },
  {
   "cell_type": "code",
   "execution_count": null,
   "id": "52692bf2",
   "metadata": {},
   "outputs": [],
   "source": [
    "fig, ax = mpl.pyplot.subplots(figsize=(8, 6))\n",
    "for iLH in range(n_tot):\n",
    "    ax.loglog(kk[mask], Pk[iLH][mask])\n",
    "\n",
    "ax.set_xlabel(r'$k \\,\\, [h \\,\\, {\\rm Mpc}^{-1}]$', fontsize=23)\n",
    "ax.set_ylabel(r'$P(k) \\,\\, [h^{-3} \\,\\, {\\rm Mpc}^3]$', fontsize=23)\n",
    "\n",
    "mpl.pyplot.tight_layout()\n",
    "mpl.pyplot.show()"
   ]
  },
  {
   "cell_type": "code",
   "execution_count": null,
   "id": "76a6629f",
   "metadata": {},
   "outputs": [],
   "source": [
    "#n_biasmodels = len(biases_vec)\n",
    "n_biasmodels = 0\n",
    "n_cosmos = n_params\n",
    "print(n_biasmodels, n_cosmos)"
   ]
  },
  {
   "cell_type": "code",
   "execution_count": null,
   "id": "68b78d29",
   "metadata": {},
   "outputs": [],
   "source": [
    "### don't include bias parameters\n",
    "#theta = np.repeat(theta_cosmo, 10, axis=0)\n",
    "\n",
    "### include b1\n",
    "# b1_set = biases_vec[:,0]\n",
    "# b1s = np.expand_dims(np.tile(b1_set, n_cosmos), axis=1)\n",
    "# theta = np.concatenate((np.repeat(theta_cosmo, n_biasmodels, axis=0), b1s), axis=1)"
   ]
  },
  {
   "cell_type": "code",
   "execution_count": null,
   "id": "bcf99088",
   "metadata": {},
   "outputs": [],
   "source": [
    "#iLH = 0\n",
    "# for i in range(n_biasmodels):\n",
    "#     plt.loglog(kk, Pk[i], label=f'b1 = {theta[i,-1]:.2f}')\n",
    "\n",
    "# plt.legend(fontsize=8)\n",
    "# ax = plt.gca()\n",
    "\n",
    "# ax.set_xlabel(r'$k \\,\\, [h \\,\\, {\\rm Mpc}^{-1}]$', fontsize=23)\n",
    "# ax.set_ylabel(r'$P(k) \\,\\, [h^{-3} \\,\\, {\\rm Mpc}^3]$', fontsize=23)\n",
    "\n",
    "# mpl.pyplot.tight_layout()\n",
    "# mpl.pyplot.show()"
   ]
  },
  {
   "cell_type": "code",
   "execution_count": null,
   "id": "72d0021b",
   "metadata": {},
   "outputs": [],
   "source": [
    "# rng = np.random.default_rng(seed=533)\n",
    "# n_tot = len(Pk)\n",
    "\n",
    "# i_blocks = np.arange(n_tot).reshape(n_cosmos, n_biasmodels)\n",
    "\n",
    "# i_shuffle_blocks = rng.choice(np.arange(n_cosmos), replace=False, size=n_cosmos)\n",
    "\n",
    "# i_shuffle = i_blocks[i_shuffle_blocks].flatten()\n",
    "\n",
    "# Pk = Pk[i_shuffle]\n",
    "# theta = theta[i_shuffle]\n"
   ]
  },
  {
   "cell_type": "code",
   "execution_count": null,
   "id": "73fa276b",
   "metadata": {},
   "outputs": [],
   "source": [
    "train_val_split = int(theta.shape[0]*0.8)\n",
    "#train_val_split = int(n_biasmodels*round(theta.shape[0]*0.99/n_biasmodels))\n",
    "\n",
    "theta_train = theta[:train_val_split]\n",
    "theta_test = theta[train_val_split:]\n",
    "print(theta_train.shape, theta_test.shape)\n",
    "\n",
    "Pk_train = Pk[:train_val_split]\n",
    "Pk_test = Pk[train_val_split:]\n",
    "\n",
    "mask = np.all(Pk_train>0, axis=0)\n",
    "Pk_train = Pk_train[:,mask]\n",
    "Pk_test = Pk_test[:,mask]\n",
    "k = kk[mask]"
   ]
  },
  {
   "cell_type": "code",
   "execution_count": null,
   "id": "41615173",
   "metadata": {},
   "outputs": [],
   "source": [
    "fig, ax = mpl.pyplot.subplots(1,1, figsize=(7,5))\n",
    "fontsize = 24\n",
    "fontsize1 = 18\n",
    "\n",
    "alpha = 1\n",
    "\n",
    "tmp_Pk_plot = Pk_train\n",
    "tmp_Pk_plot = tmp_Pk_plot[np.random.choice(tmp_Pk_plot.shape[0], tmp_Pk_plot.shape[0], replace=False)].T\n",
    "ax.plot(np.log10(k), np.log10(tmp_Pk_plot), c='royalblue', alpha=alpha, lw=0.5)\n",
    "\n",
    "tmp_Pk_plot = Pk_test\n",
    "tmp_Pk_plot = tmp_Pk_plot[np.random.choice(tmp_Pk_plot.shape[0], tmp_Pk_plot.shape[0], replace=False)].T\n",
    "ax.plot(np.log10(k), np.log10(tmp_Pk_plot), c='k', alpha=alpha, lw=0.5)\n",
    "    \n",
    "mpl.pyplot.tight_layout()\n",
    "mpl.pyplot.show()"
   ]
  },
  {
   "cell_type": "code",
   "execution_count": null,
   "id": "f55695ab",
   "metadata": {},
   "outputs": [],
   "source": [
    "dict_bounds = {}\n",
    "for pp, param_name in enumerate(param_names):\n",
    "    dict_bounds[param_name] = [np.min(theta[:,pp]), np.max(theta[:,pp])]"
   ]
  },
  {
   "cell_type": "code",
   "execution_count": null,
   "id": "b493f9a2",
   "metadata": {},
   "outputs": [],
   "source": [
    "class Scaler:\n",
    "\n",
    "    def __init__(self):\n",
    "          pass\n",
    "        \n",
    "    def fit(self, x_train):\n",
    "        self.x_train_min = np.min(x_train)\n",
    "        self.x_train_max = np.max(x_train)\n",
    "           \n",
    "    def scale(self, x):\n",
    "        log_x = np.log10(x)\n",
    "        log_x_norm = (log_x - np.log10(self.x_train_min)) / (np.log10(self.x_train_max) - np.log10(self.x_train_min))\n",
    "        return log_x_norm\n",
    "    \n",
    "    def unscale(self, x_scaled):\n",
    "        x = x_scaled * (np.log10(self.x_train_max) - np.log10(self.x_train_min)) + np.log10(self.x_train_min)\n",
    "        return 10**x  "
   ]
  },
  {
   "cell_type": "code",
   "execution_count": null,
   "id": "cc3a5fb9",
   "metadata": {},
   "outputs": [],
   "source": [
    "scaler = Scaler()\n",
    "scaler.fit(Pk_train)\n",
    "Pk_train_scaled = scaler.scale(Pk_train)\n",
    "Pk_test_scaled = scaler.scale(Pk_test)"
   ]
  },
  {
   "cell_type": "code",
   "execution_count": null,
   "id": "6b0ad849",
   "metadata": {},
   "outputs": [],
   "source": [
    "print(np.min(Pk_train), np.max(Pk_train))\n",
    "print(np.min(Pk_train_scaled), np.max(Pk_train_scaled))\n",
    "\n",
    "print(np.min(Pk_test), np.max(Pk_test))\n",
    "print(np.min(Pk_test_scaled), np.max(Pk_test_scaled))"
   ]
  },
  {
   "cell_type": "code",
   "execution_count": null,
   "id": "d3623283",
   "metadata": {},
   "outputs": [],
   "source": [
    "print(Pk_train.shape)\n",
    "print(theta_train.shape)"
   ]
  },
  {
   "cell_type": "code",
   "execution_count": null,
   "id": "6b9ae30d",
   "metadata": {},
   "outputs": [],
   "source": [
    "inference, posterior = sbi_tools.train_model(\n",
    "    theta_train,\n",
    "    Pk_train_scaled,\n",
    "    prior= sbi_tools.get_prior(dict_bounds),\n",
    "    training_batch_size=16,\n",
    "    validation_fraction=0.2\n",
    ")"
   ]
  },
  {
   "cell_type": "code",
   "execution_count": null,
   "id": "a0ca4831",
   "metadata": {},
   "outputs": [],
   "source": [
    "\n",
    "#idx_train_check = rng.choice(np.arange(len(theta_train)))\n",
    "idx_train_check = 42\n",
    "\n",
    "print(idx_train_check)\n",
    "theta_train_check = np.array([theta_train[idx_train_check]])\n",
    "print(theta_train_check)\n",
    "Pk_train_scaled_check = np.array([Pk_train_scaled[idx_train_check]])"
   ]
  },
  {
   "cell_type": "code",
   "execution_count": null,
   "id": "7d1f6f30",
   "metadata": {},
   "outputs": [],
   "source": [
    "# ------------------ posterior inference ------------------ #\n",
    "\n",
    "# norm_xx_test = scaler.transform(xx_test)\n",
    "\n",
    "inferred_theta_train_check = sbi_tools.sample_posteriors_theta_test(\n",
    "    posterior,\n",
    "    Pk_train_scaled_check,\n",
    "    dict_bounds,\n",
    "    N_samples=1000\n",
    ")\n",
    "\n",
    "# ------------------ rank stats ------------------ #\n",
    "\n",
    "ranks_train_check = sbi_tools.compute_ranks(theta_train_check, inferred_theta_train_check)"
   ]
  },
  {
   "cell_type": "code",
   "execution_count": null,
   "id": "6ab9b21f",
   "metadata": {},
   "outputs": [],
   "source": [
    "param_labels = {'omega_cold': r'$\\Omega_\\mathrm{m}$',\n",
    "                'sigma8_cold': r'$\\sigma_{8}$',\n",
    "                'hubble': r'$h$',\n",
    "                'ns': r'$n_\\mathrm{s}$',\n",
    "                'omega_baryon': r'$\\Omega_\\mathrm{b}$',}\n",
    "custom_titles = [param_labels[param_name] for param_name in param_names]\n",
    "# custom_titles = [\n",
    "#     r'$\\Omega_\\mathrm{m}$',\n",
    "#     r'$\\Omega_\\mathrm{b}$',\n",
    "#     r'$h$',\n",
    "#     r'$n_\\mathrm{s}$',\n",
    "#     r'$\\sigma_{8}$',\n",
    "#     r'$b_1$'\n",
    "# ]"
   ]
  },
  {
   "cell_type": "code",
   "execution_count": null,
   "id": "8a127d98",
   "metadata": {},
   "outputs": [],
   "source": [
    "N_examples = 1\n",
    "\n",
    "colors = plot_utils.get_N_colors(N_examples, mpl.colormaps['prism'])\n",
    "for ii_sample in range(N_examples):\n",
    "    fig, axs = plot_utils.corner_plot(\n",
    "        theta_train_check[ii_sample],\n",
    "        inferred_theta_train_check[ii_sample],\n",
    "        custom_titles,\n",
    "        dict_bounds,\n",
    "        color_infer=colors[ii_sample]\n",
    "    )\n",
    "    mpl.pyplot.show()\n",
    "    \n",
    "#fig.save(\"popopo.png\")"
   ]
  },
  {
   "cell_type": "code",
   "execution_count": null,
   "id": "a47d2d40",
   "metadata": {},
   "outputs": [],
   "source": [
    "# posterior_sample = posterior.sample((1,))\n",
    "# print(posterior_sample)"
   ]
  },
  {
   "cell_type": "code",
   "execution_count": null,
   "id": "eb7edd12",
   "metadata": {},
   "outputs": [],
   "source": [
    "# ------------------ posterior inference ------------------ #\n",
    "\n",
    "# norm_xx_test = scaler.transform(xx_test)\n",
    "\n",
    "inferred_theta_test = sbi_tools.sample_posteriors_theta_test(\n",
    "    posterior,\n",
    "    Pk_test_scaled,\n",
    "    dict_bounds,\n",
    "    N_samples=1000\n",
    ")\n",
    "\n",
    "# ------------------ rank stats ------------------ #\n",
    "\n",
    "ranks = sbi_tools.compute_ranks(theta_test, inferred_theta_test)"
   ]
  },
  {
   "cell_type": "code",
   "execution_count": null,
   "id": "4f07e89d",
   "metadata": {},
   "outputs": [],
   "source": [
    "# tmp_inferred_xx_test = sbi_data_utils.compute_baccoemu_predictions_batch(\n",
    "#     inferred_theta_train_check[indexes],\n",
    "#     list(dict_bounds.keys())\n",
    "# )\n",
    "\n",
    "# fig, ax, ax_res = plot_utils.plot_xx_from_sampled_posteriors(xx_test[indexes], tmp_inferred_xx_test, kk)\n",
    "# plt.show()"
   ]
  },
  {
   "cell_type": "code",
   "execution_count": null,
   "id": "34a21c9c",
   "metadata": {
    "scrolled": false
   },
   "outputs": [],
   "source": [
    "N_examples = 1\n",
    "\n",
    "colors = plot_utils.get_N_colors(N_examples, mpl.colormaps['prism'])\n",
    "for ii_sample in range(N_examples):\n",
    "    fig, axs = plot_utils.corner_plot(\n",
    "        theta_test[ii_sample],\n",
    "        inferred_theta_test[ii_sample],\n",
    "        custom_titles,\n",
    "        dict_bounds,\n",
    "        color_infer=colors[ii_sample]\n",
    "    )\n",
    "    mpl.pyplot.show()\n",
    "    \n",
    "#fig.save(\"popopo.png\")"
   ]
  },
  {
   "cell_type": "code",
   "execution_count": null,
   "id": "71820921",
   "metadata": {},
   "outputs": [],
   "source": [
    "fig, axs = plot_utils.plot_parameter_prediction_vs_truth(inferred_theta_test, theta_test, custom_titles)\n",
    "plt.tight_layout()\n",
    "plt.subplots_adjust(wspace=0.6)\n",
    "plt.show()"
   ]
  },
  {
   "cell_type": "code",
   "execution_count": null,
   "id": "a63b4a11",
   "metadata": {},
   "outputs": [],
   "source": [
    "fig, axs = plot_utils.plot_rank_statistcis(ranks, inferred_theta_test.shape[1], custom_titles)\n",
    "plt.tight_layout()\n",
    "plt.subplots_adjust(wspace=0.05)\n",
    "plt.show()"
   ]
  },
  {
   "cell_type": "code",
   "execution_count": null,
   "id": "88d30d9a",
   "metadata": {},
   "outputs": [],
   "source": []
  },
  {
   "cell_type": "code",
   "execution_count": null,
   "id": "c9bbecd7",
   "metadata": {},
   "outputs": [],
   "source": []
  }
 ],
 "metadata": {
  "kernelspec": {
   "display_name": "baccoenv",
   "language": "python",
   "name": "python3"
  },
  "language_info": {
   "codemirror_mode": {
    "name": "ipython",
    "version": 3
   },
   "file_extension": ".py",
   "mimetype": "text/x-python",
   "name": "python",
   "nbconvert_exporter": "python",
   "pygments_lexer": "ipython3",
   "version": "3.11.5"
  }
 },
 "nbformat": 4,
 "nbformat_minor": 5
}
