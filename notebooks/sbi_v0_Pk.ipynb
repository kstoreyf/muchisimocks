{
 "cells": [
  {
   "cell_type": "code",
   "execution_count": null,
   "id": "3cf7ae8b",
   "metadata": {},
   "outputs": [],
   "source": [
    "import numpy as np\n",
    "import matplotlib as mpl\n",
    "import matplotlib.pyplot as plt\n",
    "import sbi\n",
    "import os\n",
    "import sys\n",
    "\n",
    "def set_N_threads(N_threads=1):\n",
    "    \n",
    "    print('N_threads: %s'%(N_threads))\n",
    "    \n",
    "    os.environ[\"OMP_NUM_THREADS\"] = str(N_threads)\n",
    "    os.environ[\"OPENBLAS_NUM_THREADS\"] = str(N_threads)\n",
    "    os.environ[\"MKL_NUM_THREADS\"] = str(N_threads)\n",
    "    os.environ[\"VECLIB_MAXIMUM_THREADS\"] = str(N_threads)\n",
    "    os.environ[\"NUMEXPR_NUM_THREADS\"] = str(N_threads)\n",
    "    \n",
    "    return N_threads\n",
    "\n",
    "N_threads = set_N_threads()"
   ]
  },
  {
   "cell_type": "code",
   "execution_count": null,
   "id": "beab47a5",
   "metadata": {},
   "outputs": [],
   "source": [
    "sys.path.append(\"/lscratch/dlopez/Projects/muchisimocks/scripts\")\n",
    "import sbi_tools"
   ]
  },
  {
   "cell_type": "code",
   "execution_count": null,
   "id": "d3411a98",
   "metadata": {},
   "outputs": [],
   "source": [
    "biases_vec = np.loadtxt('/lscratch/mzennaro/Notebooks/muchisimocks/scripts/biases_vec.txt')\n",
    "\n",
    "indicesLH = []\n",
    "for ii, dir_name in enumerate(os.listdir('/lscratch/mzennaro/Notebooks/muchisimocks/scripts')):\n",
    "    if dir_name.split('_')[0] == \"biased\":\n",
    "        indicesLH.append(int(dir_name.split('_')[4]))\n",
    "indicesLH = np.array(indicesLH)\n",
    "indicesLH = np.unique(indicesLH)\n",
    "\n",
    "fig, ax = plt.subplots(figsize=(8, 6))\n",
    "\n",
    "Pk = []\n",
    "for iLH in range(len(indicesLH)):\n",
    "    for ib in range(len(biases_vec)):\n",
    "        kk, tmp_pk = np.loadtxt('/lscratch/mzennaro/Notebooks/muchisimocks/scripts/biased_pk_m2m_num_%04d_bias_num_%d.txt'%(indicesLH[iLH], ib), unpack=True)\n",
    "        Pk.append(tmp_pk)\n",
    "        mask = tmp_pk > 0\n",
    "        ax.loglog(kk[mask], tmp_pk[mask], label='bias %d'%ib)\n",
    "        \n",
    "Pk = np.array(Pk)\n",
    "        \n",
    "ax.set_xlabel(r'$k \\,\\, [h \\,\\, {\\rm Mpc}^{-1}]$', fontsize=23)\n",
    "ax.set_ylabel(r'$P(k) \\,\\, [h^{-3} \\,\\, {\\rm Mpc}^3]$', fontsize=23)\n",
    "\n",
    "mpl.pyplot.show()\n",
    "print('finished')"
   ]
  },
  {
   "cell_type": "code",
   "execution_count": null,
   "id": "dcbca31b",
   "metadata": {},
   "outputs": [],
   "source": [
    "path_read_theta = \"/dipc_storage/mpelle/Yin_data/Quijote\"\n",
    "\n",
    "theta = []\n",
    "for iLH, id_LH in enumerate(indicesLH):\n",
    "    theta.append(np.loadtxt(\n",
    "        os.path.join(\n",
    "            path_read_theta, \"LH\" + str(id_LH).zfill(4), \"param_\"+str(id_LH).zfill(4)+\".txt\")\n",
    "    ))\n",
    "theta = np.array(theta)\n",
    "theta = np.repeat(theta, 10, axis=0)"
   ]
  },
  {
   "cell_type": "code",
   "execution_count": null,
   "id": "5bbcfbba",
   "metadata": {},
   "outputs": [],
   "source": [
    "fig, ax = mpl.pyplot.subplots(1,1, figsize=(4,4))\n",
    "ax.set_yscale('log')\n",
    "ax.plot(Pk[0:9].T)\n",
    "print(theta[0:10])"
   ]
  },
  {
   "cell_type": "code",
   "execution_count": null,
   "id": "73fa276b",
   "metadata": {},
   "outputs": [],
   "source": [
    "train_val_split = int(theta.shape[0]*0.8)\n",
    "\n",
    "theta_train = theta[:train_val_split]\n",
    "theta_test = theta[train_val_split:]\n",
    "\n",
    "Pk_train = Pk[:train_val_split]\n",
    "Pk_test = Pk[train_val_split:]"
   ]
  },
  {
   "cell_type": "code",
   "execution_count": null,
   "id": "f55695ab",
   "metadata": {},
   "outputs": [],
   "source": [
    "dict_bounds = {\n",
    "    'omega_m'    :  [np.min(theta, axis=0)[0], np.max(theta, axis=0)[0]],\n",
    "    'omega_b'    :  [np.min(theta, axis=0)[1], np.max(theta, axis=0)[1]],\n",
    "    'hubble'     :  [np.min(theta, axis=0)[2], np.max(theta, axis=0)[2]],\n",
    "    'ns'         :  [np.min(theta, axis=0)[3], np.max(theta, axis=0)[3]],\n",
    "    'sigma8'     :  [np.min(theta, axis=0)[4], np.max(theta, axis=0)[4]],\n",
    "}"
   ]
  },
  {
   "cell_type": "code",
   "execution_count": null,
   "id": "1ea292ed",
   "metadata": {},
   "outputs": [],
   "source": [
    "inference, posterior = sbi_tools.train_model(\n",
    "    theta_train,\n",
    "    Pk_train,\n",
    "    prior= sbi_tools.get_prior(dict_bounds)\n",
    ")"
   ]
  },
  {
   "cell_type": "code",
   "execution_count": null,
   "id": "00149314",
   "metadata": {
    "scrolled": true
   },
   "outputs": [],
   "source": [
    "# ------------------ posterior inference ------------------ #\n",
    "\n",
    "# norm_xx_test = scaler.transform(xx_test)\n",
    "\n",
    "inferred_theta_test = sbi_tools.sample_posteriors_theta_test(\n",
    "    posterior,\n",
    "    Pk_test,\n",
    "    dict_bounds\n",
    ")\n",
    "\n",
    "# ------------------ rank stats ------------------ #\n",
    "\n",
    "ranks = sbi_tools.compute_ranks(theta_test, inferred_theta_test)"
   ]
  },
  {
   "cell_type": "code",
   "execution_count": null,
   "id": "5ffa8ce8",
   "metadata": {},
   "outputs": [],
   "source": [
    "fig, ax = mpl.pyplot.subplots(1,1, figsize=(7,5))\n",
    "fontsize = 24\n",
    "fontsize1 = 18\n",
    "\n",
    "tmp_Pk_plot = Pk_train\n",
    "tmp_Pk_plot = tmp_Pk_plot[np.random.choice(tmp_Pk_plot.shape[0], tmp_Pk_plot.shape[0], replace=False)].T\n",
    "ax.plot(np.log10(kk), np.log10(tmp_Pk_plot), c='royalblue', alpha=0.2, lw=0.5)\n",
    "\n",
    "tmp_Pk_plot = Pk_test\n",
    "tmp_Pk_plot = tmp_Pk_plot[np.random.choice(tmp_Pk_plot.shape[0], tmp_Pk_plot.shape[0], replace=False)].T\n",
    "ax.plot(np.log10(kk), np.log10(tmp_Pk_plot), c='k', alpha=0.1, lw=0.5)\n",
    "    \n",
    "mpl.pyplot.tight_layout()\n",
    "mpl.pyplot.show()"
   ]
  },
  {
   "cell_type": "code",
   "execution_count": null,
   "id": "34a21c9c",
   "metadata": {
    "scrolled": false
   },
   "outputs": [],
   "source": [
    "# N_examples = 2\n",
    "\n",
    "# custom_titles = [\n",
    "#     r'$\\Omega_\\mathrm{m}$',\n",
    "#     r'$\\Omega_\\mathrm{b}$',\n",
    "#     r'$h$',\n",
    "#     r'$n_\\mathrm{s}$',\n",
    "#     r'$\\sigma_{8}$'\n",
    "# ]\n",
    "\n",
    "# colors = sbibe.plot_utils.get_N_colors(N_examples, mpl.colormaps['prism'])\n",
    "# for ii_sample in range(N_examples):\n",
    "#     fig, axs = sbibe.plot_utils.corner_plot(\n",
    "#         theta_test[ii_sample],\n",
    "#         inferred_theta_test[ii_sample],\n",
    "#         custom_titles,\n",
    "#         dict_bounds,\n",
    "#         color_infer=colors[ii_sample]\n",
    "#     )\n",
    "#     mpl.pyplot.show()\n",
    "    \n",
    "# fig,save(\"popopo.png\")"
   ]
  },
  {
   "cell_type": "code",
   "execution_count": null,
   "id": "71820921",
   "metadata": {},
   "outputs": [],
   "source": [
    "# fig, axs = sbibe.plot_utils.plot_parameter_prediction_vs_truth(inferred_theta_test, theta_test, custom_titles)\n",
    "# # plt.tight_layout()\n",
    "# # plt.subplots_adjust(wspace=0.6)\n",
    "# # plt.show()"
   ]
  },
  {
   "cell_type": "code",
   "execution_count": null,
   "id": "a63b4a11",
   "metadata": {},
   "outputs": [],
   "source": [
    "# fig, axs = sbibe.plot_utils.plot_rank_statistcis(ranks, inferred_theta_test.shape[1], custom_titles)\n",
    "# # plt.tight_layout()\n",
    "# # plt.subplots_adjust(wspace=0.05)\n",
    "# # plt.show()"
   ]
  },
  {
   "cell_type": "code",
   "execution_count": null,
   "id": "88d30d9a",
   "metadata": {},
   "outputs": [],
   "source": []
  }
 ],
 "metadata": {
  "kernelspec": {
   "display_name": "Python 3 (ipykernel)",
   "language": "python",
   "name": "python3"
  },
  "language_info": {
   "codemirror_mode": {
    "name": "ipython",
    "version": 3
   },
   "file_extension": ".py",
   "mimetype": "text/x-python",
   "name": "python",
   "nbconvert_exporter": "python",
   "pygments_lexer": "ipython3",
   "version": "3.9.18"
  }
 },
 "nbformat": 4,
 "nbformat_minor": 5
}
